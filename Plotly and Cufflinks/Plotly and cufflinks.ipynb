{
 "cells": [
  {
   "cell_type": "code",
   "execution_count": 8,
   "id": "8d996c5f",
   "metadata": {},
   "outputs": [],
   "source": [
    "import numpy as np\n",
    "import pandas as pd\n",
    "import cufflinks as cf\n",
    "%matplotlib inline"
   ]
  },
  {
   "cell_type": "code",
   "execution_count": 2,
   "id": "99ebf711",
   "metadata": {},
   "outputs": [],
   "source": [
    "from plotly.offline import download_plotlyjs, init_notebook_mode, plot, iplot"
   ]
  },
  {
   "cell_type": "code",
   "execution_count": 3,
   "id": "bdf46143",
   "metadata": {},
   "outputs": [
    {
     "data": {
      "text/html": [
       "        <script type=\"text/javascript\">\n",
       "        window.PlotlyConfig = {MathJaxConfig: 'local'};\n",
       "        if (window.MathJax) {MathJax.Hub.Config({SVG: {font: \"STIX-Web\"}});}\n",
       "        if (typeof require !== 'undefined') {\n",
       "        require.undef(\"plotly\");\n",
       "        requirejs.config({\n",
       "            paths: {\n",
       "                'plotly': ['https://cdn.plot.ly/plotly-2.4.2.min']\n",
       "            }\n",
       "        });\n",
       "        require(['plotly'], function(Plotly) {\n",
       "            window._Plotly = Plotly;\n",
       "        });\n",
       "        }\n",
       "        </script>\n",
       "        "
      ]
     },
     "metadata": {},
     "output_type": "display_data"
    }
   ],
   "source": [
    "init_notebook_mode(connected=True)"
   ]
  },
  {
   "cell_type": "code",
   "execution_count": 4,
   "id": "0ae0f6ab",
   "metadata": {},
   "outputs": [
    {
     "data": {
      "text/html": [
       "        <script type=\"text/javascript\">\n",
       "        window.PlotlyConfig = {MathJaxConfig: 'local'};\n",
       "        if (window.MathJax) {MathJax.Hub.Config({SVG: {font: \"STIX-Web\"}});}\n",
       "        if (typeof require !== 'undefined') {\n",
       "        require.undef(\"plotly\");\n",
       "        requirejs.config({\n",
       "            paths: {\n",
       "                'plotly': ['https://cdn.plot.ly/plotly-2.4.2.min']\n",
       "            }\n",
       "        });\n",
       "        require(['plotly'], function(Plotly) {\n",
       "            window._Plotly = Plotly;\n",
       "        });\n",
       "        }\n",
       "        </script>\n",
       "        "
      ]
     },
     "metadata": {},
     "output_type": "display_data"
    }
   ],
   "source": [
    "cf.go_offline()"
   ]
  },
  {
   "cell_type": "code",
   "execution_count": 6,
   "id": "6597a60a",
   "metadata": {},
   "outputs": [
    {
     "data": {
      "text/html": [
       "<div>\n",
       "<style scoped>\n",
       "    .dataframe tbody tr th:only-of-type {\n",
       "        vertical-align: middle;\n",
       "    }\n",
       "\n",
       "    .dataframe tbody tr th {\n",
       "        vertical-align: top;\n",
       "    }\n",
       "\n",
       "    .dataframe thead th {\n",
       "        text-align: right;\n",
       "    }\n",
       "</style>\n",
       "<table border=\"1\" class=\"dataframe\">\n",
       "  <thead>\n",
       "    <tr style=\"text-align: right;\">\n",
       "      <th></th>\n",
       "      <th>A</th>\n",
       "      <th>B</th>\n",
       "      <th>C</th>\n",
       "      <th>D</th>\n",
       "    </tr>\n",
       "  </thead>\n",
       "  <tbody>\n",
       "    <tr>\n",
       "      <th>0</th>\n",
       "      <td>-0.360310</td>\n",
       "      <td>0.438571</td>\n",
       "      <td>-0.333044</td>\n",
       "      <td>0.445149</td>\n",
       "    </tr>\n",
       "    <tr>\n",
       "      <th>1</th>\n",
       "      <td>-1.493207</td>\n",
       "      <td>0.292197</td>\n",
       "      <td>0.419648</td>\n",
       "      <td>-0.493280</td>\n",
       "    </tr>\n",
       "    <tr>\n",
       "      <th>2</th>\n",
       "      <td>0.740111</td>\n",
       "      <td>0.526998</td>\n",
       "      <td>-1.012841</td>\n",
       "      <td>0.490050</td>\n",
       "    </tr>\n",
       "    <tr>\n",
       "      <th>3</th>\n",
       "      <td>1.587680</td>\n",
       "      <td>0.345630</td>\n",
       "      <td>0.383438</td>\n",
       "      <td>0.989370</td>\n",
       "    </tr>\n",
       "    <tr>\n",
       "      <th>4</th>\n",
       "      <td>-0.588255</td>\n",
       "      <td>-0.172660</td>\n",
       "      <td>-0.220511</td>\n",
       "      <td>-0.369551</td>\n",
       "    </tr>\n",
       "  </tbody>\n",
       "</table>\n",
       "</div>"
      ],
      "text/plain": [
       "          A         B         C         D\n",
       "0 -0.360310  0.438571 -0.333044  0.445149\n",
       "1 -1.493207  0.292197  0.419648 -0.493280\n",
       "2  0.740111  0.526998 -1.012841  0.490050\n",
       "3  1.587680  0.345630  0.383438  0.989370\n",
       "4 -0.588255 -0.172660 -0.220511 -0.369551"
      ]
     },
     "execution_count": 6,
     "metadata": {},
     "output_type": "execute_result"
    }
   ],
   "source": [
    "# data\n",
    "\n",
    "df = pd.DataFrame(np.random.randn(100,4), columns='A B C D'.split())\n",
    "\n",
    "df.head()"
   ]
  },
  {
   "cell_type": "code",
   "execution_count": 7,
   "id": "04563571",
   "metadata": {},
   "outputs": [
    {
     "data": {
      "text/html": [
       "<div>\n",
       "<style scoped>\n",
       "    .dataframe tbody tr th:only-of-type {\n",
       "        vertical-align: middle;\n",
       "    }\n",
       "\n",
       "    .dataframe tbody tr th {\n",
       "        vertical-align: top;\n",
       "    }\n",
       "\n",
       "    .dataframe thead th {\n",
       "        text-align: right;\n",
       "    }\n",
       "</style>\n",
       "<table border=\"1\" class=\"dataframe\">\n",
       "  <thead>\n",
       "    <tr style=\"text-align: right;\">\n",
       "      <th></th>\n",
       "      <th>Category</th>\n",
       "      <th>Values</th>\n",
       "    </tr>\n",
       "  </thead>\n",
       "  <tbody>\n",
       "    <tr>\n",
       "      <th>0</th>\n",
       "      <td>A</td>\n",
       "      <td>32</td>\n",
       "    </tr>\n",
       "    <tr>\n",
       "      <th>1</th>\n",
       "      <td>B</td>\n",
       "      <td>43</td>\n",
       "    </tr>\n",
       "    <tr>\n",
       "      <th>2</th>\n",
       "      <td>C</td>\n",
       "      <td>50</td>\n",
       "    </tr>\n",
       "  </tbody>\n",
       "</table>\n",
       "</div>"
      ],
      "text/plain": [
       "  Category  Values\n",
       "0        A      32\n",
       "1        B      43\n",
       "2        C      50"
      ]
     },
     "execution_count": 7,
     "metadata": {},
     "output_type": "execute_result"
    }
   ],
   "source": [
    "df2 = pd.DataFrame({\n",
    "    'Category': ['A', 'B', 'C'],\n",
    "    'Values': [32, 43, 50]\n",
    "})\n",
    "\n",
    "df2"
   ]
  },
  {
   "cell_type": "code",
   "execution_count": 11,
   "id": "f28631ed",
   "metadata": {},
   "outputs": [
    {
     "data": {
      "text/plain": [
       "<AxesSubplot:>"
      ]
     },
     "execution_count": 11,
     "metadata": {},
     "output_type": "execute_result"
    },
    {
     "data": {
      "image/png": "[encoded data removed]",
      "text/plain": [
       "<Figure size 1080x288 with 1 Axes>"
      ]
     },
     "metadata": {
      "needs_background": "light"
     },
     "output_type": "display_data"
    }
   ],
   "source": [
    "df.plot(figsize=(15, 4))"
   ]
  },
  {
   "cell_type": "code",
   "execution_count": 13,
   "id": "2d40dfc9",
   "metadata": {},
   "outputs": [
    {
     "data": {
      "application/vnd.plotly.v1+json": {
       "config": {
        "linkText": "Export to plot.ly",
        "plotlyServerURL": "https://plot.ly",
        "showLink": true
       },
       "data": [
        {
         "line": {
          "color": "rgba(255, 153, 51, 1.0)",
          "dash": "solid",
          "shape": "linear",
          "width": 1.3
         },
         "mode": "lines",
         "name": "A",
         "text": "",
         "type": "scatter",
         "x": [
          0,
          1,
          2,
          3,
          4,
          5,
          6,
          7,
          8,
          9,
          10,
          11,
          12,
          13,
          14,
          15,
          16,
          17,
          18,
          19,
          20,
          21,
          22,
          23,
          24,
          25,
          26,
          27,
          28,
          29,
          30,
          31,
          32,
          33,
          34,
          35,
          36,
          37,
          38,
          39,
          40,
          41,
          42,
          43,
          44,
          45,
          46,
          47,
          48,
          49,
          50,
          51,
          52,
          53,
          54,
          55,
          56,
          57,
          58,
          59,
          60,
          61,
          62,
          63,
          64,
          65,
          66,
          67,
          68,
          69,
          70,
          71,
          72,
          73,
          74,
          75,
          76,
          77,
          78,
          79,
          80,
          81,
          82,
          83,
          84,
          85,
          86,
          87,
          88,
          89,
          90,
          91,
          92,
          93,
          94,
          95,
          96,
          97,
          98,
          99
         ],
         "y": [
          -0.3603101022368317,
          -1.4932067099630373,
          0.7401114483929926,
          1.5876799119575666,
          -0.5882553778090175,
          -0.19328619251142493,
          -1.1483331165246522,
          0.3346583368373109,
          -1.353736298933149,
          0.16244749177332804,
          0.4107766850650031,
          -0.1019513767017405,
          -0.55044118145215,
          1.4552814654316812,
          0.7102307470463595,
          0.2042809643735204,
          -1.3141840287757471,
          0.9397974293810624,
          1.4622082850861817,
          0.004581087125822542,
          1.1872560720964547,
          -0.06939465386530655,
          0.34555569871453634,
          0.47627576924484,
          0.11665148042293134,
          0.22866331638806298,
          -0.29839556035322234,
          -2.359488044458736,
          1.5194122054394072,
          1.4583479497699154,
          -0.46185920982978745,
          0.0034936982540661877,
          0.036773686882005295,
          -0.4054567731595773,
          -1.198527786346277,
          0.6035952075449362,
          -0.12056204746885117,
          -0.08696956062189974,
          -0.30260921526610346,
          -1.379181324098899,
          -0.7575510045383668,
          -1.1669069387928175,
          0.42251770640713326,
          -0.39442991537684646,
          0.8968649696810801,
          1.000185756835219,
          1.225290849161005,
          -0.5684875907200435,
          -0.9732008970869809,
          -0.13495915879243361,
          -0.7444246126382412,
          -0.08707835112761256,
          0.8798796323503689,
          0.7060197101561982,
          -0.04243007752957983,
          -1.2601728989214394,
          -0.944969736816905,
          0.42698695657750374,
          -1.9294248752331329,
          1.0336411672109236,
          -1.7549866151466353,
          0.2286082492666186,
          -1.6149892789862796,
          0.45981906285790236,
          -1.4103986669031026,
          0.9635927411240099,
          -0.03860187917494151,
          -1.6626456582328502,
          2.187540504498553,
          -0.7097028844079241,
          -2.2801230185416337,
          -1.6130622349451873,
          -0.42600445367120715,
          1.1394401765294633,
          -0.3613245728493242,
          -1.2760968160051436,
          -0.19054613667361206,
          -0.5608507458210631,
          -1.0706260872017523,
          0.8319065039536502,
          1.1586586008561413,
          -0.32577688866384846,
          -1.120167682648072,
          -0.8367561889192894,
          1.1501005753742084,
          1.1780914040975914,
          -2.1832722386363814,
          -0.8275274873462319,
          0.6478121324458215,
          1.1681321398775844,
          0.4718333199251554,
          1.1460239242801087,
          -0.7820887448110919,
          1.556158084660845,
          -1.6580547553017961,
          1.268655088327418,
          0.05952229145177814,
          -1.5759100408069073,
          -0.5736314310222357,
          -0.5229811365201296
         ]
        },
        {
         "line": {
          "color": "rgba(55, 128, 191, 1.0)",
          "dash": "solid",
          "shape": "linear",
          "width": 1.3
         },
         "mode": "lines",
         "name": "B",
         "text": "",
         "type": "scatter",
         "x": [
          0,
          1,
          2,
          3,
          4,
          5,
          6,
          7,
          8,
          9,
          10,
          11,
          12,
          13,
          14,
          15,
          16,
          17,
          18,
          19,
          20,
          21,
          22,
          23,
          24,
          25,
          26,
          27,
          28,
          29,
          30,
          31,
          32,
          33,
          34,
          35,
          36,
          37,
          38,
          39,
          40,
          41,
          42,
          43,
          44,
          45,
          46,
          47,
          48,
          49,
          50,
          51,
          52,
          53,
          54,
          55,
          56,
          57,
          58,
          59,
          60,
          61,
          62,
          63,
          64,
          65,
          66,
          67,
          68,
          69,
          70,
          71,
          72,
          73,
          74,
          75,
          76,
          77,
          78,
          79,
          80,
          81,
          82,
          83,
          84,
          85,
          86,
          87,
          88,
          89,
          90,
          91,
          92,
          93,
          94,
          95,
          96,
          97,
          98,
          99
         ],
         "y": [
          0.43857065498127923,
          0.2921972188658163,
          0.5269976435150321,
          0.3456298172824727,
          -0.17265962141318386,
          1.5214063113948753,
          0.21887156209224995,
          -0.9169151805499315,
          0.897046790028798,
          -0.44166817990327406,
          -0.4905537825729059,
          0.3393359972150877,
          -0.13258206022710767,
          -0.17440426007304868,
          -0.11436202173227045,
          1.3765722633554949,
          -1.363010519812039,
          1.3652219891550936,
          -1.041925534006676,
          0.4030559772477593,
          0.43147627576451036,
          1.1244929202098919,
          0.01284568975710407,
          -1.7329434635161785,
          0.34833148705841827,
          -0.08746755785800744,
          -0.6181108160972224,
          1.1033028653163843,
          0.4471900952784845,
          1.2369465803935622,
          0.8148534762160029,
          1.1024391577961616,
          -0.6072245388300551,
          0.16614874269076368,
          -0.17630537750694994,
          -0.4874814902562876,
          0.39146192099755295,
          0.47440239748577484,
          1.1108766530426502,
          0.9709270617422173,
          0.7094663736011866,
          0.5789503555856831,
          -0.29097984660730236,
          -1.074516099870212,
          -1.0179962198314423,
          0.4505070491292211,
          -0.0987560341762823,
          -0.3910764524815764,
          0.20181801446305067,
          0.9838957226496257,
          -0.9558160896945229,
          0.6394471676960702,
          -0.9552240638281172,
          -1.1106385648831525,
          0.393103490534785,
          0.09981593966862132,
          0.9439109322465946,
          0.5682537414314321,
          -1.201286951986347,
          0.2897167154660576,
          -0.6174219282112287,
          0.8911198651687253,
          0.6279124615290884,
          -0.5925009181791696,
          0.1561814860849528,
          1.2231838467346279,
          -0.15737218559812,
          -1.5474746664860417,
          0.24730224502486184,
          -0.6391894769475629,
          0.7352842406118774,
          -0.47704956402309234,
          -0.8582970312013011,
          -0.3586769108750361,
          0.8133099841261496,
          2.0430668916662293,
          -1.5997064464522288,
          -0.08913250267434249,
          -0.8019159391008681,
          -0.14004361811661117,
          1.3869118318293119,
          -3.0081095236739985,
          -2.6680211196509527,
          -0.5303358494927747,
          0.12978698353110324,
          -0.7636361580880751,
          0.2908557441422079,
          -0.295146448189477,
          -0.3856098063164494,
          0.5831054907534179,
          -0.2755588866036854,
          -1.2385546690415512,
          0.1378391604588889,
          -0.5080325904231946,
          -0.39089986743324556,
          -1.2611800034901748,
          -0.7038431183077906,
          -0.9359997462534155,
          -1.5480435915792188,
          -1.7643199576087762
         ]
        },
        {
         "line": {
          "color": "rgba(50, 171, 96, 1.0)",
          "dash": "solid",
          "shape": "linear",
          "width": 1.3
         },
         "mode": "lines",
         "name": "C",
         "text": "",
         "type": "scatter",
         "x": [
          0,
          1,
          2,
          3,
          4,
          5,
          6,
          7,
          8,
          9,
          10,
          11,
          12,
          13,
          14,
          15,
          16,
          17,
          18,
          19,
          20,
          21,
          22,
          23,
          24,
          25,
          26,
          27,
          28,
          29,
          30,
          31,
          32,
          33,
          34,
          35,
          36,
          37,
          38,
          39,
          40,
          41,
          42,
          43,
          44,
          45,
          46,
          47,
          48,
          49,
          50,
          51,
          52,
          53,
          54,
          55,
          56,
          57,
          58,
          59,
          60,
          61,
          62,
          63,
          64,
          65,
          66,
          67,
          68,
          69,
          70,
          71,
          72,
          73,
          74,
          75,
          76,
          77,
          78,
          79,
          80,
          81,
          82,
          83,
          84,
          85,
          86,
          87,
          88,
          89,
          90,
          91,
          92,
          93,
          94,
          95,
          96,
          97,
          98,
          99
         ],
         "y": [
          -0.33304407935687297,
          0.4196480497928561,
          -1.0128407265795851,
          0.3834382551550639,
          -0.22051146973657765,
          1.2637080409428743,
          -0.3356546915580256,
          0.3299473999252595,
          -0.4927836095423988,
          0.676365691426167,
          -0.9540710140336576,
          1.5677157815516565,
          1.57803156462598,
          2.843575341172098,
          -1.5668013569275019,
          0.6501896043652855,
          0.1953136862590582,
          -0.15982872072127519,
          1.1881735273199179,
          -1.1123597654005102,
          0.31057427517424446,
          0.6858782640283084,
          1.5079375265602655,
          0.8476644826686831,
          -0.8530209380635657,
          -0.3570344501316517,
          0.3906179196994124,
          0.9159884708277022,
          -2.0031511144711964,
          -0.4697245159996884,
          1.5228230778093375,
          0.0689225827049908,
          0.8174298922219405,
          1.4223047744337014,
          1.758761790919159,
          -0.5044357034818677,
          -0.18286757167954842,
          -1.099218775044286,
          0.4895024879162726,
          -0.3368977802289586,
          -1.2609291962144602,
          1.3691913234433875,
          -1.0870692753036488,
          1.9913570478602178,
          -0.6524310062882994,
          -0.8042847683952612,
          -0.18297511813568068,
          0.6101716474685731,
          -1.076717593416154,
          -1.0253632413982823,
          1.3369529745232924,
          -1.7699044806435573,
          -0.6264108759527902,
          -0.5676555030227693,
          -0.25334572590646204,
          1.8275003149947189,
          0.16799628500316302,
          -0.12509276188550403,
          0.4583972693777563,
          -2.071881794074191,
          0.15131752446529795,
          1.025645687887124,
          -1.5457478500698516,
          0.5612578692014258,
          0.6891279357590095,
          -1.7216079830986206,
          -0.42483538129673476,
          -0.05640247313958615,
          -1.3571951381496665,
          1.3705231324321308,
          -2.536020325938372,
          0.30357252032518994,
          -0.8119117649915281,
          0.46568393430178984,
          -1.8053668506899696,
          0.988117383729646,
          0.7577646631081413,
          0.14390128785983738,
          1.725724147444466,
          2.1560186716117156,
          0.5787444953193548,
          1.5549832669292794,
          -1.494619446402623,
          -0.6309125827349641,
          -0.44162862605770786,
          0.5914825617692004,
          0.1282336376605584,
          -0.5616825304763499,
          2.5589848887591136,
          1.099922717554243,
          -0.6738756847649492,
          -1.4599028077913867,
          -0.33055771556131214,
          -0.9061242626000299,
          0.7788209404021356,
          -1.3739973089010387,
          1.935849500355021,
          -0.43067333463332313,
          -0.46124873094628116,
          -0.43802587757845834
         ]
        },
        {
         "line": {
          "color": "rgba(128, 0, 128, 1.0)",
          "dash": "solid",
          "shape": "linear",
          "width": 1.3
         },
         "mode": "lines",
         "name": "D",
         "text": "",
         "type": "scatter",
         "x": [
          0,
          1,
          2,
          3,
          4,
          5,
          6,
          7,
          8,
          9,
          10,
          11,
          12,
          13,
          14,
          15,
          16,
          17,
          18,
          19,
          20,
          21,
          22,
          23,
          24,
          25,
          26,
          27,
          28,
          29,
          30,
          31,
          32,
          33,
          34,
          35,
          36,
          37,
          38,
          39,
          40,
          41,
          42,
          43,
          44,
          45,
          46,
          47,
          48,
          49,
          50,
          51,
          52,
          53,
          54,
          55,
          56,
          57,
          58,
          59,
          60,
          61,
          62,
          63,
          64,
          65,
          66,
          67,
          68,
          69,
          70,
          71,
          72,
          73,
          74,
          75,
          76,
          77,
          78,
          79,
          80,
          81,
          82,
          83,
          84,
          85,
          86,
          87,
          88,
          89,
          90,
          91,
          92,
          93,
          94,
          95,
          96,
          97,
          98,
          99
         ],
         "y": [
          0.44514927902206924,
          -0.4932796464433643,
          0.49004951231797034,
          0.9893702535816634,
          -0.3695510433765291,
          1.3073709571524497,
          -0.20397647509500466,
          0.9257993020287427,
          -1.555530442916235,
          1.0165069323800255,
          0.36882666878270787,
          -0.5000287722940971,
          -0.571415472198531,
          -0.4891197396518819,
          -0.09574011339114545,
          0.4150494653733849,
          -2.352927571154122,
          -2.000491316858666,
          1.2569298384299536,
          -0.2348889667088603,
          -0.23579483778080154,
          -0.7110423729873975,
          0.8461959867871499,
          -0.9478531208598431,
          -0.9105000307076286,
          0.5103896296782777,
          -0.36425916193338354,
          -0.4668898620879838,
          -0.3694305635936844,
          -0.07576080216397955,
          -0.010066937282491953,
          -1.4309251194300914,
          -1.1414763333497955,
          0.5756311607826187,
          -0.17481915928555952,
          -0.02311701740580824,
          -0.6343100617205631,
          -1.612507757767517,
          1.1708141165298458,
          -0.45623817375731646,
          0.9283694853459812,
          -0.41076757301040034,
          -0.23899973661572035,
          0.9472078095862808,
          -0.7435332911928643,
          1.1418564370527604,
          0.9209724820910382,
          -0.9097174353194862,
          -1.6652410148483707,
          -0.1593311316680365,
          1.7101480615179498,
          1.0890536615233795,
          0.5927881396371886,
          1.042764922739655,
          -1.1266567950324227,
          -1.6288853516330672,
          0.6369307931518935,
          1.3128923686572516,
          -1.0520711699898084,
          -1.1712015748579032,
          -1.3686628461617183,
          -0.13955144009682297,
          2.2085222175655246,
          0.8115303005297543,
          -0.7415545573402113,
          -0.6468602158556795,
          -0.09656870583882846,
          -0.22916502740326786,
          1.9473398160278808,
          1.1689978067611757,
          -1.3063608130632387,
          -0.14069119585770404,
          -0.29674570761239183,
          -0.23564085984490005,
          1.1324844315536782,
          -0.9018348771332421,
          -0.18054103901337937,
          0.6367796882986028,
          -0.32603613410308896,
          0.9936403795486872,
          -0.4132087009186094,
          0.5908801944612876,
          -0.7361669902343383,
          0.7500369440953866,
          -0.22764454955526914,
          0.5783363724164028,
          1.3430340279492383,
          0.22316537570913333,
          -0.2686696242333291,
          -1.9370867804686573,
          -0.748693992415597,
          1.1561540180085867,
          -1.8938816518035753,
          -0.08731504338881442,
          -1.5026348349145464,
          0.9264297372131799,
          0.22610468007977882,
          -0.07072214923274342,
          0.6913298962666558,
          -1.6513938223947522
         ]
        }
       ],
       "layout": {
        "legend": {
         "bgcolor": "#F5F6F9",
         "font": {
          "color": "#4D5663"
         }
        },
        "paper_bgcolor": "#F5F6F9",
        "plot_bgcolor": "#F5F6F9",
        "template": {
         "data": {
          "bar": [
           {
            "error_x": {
             "color": "#2a3f5f"
            },
            "error_y": {
             "color": "#2a3f5f"
            },
            "marker": {
             "line": {
              "color": "#E5ECF6",
              "width": 0.5
             },
             "pattern": {
              "fillmode": "overlay",
              "size": 10,
              "solidity": 0.2
             }
            },
            "type": "bar"
           }
          ],
          "barpolar": [
           {
            "marker": {
             "line": {
              "color": "#E5ECF6",
              "width": 0.5
             },
             "pattern": {
              "fillmode": "overlay",
              "size": 10,
              "solidity": 0.2
             }
            },
            "type": "barpolar"
           }
          ],
          "carpet": [
           {
            "aaxis": {
             "endlinecolor": "#2a3f5f",
             "gridcolor": "white",
             "linecolor": "white",
             "minorgridcolor": "white",
             "startlinecolor": "#2a3f5f"
            },
            "baxis": {
             "endlinecolor": "#2a3f5f",
             "gridcolor": "white",
             "linecolor": "white",
             "minorgridcolor": "white",
             "startlinecolor": "#2a3f5f"
            },
            "type": "carpet"
           }
          ],
          "choropleth": [
           {
            "colorbar": {
             "outlinewidth": 0,
             "ticks": ""
            },
            "type": "choropleth"
           }
          ],
          "contour": [
           {
            "colorbar": {
             "outlinewidth": 0,
             "ticks": ""
            },
            "colorscale": [
             [
              0,
              "#0d0887"
             ],
             [
              0.1111111111111111,
              "#46039f"
             ],
             [
              0.2222222222222222,
              "#7201a8"
             ],
             [
              0.3333333333333333,
              "#9c179e"
             ],
             [
              0.4444444444444444,
              "#bd3786"
             ],
             [
              0.5555555555555556,
              "#d8576b"
             ],
             [
              0.6666666666666666,
              "#ed7953"
             ],
             [
              0.7777777777777778,
              "#fb9f3a"
             ],
             [
              0.8888888888888888,
              "#fdca26"
             ],
             [
              1,
              "#f0f921"
             ]
            ],
            "type": "contour"
           }
          ],
          "contourcarpet": [
           {
            "colorbar": {
             "outlinewidth": 0,
             "ticks": ""
            },
            "type": "contourcarpet"
           }
          ],
          "heatmap": [
           {
            "colorbar": {
             "outlinewidth": 0,
             "ticks": ""
            },
            "colorscale": [
             [
              0,
              "#0d0887"
             ],
             [
              0.1111111111111111,
              "#46039f"
             ],
             [
              0.2222222222222222,
              "#7201a8"
             ],
             [
              0.3333333333333333,
              "#9c179e"
             ],
             [
              0.4444444444444444,
              "#bd3786"
             ],
             [
              0.5555555555555556,
              "#d8576b"
             ],
             [
              0.6666666666666666,
              "#ed7953"
             ],
             [
              0.7777777777777778,
              "#fb9f3a"
             ],
             [
              0.8888888888888888,
              "#fdca26"
             ],
             [
              1,
              "#f0f921"
             ]
            ],
            "type": "heatmap"
           }
          ],
          "heatmapgl": [
           {
            "colorbar": {
             "outlinewidth": 0,
             "ticks": ""
            },
            "colorscale": [
             [
              0,
              "#0d0887"
             ],
             [
              0.1111111111111111,
              "#46039f"
             ],
             [
              0.2222222222222222,
              "#7201a8"
             ],
             [
              0.3333333333333333,
              "#9c179e"
             ],
             [
              0.4444444444444444,
              "#bd3786"
             ],
             [
              0.5555555555555556,
              "#d8576b"
             ],
             [
              0.6666666666666666,
              "#ed7953"
             ],
             [
              0.7777777777777778,
              "#fb9f3a"
             ],
             [
              0.8888888888888888,
              "#fdca26"
             ],
             [
              1,
              "#f0f921"
             ]
            ],
            "type": "heatmapgl"
           }
          ],
          "histogram": [
           {
            "marker": {
             "pattern": {
              "fillmode": "overlay",
              "size": 10,
              "solidity": 0.2
             }
            },
            "type": "histogram"
           }
          ],
          "histogram2d": [
           {
            "colorbar": {
             "outlinewidth": 0,
             "ticks": ""
            },
            "colorscale": [
             [
              0,
              "#0d0887"
             ],
             [
              0.1111111111111111,
              "#46039f"
             ],
             [
              0.2222222222222222,
              "#7201a8"
             ],
             [
              0.3333333333333333,
              "#9c179e"
             ],
             [
              0.4444444444444444,
              "#bd3786"
             ],
             [
              0.5555555555555556,
              "#d8576b"
             ],
             [
              0.6666666666666666,
              "#ed7953"
             ],
             [
              0.7777777777777778,
              "#fb9f3a"
             ],
             [
              0.8888888888888888,
              "#fdca26"
             ],
             [
              1,
              "#f0f921"
             ]
            ],
            "type": "histogram2d"
           }
          ],
          "histogram2dcontour": [
           {
            "colorbar": {
             "outlinewidth": 0,
             "ticks": ""
            },
            "colorscale": [
             [
              0,
              "#0d0887"
             ],
             [
              0.1111111111111111,
              "#46039f"
             ],
             [
              0.2222222222222222,
              "#7201a8"
             ],
             [
              0.3333333333333333,
              "#9c179e"
             ],
             [
              0.4444444444444444,
              "#bd3786"
             ],
             [
              0.5555555555555556,
              "#d8576b"
             ],
             [
              0.6666666666666666,
              "#ed7953"
             ],
             [
              0.7777777777777778,
              "#fb9f3a"
             ],
             [
              0.8888888888888888,
              "#fdca26"
             ],
             [
              1,
              "#f0f921"
             ]
            ],
            "type": "histogram2dcontour"
           }
          ],
          "mesh3d": [
           {
            "colorbar": {
             "outlinewidth": 0,
             "ticks": ""
            },
            "type": "mesh3d"
           }
          ],
          "parcoords": [
           {
            "line": {
             "colorbar": {
              "outlinewidth": 0,
              "ticks": ""
             }
            },
            "type": "parcoords"
           }
          ],
          "pie": [
           {
            "automargin": true,
            "type": "pie"
           }
          ],
          "scatter": [
           {
            "marker": {
             "colorbar": {
              "outlinewidth": 0,
              "ticks": ""
             }
            },
            "type": "scatter"
           }
          ],
          "scatter3d": [
           {
            "line": {
             "colorbar": {
              "outlinewidth": 0,
              "ticks": ""
             }
            },
            "marker": {
             "colorbar": {
              "outlinewidth": 0,
              "ticks": ""
             }
            },
            "type": "scatter3d"
           }
          ],
          "scattercarpet": [
           {
            "marker": {
             "colorbar": {
              "outlinewidth": 0,
              "ticks": ""
             }
            },
            "type": "scattercarpet"
           }
          ],
          "scattergeo": [
           {
            "marker": {
             "colorbar": {
              "outlinewidth": 0,
              "ticks": ""
             }
            },
            "type": "scattergeo"
           }
          ],
          "scattergl": [
           {
            "marker": {
             "colorbar": {
              "outlinewidth": 0,
              "ticks": ""
             }
            },
            "type": "scattergl"
           }
          ],
          "scattermapbox": [
           {
            "marker": {
             "colorbar": {
              "outlinewidth": 0,
              "ticks": ""
             }
            },
            "type": "scattermapbox"
           }
          ],
          "scatterpolar": [
           {
            "marker": {
             "colorbar": {
              "outlinewidth": 0,
              "ticks": ""
             }
            },
            "type": "scatterpolar"
           }
          ],
          "scatterpolargl": [
           {
            "marker": {
             "colorbar": {
              "outlinewidth": 0,
              "ticks": ""
             }
            },
            "type": "scatterpolargl"
           }
          ],
          "scatterternary": [
           {
            "marker": {
             "colorbar": {
              "outlinewidth": 0,
              "ticks": ""
             }
            },
            "type": "scatterternary"
           }
          ],
          "surface": [
           {
            "colorbar": {
             "outlinewidth": 0,
             "ticks": ""
            },
            "colorscale": [
             [
              0,
              "#0d0887"
             ],
             [
              0.1111111111111111,
              "#46039f"
             ],
             [
              0.2222222222222222,
              "#7201a8"
             ],
             [
              0.3333333333333333,
              "#9c179e"
             ],
             [
              0.4444444444444444,
              "#bd3786"
             ],
             [
              0.5555555555555556,
              "#d8576b"
             ],
             [
              0.6666666666666666,
              "#ed7953"
             ],
             [
              0.7777777777777778,
              "#fb9f3a"
             ],
             [
              0.8888888888888888,
              "#fdca26"
             ],
             [
              1,
              "#f0f921"
             ]
            ],
            "type": "surface"
           }
          ],
          "table": [
           {
            "cells": {
             "fill": {
              "color": "#EBF0F8"
             },
             "line": {
              "color": "white"
             }
            },
            "header": {
             "fill": {
              "color": "#C8D4E3"
             },
             "line": {
              "color": "white"
             }
            },
            "type": "table"
           }
          ]
         },
         "layout": {
          "annotationdefaults": {
           "arrowcolor": "#2a3f5f",
           "arrowhead": 0,
           "arrowwidth": 1
          },
          "autotypenumbers": "strict",
          "coloraxis": {
           "colorbar": {
            "outlinewidth": 0,
            "ticks": ""
           }
          },
          "colorscale": {
           "diverging": [
            [
             0,
             "#8e0152"
            ],
            [
             0.1,
             "#c51b7d"
            ],
            [
             0.2,
             "#de77ae"
            ],
            [
             0.3,
             "#f1b6da"
            ],
            [
             0.4,
             "#fde0ef"
            ],
            [
             0.5,
             "#f7f7f7"
            ],
            [
             0.6,
             "#e6f5d0"
            ],
            [
             0.7,
             "#b8e186"
            ],
            [
             0.8,
             "#7fbc41"
            ],
            [
             0.9,
             "#4d9221"
            ],
            [
             1,
             "#276419"
            ]
           ],
           "sequential": [
            [
             0,
             "#0d0887"
            ],
            [
             0.1111111111111111,
             "#46039f"
            ],
            [
             0.2222222222222222,
             "#7201a8"
            ],
            [
             0.3333333333333333,
             "#9c179e"
            ],
            [
             0.4444444444444444,
             "#bd3786"
            ],
            [
             0.5555555555555556,
             "#d8576b"
            ],
            [
             0.6666666666666666,
             "#ed7953"
            ],
            [
             0.7777777777777778,
             "#fb9f3a"
            ],
            [
             0.8888888888888888,
             "#fdca26"
            ],
            [
             1,
             "#f0f921"
            ]
           ],
           "sequentialminus": [
            [
             0,
             "#0d0887"
            ],
            [
             0.1111111111111111,
             "#46039f"
            ],
            [
             0.2222222222222222,
             "#7201a8"
            ],
            [
             0.3333333333333333,
             "#9c179e"
            ],
            [
             0.4444444444444444,
             "#bd3786"
            ],
            [
             0.5555555555555556,
             "#d8576b"
            ],
            [
             0.6666666666666666,
             "#ed7953"
            ],
            [
             0.7777777777777778,
             "#fb9f3a"
            ],
            [
             0.8888888888888888,
             "#fdca26"
            ],
            [
             1,
             "#f0f921"
            ]
           ]
          },
          "colorway": [
           "#636efa",
           "#EF553B",
           "#00cc96",
           "#ab63fa",
           "#FFA15A",
           "#19d3f3",
           "#FF6692",
           "#B6E880",
           "#FF97FF",
           "#FECB52"
          ],
          "font": {
           "color": "#2a3f5f"
          },
          "geo": {
           "bgcolor": "white",
           "lakecolor": "white",
           "landcolor": "#E5ECF6",
           "showlakes": true,
           "showland": true,
           "subunitcolor": "white"
          },
          "hoverlabel": {
           "align": "left"
          },
          "hovermode": "closest",
          "mapbox": {
           "style": "light"
          },
          "paper_bgcolor": "white",
          "plot_bgcolor": "#E5ECF6",
          "polar": {
           "angularaxis": {
            "gridcolor": "white",
            "linecolor": "white",
            "ticks": ""
           },
           "bgcolor": "#E5ECF6",
           "radialaxis": {
            "gridcolor": "white",
            "linecolor": "white",
            "ticks": ""
           }
          },
          "scene": {
           "xaxis": {
            "backgroundcolor": "#E5ECF6",
            "gridcolor": "white",
            "gridwidth": 2,
            "linecolor": "white",
            "showbackground": true,
            "ticks": "",
            "zerolinecolor": "white"
           },
           "yaxis": {
            "backgroundcolor": "#E5ECF6",
            "gridcolor": "white",
            "gridwidth": 2,
            "linecolor": "white",
            "showbackground": true,
            "ticks": "",
            "zerolinecolor": "white"
           },
           "zaxis": {
            "backgroundcolor": "#E5ECF6",
            "gridcolor": "white",
            "gridwidth": 2,
            "linecolor": "white",
            "showbackground": true,
            "ticks": "",
            "zerolinecolor": "white"
           }
          },
          "shapedefaults": {
           "line": {
            "color": "#2a3f5f"
           }
          },
          "ternary": {
           "aaxis": {
            "gridcolor": "white",
            "linecolor": "white",
            "ticks": ""
           },
           "baxis": {
            "gridcolor": "white",
            "linecolor": "white",
            "ticks": ""
           },
           "bgcolor": "#E5ECF6",
           "caxis": {
            "gridcolor": "white",
            "linecolor": "white",
            "ticks": ""
           }
          },
          "title": {
           "x": 0.05
          },
          "xaxis": {
           "automargin": true,
           "gridcolor": "white",
           "linecolor": "white",
           "ticks": "",
           "title": {
            "standoff": 15
           },
           "zerolinecolor": "white",
           "zerolinewidth": 2
          },
          "yaxis": {
           "automargin": true,
           "gridcolor": "white",
           "linecolor": "white",
           "ticks": "",
           "title": {
            "standoff": 15
           },
           "zerolinecolor": "white",
           "zerolinewidth": 2
          }
         }
        },
        "title": {
         "font": {
          "color": "#4D5663"
         }
        },
        "xaxis": {
         "gridcolor": "#E1E5ED",
         "showgrid": true,
         "tickfont": {
          "color": "#4D5663"
         },
         "title": {
          "font": {
           "color": "#4D5663"
          },
          "text": ""
         },
         "zerolinecolor": "#E1E5ED"
        },
        "yaxis": {
         "gridcolor": "#E1E5ED",
         "showgrid": true,
         "tickfont": {
          "color": "#4D5663"
         },
         "title": {
          "font": {
           "color": "#4D5663"
          },
          "text": ""
         },
         "zerolinecolor": "#E1E5ED"
        }
       }
      },
      "text/html": [
       "<div>                            <div id=\"35e24cc5-8232-496f-91a0-f81fe8ea4fd5\" class=\"plotly-graph-div\" style=\"height:525px; width:100%;\"></div>            <script type=\"text/javascript\">                require([\"plotly\"], function(Plotly) {                    window.PLOTLYENV=window.PLOTLYENV || {};\n",
       "                    window.PLOTLYENV.BASE_URL='https://plot.ly';                                    if (document.getElementById(\"35e24cc5-8232-496f-91a0-f81fe8ea4fd5\")) {                    Plotly.newPlot(                        \"35e24cc5-8232-496f-91a0-f81fe8ea4fd5\",                        [{\"line\":{\"color\":\"rgba(255, 153, 51, 1.0)\",\"dash\":\"solid\",\"shape\":\"linear\",\"width\":1.3},\"mode\":\"lines\",\"name\":\"A\",\"text\":\"\",\"type\":\"scatter\",\"x\":[0,1,2,3,4,5,6,7,8,9,10,11,12,13,14,15,16,17,18,19,20,21,22,23,24,25,26,27,28,29,30,31,32,33,34,35,36,37,38,39,40,41,42,43,44,45,46,47,48,49,50,51,52,53,54,55,56,57,58,59,60,61,62,63,64,65,66,67,68,69,70,71,72,73,74,75,76,77,78,79,80,81,82,83,84,85,86,87,88,89,90,91,92,93,94,95,96,97,98,99],\"y\":[-0.3603101022368317,-1.4932067099630373,0.7401114483929926,1.5876799119575666,-0.5882553778090175,-0.19328619251142493,-1.1483331165246522,0.3346583368373109,-1.353736298933149,0.16244749177332804,0.4107766850650031,-0.1019513767017405,-0.55044118145215,1.4552814654316812,0.7102307470463595,0.2042809643735204,-1.3141840287757471,0.9397974293810624,1.4622082850861817,0.004581087125822542,1.1872560720964547,-0.06939465386530655,0.34555569871453634,0.47627576924484,0.11665148042293134,0.22866331638806298,-0.29839556035322234,-2.359488044458736,1.5194122054394072,1.4583479497699154,-0.46185920982978745,0.0034936982540661877,0.036773686882005295,-0.4054567731595773,-1.198527786346277,0.6035952075449362,-0.12056204746885117,-0.08696956062189974,-0.30260921526610346,-1.379181324098899,-0.7575510045383668,-1.1669069387928175,0.42251770640713326,-0.39442991537684646,0.8968649696810801,1.000185756835219,1.225290849161005,-0.5684875907200435,-0.9732008970869809,-0.13495915879243361,-0.7444246126382412,-0.08707835112761256,0.8798796323503689,0.7060197101561982,-0.04243007752957983,-1.2601728989214394,-0.944969736816905,0.42698695657750374,-1.9294248752331329,1.0336411672109236,-1.7549866151466353,0.2286082492666186,-1.6149892789862796,0.45981906285790236,-1.4103986669031026,0.9635927411240099,-0.03860187917494151,-1.6626456582328502,2.187540504498553,-0.7097028844079241,-2.2801230185416337,-1.6130622349451873,-0.42600445367120715,1.1394401765294633,-0.3613245728493242,-1.2760968160051436,-0.19054613667361206,-0.5608507458210631,-1.0706260872017523,0.8319065039536502,1.1586586008561413,-0.32577688866384846,-1.120167682648072,-0.8367561889192894,1.1501005753742084,1.1780914040975914,-2.1832722386363814,-0.8275274873462319,0.6478121324458215,1.1681321398775844,0.4718333199251554,1.1460239242801087,-0.7820887448110919,1.556158084660845,-1.6580547553017961,1.268655088327418,0.05952229145177814,-1.5759100408069073,-0.5736314310222357,-0.5229811365201296]},{\"line\":{\"color\":\"rgba(55, 128, 191, 1.0)\",\"dash\":\"solid\",\"shape\":\"linear\",\"width\":1.3},\"mode\":\"lines\",\"name\":\"B\",\"text\":\"\",\"type\":\"scatter\",\"x\":[0,1,2,3,4,5,6,7,8,9,10,11,12,13,14,15,16,17,18,19,20,21,22,23,24,25,26,27,28,29,30,31,32,33,34,35,36,37,38,39,40,41,42,43,44,45,46,47,48,49,50,51,52,53,54,55,56,57,58,59,60,61,62,63,64,65,66,67,68,69,70,71,72,73,74,75,76,77,78,79,80,81,82,83,84,85,86,87,88,89,90,91,92,93,94,95,96,97,98,99],\"y\":[0.43857065498127923,0.2921972188658163,0.5269976435150321,0.3456298172824727,-0.17265962141318386,1.5214063113948753,0.21887156209224995,-0.9169151805499315,0.897046790028798,-0.44166817990327406,-0.4905537825729059,0.3393359972150877,-0.13258206022710767,-0.17440426007304868,-0.11436202173227045,1.3765722633554949,-1.363010519812039,1.3652219891550936,-1.041925534006676,0.4030559772477593,0.43147627576451036,1.1244929202098919,0.01284568975710407,-1.7329434635161785,0.34833148705841827,-0.08746755785800744,-0.6181108160972224,1.1033028653163843,0.4471900952784845,1.2369465803935622,0.8148534762160029,1.1024391577961616,-0.6072245388300551,0.16614874269076368,-0.17630537750694994,-0.4874814902562876,0.39146192099755295,0.47440239748577484,1.1108766530426502,0.9709270617422173,0.7094663736011866,0.5789503555856831,-0.29097984660730236,-1.074516099870212,-1.0179962198314423,0.4505070491292211,-0.0987560341762823,-0.3910764524815764,0.20181801446305067,0.9838957226496257,-0.9558160896945229,0.6394471676960702,-0.9552240638281172,-1.1106385648831525,0.393103490534785,0.09981593966862132,0.9439109322465946,0.5682537414314321,-1.201286951986347,0.2897167154660576,-0.6174219282112287,0.8911198651687253,0.6279124615290884,-0.5925009181791696,0.1561814860849528,1.2231838467346279,-0.15737218559812,-1.5474746664860417,0.24730224502486184,-0.6391894769475629,0.7352842406118774,-0.47704956402309234,-0.8582970312013011,-0.3586769108750361,0.8133099841261496,2.0430668916662293,-1.5997064464522288,-0.08913250267434249,-0.8019159391008681,-0.14004361811661117,1.3869118318293119,-3.0081095236739985,-2.6680211196509527,-0.5303358494927747,0.12978698353110324,-0.7636361580880751,0.2908557441422079,-0.295146448189477,-0.3856098063164494,0.5831054907534179,-0.2755588866036854,-1.2385546690415512,0.1378391604588889,-0.5080325904231946,-0.39089986743324556,-1.2611800034901748,-0.7038431183077906,-0.9359997462534155,-1.5480435915792188,-1.7643199576087762]},{\"line\":{\"color\":\"rgba(50, 171, 96, 1.0)\",\"dash\":\"solid\",\"shape\":\"linear\",\"width\":1.3},\"mode\":\"lines\",\"name\":\"C\",\"text\":\"\",\"type\":\"scatter\",\"x\":[0,1,2,3,4,5,6,7,8,9,10,11,12,13,14,15,16,17,18,19,20,21,22,23,24,25,26,27,28,29,30,31,32,33,34,35,36,37,38,39,40,41,42,43,44,45,46,47,48,49,50,51,52,53,54,55,56,57,58,59,60,61,62,63,64,65,66,67,68,69,70,71,72,73,74,75,76,77,78,79,80,81,82,83,84,85,86,87,88,89,90,91,92,93,94,95,96,97,98,99],\"y\":[-0.33304407935687297,0.4196480497928561,-1.0128407265795851,0.3834382551550639,-0.22051146973657765,1.2637080409428743,-0.3356546915580256,0.3299473999252595,-0.4927836095423988,0.676365691426167,-0.9540710140336576,1.5677157815516565,1.57803156462598,2.843575341172098,-1.5668013569275019,0.6501896043652855,0.1953136862590582,-0.15982872072127519,1.1881735273199179,-1.1123597654005102,0.31057427517424446,0.6858782640283084,1.5079375265602655,0.8476644826686831,-0.8530209380635657,-0.3570344501316517,0.3906179196994124,0.9159884708277022,-2.0031511144711964,-0.4697245159996884,1.5228230778093375,0.0689225827049908,0.8174298922219405,1.4223047744337014,1.758761790919159,-0.5044357034818677,-0.18286757167954842,-1.099218775044286,0.4895024879162726,-0.3368977802289586,-1.2609291962144602,1.3691913234433875,-1.0870692753036488,1.9913570478602178,-0.6524310062882994,-0.8042847683952612,-0.18297511813568068,0.6101716474685731,-1.076717593416154,-1.0253632413982823,1.3369529745232924,-1.7699044806435573,-0.6264108759527902,-0.5676555030227693,-0.25334572590646204,1.8275003149947189,0.16799628500316302,-0.12509276188550403,0.4583972693777563,-2.071881794074191,0.15131752446529795,1.025645687887124,-1.5457478500698516,0.5612578692014258,0.6891279357590095,-1.7216079830986206,-0.42483538129673476,-0.05640247313958615,-1.3571951381496665,1.3705231324321308,-2.536020325938372,0.30357252032518994,-0.8119117649915281,0.46568393430178984,-1.8053668506899696,0.988117383729646,0.7577646631081413,0.14390128785983738,1.725724147444466,2.1560186716117156,0.5787444953193548,1.5549832669292794,-1.494619446402623,-0.6309125827349641,-0.44162862605770786,0.5914825617692004,0.1282336376605584,-0.5616825304763499,2.5589848887591136,1.099922717554243,-0.6738756847649492,-1.4599028077913867,-0.33055771556131214,-0.9061242626000299,0.7788209404021356,-1.3739973089010387,1.935849500355021,-0.43067333463332313,-0.46124873094628116,-0.43802587757845834]},{\"line\":{\"color\":\"rgba(128, 0, 128, 1.0)\",\"dash\":\"solid\",\"shape\":\"linear\",\"width\":1.3},\"mode\":\"lines\",\"name\":\"D\",\"text\":\"\",\"type\":\"scatter\",\"x\":[0,1,2,3,4,5,6,7,8,9,10,11,12,13,14,15,16,17,18,19,20,21,22,23,24,25,26,27,28,29,30,31,32,33,34,35,36,37,38,39,40,41,42,43,44,45,46,47,48,49,50,51,52,53,54,55,56,57,58,59,60,61,62,63,64,65,66,67,68,69,70,71,72,73,74,75,76,77,78,79,80,81,82,83,84,85,86,87,88,89,90,91,92,93,94,95,96,97,98,99],\"y\":[0.44514927902206924,-0.4932796464433643,0.49004951231797034,0.9893702535816634,-0.3695510433765291,1.3073709571524497,-0.20397647509500466,0.9257993020287427,-1.555530442916235,1.0165069323800255,0.36882666878270787,-0.5000287722940971,-0.571415472198531,-0.4891197396518819,-0.09574011339114545,0.4150494653733849,-2.352927571154122,-2.000491316858666,1.2569298384299536,-0.2348889667088603,-0.23579483778080154,-0.7110423729873975,0.8461959867871499,-0.9478531208598431,-0.9105000307076286,0.5103896296782777,-0.36425916193338354,-0.4668898620879838,-0.3694305635936844,-0.07576080216397955,-0.010066937282491953,-1.4309251194300914,-1.1414763333497955,0.5756311607826187,-0.17481915928555952,-0.02311701740580824,-0.6343100617205631,-1.612507757767517,1.1708141165298458,-0.45623817375731646,0.9283694853459812,-0.41076757301040034,-0.23899973661572035,0.9472078095862808,-0.7435332911928643,1.1418564370527604,0.9209724820910382,-0.9097174353194862,-1.6652410148483707,-0.1593311316680365,1.7101480615179498,1.0890536615233795,0.5927881396371886,1.042764922739655,-1.1266567950324227,-1.6288853516330672,0.6369307931518935,1.3128923686572516,-1.0520711699898084,-1.1712015748579032,-1.3686628461617183,-0.13955144009682297,2.2085222175655246,0.8115303005297543,-0.7415545573402113,-0.6468602158556795,-0.09656870583882846,-0.22916502740326786,1.9473398160278808,1.1689978067611757,-1.3063608130632387,-0.14069119585770404,-0.29674570761239183,-0.23564085984490005,1.1324844315536782,-0.9018348771332421,-0.18054103901337937,0.6367796882986028,-0.32603613410308896,0.9936403795486872,-0.4132087009186094,0.5908801944612876,-0.7361669902343383,0.7500369440953866,-0.22764454955526914,0.5783363724164028,1.3430340279492383,0.22316537570913333,-0.2686696242333291,-1.9370867804686573,-0.748693992415597,1.1561540180085867,-1.8938816518035753,-0.08731504338881442,-1.5026348349145464,0.9264297372131799,0.22610468007977882,-0.07072214923274342,0.6913298962666558,-1.6513938223947522]}],                        {\"legend\":{\"bgcolor\":\"#F5F6F9\",\"font\":{\"color\":\"#4D5663\"}},\"paper_bgcolor\":\"#F5F6F9\",\"plot_bgcolor\":\"#F5F6F9\",\"template\":{\"data\":{\"bar\":[{\"error_x\":{\"color\":\"#2a3f5f\"},\"error_y\":{\"color\":\"#2a3f5f\"},\"marker\":{\"line\":{\"color\":\"#E5ECF6\",\"width\":0.5},\"pattern\":{\"fillmode\":\"overlay\",\"size\":10,\"solidity\":0.2}},\"type\":\"bar\"}],\"barpolar\":[{\"marker\":{\"line\":{\"color\":\"#E5ECF6\",\"width\":0.5},\"pattern\":{\"fillmode\":\"overlay\",\"size\":10,\"solidity\":0.2}},\"type\":\"barpolar\"}],\"carpet\":[{\"aaxis\":{\"endlinecolor\":\"#2a3f5f\",\"gridcolor\":\"white\",\"linecolor\":\"white\",\"minorgridcolor\":\"white\",\"startlinecolor\":\"#2a3f5f\"},\"baxis\":{\"endlinecolor\":\"#2a3f5f\",\"gridcolor\":\"white\",\"linecolor\":\"white\",\"minorgridcolor\":\"white\",\"startlinecolor\":\"#2a3f5f\"},\"type\":\"carpet\"}],\"choropleth\":[{\"colorbar\":{\"outlinewidth\":0,\"ticks\":\"\"},\"type\":\"choropleth\"}],\"contour\":[{\"colorbar\":{\"outlinewidth\":0,\"ticks\":\"\"},\"colorscale\":[[0.0,\"#0d0887\"],[0.1111111111111111,\"#46039f\"],[0.2222222222222222,\"#7201a8\"],[0.3333333333333333,\"#9c179e\"],[0.4444444444444444,\"#bd3786\"],[0.5555555555555556,\"#d8576b\"],[0.6666666666666666,\"#ed7953\"],[0.7777777777777778,\"#fb9f3a\"],[0.8888888888888888,\"#fdca26\"],[1.0,\"#f0f921\"]],\"type\":\"contour\"}],\"contourcarpet\":[{\"colorbar\":{\"outlinewidth\":0,\"ticks\":\"\"},\"type\":\"contourcarpet\"}],\"heatmap\":[{\"colorbar\":{\"outlinewidth\":0,\"ticks\":\"\"},\"colorscale\":[[0.0,\"#0d0887\"],[0.1111111111111111,\"#46039f\"],[0.2222222222222222,\"#7201a8\"],[0.3333333333333333,\"#9c179e\"],[0.4444444444444444,\"#bd3786\"],[0.5555555555555556,\"#d8576b\"],[0.6666666666666666,\"#ed7953\"],[0.7777777777777778,\"#fb9f3a\"],[0.8888888888888888,\"#fdca26\"],[1.0,\"#f0f921\"]],\"type\":\"heatmap\"}],\"heatmapgl\":[{\"colorbar\":{\"outlinewidth\":0,\"ticks\":\"\"},\"colorscale\":[[0.0,\"#0d0887\"],[0.1111111111111111,\"#46039f\"],[0.2222222222222222,\"#7201a8\"],[0.3333333333333333,\"#9c179e\"],[0.4444444444444444,\"#bd3786\"],[0.5555555555555556,\"#d8576b\"],[0.6666666666666666,\"#ed7953\"],[0.7777777777777778,\"#fb9f3a\"],[0.8888888888888888,\"#fdca26\"],[1.0,\"#f0f921\"]],\"type\":\"heatmapgl\"}],\"histogram\":[{\"marker\":{\"pattern\":{\"fillmode\":\"overlay\",\"size\":10,\"solidity\":0.2}},\"type\":\"histogram\"}],\"histogram2d\":[{\"colorbar\":{\"outlinewidth\":0,\"ticks\":\"\"},\"colorscale\":[[0.0,\"#0d0887\"],[0.1111111111111111,\"#46039f\"],[0.2222222222222222,\"#7201a8\"],[0.3333333333333333,\"#9c179e\"],[0.4444444444444444,\"#bd3786\"],[0.5555555555555556,\"#d8576b\"],[0.6666666666666666,\"#ed7953\"],[0.7777777777777778,\"#fb9f3a\"],[0.8888888888888888,\"#fdca26\"],[1.0,\"#f0f921\"]],\"type\":\"histogram2d\"}],\"histogram2dcontour\":[{\"colorbar\":{\"outlinewidth\":0,\"ticks\":\"\"},\"colorscale\":[[0.0,\"#0d0887\"],[0.1111111111111111,\"#46039f\"],[0.2222222222222222,\"#7201a8\"],[0.3333333333333333,\"#9c179e\"],[0.4444444444444444,\"#bd3786\"],[0.5555555555555556,\"#d8576b\"],[0.6666666666666666,\"#ed7953\"],[0.7777777777777778,\"#fb9f3a\"],[0.8888888888888888,\"#fdca26\"],[1.0,\"#f0f921\"]],\"type\":\"histogram2dcontour\"}],\"mesh3d\":[{\"colorbar\":{\"outlinewidth\":0,\"ticks\":\"\"},\"type\":\"mesh3d\"}],\"parcoords\":[{\"line\":{\"colorbar\":{\"outlinewidth\":0,\"ticks\":\"\"}},\"type\":\"parcoords\"}],\"pie\":[{\"automargin\":true,\"type\":\"pie\"}],\"scatter\":[{\"marker\":{\"colorbar\":{\"outlinewidth\":0,\"ticks\":\"\"}},\"type\":\"scatter\"}],\"scatter3d\":[{\"line\":{\"colorbar\":{\"outlinewidth\":0,\"ticks\":\"\"}},\"marker\":{\"colorbar\":{\"outlinewidth\":0,\"ticks\":\"\"}},\"type\":\"scatter3d\"}],\"scattercarpet\":[{\"marker\":{\"colorbar\":{\"outlinewidth\":0,\"ticks\":\"\"}},\"type\":\"scattercarpet\"}],\"scattergeo\":[{\"marker\":{\"colorbar\":{\"outlinewidth\":0,\"ticks\":\"\"}},\"type\":\"scattergeo\"}],\"scattergl\":[{\"marker\":{\"colorbar\":{\"outlinewidth\":0,\"ticks\":\"\"}},\"type\":\"scattergl\"}],\"scattermapbox\":[{\"marker\":{\"colorbar\":{\"outlinewidth\":0,\"ticks\":\"\"}},\"type\":\"scattermapbox\"}],\"scatterpolar\":[{\"marker\":{\"colorbar\":{\"outlinewidth\":0,\"ticks\":\"\"}},\"type\":\"scatterpolar\"}],\"scatterpolargl\":[{\"marker\":{\"colorbar\":{\"outlinewidth\":0,\"ticks\":\"\"}},\"type\":\"scatterpolargl\"}],\"scatterternary\":[{\"marker\":{\"colorbar\":{\"outlinewidth\":0,\"ticks\":\"\"}},\"type\":\"scatterternary\"}],\"surface\":[{\"colorbar\":{\"outlinewidth\":0,\"ticks\":\"\"},\"colorscale\":[[0.0,\"#0d0887\"],[0.1111111111111111,\"#46039f\"],[0.2222222222222222,\"#7201a8\"],[0.3333333333333333,\"#9c179e\"],[0.4444444444444444,\"#bd3786\"],[0.5555555555555556,\"#d8576b\"],[0.6666666666666666,\"#ed7953\"],[0.7777777777777778,\"#fb9f3a\"],[0.8888888888888888,\"#fdca26\"],[1.0,\"#f0f921\"]],\"type\":\"surface\"}],\"table\":[{\"cells\":{\"fill\":{\"color\":\"#EBF0F8\"},\"line\":{\"color\":\"white\"}},\"header\":{\"fill\":{\"color\":\"#C8D4E3\"},\"line\":{\"color\":\"white\"}},\"type\":\"table\"}]},\"layout\":{\"annotationdefaults\":{\"arrowcolor\":\"#2a3f5f\",\"arrowhead\":0,\"arrowwidth\":1},\"autotypenumbers\":\"strict\",\"coloraxis\":{\"colorbar\":{\"outlinewidth\":0,\"ticks\":\"\"}},\"colorscale\":{\"diverging\":[[0,\"#8e0152\"],[0.1,\"#c51b7d\"],[0.2,\"#de77ae\"],[0.3,\"#f1b6da\"],[0.4,\"#fde0ef\"],[0.5,\"#f7f7f7\"],[0.6,\"#e6f5d0\"],[0.7,\"#b8e186\"],[0.8,\"#7fbc41\"],[0.9,\"#4d9221\"],[1,\"#276419\"]],\"sequential\":[[0.0,\"#0d0887\"],[0.1111111111111111,\"#46039f\"],[0.2222222222222222,\"#7201a8\"],[0.3333333333333333,\"#9c179e\"],[0.4444444444444444,\"#bd3786\"],[0.5555555555555556,\"#d8576b\"],[0.6666666666666666,\"#ed7953\"],[0.7777777777777778,\"#fb9f3a\"],[0.8888888888888888,\"#fdca26\"],[1.0,\"#f0f921\"]],\"sequentialminus\":[[0.0,\"#0d0887\"],[0.1111111111111111,\"#46039f\"],[0.2222222222222222,\"#7201a8\"],[0.3333333333333333,\"#9c179e\"],[0.4444444444444444,\"#bd3786\"],[0.5555555555555556,\"#d8576b\"],[0.6666666666666666,\"#ed7953\"],[0.7777777777777778,\"#fb9f3a\"],[0.8888888888888888,\"#fdca26\"],[1.0,\"#f0f921\"]]},\"colorway\":[\"#636efa\",\"#EF553B\",\"#00cc96\",\"#ab63fa\",\"#FFA15A\",\"#19d3f3\",\"#FF6692\",\"#B6E880\",\"#FF97FF\",\"#FECB52\"],\"font\":{\"color\":\"#2a3f5f\"},\"geo\":{\"bgcolor\":\"white\",\"lakecolor\":\"white\",\"landcolor\":\"#E5ECF6\",\"showlakes\":true,\"showland\":true,\"subunitcolor\":\"white\"},\"hoverlabel\":{\"align\":\"left\"},\"hovermode\":\"closest\",\"mapbox\":{\"style\":\"light\"},\"paper_bgcolor\":\"white\",\"plot_bgcolor\":\"#E5ECF6\",\"polar\":{\"angularaxis\":{\"gridcolor\":\"white\",\"linecolor\":\"white\",\"ticks\":\"\"},\"bgcolor\":\"#E5ECF6\",\"radialaxis\":{\"gridcolor\":\"white\",\"linecolor\":\"white\",\"ticks\":\"\"}},\"scene\":{\"xaxis\":{\"backgroundcolor\":\"#E5ECF6\",\"gridcolor\":\"white\",\"gridwidth\":2,\"linecolor\":\"white\",\"showbackground\":true,\"ticks\":\"\",\"zerolinecolor\":\"white\"},\"yaxis\":{\"backgroundcolor\":\"#E5ECF6\",\"gridcolor\":\"white\",\"gridwidth\":2,\"linecolor\":\"white\",\"showbackground\":true,\"ticks\":\"\",\"zerolinecolor\":\"white\"},\"zaxis\":{\"backgroundcolor\":\"#E5ECF6\",\"gridcolor\":\"white\",\"gridwidth\":2,\"linecolor\":\"white\",\"showbackground\":true,\"ticks\":\"\",\"zerolinecolor\":\"white\"}},\"shapedefaults\":{\"line\":{\"color\":\"#2a3f5f\"}},\"ternary\":{\"aaxis\":{\"gridcolor\":\"white\",\"linecolor\":\"white\",\"ticks\":\"\"},\"baxis\":{\"gridcolor\":\"white\",\"linecolor\":\"white\",\"ticks\":\"\"},\"bgcolor\":\"#E5ECF6\",\"caxis\":{\"gridcolor\":\"white\",\"linecolor\":\"white\",\"ticks\":\"\"}},\"title\":{\"x\":0.05},\"xaxis\":{\"automargin\":true,\"gridcolor\":\"white\",\"linecolor\":\"white\",\"ticks\":\"\",\"title\":{\"standoff\":15},\"zerolinecolor\":\"white\",\"zerolinewidth\":2},\"yaxis\":{\"automargin\":true,\"gridcolor\":\"white\",\"linecolor\":\"white\",\"ticks\":\"\",\"title\":{\"standoff\":15},\"zerolinecolor\":\"white\",\"zerolinewidth\":2}}},\"title\":{\"font\":{\"color\":\"#4D5663\"}},\"xaxis\":{\"gridcolor\":\"#E1E5ED\",\"showgrid\":true,\"tickfont\":{\"color\":\"#4D5663\"},\"title\":{\"font\":{\"color\":\"#4D5663\"},\"text\":\"\"},\"zerolinecolor\":\"#E1E5ED\"},\"yaxis\":{\"gridcolor\":\"#E1E5ED\",\"showgrid\":true,\"tickfont\":{\"color\":\"#4D5663\"},\"title\":{\"font\":{\"color\":\"#4D5663\"},\"text\":\"\"},\"zerolinecolor\":\"#E1E5ED\"}},                        {\"showLink\": true, \"linkText\": \"Export to plot.ly\", \"plotlyServerURL\": \"https://plot.ly\", \"responsive\": true}                    ).then(function(){\n",
       "                            \n",
       "var gd = document.getElementById('35e24cc5-8232-496f-91a0-f81fe8ea4fd5');\n",
       "var x = new MutationObserver(function (mutations, observer) {{\n",
       "        var display = window.getComputedStyle(gd).display;\n",
       "        if (!display || display === 'none') {{\n",
       "            console.log([gd, 'removed!']);\n",
       "            Plotly.purge(gd);\n",
       "            observer.disconnect();\n",
       "        }}\n",
       "}});\n",
       "\n",
       "// Listen for the removal of the full notebook cells\n",
       "var notebookContainer = gd.closest('#notebook-container');\n",
       "if (notebookContainer) {{\n",
       "    x.observe(notebookContainer, {childList: true});\n",
       "}}\n",
       "\n",
       "// Listen for the clearing of the current output cell\n",
       "var outputEl = gd.closest('.output');\n",
       "if (outputEl) {{\n",
       "    x.observe(outputEl, {childList: true});\n",
       "}}\n",
       "\n",
       "                        })                };                });            </script>        </div>"
      ]
     },
     "metadata": {},
     "output_type": "display_data"
    }
   ],
   "source": [
    "df.iplot() # interactive chart, just scroll over chart, you'll get to know"
   ]
  },
  {
   "cell_type": "code",
   "execution_count": 14,
   "id": "1f010dd0",
   "metadata": {},
   "outputs": [
    {
     "data": {
      "application/vnd.plotly.v1+json": {
       "config": {
        "linkText": "Export to plot.ly",
        "plotlyServerURL": "https://plot.ly",
        "showLink": true
       },
       "data": [
        {
         "line": {
          "color": "rgba(255, 153, 51, 1.0)",
          "dash": "solid",
          "shape": "linear",
          "width": 1.3
         },
         "marker": {
          "size": 12,
          "symbol": "circle"
         },
         "mode": "markers",
         "name": "B",
         "text": "",
         "type": "scatter",
         "x": [
          -0.3603101022368317,
          -1.4932067099630373,
          0.7401114483929926,
          1.5876799119575666,
          -0.5882553778090175,
          -0.19328619251142493,
          -1.1483331165246522,
          0.3346583368373109,
          -1.353736298933149,
          0.16244749177332804,
          0.4107766850650031,
          -0.1019513767017405,
          -0.55044118145215,
          1.4552814654316812,
          0.7102307470463595,
          0.2042809643735204,
          -1.3141840287757471,
          0.9397974293810624,
          1.4622082850861817,
          0.004581087125822542,
          1.1872560720964547,
          -0.06939465386530655,
          0.34555569871453634,
          0.47627576924484,
          0.11665148042293134,
          0.22866331638806298,
          -0.29839556035322234,
          -2.359488044458736,
          1.5194122054394072,
          1.4583479497699154,
          -0.46185920982978745,
          0.0034936982540661877,
          0.036773686882005295,
          -0.4054567731595773,
          -1.198527786346277,
          0.6035952075449362,
          -0.12056204746885117,
          -0.08696956062189974,
          -0.30260921526610346,
          -1.379181324098899,
          -0.7575510045383668,
          -1.1669069387928175,
          0.42251770640713326,
          -0.39442991537684646,
          0.8968649696810801,
          1.000185756835219,
          1.225290849161005,
          -0.5684875907200435,
          -0.9732008970869809,
          -0.13495915879243361,
          -0.7444246126382412,
          -0.08707835112761256,
          0.8798796323503689,
          0.7060197101561982,
          -0.04243007752957983,
          -1.2601728989214394,
          -0.944969736816905,
          0.42698695657750374,
          -1.9294248752331329,
          1.0336411672109236,
          -1.7549866151466353,
          0.2286082492666186,
          -1.6149892789862796,
          0.45981906285790236,
          -1.4103986669031026,
          0.9635927411240099,
          -0.03860187917494151,
          -1.6626456582328502,
          2.187540504498553,
          -0.7097028844079241,
          -2.2801230185416337,
          -1.6130622349451873,
          -0.42600445367120715,
          1.1394401765294633,
          -0.3613245728493242,
          -1.2760968160051436,
          -0.19054613667361206,
          -0.5608507458210631,
          -1.0706260872017523,
          0.8319065039536502,
          1.1586586008561413,
          -0.32577688866384846,
          -1.120167682648072,
          -0.8367561889192894,
          1.1501005753742084,
          1.1780914040975914,
          -2.1832722386363814,
          -0.8275274873462319,
          0.6478121324458215,
          1.1681321398775844,
          0.4718333199251554,
          1.1460239242801087,
          -0.7820887448110919,
          1.556158084660845,
          -1.6580547553017961,
          1.268655088327418,
          0.05952229145177814,
          -1.5759100408069073,
          -0.5736314310222357,
          -0.5229811365201296
         ],
         "y": [
          0.43857065498127923,
          0.2921972188658163,
          0.5269976435150321,
          0.3456298172824727,
          -0.17265962141318386,
          1.5214063113948753,
          0.21887156209224995,
          -0.9169151805499315,
          0.897046790028798,
          -0.44166817990327406,
          -0.4905537825729059,
          0.3393359972150877,
          -0.13258206022710767,
          -0.17440426007304868,
          -0.11436202173227045,
          1.3765722633554949,
          -1.363010519812039,
          1.3652219891550936,
          -1.041925534006676,
          0.4030559772477593,
          0.43147627576451036,
          1.1244929202098919,
          0.01284568975710407,
          -1.7329434635161785,
          0.34833148705841827,
          -0.08746755785800744,
          -0.6181108160972224,
          1.1033028653163843,
          0.4471900952784845,
          1.2369465803935622,
          0.8148534762160029,
          1.1024391577961616,
          -0.6072245388300551,
          0.16614874269076368,
          -0.17630537750694994,
          -0.4874814902562876,
          0.39146192099755295,
          0.47440239748577484,
          1.1108766530426502,
          0.9709270617422173,
          0.7094663736011866,
          0.5789503555856831,
          -0.29097984660730236,
          -1.074516099870212,
          -1.0179962198314423,
          0.4505070491292211,
          -0.0987560341762823,
          -0.3910764524815764,
          0.20181801446305067,
          0.9838957226496257,
          -0.9558160896945229,
          0.6394471676960702,
          -0.9552240638281172,
          -1.1106385648831525,
          0.393103490534785,
          0.09981593966862132,
          0.9439109322465946,
          0.5682537414314321,
          -1.201286951986347,
          0.2897167154660576,
          -0.6174219282112287,
          0.8911198651687253,
          0.6279124615290884,
          -0.5925009181791696,
          0.1561814860849528,
          1.2231838467346279,
          -0.15737218559812,
          -1.5474746664860417,
          0.24730224502486184,
          -0.6391894769475629,
          0.7352842406118774,
          -0.47704956402309234,
          -0.8582970312013011,
          -0.3586769108750361,
          0.8133099841261496,
          2.0430668916662293,
          -1.5997064464522288,
          -0.08913250267434249,
          -0.8019159391008681,
          -0.14004361811661117,
          1.3869118318293119,
          -3.0081095236739985,
          -2.6680211196509527,
          -0.5303358494927747,
          0.12978698353110324,
          -0.7636361580880751,
          0.2908557441422079,
          -0.295146448189477,
          -0.3856098063164494,
          0.5831054907534179,
          -0.2755588866036854,
          -1.2385546690415512,
          0.1378391604588889,
          -0.5080325904231946,
          -0.39089986743324556,
          -1.2611800034901748,
          -0.7038431183077906,
          -0.9359997462534155,
          -1.5480435915792188,
          -1.7643199576087762
         ]
        }
       ],
       "layout": {
        "legend": {
         "bgcolor": "#F5F6F9",
         "font": {
          "color": "#4D5663"
         }
        },
        "paper_bgcolor": "#F5F6F9",
        "plot_bgcolor": "#F5F6F9",
        "template": {
         "data": {
          "bar": [
           {
            "error_x": {
             "color": "#2a3f5f"
            },
            "error_y": {
             "color": "#2a3f5f"
            },
            "marker": {
             "line": {
              "color": "#E5ECF6",
              "width": 0.5
             },
             "pattern": {
              "fillmode": "overlay",
              "size": 10,
              "solidity": 0.2
             }
            },
            "type": "bar"
           }
          ],
          "barpolar": [
           {
            "marker": {
             "line": {
              "color": "#E5ECF6",
              "width": 0.5
             },
             "pattern": {
              "fillmode": "overlay",
              "size": 10,
              "solidity": 0.2
             }
            },
            "type": "barpolar"
           }
          ],
          "carpet": [
           {
            "aaxis": {
             "endlinecolor": "#2a3f5f",
             "gridcolor": "white",
             "linecolor": "white",
             "minorgridcolor": "white",
             "startlinecolor": "#2a3f5f"
            },
            "baxis": {
             "endlinecolor": "#2a3f5f",
             "gridcolor": "white",
             "linecolor": "white",
             "minorgridcolor": "white",
             "startlinecolor": "#2a3f5f"
            },
            "type": "carpet"
           }
          ],
          "choropleth": [
           {
            "colorbar": {
             "outlinewidth": 0,
             "ticks": ""
            },
            "type": "choropleth"
           }
          ],
          "contour": [
           {
            "colorbar": {
             "outlinewidth": 0,
             "ticks": ""
            },
            "colorscale": [
             [
              0,
              "#0d0887"
             ],
             [
              0.1111111111111111,
              "#46039f"
             ],
             [
              0.2222222222222222,
              "#7201a8"
             ],
             [
              0.3333333333333333,
              "#9c179e"
             ],
             [
              0.4444444444444444,
              "#bd3786"
             ],
             [
              0.5555555555555556,
              "#d8576b"
             ],
             [
              0.6666666666666666,
              "#ed7953"
             ],
             [
              0.7777777777777778,
              "#fb9f3a"
             ],
             [
              0.8888888888888888,
              "#fdca26"
             ],
             [
              1,
              "#f0f921"
             ]
            ],
            "type": "contour"
           }
          ],
          "contourcarpet": [
           {
            "colorbar": {
             "outlinewidth": 0,
             "ticks": ""
            },
            "type": "contourcarpet"
           }
          ],
          "heatmap": [
           {
            "colorbar": {
             "outlinewidth": 0,
             "ticks": ""
            },
            "colorscale": [
             [
              0,
              "#0d0887"
             ],
             [
              0.1111111111111111,
              "#46039f"
             ],
             [
              0.2222222222222222,
              "#7201a8"
             ],
             [
              0.3333333333333333,
              "#9c179e"
             ],
             [
              0.4444444444444444,
              "#bd3786"
             ],
             [
              0.5555555555555556,
              "#d8576b"
             ],
             [
              0.6666666666666666,
              "#ed7953"
             ],
             [
              0.7777777777777778,
              "#fb9f3a"
             ],
             [
              0.8888888888888888,
              "#fdca26"
             ],
             [
              1,
              "#f0f921"
             ]
            ],
            "type": "heatmap"
           }
          ],
          "heatmapgl": [
           {
            "colorbar": {
             "outlinewidth": 0,
             "ticks": ""
            },
            "colorscale": [
             [
              0,
              "#0d0887"
             ],
             [
              0.1111111111111111,
              "#46039f"
             ],
             [
              0.2222222222222222,
              "#7201a8"
             ],
             [
              0.3333333333333333,
              "#9c179e"
             ],
             [
              0.4444444444444444,
              "#bd3786"
             ],
             [
              0.5555555555555556,
              "#d8576b"
             ],
             [
              0.6666666666666666,
              "#ed7953"
             ],
             [
              0.7777777777777778,
              "#fb9f3a"
             ],
             [
              0.8888888888888888,
              "#fdca26"
             ],
             [
              1,
              "#f0f921"
             ]
            ],
            "type": "heatmapgl"
           }
          ],
          "histogram": [
           {
            "marker": {
             "pattern": {
              "fillmode": "overlay",
              "size": 10,
              "solidity": 0.2
             }
            },
            "type": "histogram"
           }
          ],
          "histogram2d": [
           {
            "colorbar": {
             "outlinewidth": 0,
             "ticks": ""
            },
            "colorscale": [
             [
              0,
              "#0d0887"
             ],
             [
              0.1111111111111111,
              "#46039f"
             ],
             [
              0.2222222222222222,
              "#7201a8"
             ],
             [
              0.3333333333333333,
              "#9c179e"
             ],
             [
              0.4444444444444444,
              "#bd3786"
             ],
             [
              0.5555555555555556,
              "#d8576b"
             ],
             [
              0.6666666666666666,
              "#ed7953"
             ],
             [
              0.7777777777777778,
              "#fb9f3a"
             ],
             [
              0.8888888888888888,
              "#fdca26"
             ],
             [
              1,
              "#f0f921"
             ]
            ],
            "type": "histogram2d"
           }
          ],
          "histogram2dcontour": [
           {
            "colorbar": {
             "outlinewidth": 0,
             "ticks": ""
            },
            "colorscale": [
             [
              0,
              "#0d0887"
             ],
             [
              0.1111111111111111,
              "#46039f"
             ],
             [
              0.2222222222222222,
              "#7201a8"
             ],
             [
              0.3333333333333333,
              "#9c179e"
             ],
             [
              0.4444444444444444,
              "#bd3786"
             ],
             [
              0.5555555555555556,
              "#d8576b"
             ],
             [
              0.6666666666666666,
              "#ed7953"
             ],
             [
              0.7777777777777778,
              "#fb9f3a"
             ],
             [
              0.8888888888888888,
              "#fdca26"
             ],
             [
              1,
              "#f0f921"
             ]
            ],
            "type": "histogram2dcontour"
           }
          ],
          "mesh3d": [
           {
            "colorbar": {
             "outlinewidth": 0,
             "ticks": ""
            },
            "type": "mesh3d"
           }
          ],
          "parcoords": [
           {
            "line": {
             "colorbar": {
              "outlinewidth": 0,
              "ticks": ""
             }
            },
            "type": "parcoords"
           }
          ],
          "pie": [
           {
            "automargin": true,
            "type": "pie"
           }
          ],
          "scatter": [
           {
            "marker": {
             "colorbar": {
              "outlinewidth": 0,
              "ticks": ""
             }
            },
            "type": "scatter"
           }
          ],
          "scatter3d": [
           {
            "line": {
             "colorbar": {
              "outlinewidth": 0,
              "ticks": ""
             }
            },
            "marker": {
             "colorbar": {
              "outlinewidth": 0,
              "ticks": ""
             }
            },
            "type": "scatter3d"
           }
          ],
          "scattercarpet": [
           {
            "marker": {
             "colorbar": {
              "outlinewidth": 0,
              "ticks": ""
             }
            },
            "type": "scattercarpet"
           }
          ],
          "scattergeo": [
           {
            "marker": {
             "colorbar": {
              "outlinewidth": 0,
              "ticks": ""
             }
            },
            "type": "scattergeo"
           }
          ],
          "scattergl": [
           {
            "marker": {
             "colorbar": {
              "outlinewidth": 0,
              "ticks": ""
             }
            },
            "type": "scattergl"
           }
          ],
          "scattermapbox": [
           {
            "marker": {
             "colorbar": {
              "outlinewidth": 0,
              "ticks": ""
             }
            },
            "type": "scattermapbox"
           }
          ],
          "scatterpolar": [
           {
            "marker": {
             "colorbar": {
              "outlinewidth": 0,
              "ticks": ""
             }
            },
            "type": "scatterpolar"
           }
          ],
          "scatterpolargl": [
           {
            "marker": {
             "colorbar": {
              "outlinewidth": 0,
              "ticks": ""
             }
            },
            "type": "scatterpolargl"
           }
          ],
          "scatterternary": [
           {
            "marker": {
             "colorbar": {
              "outlinewidth": 0,
              "ticks": ""
             }
            },
            "type": "scatterternary"
           }
          ],
          "surface": [
           {
            "colorbar": {
             "outlinewidth": 0,
             "ticks": ""
            },
            "colorscale": [
             [
              0,
              "#0d0887"
             ],
             [
              0.1111111111111111,
              "#46039f"
             ],
             [
              0.2222222222222222,
              "#7201a8"
             ],
             [
              0.3333333333333333,
              "#9c179e"
             ],
             [
              0.4444444444444444,
              "#bd3786"
             ],
             [
              0.5555555555555556,
              "#d8576b"
             ],
             [
              0.6666666666666666,
              "#ed7953"
             ],
             [
              0.7777777777777778,
              "#fb9f3a"
             ],
             [
              0.8888888888888888,
              "#fdca26"
             ],
             [
              1,
              "#f0f921"
             ]
            ],
            "type": "surface"
           }
          ],
          "table": [
           {
            "cells": {
             "fill": {
              "color": "#EBF0F8"
             },
             "line": {
              "color": "white"
             }
            },
            "header": {
             "fill": {
              "color": "#C8D4E3"
             },
             "line": {
              "color": "white"
             }
            },
            "type": "table"
           }
          ]
         },
         "layout": {
          "annotationdefaults": {
           "arrowcolor": "#2a3f5f",
           "arrowhead": 0,
           "arrowwidth": 1
          },
          "autotypenumbers": "strict",
          "coloraxis": {
           "colorbar": {
            "outlinewidth": 0,
            "ticks": ""
           }
          },
          "colorscale": {
           "diverging": [
            [
             0,
             "#8e0152"
            ],
            [
             0.1,
             "#c51b7d"
            ],
            [
             0.2,
             "#de77ae"
            ],
            [
             0.3,
             "#f1b6da"
            ],
            [
             0.4,
             "#fde0ef"
            ],
            [
             0.5,
             "#f7f7f7"
            ],
            [
             0.6,
             "#e6f5d0"
            ],
            [
             0.7,
             "#b8e186"
            ],
            [
             0.8,
             "#7fbc41"
            ],
            [
             0.9,
             "#4d9221"
            ],
            [
             1,
             "#276419"
            ]
           ],
           "sequential": [
            [
             0,
             "#0d0887"
            ],
            [
             0.1111111111111111,
             "#46039f"
            ],
            [
             0.2222222222222222,
             "#7201a8"
            ],
            [
             0.3333333333333333,
             "#9c179e"
            ],
            [
             0.4444444444444444,
             "#bd3786"
            ],
            [
             0.5555555555555556,
             "#d8576b"
            ],
            [
             0.6666666666666666,
             "#ed7953"
            ],
            [
             0.7777777777777778,
             "#fb9f3a"
            ],
            [
             0.8888888888888888,
             "#fdca26"
            ],
            [
             1,
             "#f0f921"
            ]
           ],
           "sequentialminus": [
            [
             0,
             "#0d0887"
            ],
            [
             0.1111111111111111,
             "#46039f"
            ],
            [
             0.2222222222222222,
             "#7201a8"
            ],
            [
             0.3333333333333333,
             "#9c179e"
            ],
            [
             0.4444444444444444,
             "#bd3786"
            ],
            [
             0.5555555555555556,
             "#d8576b"
            ],
            [
             0.6666666666666666,
             "#ed7953"
            ],
            [
             0.7777777777777778,
             "#fb9f3a"
            ],
            [
             0.8888888888888888,
             "#fdca26"
            ],
            [
             1,
             "#f0f921"
            ]
           ]
          },
          "colorway": [
           "#636efa",
           "#EF553B",
           "#00cc96",
           "#ab63fa",
           "#FFA15A",
           "#19d3f3",
           "#FF6692",
           "#B6E880",
           "#FF97FF",
           "#FECB52"
          ],
          "font": {
           "color": "#2a3f5f"
          },
          "geo": {
           "bgcolor": "white",
           "lakecolor": "white",
           "landcolor": "#E5ECF6",
           "showlakes": true,
           "showland": true,
           "subunitcolor": "white"
          },
          "hoverlabel": {
           "align": "left"
          },
          "hovermode": "closest",
          "mapbox": {
           "style": "light"
          },
          "paper_bgcolor": "white",
          "plot_bgcolor": "#E5ECF6",
          "polar": {
           "angularaxis": {
            "gridcolor": "white",
            "linecolor": "white",
            "ticks": ""
           },
           "bgcolor": "#E5ECF6",
           "radialaxis": {
            "gridcolor": "white",
            "linecolor": "white",
            "ticks": ""
           }
          },
          "scene": {
           "xaxis": {
            "backgroundcolor": "#E5ECF6",
            "gridcolor": "white",
            "gridwidth": 2,
            "linecolor": "white",
            "showbackground": true,
            "ticks": "",
            "zerolinecolor": "white"
           },
           "yaxis": {
            "backgroundcolor": "#E5ECF6",
            "gridcolor": "white",
            "gridwidth": 2,
            "linecolor": "white",
            "showbackground": true,
            "ticks": "",
            "zerolinecolor": "white"
           },
           "zaxis": {
            "backgroundcolor": "#E5ECF6",
            "gridcolor": "white",
            "gridwidth": 2,
            "linecolor": "white",
            "showbackground": true,
            "ticks": "",
            "zerolinecolor": "white"
           }
          },
          "shapedefaults": {
           "line": {
            "color": "#2a3f5f"
           }
          },
          "ternary": {
           "aaxis": {
            "gridcolor": "white",
            "linecolor": "white",
            "ticks": ""
           },
           "baxis": {
            "gridcolor": "white",
            "linecolor": "white",
            "ticks": ""
           },
           "bgcolor": "#E5ECF6",
           "caxis": {
            "gridcolor": "white",
            "linecolor": "white",
            "ticks": ""
           }
          },
          "title": {
           "x": 0.05
          },
          "xaxis": {
           "automargin": true,
           "gridcolor": "white",
           "linecolor": "white",
           "ticks": "",
           "title": {
            "standoff": 15
           },
           "zerolinecolor": "white",
           "zerolinewidth": 2
          },
          "yaxis": {
           "automargin": true,
           "gridcolor": "white",
           "linecolor": "white",
           "ticks": "",
           "title": {
            "standoff": 15
           },
           "zerolinecolor": "white",
           "zerolinewidth": 2
          }
         }
        },
        "title": {
         "font": {
          "color": "#4D5663"
         }
        },
        "xaxis": {
         "gridcolor": "#E1E5ED",
         "showgrid": true,
         "tickfont": {
          "color": "#4D5663"
         },
         "title": {
          "font": {
           "color": "#4D5663"
          },
          "text": ""
         },
         "zerolinecolor": "#E1E5ED"
        },
        "yaxis": {
         "gridcolor": "#E1E5ED",
         "showgrid": true,
         "tickfont": {
          "color": "#4D5663"
         },
         "title": {
          "font": {
           "color": "#4D5663"
          },
          "text": ""
         },
         "zerolinecolor": "#E1E5ED"
        }
       }
      },
      "text/html": [
       "<div>                            <div id=\"27d78009-7e6b-4b92-ba0b-a204b024aa44\" class=\"plotly-graph-div\" style=\"height:525px; width:100%;\"></div>            <script type=\"text/javascript\">                require([\"plotly\"], function(Plotly) {                    window.PLOTLYENV=window.PLOTLYENV || {};\n",
       "                    window.PLOTLYENV.BASE_URL='https://plot.ly';                                    if (document.getElementById(\"27d78009-7e6b-4b92-ba0b-a204b024aa44\")) {                    Plotly.newPlot(                        \"27d78009-7e6b-4b92-ba0b-a204b024aa44\",                        [{\"line\":{\"color\":\"rgba(255, 153, 51, 1.0)\",\"dash\":\"solid\",\"shape\":\"linear\",\"width\":1.3},\"marker\":{\"size\":12,\"symbol\":\"circle\"},\"mode\":\"markers\",\"name\":\"B\",\"text\":\"\",\"type\":\"scatter\",\"x\":[-0.3603101022368317,-1.4932067099630373,0.7401114483929926,1.5876799119575666,-0.5882553778090175,-0.19328619251142493,-1.1483331165246522,0.3346583368373109,-1.353736298933149,0.16244749177332804,0.4107766850650031,-0.1019513767017405,-0.55044118145215,1.4552814654316812,0.7102307470463595,0.2042809643735204,-1.3141840287757471,0.9397974293810624,1.4622082850861817,0.004581087125822542,1.1872560720964547,-0.06939465386530655,0.34555569871453634,0.47627576924484,0.11665148042293134,0.22866331638806298,-0.29839556035322234,-2.359488044458736,1.5194122054394072,1.4583479497699154,-0.46185920982978745,0.0034936982540661877,0.036773686882005295,-0.4054567731595773,-1.198527786346277,0.6035952075449362,-0.12056204746885117,-0.08696956062189974,-0.30260921526610346,-1.379181324098899,-0.7575510045383668,-1.1669069387928175,0.42251770640713326,-0.39442991537684646,0.8968649696810801,1.000185756835219,1.225290849161005,-0.5684875907200435,-0.9732008970869809,-0.13495915879243361,-0.7444246126382412,-0.08707835112761256,0.8798796323503689,0.7060197101561982,-0.04243007752957983,-1.2601728989214394,-0.944969736816905,0.42698695657750374,-1.9294248752331329,1.0336411672109236,-1.7549866151466353,0.2286082492666186,-1.6149892789862796,0.45981906285790236,-1.4103986669031026,0.9635927411240099,-0.03860187917494151,-1.6626456582328502,2.187540504498553,-0.7097028844079241,-2.2801230185416337,-1.6130622349451873,-0.42600445367120715,1.1394401765294633,-0.3613245728493242,-1.2760968160051436,-0.19054613667361206,-0.5608507458210631,-1.0706260872017523,0.8319065039536502,1.1586586008561413,-0.32577688866384846,-1.120167682648072,-0.8367561889192894,1.1501005753742084,1.1780914040975914,-2.1832722386363814,-0.8275274873462319,0.6478121324458215,1.1681321398775844,0.4718333199251554,1.1460239242801087,-0.7820887448110919,1.556158084660845,-1.6580547553017961,1.268655088327418,0.05952229145177814,-1.5759100408069073,-0.5736314310222357,-0.5229811365201296],\"y\":[0.43857065498127923,0.2921972188658163,0.5269976435150321,0.3456298172824727,-0.17265962141318386,1.5214063113948753,0.21887156209224995,-0.9169151805499315,0.897046790028798,-0.44166817990327406,-0.4905537825729059,0.3393359972150877,-0.13258206022710767,-0.17440426007304868,-0.11436202173227045,1.3765722633554949,-1.363010519812039,1.3652219891550936,-1.041925534006676,0.4030559772477593,0.43147627576451036,1.1244929202098919,0.01284568975710407,-1.7329434635161785,0.34833148705841827,-0.08746755785800744,-0.6181108160972224,1.1033028653163843,0.4471900952784845,1.2369465803935622,0.8148534762160029,1.1024391577961616,-0.6072245388300551,0.16614874269076368,-0.17630537750694994,-0.4874814902562876,0.39146192099755295,0.47440239748577484,1.1108766530426502,0.9709270617422173,0.7094663736011866,0.5789503555856831,-0.29097984660730236,-1.074516099870212,-1.0179962198314423,0.4505070491292211,-0.0987560341762823,-0.3910764524815764,0.20181801446305067,0.9838957226496257,-0.9558160896945229,0.6394471676960702,-0.9552240638281172,-1.1106385648831525,0.393103490534785,0.09981593966862132,0.9439109322465946,0.5682537414314321,-1.201286951986347,0.2897167154660576,-0.6174219282112287,0.8911198651687253,0.6279124615290884,-0.5925009181791696,0.1561814860849528,1.2231838467346279,-0.15737218559812,-1.5474746664860417,0.24730224502486184,-0.6391894769475629,0.7352842406118774,-0.47704956402309234,-0.8582970312013011,-0.3586769108750361,0.8133099841261496,2.0430668916662293,-1.5997064464522288,-0.08913250267434249,-0.8019159391008681,-0.14004361811661117,1.3869118318293119,-3.0081095236739985,-2.6680211196509527,-0.5303358494927747,0.12978698353110324,-0.7636361580880751,0.2908557441422079,-0.295146448189477,-0.3856098063164494,0.5831054907534179,-0.2755588866036854,-1.2385546690415512,0.1378391604588889,-0.5080325904231946,-0.39089986743324556,-1.2611800034901748,-0.7038431183077906,-0.9359997462534155,-1.5480435915792188,-1.7643199576087762]}],                        {\"legend\":{\"bgcolor\":\"#F5F6F9\",\"font\":{\"color\":\"#4D5663\"}},\"paper_bgcolor\":\"#F5F6F9\",\"plot_bgcolor\":\"#F5F6F9\",\"template\":{\"data\":{\"bar\":[{\"error_x\":{\"color\":\"#2a3f5f\"},\"error_y\":{\"color\":\"#2a3f5f\"},\"marker\":{\"line\":{\"color\":\"#E5ECF6\",\"width\":0.5},\"pattern\":{\"fillmode\":\"overlay\",\"size\":10,\"solidity\":0.2}},\"type\":\"bar\"}],\"barpolar\":[{\"marker\":{\"line\":{\"color\":\"#E5ECF6\",\"width\":0.5},\"pattern\":{\"fillmode\":\"overlay\",\"size\":10,\"solidity\":0.2}},\"type\":\"barpolar\"}],\"carpet\":[{\"aaxis\":{\"endlinecolor\":\"#2a3f5f\",\"gridcolor\":\"white\",\"linecolor\":\"white\",\"minorgridcolor\":\"white\",\"startlinecolor\":\"#2a3f5f\"},\"baxis\":{\"endlinecolor\":\"#2a3f5f\",\"gridcolor\":\"white\",\"linecolor\":\"white\",\"minorgridcolor\":\"white\",\"startlinecolor\":\"#2a3f5f\"},\"type\":\"carpet\"}],\"choropleth\":[{\"colorbar\":{\"outlinewidth\":0,\"ticks\":\"\"},\"type\":\"choropleth\"}],\"contour\":[{\"colorbar\":{\"outlinewidth\":0,\"ticks\":\"\"},\"colorscale\":[[0.0,\"#0d0887\"],[0.1111111111111111,\"#46039f\"],[0.2222222222222222,\"#7201a8\"],[0.3333333333333333,\"#9c179e\"],[0.4444444444444444,\"#bd3786\"],[0.5555555555555556,\"#d8576b\"],[0.6666666666666666,\"#ed7953\"],[0.7777777777777778,\"#fb9f3a\"],[0.8888888888888888,\"#fdca26\"],[1.0,\"#f0f921\"]],\"type\":\"contour\"}],\"contourcarpet\":[{\"colorbar\":{\"outlinewidth\":0,\"ticks\":\"\"},\"type\":\"contourcarpet\"}],\"heatmap\":[{\"colorbar\":{\"outlinewidth\":0,\"ticks\":\"\"},\"colorscale\":[[0.0,\"#0d0887\"],[0.1111111111111111,\"#46039f\"],[0.2222222222222222,\"#7201a8\"],[0.3333333333333333,\"#9c179e\"],[0.4444444444444444,\"#bd3786\"],[0.5555555555555556,\"#d8576b\"],[0.6666666666666666,\"#ed7953\"],[0.7777777777777778,\"#fb9f3a\"],[0.8888888888888888,\"#fdca26\"],[1.0,\"#f0f921\"]],\"type\":\"heatmap\"}],\"heatmapgl\":[{\"colorbar\":{\"outlinewidth\":0,\"ticks\":\"\"},\"colorscale\":[[0.0,\"#0d0887\"],[0.1111111111111111,\"#46039f\"],[0.2222222222222222,\"#7201a8\"],[0.3333333333333333,\"#9c179e\"],[0.4444444444444444,\"#bd3786\"],[0.5555555555555556,\"#d8576b\"],[0.6666666666666666,\"#ed7953\"],[0.7777777777777778,\"#fb9f3a\"],[0.8888888888888888,\"#fdca26\"],[1.0,\"#f0f921\"]],\"type\":\"heatmapgl\"}],\"histogram\":[{\"marker\":{\"pattern\":{\"fillmode\":\"overlay\",\"size\":10,\"solidity\":0.2}},\"type\":\"histogram\"}],\"histogram2d\":[{\"colorbar\":{\"outlinewidth\":0,\"ticks\":\"\"},\"colorscale\":[[0.0,\"#0d0887\"],[0.1111111111111111,\"#46039f\"],[0.2222222222222222,\"#7201a8\"],[0.3333333333333333,\"#9c179e\"],[0.4444444444444444,\"#bd3786\"],[0.5555555555555556,\"#d8576b\"],[0.6666666666666666,\"#ed7953\"],[0.7777777777777778,\"#fb9f3a\"],[0.8888888888888888,\"#fdca26\"],[1.0,\"#f0f921\"]],\"type\":\"histogram2d\"}],\"histogram2dcontour\":[{\"colorbar\":{\"outlinewidth\":0,\"ticks\":\"\"},\"colorscale\":[[0.0,\"#0d0887\"],[0.1111111111111111,\"#46039f\"],[0.2222222222222222,\"#7201a8\"],[0.3333333333333333,\"#9c179e\"],[0.4444444444444444,\"#bd3786\"],[0.5555555555555556,\"#d8576b\"],[0.6666666666666666,\"#ed7953\"],[0.7777777777777778,\"#fb9f3a\"],[0.8888888888888888,\"#fdca26\"],[1.0,\"#f0f921\"]],\"type\":\"histogram2dcontour\"}],\"mesh3d\":[{\"colorbar\":{\"outlinewidth\":0,\"ticks\":\"\"},\"type\":\"mesh3d\"}],\"parcoords\":[{\"line\":{\"colorbar\":{\"outlinewidth\":0,\"ticks\":\"\"}},\"type\":\"parcoords\"}],\"pie\":[{\"automargin\":true,\"type\":\"pie\"}],\"scatter\":[{\"marker\":{\"colorbar\":{\"outlinewidth\":0,\"ticks\":\"\"}},\"type\":\"scatter\"}],\"scatter3d\":[{\"line\":{\"colorbar\":{\"outlinewidth\":0,\"ticks\":\"\"}},\"marker\":{\"colorbar\":{\"outlinewidth\":0,\"ticks\":\"\"}},\"type\":\"scatter3d\"}],\"scattercarpet\":[{\"marker\":{\"colorbar\":{\"outlinewidth\":0,\"ticks\":\"\"}},\"type\":\"scattercarpet\"}],\"scattergeo\":[{\"marker\":{\"colorbar\":{\"outlinewidth\":0,\"ticks\":\"\"}},\"type\":\"scattergeo\"}],\"scattergl\":[{\"marker\":{\"colorbar\":{\"outlinewidth\":0,\"ticks\":\"\"}},\"type\":\"scattergl\"}],\"scattermapbox\":[{\"marker\":{\"colorbar\":{\"outlinewidth\":0,\"ticks\":\"\"}},\"type\":\"scattermapbox\"}],\"scatterpolar\":[{\"marker\":{\"colorbar\":{\"outlinewidth\":0,\"ticks\":\"\"}},\"type\":\"scatterpolar\"}],\"scatterpolargl\":[{\"marker\":{\"colorbar\":{\"outlinewidth\":0,\"ticks\":\"\"}},\"type\":\"scatterpolargl\"}],\"scatterternary\":[{\"marker\":{\"colorbar\":{\"outlinewidth\":0,\"ticks\":\"\"}},\"type\":\"scatterternary\"}],\"surface\":[{\"colorbar\":{\"outlinewidth\":0,\"ticks\":\"\"},\"colorscale\":[[0.0,\"#0d0887\"],[0.1111111111111111,\"#46039f\"],[0.2222222222222222,\"#7201a8\"],[0.3333333333333333,\"#9c179e\"],[0.4444444444444444,\"#bd3786\"],[0.5555555555555556,\"#d8576b\"],[0.6666666666666666,\"#ed7953\"],[0.7777777777777778,\"#fb9f3a\"],[0.8888888888888888,\"#fdca26\"],[1.0,\"#f0f921\"]],\"type\":\"surface\"}],\"table\":[{\"cells\":{\"fill\":{\"color\":\"#EBF0F8\"},\"line\":{\"color\":\"white\"}},\"header\":{\"fill\":{\"color\":\"#C8D4E3\"},\"line\":{\"color\":\"white\"}},\"type\":\"table\"}]},\"layout\":{\"annotationdefaults\":{\"arrowcolor\":\"#2a3f5f\",\"arrowhead\":0,\"arrowwidth\":1},\"autotypenumbers\":\"strict\",\"coloraxis\":{\"colorbar\":{\"outlinewidth\":0,\"ticks\":\"\"}},\"colorscale\":{\"diverging\":[[0,\"#8e0152\"],[0.1,\"#c51b7d\"],[0.2,\"#de77ae\"],[0.3,\"#f1b6da\"],[0.4,\"#fde0ef\"],[0.5,\"#f7f7f7\"],[0.6,\"#e6f5d0\"],[0.7,\"#b8e186\"],[0.8,\"#7fbc41\"],[0.9,\"#4d9221\"],[1,\"#276419\"]],\"sequential\":[[0.0,\"#0d0887\"],[0.1111111111111111,\"#46039f\"],[0.2222222222222222,\"#7201a8\"],[0.3333333333333333,\"#9c179e\"],[0.4444444444444444,\"#bd3786\"],[0.5555555555555556,\"#d8576b\"],[0.6666666666666666,\"#ed7953\"],[0.7777777777777778,\"#fb9f3a\"],[0.8888888888888888,\"#fdca26\"],[1.0,\"#f0f921\"]],\"sequentialminus\":[[0.0,\"#0d0887\"],[0.1111111111111111,\"#46039f\"],[0.2222222222222222,\"#7201a8\"],[0.3333333333333333,\"#9c179e\"],[0.4444444444444444,\"#bd3786\"],[0.5555555555555556,\"#d8576b\"],[0.6666666666666666,\"#ed7953\"],[0.7777777777777778,\"#fb9f3a\"],[0.8888888888888888,\"#fdca26\"],[1.0,\"#f0f921\"]]},\"colorway\":[\"#636efa\",\"#EF553B\",\"#00cc96\",\"#ab63fa\",\"#FFA15A\",\"#19d3f3\",\"#FF6692\",\"#B6E880\",\"#FF97FF\",\"#FECB52\"],\"font\":{\"color\":\"#2a3f5f\"},\"geo\":{\"bgcolor\":\"white\",\"lakecolor\":\"white\",\"landcolor\":\"#E5ECF6\",\"showlakes\":true,\"showland\":true,\"subunitcolor\":\"white\"},\"hoverlabel\":{\"align\":\"left\"},\"hovermode\":\"closest\",\"mapbox\":{\"style\":\"light\"},\"paper_bgcolor\":\"white\",\"plot_bgcolor\":\"#E5ECF6\",\"polar\":{\"angularaxis\":{\"gridcolor\":\"white\",\"linecolor\":\"white\",\"ticks\":\"\"},\"bgcolor\":\"#E5ECF6\",\"radialaxis\":{\"gridcolor\":\"white\",\"linecolor\":\"white\",\"ticks\":\"\"}},\"scene\":{\"xaxis\":{\"backgroundcolor\":\"#E5ECF6\",\"gridcolor\":\"white\",\"gridwidth\":2,\"linecolor\":\"white\",\"showbackground\":true,\"ticks\":\"\",\"zerolinecolor\":\"white\"},\"yaxis\":{\"backgroundcolor\":\"#E5ECF6\",\"gridcolor\":\"white\",\"gridwidth\":2,\"linecolor\":\"white\",\"showbackground\":true,\"ticks\":\"\",\"zerolinecolor\":\"white\"},\"zaxis\":{\"backgroundcolor\":\"#E5ECF6\",\"gridcolor\":\"white\",\"gridwidth\":2,\"linecolor\":\"white\",\"showbackground\":true,\"ticks\":\"\",\"zerolinecolor\":\"white\"}},\"shapedefaults\":{\"line\":{\"color\":\"#2a3f5f\"}},\"ternary\":{\"aaxis\":{\"gridcolor\":\"white\",\"linecolor\":\"white\",\"ticks\":\"\"},\"baxis\":{\"gridcolor\":\"white\",\"linecolor\":\"white\",\"ticks\":\"\"},\"bgcolor\":\"#E5ECF6\",\"caxis\":{\"gridcolor\":\"white\",\"linecolor\":\"white\",\"ticks\":\"\"}},\"title\":{\"x\":0.05},\"xaxis\":{\"automargin\":true,\"gridcolor\":\"white\",\"linecolor\":\"white\",\"ticks\":\"\",\"title\":{\"standoff\":15},\"zerolinecolor\":\"white\",\"zerolinewidth\":2},\"yaxis\":{\"automargin\":true,\"gridcolor\":\"white\",\"linecolor\":\"white\",\"ticks\":\"\",\"title\":{\"standoff\":15},\"zerolinecolor\":\"white\",\"zerolinewidth\":2}}},\"title\":{\"font\":{\"color\":\"#4D5663\"}},\"xaxis\":{\"gridcolor\":\"#E1E5ED\",\"showgrid\":true,\"tickfont\":{\"color\":\"#4D5663\"},\"title\":{\"font\":{\"color\":\"#4D5663\"},\"text\":\"\"},\"zerolinecolor\":\"#E1E5ED\"},\"yaxis\":{\"gridcolor\":\"#E1E5ED\",\"showgrid\":true,\"tickfont\":{\"color\":\"#4D5663\"},\"title\":{\"font\":{\"color\":\"#4D5663\"},\"text\":\"\"},\"zerolinecolor\":\"#E1E5ED\"}},                        {\"showLink\": true, \"linkText\": \"Export to plot.ly\", \"plotlyServerURL\": \"https://plot.ly\", \"responsive\": true}                    ).then(function(){\n",
       "                            \n",
       "var gd = document.getElementById('27d78009-7e6b-4b92-ba0b-a204b024aa44');\n",
       "var x = new MutationObserver(function (mutations, observer) {{\n",
       "        var display = window.getComputedStyle(gd).display;\n",
       "        if (!display || display === 'none') {{\n",
       "            console.log([gd, 'removed!']);\n",
       "            Plotly.purge(gd);\n",
       "            observer.disconnect();\n",
       "        }}\n",
       "}});\n",
       "\n",
       "// Listen for the removal of the full notebook cells\n",
       "var notebookContainer = gd.closest('#notebook-container');\n",
       "if (notebookContainer) {{\n",
       "    x.observe(notebookContainer, {childList: true});\n",
       "}}\n",
       "\n",
       "// Listen for the clearing of the current output cell\n",
       "var outputEl = gd.closest('.output');\n",
       "if (outputEl) {{\n",
       "    x.observe(outputEl, {childList: true});\n",
       "}}\n",
       "\n",
       "                        })                };                });            </script>        </div>"
      ]
     },
     "metadata": {},
     "output_type": "display_data"
    }
   ],
   "source": [
    "df.iplot(kind='scatter', x='A', y='B', mode='markers')"
   ]
  },
  {
   "cell_type": "code",
   "execution_count": 15,
   "id": "59b95f3a",
   "metadata": {},
   "outputs": [
    {
     "data": {
      "application/vnd.plotly.v1+json": {
       "config": {
        "linkText": "Export to plot.ly",
        "plotlyServerURL": "https://plot.ly",
        "showLink": true
       },
       "data": [
        {
         "marker": {
          "color": "rgba(255, 153, 51, 0.6)",
          "line": {
           "color": "rgba(255, 153, 51, 1.0)",
           "width": 1
          }
         },
         "name": "Values",
         "orientation": "v",
         "text": "",
         "type": "bar",
         "x": [
          "A",
          "B",
          "C"
         ],
         "y": [
          32,
          43,
          50
         ]
        }
       ],
       "layout": {
        "legend": {
         "bgcolor": "#F5F6F9",
         "font": {
          "color": "#4D5663"
         }
        },
        "paper_bgcolor": "#F5F6F9",
        "plot_bgcolor": "#F5F6F9",
        "template": {
         "data": {
          "bar": [
           {
            "error_x": {
             "color": "#2a3f5f"
            },
            "error_y": {
             "color": "#2a3f5f"
            },
            "marker": {
             "line": {
              "color": "#E5ECF6",
              "width": 0.5
             },
             "pattern": {
              "fillmode": "overlay",
              "size": 10,
              "solidity": 0.2
             }
            },
            "type": "bar"
           }
          ],
          "barpolar": [
           {
            "marker": {
             "line": {
              "color": "#E5ECF6",
              "width": 0.5
             },
             "pattern": {
              "fillmode": "overlay",
              "size": 10,
              "solidity": 0.2
             }
            },
            "type": "barpolar"
           }
          ],
          "carpet": [
           {
            "aaxis": {
             "endlinecolor": "#2a3f5f",
             "gridcolor": "white",
             "linecolor": "white",
             "minorgridcolor": "white",
             "startlinecolor": "#2a3f5f"
            },
            "baxis": {
             "endlinecolor": "#2a3f5f",
             "gridcolor": "white",
             "linecolor": "white",
             "minorgridcolor": "white",
             "startlinecolor": "#2a3f5f"
            },
            "type": "carpet"
           }
          ],
          "choropleth": [
           {
            "colorbar": {
             "outlinewidth": 0,
             "ticks": ""
            },
            "type": "choropleth"
           }
          ],
          "contour": [
           {
            "colorbar": {
             "outlinewidth": 0,
             "ticks": ""
            },
            "colorscale": [
             [
              0,
              "#0d0887"
             ],
             [
              0.1111111111111111,
              "#46039f"
             ],
             [
              0.2222222222222222,
              "#7201a8"
             ],
             [
              0.3333333333333333,
              "#9c179e"
             ],
             [
              0.4444444444444444,
              "#bd3786"
             ],
             [
              0.5555555555555556,
              "#d8576b"
             ],
             [
              0.6666666666666666,
              "#ed7953"
             ],
             [
              0.7777777777777778,
              "#fb9f3a"
             ],
             [
              0.8888888888888888,
              "#fdca26"
             ],
             [
              1,
              "#f0f921"
             ]
            ],
            "type": "contour"
           }
          ],
          "contourcarpet": [
           {
            "colorbar": {
             "outlinewidth": 0,
             "ticks": ""
            },
            "type": "contourcarpet"
           }
          ],
          "heatmap": [
           {
            "colorbar": {
             "outlinewidth": 0,
             "ticks": ""
            },
            "colorscale": [
             [
              0,
              "#0d0887"
             ],
             [
              0.1111111111111111,
              "#46039f"
             ],
             [
              0.2222222222222222,
              "#7201a8"
             ],
             [
              0.3333333333333333,
              "#9c179e"
             ],
             [
              0.4444444444444444,
              "#bd3786"
             ],
             [
              0.5555555555555556,
              "#d8576b"
             ],
             [
              0.6666666666666666,
              "#ed7953"
             ],
             [
              0.7777777777777778,
              "#fb9f3a"
             ],
             [
              0.8888888888888888,
              "#fdca26"
             ],
             [
              1,
              "#f0f921"
             ]
            ],
            "type": "heatmap"
           }
          ],
          "heatmapgl": [
           {
            "colorbar": {
             "outlinewidth": 0,
             "ticks": ""
            },
            "colorscale": [
             [
              0,
              "#0d0887"
             ],
             [
              0.1111111111111111,
              "#46039f"
             ],
             [
              0.2222222222222222,
              "#7201a8"
             ],
             [
              0.3333333333333333,
              "#9c179e"
             ],
             [
              0.4444444444444444,
              "#bd3786"
             ],
             [
              0.5555555555555556,
              "#d8576b"
             ],
             [
              0.6666666666666666,
              "#ed7953"
             ],
             [
              0.7777777777777778,
              "#fb9f3a"
             ],
             [
              0.8888888888888888,
              "#fdca26"
             ],
             [
              1,
              "#f0f921"
             ]
            ],
            "type": "heatmapgl"
           }
          ],
          "histogram": [
           {
            "marker": {
             "pattern": {
              "fillmode": "overlay",
              "size": 10,
              "solidity": 0.2
             }
            },
            "type": "histogram"
           }
          ],
          "histogram2d": [
           {
            "colorbar": {
             "outlinewidth": 0,
             "ticks": ""
            },
            "colorscale": [
             [
              0,
              "#0d0887"
             ],
             [
              0.1111111111111111,
              "#46039f"
             ],
             [
              0.2222222222222222,
              "#7201a8"
             ],
             [
              0.3333333333333333,
              "#9c179e"
             ],
             [
              0.4444444444444444,
              "#bd3786"
             ],
             [
              0.5555555555555556,
              "#d8576b"
             ],
             [
              0.6666666666666666,
              "#ed7953"
             ],
             [
              0.7777777777777778,
              "#fb9f3a"
             ],
             [
              0.8888888888888888,
              "#fdca26"
             ],
             [
              1,
              "#f0f921"
             ]
            ],
            "type": "histogram2d"
           }
          ],
          "histogram2dcontour": [
           {
            "colorbar": {
             "outlinewidth": 0,
             "ticks": ""
            },
            "colorscale": [
             [
              0,
              "#0d0887"
             ],
             [
              0.1111111111111111,
              "#46039f"
             ],
             [
              0.2222222222222222,
              "#7201a8"
             ],
             [
              0.3333333333333333,
              "#9c179e"
             ],
             [
              0.4444444444444444,
              "#bd3786"
             ],
             [
              0.5555555555555556,
              "#d8576b"
             ],
             [
              0.6666666666666666,
              "#ed7953"
             ],
             [
              0.7777777777777778,
              "#fb9f3a"
             ],
             [
              0.8888888888888888,
              "#fdca26"
             ],
             [
              1,
              "#f0f921"
             ]
            ],
            "type": "histogram2dcontour"
           }
          ],
          "mesh3d": [
           {
            "colorbar": {
             "outlinewidth": 0,
             "ticks": ""
            },
            "type": "mesh3d"
           }
          ],
          "parcoords": [
           {
            "line": {
             "colorbar": {
              "outlinewidth": 0,
              "ticks": ""
             }
            },
            "type": "parcoords"
           }
          ],
          "pie": [
           {
            "automargin": true,
            "type": "pie"
           }
          ],
          "scatter": [
           {
            "marker": {
             "colorbar": {
              "outlinewidth": 0,
              "ticks": ""
             }
            },
            "type": "scatter"
           }
          ],
          "scatter3d": [
           {
            "line": {
             "colorbar": {
              "outlinewidth": 0,
              "ticks": ""
             }
            },
            "marker": {
             "colorbar": {
              "outlinewidth": 0,
              "ticks": ""
             }
            },
            "type": "scatter3d"
           }
          ],
          "scattercarpet": [
           {
            "marker": {
             "colorbar": {
              "outlinewidth": 0,
              "ticks": ""
             }
            },
            "type": "scattercarpet"
           }
          ],
          "scattergeo": [
           {
            "marker": {
             "colorbar": {
              "outlinewidth": 0,
              "ticks": ""
             }
            },
            "type": "scattergeo"
           }
          ],
          "scattergl": [
           {
            "marker": {
             "colorbar": {
              "outlinewidth": 0,
              "ticks": ""
             }
            },
            "type": "scattergl"
           }
          ],
          "scattermapbox": [
           {
            "marker": {
             "colorbar": {
              "outlinewidth": 0,
              "ticks": ""
             }
            },
            "type": "scattermapbox"
           }
          ],
          "scatterpolar": [
           {
            "marker": {
             "colorbar": {
              "outlinewidth": 0,
              "ticks": ""
             }
            },
            "type": "scatterpolar"
           }
          ],
          "scatterpolargl": [
           {
            "marker": {
             "colorbar": {
              "outlinewidth": 0,
              "ticks": ""
             }
            },
            "type": "scatterpolargl"
           }
          ],
          "scatterternary": [
           {
            "marker": {
             "colorbar": {
              "outlinewidth": 0,
              "ticks": ""
             }
            },
            "type": "scatterternary"
           }
          ],
          "surface": [
           {
            "colorbar": {
             "outlinewidth": 0,
             "ticks": ""
            },
            "colorscale": [
             [
              0,
              "#0d0887"
             ],
             [
              0.1111111111111111,
              "#46039f"
             ],
             [
              0.2222222222222222,
              "#7201a8"
             ],
             [
              0.3333333333333333,
              "#9c179e"
             ],
             [
              0.4444444444444444,
              "#bd3786"
             ],
             [
              0.5555555555555556,
              "#d8576b"
             ],
             [
              0.6666666666666666,
              "#ed7953"
             ],
             [
              0.7777777777777778,
              "#fb9f3a"
             ],
             [
              0.8888888888888888,
              "#fdca26"
             ],
             [
              1,
              "#f0f921"
             ]
            ],
            "type": "surface"
           }
          ],
          "table": [
           {
            "cells": {
             "fill": {
              "color": "#EBF0F8"
             },
             "line": {
              "color": "white"
             }
            },
            "header": {
             "fill": {
              "color": "#C8D4E3"
             },
             "line": {
              "color": "white"
             }
            },
            "type": "table"
           }
          ]
         },
         "layout": {
          "annotationdefaults": {
           "arrowcolor": "#2a3f5f",
           "arrowhead": 0,
           "arrowwidth": 1
          },
          "autotypenumbers": "strict",
          "coloraxis": {
           "colorbar": {
            "outlinewidth": 0,
            "ticks": ""
           }
          },
          "colorscale": {
           "diverging": [
            [
             0,
             "#8e0152"
            ],
            [
             0.1,
             "#c51b7d"
            ],
            [
             0.2,
             "#de77ae"
            ],
            [
             0.3,
             "#f1b6da"
            ],
            [
             0.4,
             "#fde0ef"
            ],
            [
             0.5,
             "#f7f7f7"
            ],
            [
             0.6,
             "#e6f5d0"
            ],
            [
             0.7,
             "#b8e186"
            ],
            [
             0.8,
             "#7fbc41"
            ],
            [
             0.9,
             "#4d9221"
            ],
            [
             1,
             "#276419"
            ]
           ],
           "sequential": [
            [
             0,
             "#0d0887"
            ],
            [
             0.1111111111111111,
             "#46039f"
            ],
            [
             0.2222222222222222,
             "#7201a8"
            ],
            [
             0.3333333333333333,
             "#9c179e"
            ],
            [
             0.4444444444444444,
             "#bd3786"
            ],
            [
             0.5555555555555556,
             "#d8576b"
            ],
            [
             0.6666666666666666,
             "#ed7953"
            ],
            [
             0.7777777777777778,
             "#fb9f3a"
            ],
            [
             0.8888888888888888,
             "#fdca26"
            ],
            [
             1,
             "#f0f921"
            ]
           ],
           "sequentialminus": [
            [
             0,
             "#0d0887"
            ],
            [
             0.1111111111111111,
             "#46039f"
            ],
            [
             0.2222222222222222,
             "#7201a8"
            ],
            [
             0.3333333333333333,
             "#9c179e"
            ],
            [
             0.4444444444444444,
             "#bd3786"
            ],
            [
             0.5555555555555556,
             "#d8576b"
            ],
            [
             0.6666666666666666,
             "#ed7953"
            ],
            [
             0.7777777777777778,
             "#fb9f3a"
            ],
            [
             0.8888888888888888,
             "#fdca26"
            ],
            [
             1,
             "#f0f921"
            ]
           ]
          },
          "colorway": [
           "#636efa",
           "#EF553B",
           "#00cc96",
           "#ab63fa",
           "#FFA15A",
           "#19d3f3",
           "#FF6692",
           "#B6E880",
           "#FF97FF",
           "#FECB52"
          ],
          "font": {
           "color": "#2a3f5f"
          },
          "geo": {
           "bgcolor": "white",
           "lakecolor": "white",
           "landcolor": "#E5ECF6",
           "showlakes": true,
           "showland": true,
           "subunitcolor": "white"
          },
          "hoverlabel": {
           "align": "left"
          },
          "hovermode": "closest",
          "mapbox": {
           "style": "light"
          },
          "paper_bgcolor": "white",
          "plot_bgcolor": "#E5ECF6",
          "polar": {
           "angularaxis": {
            "gridcolor": "white",
            "linecolor": "white",
            "ticks": ""
           },
           "bgcolor": "#E5ECF6",
           "radialaxis": {
            "gridcolor": "white",
            "linecolor": "white",
            "ticks": ""
           }
          },
          "scene": {
           "xaxis": {
            "backgroundcolor": "#E5ECF6",
            "gridcolor": "white",
            "gridwidth": 2,
            "linecolor": "white",
            "showbackground": true,
            "ticks": "",
            "zerolinecolor": "white"
           },
           "yaxis": {
            "backgroundcolor": "#E5ECF6",
            "gridcolor": "white",
            "gridwidth": 2,
            "linecolor": "white",
            "showbackground": true,
            "ticks": "",
            "zerolinecolor": "white"
           },
           "zaxis": {
            "backgroundcolor": "#E5ECF6",
            "gridcolor": "white",
            "gridwidth": 2,
            "linecolor": "white",
            "showbackground": true,
            "ticks": "",
            "zerolinecolor": "white"
           }
          },
          "shapedefaults": {
           "line": {
            "color": "#2a3f5f"
           }
          },
          "ternary": {
           "aaxis": {
            "gridcolor": "white",
            "linecolor": "white",
            "ticks": ""
           },
           "baxis": {
            "gridcolor": "white",
            "linecolor": "white",
            "ticks": ""
           },
           "bgcolor": "#E5ECF6",
           "caxis": {
            "gridcolor": "white",
            "linecolor": "white",
            "ticks": ""
           }
          },
          "title": {
           "x": 0.05
          },
          "xaxis": {
           "automargin": true,
           "gridcolor": "white",
           "linecolor": "white",
           "ticks": "",
           "title": {
            "standoff": 15
           },
           "zerolinecolor": "white",
           "zerolinewidth": 2
          },
          "yaxis": {
           "automargin": true,
           "gridcolor": "white",
           "linecolor": "white",
           "ticks": "",
           "title": {
            "standoff": 15
           },
           "zerolinecolor": "white",
           "zerolinewidth": 2
          }
         }
        },
        "title": {
         "font": {
          "color": "#4D5663"
         }
        },
        "xaxis": {
         "gridcolor": "#E1E5ED",
         "showgrid": true,
         "tickfont": {
          "color": "#4D5663"
         },
         "title": {
          "font": {
           "color": "#4D5663"
          },
          "text": ""
         },
         "zerolinecolor": "#E1E5ED"
        },
        "yaxis": {
         "gridcolor": "#E1E5ED",
         "showgrid": true,
         "tickfont": {
          "color": "#4D5663"
         },
         "title": {
          "font": {
           "color": "#4D5663"
          },
          "text": ""
         },
         "zerolinecolor": "#E1E5ED"
        }
       }
      },
      "text/html": [
       "<div>                            <div id=\"d1f475f4-ab59-459f-b4f3-fbbd888e4827\" class=\"plotly-graph-div\" style=\"height:525px; width:100%;\"></div>            <script type=\"text/javascript\">                require([\"plotly\"], function(Plotly) {                    window.PLOTLYENV=window.PLOTLYENV || {};\n",
       "                    window.PLOTLYENV.BASE_URL='https://plot.ly';                                    if (document.getElementById(\"d1f475f4-ab59-459f-b4f3-fbbd888e4827\")) {                    Plotly.newPlot(                        \"d1f475f4-ab59-459f-b4f3-fbbd888e4827\",                        [{\"marker\":{\"color\":\"rgba(255, 153, 51, 0.6)\",\"line\":{\"color\":\"rgba(255, 153, 51, 1.0)\",\"width\":1}},\"name\":\"Values\",\"orientation\":\"v\",\"text\":\"\",\"type\":\"bar\",\"x\":[\"A\",\"B\",\"C\"],\"y\":[32,43,50]}],                        {\"legend\":{\"bgcolor\":\"#F5F6F9\",\"font\":{\"color\":\"#4D5663\"}},\"paper_bgcolor\":\"#F5F6F9\",\"plot_bgcolor\":\"#F5F6F9\",\"template\":{\"data\":{\"bar\":[{\"error_x\":{\"color\":\"#2a3f5f\"},\"error_y\":{\"color\":\"#2a3f5f\"},\"marker\":{\"line\":{\"color\":\"#E5ECF6\",\"width\":0.5},\"pattern\":{\"fillmode\":\"overlay\",\"size\":10,\"solidity\":0.2}},\"type\":\"bar\"}],\"barpolar\":[{\"marker\":{\"line\":{\"color\":\"#E5ECF6\",\"width\":0.5},\"pattern\":{\"fillmode\":\"overlay\",\"size\":10,\"solidity\":0.2}},\"type\":\"barpolar\"}],\"carpet\":[{\"aaxis\":{\"endlinecolor\":\"#2a3f5f\",\"gridcolor\":\"white\",\"linecolor\":\"white\",\"minorgridcolor\":\"white\",\"startlinecolor\":\"#2a3f5f\"},\"baxis\":{\"endlinecolor\":\"#2a3f5f\",\"gridcolor\":\"white\",\"linecolor\":\"white\",\"minorgridcolor\":\"white\",\"startlinecolor\":\"#2a3f5f\"},\"type\":\"carpet\"}],\"choropleth\":[{\"colorbar\":{\"outlinewidth\":0,\"ticks\":\"\"},\"type\":\"choropleth\"}],\"contour\":[{\"colorbar\":{\"outlinewidth\":0,\"ticks\":\"\"},\"colorscale\":[[0.0,\"#0d0887\"],[0.1111111111111111,\"#46039f\"],[0.2222222222222222,\"#7201a8\"],[0.3333333333333333,\"#9c179e\"],[0.4444444444444444,\"#bd3786\"],[0.5555555555555556,\"#d8576b\"],[0.6666666666666666,\"#ed7953\"],[0.7777777777777778,\"#fb9f3a\"],[0.8888888888888888,\"#fdca26\"],[1.0,\"#f0f921\"]],\"type\":\"contour\"}],\"contourcarpet\":[{\"colorbar\":{\"outlinewidth\":0,\"ticks\":\"\"},\"type\":\"contourcarpet\"}],\"heatmap\":[{\"colorbar\":{\"outlinewidth\":0,\"ticks\":\"\"},\"colorscale\":[[0.0,\"#0d0887\"],[0.1111111111111111,\"#46039f\"],[0.2222222222222222,\"#7201a8\"],[0.3333333333333333,\"#9c179e\"],[0.4444444444444444,\"#bd3786\"],[0.5555555555555556,\"#d8576b\"],[0.6666666666666666,\"#ed7953\"],[0.7777777777777778,\"#fb9f3a\"],[0.8888888888888888,\"#fdca26\"],[1.0,\"#f0f921\"]],\"type\":\"heatmap\"}],\"heatmapgl\":[{\"colorbar\":{\"outlinewidth\":0,\"ticks\":\"\"},\"colorscale\":[[0.0,\"#0d0887\"],[0.1111111111111111,\"#46039f\"],[0.2222222222222222,\"#7201a8\"],[0.3333333333333333,\"#9c179e\"],[0.4444444444444444,\"#bd3786\"],[0.5555555555555556,\"#d8576b\"],[0.6666666666666666,\"#ed7953\"],[0.7777777777777778,\"#fb9f3a\"],[0.8888888888888888,\"#fdca26\"],[1.0,\"#f0f921\"]],\"type\":\"heatmapgl\"}],\"histogram\":[{\"marker\":{\"pattern\":{\"fillmode\":\"overlay\",\"size\":10,\"solidity\":0.2}},\"type\":\"histogram\"}],\"histogram2d\":[{\"colorbar\":{\"outlinewidth\":0,\"ticks\":\"\"},\"colorscale\":[[0.0,\"#0d0887\"],[0.1111111111111111,\"#46039f\"],[0.2222222222222222,\"#7201a8\"],[0.3333333333333333,\"#9c179e\"],[0.4444444444444444,\"#bd3786\"],[0.5555555555555556,\"#d8576b\"],[0.6666666666666666,\"#ed7953\"],[0.7777777777777778,\"#fb9f3a\"],[0.8888888888888888,\"#fdca26\"],[1.0,\"#f0f921\"]],\"type\":\"histogram2d\"}],\"histogram2dcontour\":[{\"colorbar\":{\"outlinewidth\":0,\"ticks\":\"\"},\"colorscale\":[[0.0,\"#0d0887\"],[0.1111111111111111,\"#46039f\"],[0.2222222222222222,\"#7201a8\"],[0.3333333333333333,\"#9c179e\"],[0.4444444444444444,\"#bd3786\"],[0.5555555555555556,\"#d8576b\"],[0.6666666666666666,\"#ed7953\"],[0.7777777777777778,\"#fb9f3a\"],[0.8888888888888888,\"#fdca26\"],[1.0,\"#f0f921\"]],\"type\":\"histogram2dcontour\"}],\"mesh3d\":[{\"colorbar\":{\"outlinewidth\":0,\"ticks\":\"\"},\"type\":\"mesh3d\"}],\"parcoords\":[{\"line\":{\"colorbar\":{\"outlinewidth\":0,\"ticks\":\"\"}},\"type\":\"parcoords\"}],\"pie\":[{\"automargin\":true,\"type\":\"pie\"}],\"scatter\":[{\"marker\":{\"colorbar\":{\"outlinewidth\":0,\"ticks\":\"\"}},\"type\":\"scatter\"}],\"scatter3d\":[{\"line\":{\"colorbar\":{\"outlinewidth\":0,\"ticks\":\"\"}},\"marker\":{\"colorbar\":{\"outlinewidth\":0,\"ticks\":\"\"}},\"type\":\"scatter3d\"}],\"scattercarpet\":[{\"marker\":{\"colorbar\":{\"outlinewidth\":0,\"ticks\":\"\"}},\"type\":\"scattercarpet\"}],\"scattergeo\":[{\"marker\":{\"colorbar\":{\"outlinewidth\":0,\"ticks\":\"\"}},\"type\":\"scattergeo\"}],\"scattergl\":[{\"marker\":{\"colorbar\":{\"outlinewidth\":0,\"ticks\":\"\"}},\"type\":\"scattergl\"}],\"scattermapbox\":[{\"marker\":{\"colorbar\":{\"outlinewidth\":0,\"ticks\":\"\"}},\"type\":\"scattermapbox\"}],\"scatterpolar\":[{\"marker\":{\"colorbar\":{\"outlinewidth\":0,\"ticks\":\"\"}},\"type\":\"scatterpolar\"}],\"scatterpolargl\":[{\"marker\":{\"colorbar\":{\"outlinewidth\":0,\"ticks\":\"\"}},\"type\":\"scatterpolargl\"}],\"scatterternary\":[{\"marker\":{\"colorbar\":{\"outlinewidth\":0,\"ticks\":\"\"}},\"type\":\"scatterternary\"}],\"surface\":[{\"colorbar\":{\"outlinewidth\":0,\"ticks\":\"\"},\"colorscale\":[[0.0,\"#0d0887\"],[0.1111111111111111,\"#46039f\"],[0.2222222222222222,\"#7201a8\"],[0.3333333333333333,\"#9c179e\"],[0.4444444444444444,\"#bd3786\"],[0.5555555555555556,\"#d8576b\"],[0.6666666666666666,\"#ed7953\"],[0.7777777777777778,\"#fb9f3a\"],[0.8888888888888888,\"#fdca26\"],[1.0,\"#f0f921\"]],\"type\":\"surface\"}],\"table\":[{\"cells\":{\"fill\":{\"color\":\"#EBF0F8\"},\"line\":{\"color\":\"white\"}},\"header\":{\"fill\":{\"color\":\"#C8D4E3\"},\"line\":{\"color\":\"white\"}},\"type\":\"table\"}]},\"layout\":{\"annotationdefaults\":{\"arrowcolor\":\"#2a3f5f\",\"arrowhead\":0,\"arrowwidth\":1},\"autotypenumbers\":\"strict\",\"coloraxis\":{\"colorbar\":{\"outlinewidth\":0,\"ticks\":\"\"}},\"colorscale\":{\"diverging\":[[0,\"#8e0152\"],[0.1,\"#c51b7d\"],[0.2,\"#de77ae\"],[0.3,\"#f1b6da\"],[0.4,\"#fde0ef\"],[0.5,\"#f7f7f7\"],[0.6,\"#e6f5d0\"],[0.7,\"#b8e186\"],[0.8,\"#7fbc41\"],[0.9,\"#4d9221\"],[1,\"#276419\"]],\"sequential\":[[0.0,\"#0d0887\"],[0.1111111111111111,\"#46039f\"],[0.2222222222222222,\"#7201a8\"],[0.3333333333333333,\"#9c179e\"],[0.4444444444444444,\"#bd3786\"],[0.5555555555555556,\"#d8576b\"],[0.6666666666666666,\"#ed7953\"],[0.7777777777777778,\"#fb9f3a\"],[0.8888888888888888,\"#fdca26\"],[1.0,\"#f0f921\"]],\"sequentialminus\":[[0.0,\"#0d0887\"],[0.1111111111111111,\"#46039f\"],[0.2222222222222222,\"#7201a8\"],[0.3333333333333333,\"#9c179e\"],[0.4444444444444444,\"#bd3786\"],[0.5555555555555556,\"#d8576b\"],[0.6666666666666666,\"#ed7953\"],[0.7777777777777778,\"#fb9f3a\"],[0.8888888888888888,\"#fdca26\"],[1.0,\"#f0f921\"]]},\"colorway\":[\"#636efa\",\"#EF553B\",\"#00cc96\",\"#ab63fa\",\"#FFA15A\",\"#19d3f3\",\"#FF6692\",\"#B6E880\",\"#FF97FF\",\"#FECB52\"],\"font\":{\"color\":\"#2a3f5f\"},\"geo\":{\"bgcolor\":\"white\",\"lakecolor\":\"white\",\"landcolor\":\"#E5ECF6\",\"showlakes\":true,\"showland\":true,\"subunitcolor\":\"white\"},\"hoverlabel\":{\"align\":\"left\"},\"hovermode\":\"closest\",\"mapbox\":{\"style\":\"light\"},\"paper_bgcolor\":\"white\",\"plot_bgcolor\":\"#E5ECF6\",\"polar\":{\"angularaxis\":{\"gridcolor\":\"white\",\"linecolor\":\"white\",\"ticks\":\"\"},\"bgcolor\":\"#E5ECF6\",\"radialaxis\":{\"gridcolor\":\"white\",\"linecolor\":\"white\",\"ticks\":\"\"}},\"scene\":{\"xaxis\":{\"backgroundcolor\":\"#E5ECF6\",\"gridcolor\":\"white\",\"gridwidth\":2,\"linecolor\":\"white\",\"showbackground\":true,\"ticks\":\"\",\"zerolinecolor\":\"white\"},\"yaxis\":{\"backgroundcolor\":\"#E5ECF6\",\"gridcolor\":\"white\",\"gridwidth\":2,\"linecolor\":\"white\",\"showbackground\":true,\"ticks\":\"\",\"zerolinecolor\":\"white\"},\"zaxis\":{\"backgroundcolor\":\"#E5ECF6\",\"gridcolor\":\"white\",\"gridwidth\":2,\"linecolor\":\"white\",\"showbackground\":true,\"ticks\":\"\",\"zerolinecolor\":\"white\"}},\"shapedefaults\":{\"line\":{\"color\":\"#2a3f5f\"}},\"ternary\":{\"aaxis\":{\"gridcolor\":\"white\",\"linecolor\":\"white\",\"ticks\":\"\"},\"baxis\":{\"gridcolor\":\"white\",\"linecolor\":\"white\",\"ticks\":\"\"},\"bgcolor\":\"#E5ECF6\",\"caxis\":{\"gridcolor\":\"white\",\"linecolor\":\"white\",\"ticks\":\"\"}},\"title\":{\"x\":0.05},\"xaxis\":{\"automargin\":true,\"gridcolor\":\"white\",\"linecolor\":\"white\",\"ticks\":\"\",\"title\":{\"standoff\":15},\"zerolinecolor\":\"white\",\"zerolinewidth\":2},\"yaxis\":{\"automargin\":true,\"gridcolor\":\"white\",\"linecolor\":\"white\",\"ticks\":\"\",\"title\":{\"standoff\":15},\"zerolinecolor\":\"white\",\"zerolinewidth\":2}}},\"title\":{\"font\":{\"color\":\"#4D5663\"}},\"xaxis\":{\"gridcolor\":\"#E1E5ED\",\"showgrid\":true,\"tickfont\":{\"color\":\"#4D5663\"},\"title\":{\"font\":{\"color\":\"#4D5663\"},\"text\":\"\"},\"zerolinecolor\":\"#E1E5ED\"},\"yaxis\":{\"gridcolor\":\"#E1E5ED\",\"showgrid\":true,\"tickfont\":{\"color\":\"#4D5663\"},\"title\":{\"font\":{\"color\":\"#4D5663\"},\"text\":\"\"},\"zerolinecolor\":\"#E1E5ED\"}},                        {\"showLink\": true, \"linkText\": \"Export to plot.ly\", \"plotlyServerURL\": \"https://plot.ly\", \"responsive\": true}                    ).then(function(){\n",
       "                            \n",
       "var gd = document.getElementById('d1f475f4-ab59-459f-b4f3-fbbd888e4827');\n",
       "var x = new MutationObserver(function (mutations, observer) {{\n",
       "        var display = window.getComputedStyle(gd).display;\n",
       "        if (!display || display === 'none') {{\n",
       "            console.log([gd, 'removed!']);\n",
       "            Plotly.purge(gd);\n",
       "            observer.disconnect();\n",
       "        }}\n",
       "}});\n",
       "\n",
       "// Listen for the removal of the full notebook cells\n",
       "var notebookContainer = gd.closest('#notebook-container');\n",
       "if (notebookContainer) {{\n",
       "    x.observe(notebookContainer, {childList: true});\n",
       "}}\n",
       "\n",
       "// Listen for the clearing of the current output cell\n",
       "var outputEl = gd.closest('.output');\n",
       "if (outputEl) {{\n",
       "    x.observe(outputEl, {childList: true});\n",
       "}}\n",
       "\n",
       "                        })                };                });            </script>        </div>"
      ]
     },
     "metadata": {},
     "output_type": "display_data"
    }
   ],
   "source": [
    "df2.iplot(kind='bar', x='Category', y='Values')"
   ]
  },
  {
   "cell_type": "code",
   "execution_count": 16,
   "id": "d1379fa5",
   "metadata": {},
   "outputs": [
    {
     "data": {
      "application/vnd.plotly.v1+json": {
       "config": {
        "linkText": "Export to plot.ly",
        "plotlyServerURL": "https://plot.ly",
        "showLink": true
       },
       "data": [
        {
         "boxpoints": false,
         "line": {
          "width": 1.3
         },
         "marker": {
          "color": "rgba(255, 153, 51, 1.0)"
         },
         "name": "A",
         "orientation": "v",
         "type": "box",
         "y": [
          -0.3603101022368317,
          -1.4932067099630373,
          0.7401114483929926,
          1.5876799119575666,
          -0.5882553778090175,
          -0.19328619251142493,
          -1.1483331165246522,
          0.3346583368373109,
          -1.353736298933149,
          0.16244749177332804,
          0.4107766850650031,
          -0.1019513767017405,
          -0.55044118145215,
          1.4552814654316812,
          0.7102307470463595,
          0.2042809643735204,
          -1.3141840287757471,
          0.9397974293810624,
          1.4622082850861817,
          0.004581087125822542,
          1.1872560720964547,
          -0.06939465386530655,
          0.34555569871453634,
          0.47627576924484,
          0.11665148042293134,
          0.22866331638806298,
          -0.29839556035322234,
          -2.359488044458736,
          1.5194122054394072,
          1.4583479497699154,
          -0.46185920982978745,
          0.0034936982540661877,
          0.036773686882005295,
          -0.4054567731595773,
          -1.198527786346277,
          0.6035952075449362,
          -0.12056204746885117,
          -0.08696956062189974,
          -0.30260921526610346,
          -1.379181324098899,
          -0.7575510045383668,
          -1.1669069387928175,
          0.42251770640713326,
          -0.39442991537684646,
          0.8968649696810801,
          1.000185756835219,
          1.225290849161005,
          -0.5684875907200435,
          -0.9732008970869809,
          -0.13495915879243361,
          -0.7444246126382412,
          -0.08707835112761256,
          0.8798796323503689,
          0.7060197101561982,
          -0.04243007752957983,
          -1.2601728989214394,
          -0.944969736816905,
          0.42698695657750374,
          -1.9294248752331329,
          1.0336411672109236,
          -1.7549866151466353,
          0.2286082492666186,
          -1.6149892789862796,
          0.45981906285790236,
          -1.4103986669031026,
          0.9635927411240099,
          -0.03860187917494151,
          -1.6626456582328502,
          2.187540504498553,
          -0.7097028844079241,
          -2.2801230185416337,
          -1.6130622349451873,
          -0.42600445367120715,
          1.1394401765294633,
          -0.3613245728493242,
          -1.2760968160051436,
          -0.19054613667361206,
          -0.5608507458210631,
          -1.0706260872017523,
          0.8319065039536502,
          1.1586586008561413,
          -0.32577688866384846,
          -1.120167682648072,
          -0.8367561889192894,
          1.1501005753742084,
          1.1780914040975914,
          -2.1832722386363814,
          -0.8275274873462319,
          0.6478121324458215,
          1.1681321398775844,
          0.4718333199251554,
          1.1460239242801087,
          -0.7820887448110919,
          1.556158084660845,
          -1.6580547553017961,
          1.268655088327418,
          0.05952229145177814,
          -1.5759100408069073,
          -0.5736314310222357,
          -0.5229811365201296
         ]
        },
        {
         "boxpoints": false,
         "line": {
          "width": 1.3
         },
         "marker": {
          "color": "rgba(55, 128, 191, 1.0)"
         },
         "name": "B",
         "orientation": "v",
         "type": "box",
         "y": [
          0.43857065498127923,
          0.2921972188658163,
          0.5269976435150321,
          0.3456298172824727,
          -0.17265962141318386,
          1.5214063113948753,
          0.21887156209224995,
          -0.9169151805499315,
          0.897046790028798,
          -0.44166817990327406,
          -0.4905537825729059,
          0.3393359972150877,
          -0.13258206022710767,
          -0.17440426007304868,
          -0.11436202173227045,
          1.3765722633554949,
          -1.363010519812039,
          1.3652219891550936,
          -1.041925534006676,
          0.4030559772477593,
          0.43147627576451036,
          1.1244929202098919,
          0.01284568975710407,
          -1.7329434635161785,
          0.34833148705841827,
          -0.08746755785800744,
          -0.6181108160972224,
          1.1033028653163843,
          0.4471900952784845,
          1.2369465803935622,
          0.8148534762160029,
          1.1024391577961616,
          -0.6072245388300551,
          0.16614874269076368,
          -0.17630537750694994,
          -0.4874814902562876,
          0.39146192099755295,
          0.47440239748577484,
          1.1108766530426502,
          0.9709270617422173,
          0.7094663736011866,
          0.5789503555856831,
          -0.29097984660730236,
          -1.074516099870212,
          -1.0179962198314423,
          0.4505070491292211,
          -0.0987560341762823,
          -0.3910764524815764,
          0.20181801446305067,
          0.9838957226496257,
          -0.9558160896945229,
          0.6394471676960702,
          -0.9552240638281172,
          -1.1106385648831525,
          0.393103490534785,
          0.09981593966862132,
          0.9439109322465946,
          0.5682537414314321,
          -1.201286951986347,
          0.2897167154660576,
          -0.6174219282112287,
          0.8911198651687253,
          0.6279124615290884,
          -0.5925009181791696,
          0.1561814860849528,
          1.2231838467346279,
          -0.15737218559812,
          -1.5474746664860417,
          0.24730224502486184,
          -0.6391894769475629,
          0.7352842406118774,
          -0.47704956402309234,
          -0.8582970312013011,
          -0.3586769108750361,
          0.8133099841261496,
          2.0430668916662293,
          -1.5997064464522288,
          -0.08913250267434249,
          -0.8019159391008681,
          -0.14004361811661117,
          1.3869118318293119,
          -3.0081095236739985,
          -2.6680211196509527,
          -0.5303358494927747,
          0.12978698353110324,
          -0.7636361580880751,
          0.2908557441422079,
          -0.295146448189477,
          -0.3856098063164494,
          0.5831054907534179,
          -0.2755588866036854,
          -1.2385546690415512,
          0.1378391604588889,
          -0.5080325904231946,
          -0.39089986743324556,
          -1.2611800034901748,
          -0.7038431183077906,
          -0.9359997462534155,
          -1.5480435915792188,
          -1.7643199576087762
         ]
        },
        {
         "boxpoints": false,
         "line": {
          "width": 1.3
         },
         "marker": {
          "color": "rgba(50, 171, 96, 1.0)"
         },
         "name": "C",
         "orientation": "v",
         "type": "box",
         "y": [
          -0.33304407935687297,
          0.4196480497928561,
          -1.0128407265795851,
          0.3834382551550639,
          -0.22051146973657765,
          1.2637080409428743,
          -0.3356546915580256,
          0.3299473999252595,
          -0.4927836095423988,
          0.676365691426167,
          -0.9540710140336576,
          1.5677157815516565,
          1.57803156462598,
          2.843575341172098,
          -1.5668013569275019,
          0.6501896043652855,
          0.1953136862590582,
          -0.15982872072127519,
          1.1881735273199179,
          -1.1123597654005102,
          0.31057427517424446,
          0.6858782640283084,
          1.5079375265602655,
          0.8476644826686831,
          -0.8530209380635657,
          -0.3570344501316517,
          0.3906179196994124,
          0.9159884708277022,
          -2.0031511144711964,
          -0.4697245159996884,
          1.5228230778093375,
          0.0689225827049908,
          0.8174298922219405,
          1.4223047744337014,
          1.758761790919159,
          -0.5044357034818677,
          -0.18286757167954842,
          -1.099218775044286,
          0.4895024879162726,
          -0.3368977802289586,
          -1.2609291962144602,
          1.3691913234433875,
          -1.0870692753036488,
          1.9913570478602178,
          -0.6524310062882994,
          -0.8042847683952612,
          -0.18297511813568068,
          0.6101716474685731,
          -1.076717593416154,
          -1.0253632413982823,
          1.3369529745232924,
          -1.7699044806435573,
          -0.6264108759527902,
          -0.5676555030227693,
          -0.25334572590646204,
          1.8275003149947189,
          0.16799628500316302,
          -0.12509276188550403,
          0.4583972693777563,
          -2.071881794074191,
          0.15131752446529795,
          1.025645687887124,
          -1.5457478500698516,
          0.5612578692014258,
          0.6891279357590095,
          -1.7216079830986206,
          -0.42483538129673476,
          -0.05640247313958615,
          -1.3571951381496665,
          1.3705231324321308,
          -2.536020325938372,
          0.30357252032518994,
          -0.8119117649915281,
          0.46568393430178984,
          -1.8053668506899696,
          0.988117383729646,
          0.7577646631081413,
          0.14390128785983738,
          1.725724147444466,
          2.1560186716117156,
          0.5787444953193548,
          1.5549832669292794,
          -1.494619446402623,
          -0.6309125827349641,
          -0.44162862605770786,
          0.5914825617692004,
          0.1282336376605584,
          -0.5616825304763499,
          2.5589848887591136,
          1.099922717554243,
          -0.6738756847649492,
          -1.4599028077913867,
          -0.33055771556131214,
          -0.9061242626000299,
          0.7788209404021356,
          -1.3739973089010387,
          1.935849500355021,
          -0.43067333463332313,
          -0.46124873094628116,
          -0.43802587757845834
         ]
        },
        {
         "boxpoints": false,
         "line": {
          "width": 1.3
         },
         "marker": {
          "color": "rgba(128, 0, 128, 1.0)"
         },
         "name": "D",
         "orientation": "v",
         "type": "box",
         "y": [
          0.44514927902206924,
          -0.4932796464433643,
          0.49004951231797034,
          0.9893702535816634,
          -0.3695510433765291,
          1.3073709571524497,
          -0.20397647509500466,
          0.9257993020287427,
          -1.555530442916235,
          1.0165069323800255,
          0.36882666878270787,
          -0.5000287722940971,
          -0.571415472198531,
          -0.4891197396518819,
          -0.09574011339114545,
          0.4150494653733849,
          -2.352927571154122,
          -2.000491316858666,
          1.2569298384299536,
          -0.2348889667088603,
          -0.23579483778080154,
          -0.7110423729873975,
          0.8461959867871499,
          -0.9478531208598431,
          -0.9105000307076286,
          0.5103896296782777,
          -0.36425916193338354,
          -0.4668898620879838,
          -0.3694305635936844,
          -0.07576080216397955,
          -0.010066937282491953,
          -1.4309251194300914,
          -1.1414763333497955,
          0.5756311607826187,
          -0.17481915928555952,
          -0.02311701740580824,
          -0.6343100617205631,
          -1.612507757767517,
          1.1708141165298458,
          -0.45623817375731646,
          0.9283694853459812,
          -0.41076757301040034,
          -0.23899973661572035,
          0.9472078095862808,
          -0.7435332911928643,
          1.1418564370527604,
          0.9209724820910382,
          -0.9097174353194862,
          -1.6652410148483707,
          -0.1593311316680365,
          1.7101480615179498,
          1.0890536615233795,
          0.5927881396371886,
          1.042764922739655,
          -1.1266567950324227,
          -1.6288853516330672,
          0.6369307931518935,
          1.3128923686572516,
          -1.0520711699898084,
          -1.1712015748579032,
          -1.3686628461617183,
          -0.13955144009682297,
          2.2085222175655246,
          0.8115303005297543,
          -0.7415545573402113,
          -0.6468602158556795,
          -0.09656870583882846,
          -0.22916502740326786,
          1.9473398160278808,
          1.1689978067611757,
          -1.3063608130632387,
          -0.14069119585770404,
          -0.29674570761239183,
          -0.23564085984490005,
          1.1324844315536782,
          -0.9018348771332421,
          -0.18054103901337937,
          0.6367796882986028,
          -0.32603613410308896,
          0.9936403795486872,
          -0.4132087009186094,
          0.5908801944612876,
          -0.7361669902343383,
          0.7500369440953866,
          -0.22764454955526914,
          0.5783363724164028,
          1.3430340279492383,
          0.22316537570913333,
          -0.2686696242333291,
          -1.9370867804686573,
          -0.748693992415597,
          1.1561540180085867,
          -1.8938816518035753,
          -0.08731504338881442,
          -1.5026348349145464,
          0.9264297372131799,
          0.22610468007977882,
          -0.07072214923274342,
          0.6913298962666558,
          -1.6513938223947522
         ]
        }
       ],
       "layout": {
        "legend": {
         "bgcolor": "#F5F6F9",
         "font": {
          "color": "#4D5663"
         }
        },
        "paper_bgcolor": "#F5F6F9",
        "plot_bgcolor": "#F5F6F9",
        "template": {
         "data": {
          "bar": [
           {
            "error_x": {
             "color": "#2a3f5f"
            },
            "error_y": {
             "color": "#2a3f5f"
            },
            "marker": {
             "line": {
              "color": "#E5ECF6",
              "width": 0.5
             },
             "pattern": {
              "fillmode": "overlay",
              "size": 10,
              "solidity": 0.2
             }
            },
            "type": "bar"
           }
          ],
          "barpolar": [
           {
            "marker": {
             "line": {
              "color": "#E5ECF6",
              "width": 0.5
             },
             "pattern": {
              "fillmode": "overlay",
              "size": 10,
              "solidity": 0.2
             }
            },
            "type": "barpolar"
           }
          ],
          "carpet": [
           {
            "aaxis": {
             "endlinecolor": "#2a3f5f",
             "gridcolor": "white",
             "linecolor": "white",
             "minorgridcolor": "white",
             "startlinecolor": "#2a3f5f"
            },
            "baxis": {
             "endlinecolor": "#2a3f5f",
             "gridcolor": "white",
             "linecolor": "white",
             "minorgridcolor": "white",
             "startlinecolor": "#2a3f5f"
            },
            "type": "carpet"
           }
          ],
          "choropleth": [
           {
            "colorbar": {
             "outlinewidth": 0,
             "ticks": ""
            },
            "type": "choropleth"
           }
          ],
          "contour": [
           {
            "colorbar": {
             "outlinewidth": 0,
             "ticks": ""
            },
            "colorscale": [
             [
              0,
              "#0d0887"
             ],
             [
              0.1111111111111111,
              "#46039f"
             ],
             [
              0.2222222222222222,
              "#7201a8"
             ],
             [
              0.3333333333333333,
              "#9c179e"
             ],
             [
              0.4444444444444444,
              "#bd3786"
             ],
             [
              0.5555555555555556,
              "#d8576b"
             ],
             [
              0.6666666666666666,
              "#ed7953"
             ],
             [
              0.7777777777777778,
              "#fb9f3a"
             ],
             [
              0.8888888888888888,
              "#fdca26"
             ],
             [
              1,
              "#f0f921"
             ]
            ],
            "type": "contour"
           }
          ],
          "contourcarpet": [
           {
            "colorbar": {
             "outlinewidth": 0,
             "ticks": ""
            },
            "type": "contourcarpet"
           }
          ],
          "heatmap": [
           {
            "colorbar": {
             "outlinewidth": 0,
             "ticks": ""
            },
            "colorscale": [
             [
              0,
              "#0d0887"
             ],
             [
              0.1111111111111111,
              "#46039f"
             ],
             [
              0.2222222222222222,
              "#7201a8"
             ],
             [
              0.3333333333333333,
              "#9c179e"
             ],
             [
              0.4444444444444444,
              "#bd3786"
             ],
             [
              0.5555555555555556,
              "#d8576b"
             ],
             [
              0.6666666666666666,
              "#ed7953"
             ],
             [
              0.7777777777777778,
              "#fb9f3a"
             ],
             [
              0.8888888888888888,
              "#fdca26"
             ],
             [
              1,
              "#f0f921"
             ]
            ],
            "type": "heatmap"
           }
          ],
          "heatmapgl": [
           {
            "colorbar": {
             "outlinewidth": 0,
             "ticks": ""
            },
            "colorscale": [
             [
              0,
              "#0d0887"
             ],
             [
              0.1111111111111111,
              "#46039f"
             ],
             [
              0.2222222222222222,
              "#7201a8"
             ],
             [
              0.3333333333333333,
              "#9c179e"
             ],
             [
              0.4444444444444444,
              "#bd3786"
             ],
             [
              0.5555555555555556,
              "#d8576b"
             ],
             [
              0.6666666666666666,
              "#ed7953"
             ],
             [
              0.7777777777777778,
              "#fb9f3a"
             ],
             [
              0.8888888888888888,
              "#fdca26"
             ],
             [
              1,
              "#f0f921"
             ]
            ],
            "type": "heatmapgl"
           }
          ],
          "histogram": [
           {
            "marker": {
             "pattern": {
              "fillmode": "overlay",
              "size": 10,
              "solidity": 0.2
             }
            },
            "type": "histogram"
           }
          ],
          "histogram2d": [
           {
            "colorbar": {
             "outlinewidth": 0,
             "ticks": ""
            },
            "colorscale": [
             [
              0,
              "#0d0887"
             ],
             [
              0.1111111111111111,
              "#46039f"
             ],
             [
              0.2222222222222222,
              "#7201a8"
             ],
             [
              0.3333333333333333,
              "#9c179e"
             ],
             [
              0.4444444444444444,
              "#bd3786"
             ],
             [
              0.5555555555555556,
              "#d8576b"
             ],
             [
              0.6666666666666666,
              "#ed7953"
             ],
             [
              0.7777777777777778,
              "#fb9f3a"
             ],
             [
              0.8888888888888888,
              "#fdca26"
             ],
             [
              1,
              "#f0f921"
             ]
            ],
            "type": "histogram2d"
           }
          ],
          "histogram2dcontour": [
           {
            "colorbar": {
             "outlinewidth": 0,
             "ticks": ""
            },
            "colorscale": [
             [
              0,
              "#0d0887"
             ],
             [
              0.1111111111111111,
              "#46039f"
             ],
             [
              0.2222222222222222,
              "#7201a8"
             ],
             [
              0.3333333333333333,
              "#9c179e"
             ],
             [
              0.4444444444444444,
              "#bd3786"
             ],
             [
              0.5555555555555556,
              "#d8576b"
             ],
             [
              0.6666666666666666,
              "#ed7953"
             ],
             [
              0.7777777777777778,
              "#fb9f3a"
             ],
             [
              0.8888888888888888,
              "#fdca26"
             ],
             [
              1,
              "#f0f921"
             ]
            ],
            "type": "histogram2dcontour"
           }
          ],
          "mesh3d": [
           {
            "colorbar": {
             "outlinewidth": 0,
             "ticks": ""
            },
            "type": "mesh3d"
           }
          ],
          "parcoords": [
           {
            "line": {
             "colorbar": {
              "outlinewidth": 0,
              "ticks": ""
             }
            },
            "type": "parcoords"
           }
          ],
          "pie": [
           {
            "automargin": true,
            "type": "pie"
           }
          ],
          "scatter": [
           {
            "marker": {
             "colorbar": {
              "outlinewidth": 0,
              "ticks": ""
             }
            },
            "type": "scatter"
           }
          ],
          "scatter3d": [
           {
            "line": {
             "colorbar": {
              "outlinewidth": 0,
              "ticks": ""
             }
            },
            "marker": {
             "colorbar": {
              "outlinewidth": 0,
              "ticks": ""
             }
            },
            "type": "scatter3d"
           }
          ],
          "scattercarpet": [
           {
            "marker": {
             "colorbar": {
              "outlinewidth": 0,
              "ticks": ""
             }
            },
            "type": "scattercarpet"
           }
          ],
          "scattergeo": [
           {
            "marker": {
             "colorbar": {
              "outlinewidth": 0,
              "ticks": ""
             }
            },
            "type": "scattergeo"
           }
          ],
          "scattergl": [
           {
            "marker": {
             "colorbar": {
              "outlinewidth": 0,
              "ticks": ""
             }
            },
            "type": "scattergl"
           }
          ],
          "scattermapbox": [
           {
            "marker": {
             "colorbar": {
              "outlinewidth": 0,
              "ticks": ""
             }
            },
            "type": "scattermapbox"
           }
          ],
          "scatterpolar": [
           {
            "marker": {
             "colorbar": {
              "outlinewidth": 0,
              "ticks": ""
             }
            },
            "type": "scatterpolar"
           }
          ],
          "scatterpolargl": [
           {
            "marker": {
             "colorbar": {
              "outlinewidth": 0,
              "ticks": ""
             }
            },
            "type": "scatterpolargl"
           }
          ],
          "scatterternary": [
           {
            "marker": {
             "colorbar": {
              "outlinewidth": 0,
              "ticks": ""
             }
            },
            "type": "scatterternary"
           }
          ],
          "surface": [
           {
            "colorbar": {
             "outlinewidth": 0,
             "ticks": ""
            },
            "colorscale": [
             [
              0,
              "#0d0887"
             ],
             [
              0.1111111111111111,
              "#46039f"
             ],
             [
              0.2222222222222222,
              "#7201a8"
             ],
             [
              0.3333333333333333,
              "#9c179e"
             ],
             [
              0.4444444444444444,
              "#bd3786"
             ],
             [
              0.5555555555555556,
              "#d8576b"
             ],
             [
              0.6666666666666666,
              "#ed7953"
             ],
             [
              0.7777777777777778,
              "#fb9f3a"
             ],
             [
              0.8888888888888888,
              "#fdca26"
             ],
             [
              1,
              "#f0f921"
             ]
            ],
            "type": "surface"
           }
          ],
          "table": [
           {
            "cells": {
             "fill": {
              "color": "#EBF0F8"
             },
             "line": {
              "color": "white"
             }
            },
            "header": {
             "fill": {
              "color": "#C8D4E3"
             },
             "line": {
              "color": "white"
             }
            },
            "type": "table"
           }
          ]
         },
         "layout": {
          "annotationdefaults": {
           "arrowcolor": "#2a3f5f",
           "arrowhead": 0,
           "arrowwidth": 1
          },
          "autotypenumbers": "strict",
          "coloraxis": {
           "colorbar": {
            "outlinewidth": 0,
            "ticks": ""
           }
          },
          "colorscale": {
           "diverging": [
            [
             0,
             "#8e0152"
            ],
            [
             0.1,
             "#c51b7d"
            ],
            [
             0.2,
             "#de77ae"
            ],
            [
             0.3,
             "#f1b6da"
            ],
            [
             0.4,
             "#fde0ef"
            ],
            [
             0.5,
             "#f7f7f7"
            ],
            [
             0.6,
             "#e6f5d0"
            ],
            [
             0.7,
             "#b8e186"
            ],
            [
             0.8,
             "#7fbc41"
            ],
            [
             0.9,
             "#4d9221"
            ],
            [
             1,
             "#276419"
            ]
           ],
           "sequential": [
            [
             0,
             "#0d0887"
            ],
            [
             0.1111111111111111,
             "#46039f"
            ],
            [
             0.2222222222222222,
             "#7201a8"
            ],
            [
             0.3333333333333333,
             "#9c179e"
            ],
            [
             0.4444444444444444,
             "#bd3786"
            ],
            [
             0.5555555555555556,
             "#d8576b"
            ],
            [
             0.6666666666666666,
             "#ed7953"
            ],
            [
             0.7777777777777778,
             "#fb9f3a"
            ],
            [
             0.8888888888888888,
             "#fdca26"
            ],
            [
             1,
             "#f0f921"
            ]
           ],
           "sequentialminus": [
            [
             0,
             "#0d0887"
            ],
            [
             0.1111111111111111,
             "#46039f"
            ],
            [
             0.2222222222222222,
             "#7201a8"
            ],
            [
             0.3333333333333333,
             "#9c179e"
            ],
            [
             0.4444444444444444,
             "#bd3786"
            ],
            [
             0.5555555555555556,
             "#d8576b"
            ],
            [
             0.6666666666666666,
             "#ed7953"
            ],
            [
             0.7777777777777778,
             "#fb9f3a"
            ],
            [
             0.8888888888888888,
             "#fdca26"
            ],
            [
             1,
             "#f0f921"
            ]
           ]
          },
          "colorway": [
           "#636efa",
           "#EF553B",
           "#00cc96",
           "#ab63fa",
           "#FFA15A",
           "#19d3f3",
           "#FF6692",
           "#B6E880",
           "#FF97FF",
           "#FECB52"
          ],
          "font": {
           "color": "#2a3f5f"
          },
          "geo": {
           "bgcolor": "white",
           "lakecolor": "white",
           "landcolor": "#E5ECF6",
           "showlakes": true,
           "showland": true,
           "subunitcolor": "white"
          },
          "hoverlabel": {
           "align": "left"
          },
          "hovermode": "closest",
          "mapbox": {
           "style": "light"
          },
          "paper_bgcolor": "white",
          "plot_bgcolor": "#E5ECF6",
          "polar": {
           "angularaxis": {
            "gridcolor": "white",
            "linecolor": "white",
            "ticks": ""
           },
           "bgcolor": "#E5ECF6",
           "radialaxis": {
            "gridcolor": "white",
            "linecolor": "white",
            "ticks": ""
           }
          },
          "scene": {
           "xaxis": {
            "backgroundcolor": "#E5ECF6",
            "gridcolor": "white",
            "gridwidth": 2,
            "linecolor": "white",
            "showbackground": true,
            "ticks": "",
            "zerolinecolor": "white"
           },
           "yaxis": {
            "backgroundcolor": "#E5ECF6",
            "gridcolor": "white",
            "gridwidth": 2,
            "linecolor": "white",
            "showbackground": true,
            "ticks": "",
            "zerolinecolor": "white"
           },
           "zaxis": {
            "backgroundcolor": "#E5ECF6",
            "gridcolor": "white",
            "gridwidth": 2,
            "linecolor": "white",
            "showbackground": true,
            "ticks": "",
            "zerolinecolor": "white"
           }
          },
          "shapedefaults": {
           "line": {
            "color": "#2a3f5f"
           }
          },
          "ternary": {
           "aaxis": {
            "gridcolor": "white",
            "linecolor": "white",
            "ticks": ""
           },
           "baxis": {
            "gridcolor": "white",
            "linecolor": "white",
            "ticks": ""
           },
           "bgcolor": "#E5ECF6",
           "caxis": {
            "gridcolor": "white",
            "linecolor": "white",
            "ticks": ""
           }
          },
          "title": {
           "x": 0.05
          },
          "xaxis": {
           "automargin": true,
           "gridcolor": "white",
           "linecolor": "white",
           "ticks": "",
           "title": {
            "standoff": 15
           },
           "zerolinecolor": "white",
           "zerolinewidth": 2
          },
          "yaxis": {
           "automargin": true,
           "gridcolor": "white",
           "linecolor": "white",
           "ticks": "",
           "title": {
            "standoff": 15
           },
           "zerolinecolor": "white",
           "zerolinewidth": 2
          }
         }
        },
        "title": {
         "font": {
          "color": "#4D5663"
         }
        },
        "xaxis": {
         "gridcolor": "#E1E5ED",
         "showgrid": true,
         "tickfont": {
          "color": "#4D5663"
         },
         "title": {
          "font": {
           "color": "#4D5663"
          },
          "text": ""
         },
         "zerolinecolor": "#E1E5ED"
        },
        "yaxis": {
         "gridcolor": "#E1E5ED",
         "showgrid": true,
         "tickfont": {
          "color": "#4D5663"
         },
         "title": {
          "font": {
           "color": "#4D5663"
          },
          "text": ""
         },
         "zerolinecolor": "#E1E5ED"
        }
       }
      },
      "text/html": [
       "<div>                            <div id=\"086a5062-2170-4575-9ef9-1335bcddd099\" class=\"plotly-graph-div\" style=\"height:525px; width:100%;\"></div>            <script type=\"text/javascript\">                require([\"plotly\"], function(Plotly) {                    window.PLOTLYENV=window.PLOTLYENV || {};\n",
       "                    window.PLOTLYENV.BASE_URL='https://plot.ly';                                    if (document.getElementById(\"086a5062-2170-4575-9ef9-1335bcddd099\")) {                    Plotly.newPlot(                        \"086a5062-2170-4575-9ef9-1335bcddd099\",                        [{\"boxpoints\":false,\"line\":{\"width\":1.3},\"marker\":{\"color\":\"rgba(255, 153, 51, 1.0)\"},\"name\":\"A\",\"orientation\":\"v\",\"type\":\"box\",\"y\":[-0.3603101022368317,-1.4932067099630373,0.7401114483929926,1.5876799119575666,-0.5882553778090175,-0.19328619251142493,-1.1483331165246522,0.3346583368373109,-1.353736298933149,0.16244749177332804,0.4107766850650031,-0.1019513767017405,-0.55044118145215,1.4552814654316812,0.7102307470463595,0.2042809643735204,-1.3141840287757471,0.9397974293810624,1.4622082850861817,0.004581087125822542,1.1872560720964547,-0.06939465386530655,0.34555569871453634,0.47627576924484,0.11665148042293134,0.22866331638806298,-0.29839556035322234,-2.359488044458736,1.5194122054394072,1.4583479497699154,-0.46185920982978745,0.0034936982540661877,0.036773686882005295,-0.4054567731595773,-1.198527786346277,0.6035952075449362,-0.12056204746885117,-0.08696956062189974,-0.30260921526610346,-1.379181324098899,-0.7575510045383668,-1.1669069387928175,0.42251770640713326,-0.39442991537684646,0.8968649696810801,1.000185756835219,1.225290849161005,-0.5684875907200435,-0.9732008970869809,-0.13495915879243361,-0.7444246126382412,-0.08707835112761256,0.8798796323503689,0.7060197101561982,-0.04243007752957983,-1.2601728989214394,-0.944969736816905,0.42698695657750374,-1.9294248752331329,1.0336411672109236,-1.7549866151466353,0.2286082492666186,-1.6149892789862796,0.45981906285790236,-1.4103986669031026,0.9635927411240099,-0.03860187917494151,-1.6626456582328502,2.187540504498553,-0.7097028844079241,-2.2801230185416337,-1.6130622349451873,-0.42600445367120715,1.1394401765294633,-0.3613245728493242,-1.2760968160051436,-0.19054613667361206,-0.5608507458210631,-1.0706260872017523,0.8319065039536502,1.1586586008561413,-0.32577688866384846,-1.120167682648072,-0.8367561889192894,1.1501005753742084,1.1780914040975914,-2.1832722386363814,-0.8275274873462319,0.6478121324458215,1.1681321398775844,0.4718333199251554,1.1460239242801087,-0.7820887448110919,1.556158084660845,-1.6580547553017961,1.268655088327418,0.05952229145177814,-1.5759100408069073,-0.5736314310222357,-0.5229811365201296]},{\"boxpoints\":false,\"line\":{\"width\":1.3},\"marker\":{\"color\":\"rgba(55, 128, 191, 1.0)\"},\"name\":\"B\",\"orientation\":\"v\",\"type\":\"box\",\"y\":[0.43857065498127923,0.2921972188658163,0.5269976435150321,0.3456298172824727,-0.17265962141318386,1.5214063113948753,0.21887156209224995,-0.9169151805499315,0.897046790028798,-0.44166817990327406,-0.4905537825729059,0.3393359972150877,-0.13258206022710767,-0.17440426007304868,-0.11436202173227045,1.3765722633554949,-1.363010519812039,1.3652219891550936,-1.041925534006676,0.4030559772477593,0.43147627576451036,1.1244929202098919,0.01284568975710407,-1.7329434635161785,0.34833148705841827,-0.08746755785800744,-0.6181108160972224,1.1033028653163843,0.4471900952784845,1.2369465803935622,0.8148534762160029,1.1024391577961616,-0.6072245388300551,0.16614874269076368,-0.17630537750694994,-0.4874814902562876,0.39146192099755295,0.47440239748577484,1.1108766530426502,0.9709270617422173,0.7094663736011866,0.5789503555856831,-0.29097984660730236,-1.074516099870212,-1.0179962198314423,0.4505070491292211,-0.0987560341762823,-0.3910764524815764,0.20181801446305067,0.9838957226496257,-0.9558160896945229,0.6394471676960702,-0.9552240638281172,-1.1106385648831525,0.393103490534785,0.09981593966862132,0.9439109322465946,0.5682537414314321,-1.201286951986347,0.2897167154660576,-0.6174219282112287,0.8911198651687253,0.6279124615290884,-0.5925009181791696,0.1561814860849528,1.2231838467346279,-0.15737218559812,-1.5474746664860417,0.24730224502486184,-0.6391894769475629,0.7352842406118774,-0.47704956402309234,-0.8582970312013011,-0.3586769108750361,0.8133099841261496,2.0430668916662293,-1.5997064464522288,-0.08913250267434249,-0.8019159391008681,-0.14004361811661117,1.3869118318293119,-3.0081095236739985,-2.6680211196509527,-0.5303358494927747,0.12978698353110324,-0.7636361580880751,0.2908557441422079,-0.295146448189477,-0.3856098063164494,0.5831054907534179,-0.2755588866036854,-1.2385546690415512,0.1378391604588889,-0.5080325904231946,-0.39089986743324556,-1.2611800034901748,-0.7038431183077906,-0.9359997462534155,-1.5480435915792188,-1.7643199576087762]},{\"boxpoints\":false,\"line\":{\"width\":1.3},\"marker\":{\"color\":\"rgba(50, 171, 96, 1.0)\"},\"name\":\"C\",\"orientation\":\"v\",\"type\":\"box\",\"y\":[-0.33304407935687297,0.4196480497928561,-1.0128407265795851,0.3834382551550639,-0.22051146973657765,1.2637080409428743,-0.3356546915580256,0.3299473999252595,-0.4927836095423988,0.676365691426167,-0.9540710140336576,1.5677157815516565,1.57803156462598,2.843575341172098,-1.5668013569275019,0.6501896043652855,0.1953136862590582,-0.15982872072127519,1.1881735273199179,-1.1123597654005102,0.31057427517424446,0.6858782640283084,1.5079375265602655,0.8476644826686831,-0.8530209380635657,-0.3570344501316517,0.3906179196994124,0.9159884708277022,-2.0031511144711964,-0.4697245159996884,1.5228230778093375,0.0689225827049908,0.8174298922219405,1.4223047744337014,1.758761790919159,-0.5044357034818677,-0.18286757167954842,-1.099218775044286,0.4895024879162726,-0.3368977802289586,-1.2609291962144602,1.3691913234433875,-1.0870692753036488,1.9913570478602178,-0.6524310062882994,-0.8042847683952612,-0.18297511813568068,0.6101716474685731,-1.076717593416154,-1.0253632413982823,1.3369529745232924,-1.7699044806435573,-0.6264108759527902,-0.5676555030227693,-0.25334572590646204,1.8275003149947189,0.16799628500316302,-0.12509276188550403,0.4583972693777563,-2.071881794074191,0.15131752446529795,1.025645687887124,-1.5457478500698516,0.5612578692014258,0.6891279357590095,-1.7216079830986206,-0.42483538129673476,-0.05640247313958615,-1.3571951381496665,1.3705231324321308,-2.536020325938372,0.30357252032518994,-0.8119117649915281,0.46568393430178984,-1.8053668506899696,0.988117383729646,0.7577646631081413,0.14390128785983738,1.725724147444466,2.1560186716117156,0.5787444953193548,1.5549832669292794,-1.494619446402623,-0.6309125827349641,-0.44162862605770786,0.5914825617692004,0.1282336376605584,-0.5616825304763499,2.5589848887591136,1.099922717554243,-0.6738756847649492,-1.4599028077913867,-0.33055771556131214,-0.9061242626000299,0.7788209404021356,-1.3739973089010387,1.935849500355021,-0.43067333463332313,-0.46124873094628116,-0.43802587757845834]},{\"boxpoints\":false,\"line\":{\"width\":1.3},\"marker\":{\"color\":\"rgba(128, 0, 128, 1.0)\"},\"name\":\"D\",\"orientation\":\"v\",\"type\":\"box\",\"y\":[0.44514927902206924,-0.4932796464433643,0.49004951231797034,0.9893702535816634,-0.3695510433765291,1.3073709571524497,-0.20397647509500466,0.9257993020287427,-1.555530442916235,1.0165069323800255,0.36882666878270787,-0.5000287722940971,-0.571415472198531,-0.4891197396518819,-0.09574011339114545,0.4150494653733849,-2.352927571154122,-2.000491316858666,1.2569298384299536,-0.2348889667088603,-0.23579483778080154,-0.7110423729873975,0.8461959867871499,-0.9478531208598431,-0.9105000307076286,0.5103896296782777,-0.36425916193338354,-0.4668898620879838,-0.3694305635936844,-0.07576080216397955,-0.010066937282491953,-1.4309251194300914,-1.1414763333497955,0.5756311607826187,-0.17481915928555952,-0.02311701740580824,-0.6343100617205631,-1.612507757767517,1.1708141165298458,-0.45623817375731646,0.9283694853459812,-0.41076757301040034,-0.23899973661572035,0.9472078095862808,-0.7435332911928643,1.1418564370527604,0.9209724820910382,-0.9097174353194862,-1.6652410148483707,-0.1593311316680365,1.7101480615179498,1.0890536615233795,0.5927881396371886,1.042764922739655,-1.1266567950324227,-1.6288853516330672,0.6369307931518935,1.3128923686572516,-1.0520711699898084,-1.1712015748579032,-1.3686628461617183,-0.13955144009682297,2.2085222175655246,0.8115303005297543,-0.7415545573402113,-0.6468602158556795,-0.09656870583882846,-0.22916502740326786,1.9473398160278808,1.1689978067611757,-1.3063608130632387,-0.14069119585770404,-0.29674570761239183,-0.23564085984490005,1.1324844315536782,-0.9018348771332421,-0.18054103901337937,0.6367796882986028,-0.32603613410308896,0.9936403795486872,-0.4132087009186094,0.5908801944612876,-0.7361669902343383,0.7500369440953866,-0.22764454955526914,0.5783363724164028,1.3430340279492383,0.22316537570913333,-0.2686696242333291,-1.9370867804686573,-0.748693992415597,1.1561540180085867,-1.8938816518035753,-0.08731504338881442,-1.5026348349145464,0.9264297372131799,0.22610468007977882,-0.07072214923274342,0.6913298962666558,-1.6513938223947522]}],                        {\"legend\":{\"bgcolor\":\"#F5F6F9\",\"font\":{\"color\":\"#4D5663\"}},\"paper_bgcolor\":\"#F5F6F9\",\"plot_bgcolor\":\"#F5F6F9\",\"template\":{\"data\":{\"bar\":[{\"error_x\":{\"color\":\"#2a3f5f\"},\"error_y\":{\"color\":\"#2a3f5f\"},\"marker\":{\"line\":{\"color\":\"#E5ECF6\",\"width\":0.5},\"pattern\":{\"fillmode\":\"overlay\",\"size\":10,\"solidity\":0.2}},\"type\":\"bar\"}],\"barpolar\":[{\"marker\":{\"line\":{\"color\":\"#E5ECF6\",\"width\":0.5},\"pattern\":{\"fillmode\":\"overlay\",\"size\":10,\"solidity\":0.2}},\"type\":\"barpolar\"}],\"carpet\":[{\"aaxis\":{\"endlinecolor\":\"#2a3f5f\",\"gridcolor\":\"white\",\"linecolor\":\"white\",\"minorgridcolor\":\"white\",\"startlinecolor\":\"#2a3f5f\"},\"baxis\":{\"endlinecolor\":\"#2a3f5f\",\"gridcolor\":\"white\",\"linecolor\":\"white\",\"minorgridcolor\":\"white\",\"startlinecolor\":\"#2a3f5f\"},\"type\":\"carpet\"}],\"choropleth\":[{\"colorbar\":{\"outlinewidth\":0,\"ticks\":\"\"},\"type\":\"choropleth\"}],\"contour\":[{\"colorbar\":{\"outlinewidth\":0,\"ticks\":\"\"},\"colorscale\":[[0.0,\"#0d0887\"],[0.1111111111111111,\"#46039f\"],[0.2222222222222222,\"#7201a8\"],[0.3333333333333333,\"#9c179e\"],[0.4444444444444444,\"#bd3786\"],[0.5555555555555556,\"#d8576b\"],[0.6666666666666666,\"#ed7953\"],[0.7777777777777778,\"#fb9f3a\"],[0.8888888888888888,\"#fdca26\"],[1.0,\"#f0f921\"]],\"type\":\"contour\"}],\"contourcarpet\":[{\"colorbar\":{\"outlinewidth\":0,\"ticks\":\"\"},\"type\":\"contourcarpet\"}],\"heatmap\":[{\"colorbar\":{\"outlinewidth\":0,\"ticks\":\"\"},\"colorscale\":[[0.0,\"#0d0887\"],[0.1111111111111111,\"#46039f\"],[0.2222222222222222,\"#7201a8\"],[0.3333333333333333,\"#9c179e\"],[0.4444444444444444,\"#bd3786\"],[0.5555555555555556,\"#d8576b\"],[0.6666666666666666,\"#ed7953\"],[0.7777777777777778,\"#fb9f3a\"],[0.8888888888888888,\"#fdca26\"],[1.0,\"#f0f921\"]],\"type\":\"heatmap\"}],\"heatmapgl\":[{\"colorbar\":{\"outlinewidth\":0,\"ticks\":\"\"},\"colorscale\":[[0.0,\"#0d0887\"],[0.1111111111111111,\"#46039f\"],[0.2222222222222222,\"#7201a8\"],[0.3333333333333333,\"#9c179e\"],[0.4444444444444444,\"#bd3786\"],[0.5555555555555556,\"#d8576b\"],[0.6666666666666666,\"#ed7953\"],[0.7777777777777778,\"#fb9f3a\"],[0.8888888888888888,\"#fdca26\"],[1.0,\"#f0f921\"]],\"type\":\"heatmapgl\"}],\"histogram\":[{\"marker\":{\"pattern\":{\"fillmode\":\"overlay\",\"size\":10,\"solidity\":0.2}},\"type\":\"histogram\"}],\"histogram2d\":[{\"colorbar\":{\"outlinewidth\":0,\"ticks\":\"\"},\"colorscale\":[[0.0,\"#0d0887\"],[0.1111111111111111,\"#46039f\"],[0.2222222222222222,\"#7201a8\"],[0.3333333333333333,\"#9c179e\"],[0.4444444444444444,\"#bd3786\"],[0.5555555555555556,\"#d8576b\"],[0.6666666666666666,\"#ed7953\"],[0.7777777777777778,\"#fb9f3a\"],[0.8888888888888888,\"#fdca26\"],[1.0,\"#f0f921\"]],\"type\":\"histogram2d\"}],\"histogram2dcontour\":[{\"colorbar\":{\"outlinewidth\":0,\"ticks\":\"\"},\"colorscale\":[[0.0,\"#0d0887\"],[0.1111111111111111,\"#46039f\"],[0.2222222222222222,\"#7201a8\"],[0.3333333333333333,\"#9c179e\"],[0.4444444444444444,\"#bd3786\"],[0.5555555555555556,\"#d8576b\"],[0.6666666666666666,\"#ed7953\"],[0.7777777777777778,\"#fb9f3a\"],[0.8888888888888888,\"#fdca26\"],[1.0,\"#f0f921\"]],\"type\":\"histogram2dcontour\"}],\"mesh3d\":[{\"colorbar\":{\"outlinewidth\":0,\"ticks\":\"\"},\"type\":\"mesh3d\"}],\"parcoords\":[{\"line\":{\"colorbar\":{\"outlinewidth\":0,\"ticks\":\"\"}},\"type\":\"parcoords\"}],\"pie\":[{\"automargin\":true,\"type\":\"pie\"}],\"scatter\":[{\"marker\":{\"colorbar\":{\"outlinewidth\":0,\"ticks\":\"\"}},\"type\":\"scatter\"}],\"scatter3d\":[{\"line\":{\"colorbar\":{\"outlinewidth\":0,\"ticks\":\"\"}},\"marker\":{\"colorbar\":{\"outlinewidth\":0,\"ticks\":\"\"}},\"type\":\"scatter3d\"}],\"scattercarpet\":[{\"marker\":{\"colorbar\":{\"outlinewidth\":0,\"ticks\":\"\"}},\"type\":\"scattercarpet\"}],\"scattergeo\":[{\"marker\":{\"colorbar\":{\"outlinewidth\":0,\"ticks\":\"\"}},\"type\":\"scattergeo\"}],\"scattergl\":[{\"marker\":{\"colorbar\":{\"outlinewidth\":0,\"ticks\":\"\"}},\"type\":\"scattergl\"}],\"scattermapbox\":[{\"marker\":{\"colorbar\":{\"outlinewidth\":0,\"ticks\":\"\"}},\"type\":\"scattermapbox\"}],\"scatterpolar\":[{\"marker\":{\"colorbar\":{\"outlinewidth\":0,\"ticks\":\"\"}},\"type\":\"scatterpolar\"}],\"scatterpolargl\":[{\"marker\":{\"colorbar\":{\"outlinewidth\":0,\"ticks\":\"\"}},\"type\":\"scatterpolargl\"}],\"scatterternary\":[{\"marker\":{\"colorbar\":{\"outlinewidth\":0,\"ticks\":\"\"}},\"type\":\"scatterternary\"}],\"surface\":[{\"colorbar\":{\"outlinewidth\":0,\"ticks\":\"\"},\"colorscale\":[[0.0,\"#0d0887\"],[0.1111111111111111,\"#46039f\"],[0.2222222222222222,\"#7201a8\"],[0.3333333333333333,\"#9c179e\"],[0.4444444444444444,\"#bd3786\"],[0.5555555555555556,\"#d8576b\"],[0.6666666666666666,\"#ed7953\"],[0.7777777777777778,\"#fb9f3a\"],[0.8888888888888888,\"#fdca26\"],[1.0,\"#f0f921\"]],\"type\":\"surface\"}],\"table\":[{\"cells\":{\"fill\":{\"color\":\"#EBF0F8\"},\"line\":{\"color\":\"white\"}},\"header\":{\"fill\":{\"color\":\"#C8D4E3\"},\"line\":{\"color\":\"white\"}},\"type\":\"table\"}]},\"layout\":{\"annotationdefaults\":{\"arrowcolor\":\"#2a3f5f\",\"arrowhead\":0,\"arrowwidth\":1},\"autotypenumbers\":\"strict\",\"coloraxis\":{\"colorbar\":{\"outlinewidth\":0,\"ticks\":\"\"}},\"colorscale\":{\"diverging\":[[0,\"#8e0152\"],[0.1,\"#c51b7d\"],[0.2,\"#de77ae\"],[0.3,\"#f1b6da\"],[0.4,\"#fde0ef\"],[0.5,\"#f7f7f7\"],[0.6,\"#e6f5d0\"],[0.7,\"#b8e186\"],[0.8,\"#7fbc41\"],[0.9,\"#4d9221\"],[1,\"#276419\"]],\"sequential\":[[0.0,\"#0d0887\"],[0.1111111111111111,\"#46039f\"],[0.2222222222222222,\"#7201a8\"],[0.3333333333333333,\"#9c179e\"],[0.4444444444444444,\"#bd3786\"],[0.5555555555555556,\"#d8576b\"],[0.6666666666666666,\"#ed7953\"],[0.7777777777777778,\"#fb9f3a\"],[0.8888888888888888,\"#fdca26\"],[1.0,\"#f0f921\"]],\"sequentialminus\":[[0.0,\"#0d0887\"],[0.1111111111111111,\"#46039f\"],[0.2222222222222222,\"#7201a8\"],[0.3333333333333333,\"#9c179e\"],[0.4444444444444444,\"#bd3786\"],[0.5555555555555556,\"#d8576b\"],[0.6666666666666666,\"#ed7953\"],[0.7777777777777778,\"#fb9f3a\"],[0.8888888888888888,\"#fdca26\"],[1.0,\"#f0f921\"]]},\"colorway\":[\"#636efa\",\"#EF553B\",\"#00cc96\",\"#ab63fa\",\"#FFA15A\",\"#19d3f3\",\"#FF6692\",\"#B6E880\",\"#FF97FF\",\"#FECB52\"],\"font\":{\"color\":\"#2a3f5f\"},\"geo\":{\"bgcolor\":\"white\",\"lakecolor\":\"white\",\"landcolor\":\"#E5ECF6\",\"showlakes\":true,\"showland\":true,\"subunitcolor\":\"white\"},\"hoverlabel\":{\"align\":\"left\"},\"hovermode\":\"closest\",\"mapbox\":{\"style\":\"light\"},\"paper_bgcolor\":\"white\",\"plot_bgcolor\":\"#E5ECF6\",\"polar\":{\"angularaxis\":{\"gridcolor\":\"white\",\"linecolor\":\"white\",\"ticks\":\"\"},\"bgcolor\":\"#E5ECF6\",\"radialaxis\":{\"gridcolor\":\"white\",\"linecolor\":\"white\",\"ticks\":\"\"}},\"scene\":{\"xaxis\":{\"backgroundcolor\":\"#E5ECF6\",\"gridcolor\":\"white\",\"gridwidth\":2,\"linecolor\":\"white\",\"showbackground\":true,\"ticks\":\"\",\"zerolinecolor\":\"white\"},\"yaxis\":{\"backgroundcolor\":\"#E5ECF6\",\"gridcolor\":\"white\",\"gridwidth\":2,\"linecolor\":\"white\",\"showbackground\":true,\"ticks\":\"\",\"zerolinecolor\":\"white\"},\"zaxis\":{\"backgroundcolor\":\"#E5ECF6\",\"gridcolor\":\"white\",\"gridwidth\":2,\"linecolor\":\"white\",\"showbackground\":true,\"ticks\":\"\",\"zerolinecolor\":\"white\"}},\"shapedefaults\":{\"line\":{\"color\":\"#2a3f5f\"}},\"ternary\":{\"aaxis\":{\"gridcolor\":\"white\",\"linecolor\":\"white\",\"ticks\":\"\"},\"baxis\":{\"gridcolor\":\"white\",\"linecolor\":\"white\",\"ticks\":\"\"},\"bgcolor\":\"#E5ECF6\",\"caxis\":{\"gridcolor\":\"white\",\"linecolor\":\"white\",\"ticks\":\"\"}},\"title\":{\"x\":0.05},\"xaxis\":{\"automargin\":true,\"gridcolor\":\"white\",\"linecolor\":\"white\",\"ticks\":\"\",\"title\":{\"standoff\":15},\"zerolinecolor\":\"white\",\"zerolinewidth\":2},\"yaxis\":{\"automargin\":true,\"gridcolor\":\"white\",\"linecolor\":\"white\",\"ticks\":\"\",\"title\":{\"standoff\":15},\"zerolinecolor\":\"white\",\"zerolinewidth\":2}}},\"title\":{\"font\":{\"color\":\"#4D5663\"}},\"xaxis\":{\"gridcolor\":\"#E1E5ED\",\"showgrid\":true,\"tickfont\":{\"color\":\"#4D5663\"},\"title\":{\"font\":{\"color\":\"#4D5663\"},\"text\":\"\"},\"zerolinecolor\":\"#E1E5ED\"},\"yaxis\":{\"gridcolor\":\"#E1E5ED\",\"showgrid\":true,\"tickfont\":{\"color\":\"#4D5663\"},\"title\":{\"font\":{\"color\":\"#4D5663\"},\"text\":\"\"},\"zerolinecolor\":\"#E1E5ED\"}},                        {\"showLink\": true, \"linkText\": \"Export to plot.ly\", \"plotlyServerURL\": \"https://plot.ly\", \"responsive\": true}                    ).then(function(){\n",
       "                            \n",
       "var gd = document.getElementById('086a5062-2170-4575-9ef9-1335bcddd099');\n",
       "var x = new MutationObserver(function (mutations, observer) {{\n",
       "        var display = window.getComputedStyle(gd).display;\n",
       "        if (!display || display === 'none') {{\n",
       "            console.log([gd, 'removed!']);\n",
       "            Plotly.purge(gd);\n",
       "            observer.disconnect();\n",
       "        }}\n",
       "}});\n",
       "\n",
       "// Listen for the removal of the full notebook cells\n",
       "var notebookContainer = gd.closest('#notebook-container');\n",
       "if (notebookContainer) {{\n",
       "    x.observe(notebookContainer, {childList: true});\n",
       "}}\n",
       "\n",
       "// Listen for the clearing of the current output cell\n",
       "var outputEl = gd.closest('.output');\n",
       "if (outputEl) {{\n",
       "    x.observe(outputEl, {childList: true});\n",
       "}}\n",
       "\n",
       "                        })                };                });            </script>        </div>"
      ]
     },
     "metadata": {},
     "output_type": "display_data"
    }
   ],
   "source": [
    "df.iplot(kind='box')"
   ]
  },
  {
   "cell_type": "code",
   "execution_count": 19,
   "id": "dc21dd56",
   "metadata": {},
   "outputs": [
    {
     "data": {
      "text/html": [
       "<div>\n",
       "<style scoped>\n",
       "    .dataframe tbody tr th:only-of-type {\n",
       "        vertical-align: middle;\n",
       "    }\n",
       "\n",
       "    .dataframe tbody tr th {\n",
       "        vertical-align: top;\n",
       "    }\n",
       "\n",
       "    .dataframe thead th {\n",
       "        text-align: right;\n",
       "    }\n",
       "</style>\n",
       "<table border=\"1\" class=\"dataframe\">\n",
       "  <thead>\n",
       "    <tr style=\"text-align: right;\">\n",
       "      <th></th>\n",
       "      <th>x</th>\n",
       "      <th>y</th>\n",
       "      <th>z</th>\n",
       "    </tr>\n",
       "  </thead>\n",
       "  <tbody>\n",
       "    <tr>\n",
       "      <th>0</th>\n",
       "      <td>1</td>\n",
       "      <td>10</td>\n",
       "      <td>5</td>\n",
       "    </tr>\n",
       "    <tr>\n",
       "      <th>1</th>\n",
       "      <td>2</td>\n",
       "      <td>20</td>\n",
       "      <td>4</td>\n",
       "    </tr>\n",
       "    <tr>\n",
       "      <th>2</th>\n",
       "      <td>3</td>\n",
       "      <td>30</td>\n",
       "      <td>3</td>\n",
       "    </tr>\n",
       "    <tr>\n",
       "      <th>3</th>\n",
       "      <td>4</td>\n",
       "      <td>20</td>\n",
       "      <td>2</td>\n",
       "    </tr>\n",
       "    <tr>\n",
       "      <th>4</th>\n",
       "      <td>5</td>\n",
       "      <td>10</td>\n",
       "      <td>1</td>\n",
       "    </tr>\n",
       "  </tbody>\n",
       "</table>\n",
       "</div>"
      ],
      "text/plain": [
       "   x   y  z\n",
       "0  1  10  5\n",
       "1  2  20  4\n",
       "2  3  30  3\n",
       "3  4  20  2\n",
       "4  5  10  1"
      ]
     },
     "execution_count": 19,
     "metadata": {},
     "output_type": "execute_result"
    }
   ],
   "source": [
    "df3 = pd.DataFrame({\n",
    "    'x': [1,2,3,4,5],\n",
    "    'y': [10,20,30,20,10],\n",
    "    'z': [5,4,3,2,1]\n",
    "})\n",
    "\n",
    "df3"
   ]
  },
  {
   "cell_type": "code",
   "execution_count": 22,
   "id": "0c171e3f",
   "metadata": {},
   "outputs": [
    {
     "data": {
      "application/vnd.plotly.v1+json": {
       "config": {
        "linkText": "Export to plot.ly",
        "plotlyServerURL": "https://plot.ly",
        "showLink": true
       },
       "data": [
        {
         "colorscale": [
          [
           0,
           "rgb(165,0,38)"
          ],
          [
           0.1,
           "rgb(215,48,39)"
          ],
          [
           0.2,
           "rgb(244,109,67)"
          ],
          [
           0.3,
           "rgb(253,174,97)"
          ],
          [
           0.4,
           "rgb(254,224,144)"
          ],
          [
           0.5,
           "rgb(255,255,191)"
          ],
          [
           0.6,
           "rgb(224,243,248)"
          ],
          [
           0.7,
           "rgb(171,217,233)"
          ],
          [
           0.8,
           "rgb(116,173,209)"
          ],
          [
           0.9,
           "rgb(69,117,180)"
          ],
          [
           1,
           "rgb(49,54,149)"
          ]
         ],
         "type": "surface",
         "x": [
          0,
          1,
          2,
          3,
          4
         ],
         "y": [
          "x",
          "y",
          "z"
         ],
         "z": [
          [
           1,
           2,
           3,
           4,
           5
          ],
          [
           10,
           20,
           30,
           20,
           10
          ],
          [
           5,
           4,
           3,
           2,
           1
          ]
         ]
        }
       ],
       "layout": {
        "legend": {
         "bgcolor": "#F5F6F9",
         "font": {
          "color": "#4D5663"
         }
        },
        "paper_bgcolor": "#F5F6F9",
        "plot_bgcolor": "#F5F6F9",
        "template": {
         "data": {
          "bar": [
           {
            "error_x": {
             "color": "#2a3f5f"
            },
            "error_y": {
             "color": "#2a3f5f"
            },
            "marker": {
             "line": {
              "color": "#E5ECF6",
              "width": 0.5
             },
             "pattern": {
              "fillmode": "overlay",
              "size": 10,
              "solidity": 0.2
             }
            },
            "type": "bar"
           }
          ],
          "barpolar": [
           {
            "marker": {
             "line": {
              "color": "#E5ECF6",
              "width": 0.5
             },
             "pattern": {
              "fillmode": "overlay",
              "size": 10,
              "solidity": 0.2
             }
            },
            "type": "barpolar"
           }
          ],
          "carpet": [
           {
            "aaxis": {
             "endlinecolor": "#2a3f5f",
             "gridcolor": "white",
             "linecolor": "white",
             "minorgridcolor": "white",
             "startlinecolor": "#2a3f5f"
            },
            "baxis": {
             "endlinecolor": "#2a3f5f",
             "gridcolor": "white",
             "linecolor": "white",
             "minorgridcolor": "white",
             "startlinecolor": "#2a3f5f"
            },
            "type": "carpet"
           }
          ],
          "choropleth": [
           {
            "colorbar": {
             "outlinewidth": 0,
             "ticks": ""
            },
            "type": "choropleth"
           }
          ],
          "contour": [
           {
            "colorbar": {
             "outlinewidth": 0,
             "ticks": ""
            },
            "colorscale": [
             [
              0,
              "#0d0887"
             ],
             [
              0.1111111111111111,
              "#46039f"
             ],
             [
              0.2222222222222222,
              "#7201a8"
             ],
             [
              0.3333333333333333,
              "#9c179e"
             ],
             [
              0.4444444444444444,
              "#bd3786"
             ],
             [
              0.5555555555555556,
              "#d8576b"
             ],
             [
              0.6666666666666666,
              "#ed7953"
             ],
             [
              0.7777777777777778,
              "#fb9f3a"
             ],
             [
              0.8888888888888888,
              "#fdca26"
             ],
             [
              1,
              "#f0f921"
             ]
            ],
            "type": "contour"
           }
          ],
          "contourcarpet": [
           {
            "colorbar": {
             "outlinewidth": 0,
             "ticks": ""
            },
            "type": "contourcarpet"
           }
          ],
          "heatmap": [
           {
            "colorbar": {
             "outlinewidth": 0,
             "ticks": ""
            },
            "colorscale": [
             [
              0,
              "#0d0887"
             ],
             [
              0.1111111111111111,
              "#46039f"
             ],
             [
              0.2222222222222222,
              "#7201a8"
             ],
             [
              0.3333333333333333,
              "#9c179e"
             ],
             [
              0.4444444444444444,
              "#bd3786"
             ],
             [
              0.5555555555555556,
              "#d8576b"
             ],
             [
              0.6666666666666666,
              "#ed7953"
             ],
             [
              0.7777777777777778,
              "#fb9f3a"
             ],
             [
              0.8888888888888888,
              "#fdca26"
             ],
             [
              1,
              "#f0f921"
             ]
            ],
            "type": "heatmap"
           }
          ],
          "heatmapgl": [
           {
            "colorbar": {
             "outlinewidth": 0,
             "ticks": ""
            },
            "colorscale": [
             [
              0,
              "#0d0887"
             ],
             [
              0.1111111111111111,
              "#46039f"
             ],
             [
              0.2222222222222222,
              "#7201a8"
             ],
             [
              0.3333333333333333,
              "#9c179e"
             ],
             [
              0.4444444444444444,
              "#bd3786"
             ],
             [
              0.5555555555555556,
              "#d8576b"
             ],
             [
              0.6666666666666666,
              "#ed7953"
             ],
             [
              0.7777777777777778,
              "#fb9f3a"
             ],
             [
              0.8888888888888888,
              "#fdca26"
             ],
             [
              1,
              "#f0f921"
             ]
            ],
            "type": "heatmapgl"
           }
          ],
          "histogram": [
           {
            "marker": {
             "pattern": {
              "fillmode": "overlay",
              "size": 10,
              "solidity": 0.2
             }
            },
            "type": "histogram"
           }
          ],
          "histogram2d": [
           {
            "colorbar": {
             "outlinewidth": 0,
             "ticks": ""
            },
            "colorscale": [
             [
              0,
              "#0d0887"
             ],
             [
              0.1111111111111111,
              "#46039f"
             ],
             [
              0.2222222222222222,
              "#7201a8"
             ],
             [
              0.3333333333333333,
              "#9c179e"
             ],
             [
              0.4444444444444444,
              "#bd3786"
             ],
             [
              0.5555555555555556,
              "#d8576b"
             ],
             [
              0.6666666666666666,
              "#ed7953"
             ],
             [
              0.7777777777777778,
              "#fb9f3a"
             ],
             [
              0.8888888888888888,
              "#fdca26"
             ],
             [
              1,
              "#f0f921"
             ]
            ],
            "type": "histogram2d"
           }
          ],
          "histogram2dcontour": [
           {
            "colorbar": {
             "outlinewidth": 0,
             "ticks": ""
            },
            "colorscale": [
             [
              0,
              "#0d0887"
             ],
             [
              0.1111111111111111,
              "#46039f"
             ],
             [
              0.2222222222222222,
              "#7201a8"
             ],
             [
              0.3333333333333333,
              "#9c179e"
             ],
             [
              0.4444444444444444,
              "#bd3786"
             ],
             [
              0.5555555555555556,
              "#d8576b"
             ],
             [
              0.6666666666666666,
              "#ed7953"
             ],
             [
              0.7777777777777778,
              "#fb9f3a"
             ],
             [
              0.8888888888888888,
              "#fdca26"
             ],
             [
              1,
              "#f0f921"
             ]
            ],
            "type": "histogram2dcontour"
           }
          ],
          "mesh3d": [
           {
            "colorbar": {
             "outlinewidth": 0,
             "ticks": ""
            },
            "type": "mesh3d"
           }
          ],
          "parcoords": [
           {
            "line": {
             "colorbar": {
              "outlinewidth": 0,
              "ticks": ""
             }
            },
            "type": "parcoords"
           }
          ],
          "pie": [
           {
            "automargin": true,
            "type": "pie"
           }
          ],
          "scatter": [
           {
            "marker": {
             "colorbar": {
              "outlinewidth": 0,
              "ticks": ""
             }
            },
            "type": "scatter"
           }
          ],
          "scatter3d": [
           {
            "line": {
             "colorbar": {
              "outlinewidth": 0,
              "ticks": ""
             }
            },
            "marker": {
             "colorbar": {
              "outlinewidth": 0,
              "ticks": ""
             }
            },
            "type": "scatter3d"
           }
          ],
          "scattercarpet": [
           {
            "marker": {
             "colorbar": {
              "outlinewidth": 0,
              "ticks": ""
             }
            },
            "type": "scattercarpet"
           }
          ],
          "scattergeo": [
           {
            "marker": {
             "colorbar": {
              "outlinewidth": 0,
              "ticks": ""
             }
            },
            "type": "scattergeo"
           }
          ],
          "scattergl": [
           {
            "marker": {
             "colorbar": {
              "outlinewidth": 0,
              "ticks": ""
             }
            },
            "type": "scattergl"
           }
          ],
          "scattermapbox": [
           {
            "marker": {
             "colorbar": {
              "outlinewidth": 0,
              "ticks": ""
             }
            },
            "type": "scattermapbox"
           }
          ],
          "scatterpolar": [
           {
            "marker": {
             "colorbar": {
              "outlinewidth": 0,
              "ticks": ""
             }
            },
            "type": "scatterpolar"
           }
          ],
          "scatterpolargl": [
           {
            "marker": {
             "colorbar": {
              "outlinewidth": 0,
              "ticks": ""
             }
            },
            "type": "scatterpolargl"
           }
          ],
          "scatterternary": [
           {
            "marker": {
             "colorbar": {
              "outlinewidth": 0,
              "ticks": ""
             }
            },
            "type": "scatterternary"
           }
          ],
          "surface": [
           {
            "colorbar": {
             "outlinewidth": 0,
             "ticks": ""
            },
            "colorscale": [
             [
              0,
              "#0d0887"
             ],
             [
              0.1111111111111111,
              "#46039f"
             ],
             [
              0.2222222222222222,
              "#7201a8"
             ],
             [
              0.3333333333333333,
              "#9c179e"
             ],
             [
              0.4444444444444444,
              "#bd3786"
             ],
             [
              0.5555555555555556,
              "#d8576b"
             ],
             [
              0.6666666666666666,
              "#ed7953"
             ],
             [
              0.7777777777777778,
              "#fb9f3a"
             ],
             [
              0.8888888888888888,
              "#fdca26"
             ],
             [
              1,
              "#f0f921"
             ]
            ],
            "type": "surface"
           }
          ],
          "table": [
           {
            "cells": {
             "fill": {
              "color": "#EBF0F8"
             },
             "line": {
              "color": "white"
             }
            },
            "header": {
             "fill": {
              "color": "#C8D4E3"
             },
             "line": {
              "color": "white"
             }
            },
            "type": "table"
           }
          ]
         },
         "layout": {
          "annotationdefaults": {
           "arrowcolor": "#2a3f5f",
           "arrowhead": 0,
           "arrowwidth": 1
          },
          "autotypenumbers": "strict",
          "coloraxis": {
           "colorbar": {
            "outlinewidth": 0,
            "ticks": ""
           }
          },
          "colorscale": {
           "diverging": [
            [
             0,
             "#8e0152"
            ],
            [
             0.1,
             "#c51b7d"
            ],
            [
             0.2,
             "#de77ae"
            ],
            [
             0.3,
             "#f1b6da"
            ],
            [
             0.4,
             "#fde0ef"
            ],
            [
             0.5,
             "#f7f7f7"
            ],
            [
             0.6,
             "#e6f5d0"
            ],
            [
             0.7,
             "#b8e186"
            ],
            [
             0.8,
             "#7fbc41"
            ],
            [
             0.9,
             "#4d9221"
            ],
            [
             1,
             "#276419"
            ]
           ],
           "sequential": [
            [
             0,
             "#0d0887"
            ],
            [
             0.1111111111111111,
             "#46039f"
            ],
            [
             0.2222222222222222,
             "#7201a8"
            ],
            [
             0.3333333333333333,
             "#9c179e"
            ],
            [
             0.4444444444444444,
             "#bd3786"
            ],
            [
             0.5555555555555556,
             "#d8576b"
            ],
            [
             0.6666666666666666,
             "#ed7953"
            ],
            [
             0.7777777777777778,
             "#fb9f3a"
            ],
            [
             0.8888888888888888,
             "#fdca26"
            ],
            [
             1,
             "#f0f921"
            ]
           ],
           "sequentialminus": [
            [
             0,
             "#0d0887"
            ],
            [
             0.1111111111111111,
             "#46039f"
            ],
            [
             0.2222222222222222,
             "#7201a8"
            ],
            [
             0.3333333333333333,
             "#9c179e"
            ],
            [
             0.4444444444444444,
             "#bd3786"
            ],
            [
             0.5555555555555556,
             "#d8576b"
            ],
            [
             0.6666666666666666,
             "#ed7953"
            ],
            [
             0.7777777777777778,
             "#fb9f3a"
            ],
            [
             0.8888888888888888,
             "#fdca26"
            ],
            [
             1,
             "#f0f921"
            ]
           ]
          },
          "colorway": [
           "#636efa",
           "#EF553B",
           "#00cc96",
           "#ab63fa",
           "#FFA15A",
           "#19d3f3",
           "#FF6692",
           "#B6E880",
           "#FF97FF",
           "#FECB52"
          ],
          "font": {
           "color": "#2a3f5f"
          },
          "geo": {
           "bgcolor": "white",
           "lakecolor": "white",
           "landcolor": "#E5ECF6",
           "showlakes": true,
           "showland": true,
           "subunitcolor": "white"
          },
          "hoverlabel": {
           "align": "left"
          },
          "hovermode": "closest",
          "mapbox": {
           "style": "light"
          },
          "paper_bgcolor": "white",
          "plot_bgcolor": "#E5ECF6",
          "polar": {
           "angularaxis": {
            "gridcolor": "white",
            "linecolor": "white",
            "ticks": ""
           },
           "bgcolor": "#E5ECF6",
           "radialaxis": {
            "gridcolor": "white",
            "linecolor": "white",
            "ticks": ""
           }
          },
          "scene": {
           "xaxis": {
            "backgroundcolor": "#E5ECF6",
            "gridcolor": "white",
            "gridwidth": 2,
            "linecolor": "white",
            "showbackground": true,
            "ticks": "",
            "zerolinecolor": "white"
           },
           "yaxis": {
            "backgroundcolor": "#E5ECF6",
            "gridcolor": "white",
            "gridwidth": 2,
            "linecolor": "white",
            "showbackground": true,
            "ticks": "",
            "zerolinecolor": "white"
           },
           "zaxis": {
            "backgroundcolor": "#E5ECF6",
            "gridcolor": "white",
            "gridwidth": 2,
            "linecolor": "white",
            "showbackground": true,
            "ticks": "",
            "zerolinecolor": "white"
           }
          },
          "shapedefaults": {
           "line": {
            "color": "#2a3f5f"
           }
          },
          "ternary": {
           "aaxis": {
            "gridcolor": "white",
            "linecolor": "white",
            "ticks": ""
           },
           "baxis": {
            "gridcolor": "white",
            "linecolor": "white",
            "ticks": ""
           },
           "bgcolor": "#E5ECF6",
           "caxis": {
            "gridcolor": "white",
            "linecolor": "white",
            "ticks": ""
           }
          },
          "title": {
           "x": 0.05
          },
          "xaxis": {
           "automargin": true,
           "gridcolor": "white",
           "linecolor": "white",
           "ticks": "",
           "title": {
            "standoff": 15
           },
           "zerolinecolor": "white",
           "zerolinewidth": 2
          },
          "yaxis": {
           "automargin": true,
           "gridcolor": "white",
           "linecolor": "white",
           "ticks": "",
           "title": {
            "standoff": 15
           },
           "zerolinecolor": "white",
           "zerolinewidth": 2
          }
         }
        },
        "title": {
         "font": {
          "color": "#4D5663"
         }
        },
        "xaxis": {
         "gridcolor": "#E1E5ED",
         "showgrid": true,
         "tickfont": {
          "color": "#4D5663"
         },
         "title": {
          "font": {
           "color": "#4D5663"
          },
          "text": ""
         },
         "zerolinecolor": "#E1E5ED"
        },
        "yaxis": {
         "gridcolor": "#E1E5ED",
         "showgrid": true,
         "tickfont": {
          "color": "#4D5663"
         },
         "title": {
          "font": {
           "color": "#4D5663"
          },
          "text": ""
         },
         "zerolinecolor": "#E1E5ED"
        }
       }
      },
      "text/html": [
       "<div>                            <div id=\"3c19c1ed-90e6-4d60-be4a-26f31824577a\" class=\"plotly-graph-div\" style=\"height:525px; width:100%;\"></div>            <script type=\"text/javascript\">                require([\"plotly\"], function(Plotly) {                    window.PLOTLYENV=window.PLOTLYENV || {};\n",
       "                    window.PLOTLYENV.BASE_URL='https://plot.ly';                                    if (document.getElementById(\"3c19c1ed-90e6-4d60-be4a-26f31824577a\")) {                    Plotly.newPlot(                        \"3c19c1ed-90e6-4d60-be4a-26f31824577a\",                        [{\"colorscale\":[[0.0,\"rgb(165,0,38)\"],[0.1,\"rgb(215,48,39)\"],[0.2,\"rgb(244,109,67)\"],[0.3,\"rgb(253,174,97)\"],[0.4,\"rgb(254,224,144)\"],[0.5,\"rgb(255,255,191)\"],[0.6,\"rgb(224,243,248)\"],[0.7,\"rgb(171,217,233)\"],[0.8,\"rgb(116,173,209)\"],[0.9,\"rgb(69,117,180)\"],[1.0,\"rgb(49,54,149)\"]],\"type\":\"surface\",\"x\":[0,1,2,3,4],\"y\":[\"x\",\"y\",\"z\"],\"z\":[[1,2,3,4,5],[10,20,30,20,10],[5,4,3,2,1]]}],                        {\"legend\":{\"bgcolor\":\"#F5F6F9\",\"font\":{\"color\":\"#4D5663\"}},\"paper_bgcolor\":\"#F5F6F9\",\"plot_bgcolor\":\"#F5F6F9\",\"template\":{\"data\":{\"bar\":[{\"error_x\":{\"color\":\"#2a3f5f\"},\"error_y\":{\"color\":\"#2a3f5f\"},\"marker\":{\"line\":{\"color\":\"#E5ECF6\",\"width\":0.5},\"pattern\":{\"fillmode\":\"overlay\",\"size\":10,\"solidity\":0.2}},\"type\":\"bar\"}],\"barpolar\":[{\"marker\":{\"line\":{\"color\":\"#E5ECF6\",\"width\":0.5},\"pattern\":{\"fillmode\":\"overlay\",\"size\":10,\"solidity\":0.2}},\"type\":\"barpolar\"}],\"carpet\":[{\"aaxis\":{\"endlinecolor\":\"#2a3f5f\",\"gridcolor\":\"white\",\"linecolor\":\"white\",\"minorgridcolor\":\"white\",\"startlinecolor\":\"#2a3f5f\"},\"baxis\":{\"endlinecolor\":\"#2a3f5f\",\"gridcolor\":\"white\",\"linecolor\":\"white\",\"minorgridcolor\":\"white\",\"startlinecolor\":\"#2a3f5f\"},\"type\":\"carpet\"}],\"choropleth\":[{\"colorbar\":{\"outlinewidth\":0,\"ticks\":\"\"},\"type\":\"choropleth\"}],\"contour\":[{\"colorbar\":{\"outlinewidth\":0,\"ticks\":\"\"},\"colorscale\":[[0.0,\"#0d0887\"],[0.1111111111111111,\"#46039f\"],[0.2222222222222222,\"#7201a8\"],[0.3333333333333333,\"#9c179e\"],[0.4444444444444444,\"#bd3786\"],[0.5555555555555556,\"#d8576b\"],[0.6666666666666666,\"#ed7953\"],[0.7777777777777778,\"#fb9f3a\"],[0.8888888888888888,\"#fdca26\"],[1.0,\"#f0f921\"]],\"type\":\"contour\"}],\"contourcarpet\":[{\"colorbar\":{\"outlinewidth\":0,\"ticks\":\"\"},\"type\":\"contourcarpet\"}],\"heatmap\":[{\"colorbar\":{\"outlinewidth\":0,\"ticks\":\"\"},\"colorscale\":[[0.0,\"#0d0887\"],[0.1111111111111111,\"#46039f\"],[0.2222222222222222,\"#7201a8\"],[0.3333333333333333,\"#9c179e\"],[0.4444444444444444,\"#bd3786\"],[0.5555555555555556,\"#d8576b\"],[0.6666666666666666,\"#ed7953\"],[0.7777777777777778,\"#fb9f3a\"],[0.8888888888888888,\"#fdca26\"],[1.0,\"#f0f921\"]],\"type\":\"heatmap\"}],\"heatmapgl\":[{\"colorbar\":{\"outlinewidth\":0,\"ticks\":\"\"},\"colorscale\":[[0.0,\"#0d0887\"],[0.1111111111111111,\"#46039f\"],[0.2222222222222222,\"#7201a8\"],[0.3333333333333333,\"#9c179e\"],[0.4444444444444444,\"#bd3786\"],[0.5555555555555556,\"#d8576b\"],[0.6666666666666666,\"#ed7953\"],[0.7777777777777778,\"#fb9f3a\"],[0.8888888888888888,\"#fdca26\"],[1.0,\"#f0f921\"]],\"type\":\"heatmapgl\"}],\"histogram\":[{\"marker\":{\"pattern\":{\"fillmode\":\"overlay\",\"size\":10,\"solidity\":0.2}},\"type\":\"histogram\"}],\"histogram2d\":[{\"colorbar\":{\"outlinewidth\":0,\"ticks\":\"\"},\"colorscale\":[[0.0,\"#0d0887\"],[0.1111111111111111,\"#46039f\"],[0.2222222222222222,\"#7201a8\"],[0.3333333333333333,\"#9c179e\"],[0.4444444444444444,\"#bd3786\"],[0.5555555555555556,\"#d8576b\"],[0.6666666666666666,\"#ed7953\"],[0.7777777777777778,\"#fb9f3a\"],[0.8888888888888888,\"#fdca26\"],[1.0,\"#f0f921\"]],\"type\":\"histogram2d\"}],\"histogram2dcontour\":[{\"colorbar\":{\"outlinewidth\":0,\"ticks\":\"\"},\"colorscale\":[[0.0,\"#0d0887\"],[0.1111111111111111,\"#46039f\"],[0.2222222222222222,\"#7201a8\"],[0.3333333333333333,\"#9c179e\"],[0.4444444444444444,\"#bd3786\"],[0.5555555555555556,\"#d8576b\"],[0.6666666666666666,\"#ed7953\"],[0.7777777777777778,\"#fb9f3a\"],[0.8888888888888888,\"#fdca26\"],[1.0,\"#f0f921\"]],\"type\":\"histogram2dcontour\"}],\"mesh3d\":[{\"colorbar\":{\"outlinewidth\":0,\"ticks\":\"\"},\"type\":\"mesh3d\"}],\"parcoords\":[{\"line\":{\"colorbar\":{\"outlinewidth\":0,\"ticks\":\"\"}},\"type\":\"parcoords\"}],\"pie\":[{\"automargin\":true,\"type\":\"pie\"}],\"scatter\":[{\"marker\":{\"colorbar\":{\"outlinewidth\":0,\"ticks\":\"\"}},\"type\":\"scatter\"}],\"scatter3d\":[{\"line\":{\"colorbar\":{\"outlinewidth\":0,\"ticks\":\"\"}},\"marker\":{\"colorbar\":{\"outlinewidth\":0,\"ticks\":\"\"}},\"type\":\"scatter3d\"}],\"scattercarpet\":[{\"marker\":{\"colorbar\":{\"outlinewidth\":0,\"ticks\":\"\"}},\"type\":\"scattercarpet\"}],\"scattergeo\":[{\"marker\":{\"colorbar\":{\"outlinewidth\":0,\"ticks\":\"\"}},\"type\":\"scattergeo\"}],\"scattergl\":[{\"marker\":{\"colorbar\":{\"outlinewidth\":0,\"ticks\":\"\"}},\"type\":\"scattergl\"}],\"scattermapbox\":[{\"marker\":{\"colorbar\":{\"outlinewidth\":0,\"ticks\":\"\"}},\"type\":\"scattermapbox\"}],\"scatterpolar\":[{\"marker\":{\"colorbar\":{\"outlinewidth\":0,\"ticks\":\"\"}},\"type\":\"scatterpolar\"}],\"scatterpolargl\":[{\"marker\":{\"colorbar\":{\"outlinewidth\":0,\"ticks\":\"\"}},\"type\":\"scatterpolargl\"}],\"scatterternary\":[{\"marker\":{\"colorbar\":{\"outlinewidth\":0,\"ticks\":\"\"}},\"type\":\"scatterternary\"}],\"surface\":[{\"colorbar\":{\"outlinewidth\":0,\"ticks\":\"\"},\"colorscale\":[[0.0,\"#0d0887\"],[0.1111111111111111,\"#46039f\"],[0.2222222222222222,\"#7201a8\"],[0.3333333333333333,\"#9c179e\"],[0.4444444444444444,\"#bd3786\"],[0.5555555555555556,\"#d8576b\"],[0.6666666666666666,\"#ed7953\"],[0.7777777777777778,\"#fb9f3a\"],[0.8888888888888888,\"#fdca26\"],[1.0,\"#f0f921\"]],\"type\":\"surface\"}],\"table\":[{\"cells\":{\"fill\":{\"color\":\"#EBF0F8\"},\"line\":{\"color\":\"white\"}},\"header\":{\"fill\":{\"color\":\"#C8D4E3\"},\"line\":{\"color\":\"white\"}},\"type\":\"table\"}]},\"layout\":{\"annotationdefaults\":{\"arrowcolor\":\"#2a3f5f\",\"arrowhead\":0,\"arrowwidth\":1},\"autotypenumbers\":\"strict\",\"coloraxis\":{\"colorbar\":{\"outlinewidth\":0,\"ticks\":\"\"}},\"colorscale\":{\"diverging\":[[0,\"#8e0152\"],[0.1,\"#c51b7d\"],[0.2,\"#de77ae\"],[0.3,\"#f1b6da\"],[0.4,\"#fde0ef\"],[0.5,\"#f7f7f7\"],[0.6,\"#e6f5d0\"],[0.7,\"#b8e186\"],[0.8,\"#7fbc41\"],[0.9,\"#4d9221\"],[1,\"#276419\"]],\"sequential\":[[0.0,\"#0d0887\"],[0.1111111111111111,\"#46039f\"],[0.2222222222222222,\"#7201a8\"],[0.3333333333333333,\"#9c179e\"],[0.4444444444444444,\"#bd3786\"],[0.5555555555555556,\"#d8576b\"],[0.6666666666666666,\"#ed7953\"],[0.7777777777777778,\"#fb9f3a\"],[0.8888888888888888,\"#fdca26\"],[1.0,\"#f0f921\"]],\"sequentialminus\":[[0.0,\"#0d0887\"],[0.1111111111111111,\"#46039f\"],[0.2222222222222222,\"#7201a8\"],[0.3333333333333333,\"#9c179e\"],[0.4444444444444444,\"#bd3786\"],[0.5555555555555556,\"#d8576b\"],[0.6666666666666666,\"#ed7953\"],[0.7777777777777778,\"#fb9f3a\"],[0.8888888888888888,\"#fdca26\"],[1.0,\"#f0f921\"]]},\"colorway\":[\"#636efa\",\"#EF553B\",\"#00cc96\",\"#ab63fa\",\"#FFA15A\",\"#19d3f3\",\"#FF6692\",\"#B6E880\",\"#FF97FF\",\"#FECB52\"],\"font\":{\"color\":\"#2a3f5f\"},\"geo\":{\"bgcolor\":\"white\",\"lakecolor\":\"white\",\"landcolor\":\"#E5ECF6\",\"showlakes\":true,\"showland\":true,\"subunitcolor\":\"white\"},\"hoverlabel\":{\"align\":\"left\"},\"hovermode\":\"closest\",\"mapbox\":{\"style\":\"light\"},\"paper_bgcolor\":\"white\",\"plot_bgcolor\":\"#E5ECF6\",\"polar\":{\"angularaxis\":{\"gridcolor\":\"white\",\"linecolor\":\"white\",\"ticks\":\"\"},\"bgcolor\":\"#E5ECF6\",\"radialaxis\":{\"gridcolor\":\"white\",\"linecolor\":\"white\",\"ticks\":\"\"}},\"scene\":{\"xaxis\":{\"backgroundcolor\":\"#E5ECF6\",\"gridcolor\":\"white\",\"gridwidth\":2,\"linecolor\":\"white\",\"showbackground\":true,\"ticks\":\"\",\"zerolinecolor\":\"white\"},\"yaxis\":{\"backgroundcolor\":\"#E5ECF6\",\"gridcolor\":\"white\",\"gridwidth\":2,\"linecolor\":\"white\",\"showbackground\":true,\"ticks\":\"\",\"zerolinecolor\":\"white\"},\"zaxis\":{\"backgroundcolor\":\"#E5ECF6\",\"gridcolor\":\"white\",\"gridwidth\":2,\"linecolor\":\"white\",\"showbackground\":true,\"ticks\":\"\",\"zerolinecolor\":\"white\"}},\"shapedefaults\":{\"line\":{\"color\":\"#2a3f5f\"}},\"ternary\":{\"aaxis\":{\"gridcolor\":\"white\",\"linecolor\":\"white\",\"ticks\":\"\"},\"baxis\":{\"gridcolor\":\"white\",\"linecolor\":\"white\",\"ticks\":\"\"},\"bgcolor\":\"#E5ECF6\",\"caxis\":{\"gridcolor\":\"white\",\"linecolor\":\"white\",\"ticks\":\"\"}},\"title\":{\"x\":0.05},\"xaxis\":{\"automargin\":true,\"gridcolor\":\"white\",\"linecolor\":\"white\",\"ticks\":\"\",\"title\":{\"standoff\":15},\"zerolinecolor\":\"white\",\"zerolinewidth\":2},\"yaxis\":{\"automargin\":true,\"gridcolor\":\"white\",\"linecolor\":\"white\",\"ticks\":\"\",\"title\":{\"standoff\":15},\"zerolinecolor\":\"white\",\"zerolinewidth\":2}}},\"title\":{\"font\":{\"color\":\"#4D5663\"}},\"xaxis\":{\"gridcolor\":\"#E1E5ED\",\"showgrid\":true,\"tickfont\":{\"color\":\"#4D5663\"},\"title\":{\"font\":{\"color\":\"#4D5663\"},\"text\":\"\"},\"zerolinecolor\":\"#E1E5ED\"},\"yaxis\":{\"gridcolor\":\"#E1E5ED\",\"showgrid\":true,\"tickfont\":{\"color\":\"#4D5663\"},\"title\":{\"font\":{\"color\":\"#4D5663\"},\"text\":\"\"},\"zerolinecolor\":\"#E1E5ED\"}},                        {\"showLink\": true, \"linkText\": \"Export to plot.ly\", \"plotlyServerURL\": \"https://plot.ly\", \"responsive\": true}                    ).then(function(){\n",
       "                            \n",
       "var gd = document.getElementById('3c19c1ed-90e6-4d60-be4a-26f31824577a');\n",
       "var x = new MutationObserver(function (mutations, observer) {{\n",
       "        var display = window.getComputedStyle(gd).display;\n",
       "        if (!display || display === 'none') {{\n",
       "            console.log([gd, 'removed!']);\n",
       "            Plotly.purge(gd);\n",
       "            observer.disconnect();\n",
       "        }}\n",
       "}});\n",
       "\n",
       "// Listen for the removal of the full notebook cells\n",
       "var notebookContainer = gd.closest('#notebook-container');\n",
       "if (notebookContainer) {{\n",
       "    x.observe(notebookContainer, {childList: true});\n",
       "}}\n",
       "\n",
       "// Listen for the clearing of the current output cell\n",
       "var outputEl = gd.closest('.output');\n",
       "if (outputEl) {{\n",
       "    x.observe(outputEl, {childList: true});\n",
       "}}\n",
       "\n",
       "                        })                };                });            </script>        </div>"
      ]
     },
     "metadata": {},
     "output_type": "display_data"
    }
   ],
   "source": [
    "df3.iplot(kind='surface', colorscale='rdylbu') # 3d plot"
   ]
  },
  {
   "cell_type": "code",
   "execution_count": 23,
   "id": "a247558e",
   "metadata": {},
   "outputs": [
    {
     "data": {
      "application/vnd.plotly.v1+json": {
       "config": {
        "linkText": "Export to plot.ly",
        "plotlyServerURL": "https://plot.ly",
        "showLink": true
       },
       "data": [
        {
         "histfunc": "count",
         "histnorm": "",
         "marker": {
          "color": "rgba(255, 153, 51, 1.0)",
          "line": {
           "color": "#4D5663",
           "width": 1.3
          }
         },
         "name": "A",
         "opacity": 0.8,
         "orientation": "v",
         "type": "histogram",
         "x": [
          -0.3603101022368317,
          -1.4932067099630373,
          0.7401114483929926,
          1.5876799119575666,
          -0.5882553778090175,
          -0.19328619251142493,
          -1.1483331165246522,
          0.3346583368373109,
          -1.353736298933149,
          0.16244749177332804,
          0.4107766850650031,
          -0.1019513767017405,
          -0.55044118145215,
          1.4552814654316812,
          0.7102307470463595,
          0.2042809643735204,
          -1.3141840287757471,
          0.9397974293810624,
          1.4622082850861817,
          0.004581087125822542,
          1.1872560720964547,
          -0.06939465386530655,
          0.34555569871453634,
          0.47627576924484,
          0.11665148042293134,
          0.22866331638806298,
          -0.29839556035322234,
          -2.359488044458736,
          1.5194122054394072,
          1.4583479497699154,
          -0.46185920982978745,
          0.0034936982540661877,
          0.036773686882005295,
          -0.4054567731595773,
          -1.198527786346277,
          0.6035952075449362,
          -0.12056204746885117,
          -0.08696956062189974,
          -0.30260921526610346,
          -1.379181324098899,
          -0.7575510045383668,
          -1.1669069387928175,
          0.42251770640713326,
          -0.39442991537684646,
          0.8968649696810801,
          1.000185756835219,
          1.225290849161005,
          -0.5684875907200435,
          -0.9732008970869809,
          -0.13495915879243361,
          -0.7444246126382412,
          -0.08707835112761256,
          0.8798796323503689,
          0.7060197101561982,
          -0.04243007752957983,
          -1.2601728989214394,
          -0.944969736816905,
          0.42698695657750374,
          -1.9294248752331329,
          1.0336411672109236,
          -1.7549866151466353,
          0.2286082492666186,
          -1.6149892789862796,
          0.45981906285790236,
          -1.4103986669031026,
          0.9635927411240099,
          -0.03860187917494151,
          -1.6626456582328502,
          2.187540504498553,
          -0.7097028844079241,
          -2.2801230185416337,
          -1.6130622349451873,
          -0.42600445367120715,
          1.1394401765294633,
          -0.3613245728493242,
          -1.2760968160051436,
          -0.19054613667361206,
          -0.5608507458210631,
          -1.0706260872017523,
          0.8319065039536502,
          1.1586586008561413,
          -0.32577688866384846,
          -1.120167682648072,
          -0.8367561889192894,
          1.1501005753742084,
          1.1780914040975914,
          -2.1832722386363814,
          -0.8275274873462319,
          0.6478121324458215,
          1.1681321398775844,
          0.4718333199251554,
          1.1460239242801087,
          -0.7820887448110919,
          1.556158084660845,
          -1.6580547553017961,
          1.268655088327418,
          0.05952229145177814,
          -1.5759100408069073,
          -0.5736314310222357,
          -0.5229811365201296
         ]
        },
        {
         "histfunc": "count",
         "histnorm": "",
         "marker": {
          "color": "rgba(55, 128, 191, 1.0)",
          "line": {
           "color": "#4D5663",
           "width": 1.3
          }
         },
         "name": "B",
         "opacity": 0.8,
         "orientation": "v",
         "type": "histogram",
         "x": [
          0.43857065498127923,
          0.2921972188658163,
          0.5269976435150321,
          0.3456298172824727,
          -0.17265962141318386,
          1.5214063113948753,
          0.21887156209224995,
          -0.9169151805499315,
          0.897046790028798,
          -0.44166817990327406,
          -0.4905537825729059,
          0.3393359972150877,
          -0.13258206022710767,
          -0.17440426007304868,
          -0.11436202173227045,
          1.3765722633554949,
          -1.363010519812039,
          1.3652219891550936,
          -1.041925534006676,
          0.4030559772477593,
          0.43147627576451036,
          1.1244929202098919,
          0.01284568975710407,
          -1.7329434635161785,
          0.34833148705841827,
          -0.08746755785800744,
          -0.6181108160972224,
          1.1033028653163843,
          0.4471900952784845,
          1.2369465803935622,
          0.8148534762160029,
          1.1024391577961616,
          -0.6072245388300551,
          0.16614874269076368,
          -0.17630537750694994,
          -0.4874814902562876,
          0.39146192099755295,
          0.47440239748577484,
          1.1108766530426502,
          0.9709270617422173,
          0.7094663736011866,
          0.5789503555856831,
          -0.29097984660730236,
          -1.074516099870212,
          -1.0179962198314423,
          0.4505070491292211,
          -0.0987560341762823,
          -0.3910764524815764,
          0.20181801446305067,
          0.9838957226496257,
          -0.9558160896945229,
          0.6394471676960702,
          -0.9552240638281172,
          -1.1106385648831525,
          0.393103490534785,
          0.09981593966862132,
          0.9439109322465946,
          0.5682537414314321,
          -1.201286951986347,
          0.2897167154660576,
          -0.6174219282112287,
          0.8911198651687253,
          0.6279124615290884,
          -0.5925009181791696,
          0.1561814860849528,
          1.2231838467346279,
          -0.15737218559812,
          -1.5474746664860417,
          0.24730224502486184,
          -0.6391894769475629,
          0.7352842406118774,
          -0.47704956402309234,
          -0.8582970312013011,
          -0.3586769108750361,
          0.8133099841261496,
          2.0430668916662293,
          -1.5997064464522288,
          -0.08913250267434249,
          -0.8019159391008681,
          -0.14004361811661117,
          1.3869118318293119,
          -3.0081095236739985,
          -2.6680211196509527,
          -0.5303358494927747,
          0.12978698353110324,
          -0.7636361580880751,
          0.2908557441422079,
          -0.295146448189477,
          -0.3856098063164494,
          0.5831054907534179,
          -0.2755588866036854,
          -1.2385546690415512,
          0.1378391604588889,
          -0.5080325904231946,
          -0.39089986743324556,
          -1.2611800034901748,
          -0.7038431183077906,
          -0.9359997462534155,
          -1.5480435915792188,
          -1.7643199576087762
         ]
        },
        {
         "histfunc": "count",
         "histnorm": "",
         "marker": {
          "color": "rgba(50, 171, 96, 1.0)",
          "line": {
           "color": "#4D5663",
           "width": 1.3
          }
         },
         "name": "C",
         "opacity": 0.8,
         "orientation": "v",
         "type": "histogram",
         "x": [
          -0.33304407935687297,
          0.4196480497928561,
          -1.0128407265795851,
          0.3834382551550639,
          -0.22051146973657765,
          1.2637080409428743,
          -0.3356546915580256,
          0.3299473999252595,
          -0.4927836095423988,
          0.676365691426167,
          -0.9540710140336576,
          1.5677157815516565,
          1.57803156462598,
          2.843575341172098,
          -1.5668013569275019,
          0.6501896043652855,
          0.1953136862590582,
          -0.15982872072127519,
          1.1881735273199179,
          -1.1123597654005102,
          0.31057427517424446,
          0.6858782640283084,
          1.5079375265602655,
          0.8476644826686831,
          -0.8530209380635657,
          -0.3570344501316517,
          0.3906179196994124,
          0.9159884708277022,
          -2.0031511144711964,
          -0.4697245159996884,
          1.5228230778093375,
          0.0689225827049908,
          0.8174298922219405,
          1.4223047744337014,
          1.758761790919159,
          -0.5044357034818677,
          -0.18286757167954842,
          -1.099218775044286,
          0.4895024879162726,
          -0.3368977802289586,
          -1.2609291962144602,
          1.3691913234433875,
          -1.0870692753036488,
          1.9913570478602178,
          -0.6524310062882994,
          -0.8042847683952612,
          -0.18297511813568068,
          0.6101716474685731,
          -1.076717593416154,
          -1.0253632413982823,
          1.3369529745232924,
          -1.7699044806435573,
          -0.6264108759527902,
          -0.5676555030227693,
          -0.25334572590646204,
          1.8275003149947189,
          0.16799628500316302,
          -0.12509276188550403,
          0.4583972693777563,
          -2.071881794074191,
          0.15131752446529795,
          1.025645687887124,
          -1.5457478500698516,
          0.5612578692014258,
          0.6891279357590095,
          -1.7216079830986206,
          -0.42483538129673476,
          -0.05640247313958615,
          -1.3571951381496665,
          1.3705231324321308,
          -2.536020325938372,
          0.30357252032518994,
          -0.8119117649915281,
          0.46568393430178984,
          -1.8053668506899696,
          0.988117383729646,
          0.7577646631081413,
          0.14390128785983738,
          1.725724147444466,
          2.1560186716117156,
          0.5787444953193548,
          1.5549832669292794,
          -1.494619446402623,
          -0.6309125827349641,
          -0.44162862605770786,
          0.5914825617692004,
          0.1282336376605584,
          -0.5616825304763499,
          2.5589848887591136,
          1.099922717554243,
          -0.6738756847649492,
          -1.4599028077913867,
          -0.33055771556131214,
          -0.9061242626000299,
          0.7788209404021356,
          -1.3739973089010387,
          1.935849500355021,
          -0.43067333463332313,
          -0.46124873094628116,
          -0.43802587757845834
         ]
        },
        {
         "histfunc": "count",
         "histnorm": "",
         "marker": {
          "color": "rgba(128, 0, 128, 1.0)",
          "line": {
           "color": "#4D5663",
           "width": 1.3
          }
         },
         "name": "D",
         "opacity": 0.8,
         "orientation": "v",
         "type": "histogram",
         "x": [
          0.44514927902206924,
          -0.4932796464433643,
          0.49004951231797034,
          0.9893702535816634,
          -0.3695510433765291,
          1.3073709571524497,
          -0.20397647509500466,
          0.9257993020287427,
          -1.555530442916235,
          1.0165069323800255,
          0.36882666878270787,
          -0.5000287722940971,
          -0.571415472198531,
          -0.4891197396518819,
          -0.09574011339114545,
          0.4150494653733849,
          -2.352927571154122,
          -2.000491316858666,
          1.2569298384299536,
          -0.2348889667088603,
          -0.23579483778080154,
          -0.7110423729873975,
          0.8461959867871499,
          -0.9478531208598431,
          -0.9105000307076286,
          0.5103896296782777,
          -0.36425916193338354,
          -0.4668898620879838,
          -0.3694305635936844,
          -0.07576080216397955,
          -0.010066937282491953,
          -1.4309251194300914,
          -1.1414763333497955,
          0.5756311607826187,
          -0.17481915928555952,
          -0.02311701740580824,
          -0.6343100617205631,
          -1.612507757767517,
          1.1708141165298458,
          -0.45623817375731646,
          0.9283694853459812,
          -0.41076757301040034,
          -0.23899973661572035,
          0.9472078095862808,
          -0.7435332911928643,
          1.1418564370527604,
          0.9209724820910382,
          -0.9097174353194862,
          -1.6652410148483707,
          -0.1593311316680365,
          1.7101480615179498,
          1.0890536615233795,
          0.5927881396371886,
          1.042764922739655,
          -1.1266567950324227,
          -1.6288853516330672,
          0.6369307931518935,
          1.3128923686572516,
          -1.0520711699898084,
          -1.1712015748579032,
          -1.3686628461617183,
          -0.13955144009682297,
          2.2085222175655246,
          0.8115303005297543,
          -0.7415545573402113,
          -0.6468602158556795,
          -0.09656870583882846,
          -0.22916502740326786,
          1.9473398160278808,
          1.1689978067611757,
          -1.3063608130632387,
          -0.14069119585770404,
          -0.29674570761239183,
          -0.23564085984490005,
          1.1324844315536782,
          -0.9018348771332421,
          -0.18054103901337937,
          0.6367796882986028,
          -0.32603613410308896,
          0.9936403795486872,
          -0.4132087009186094,
          0.5908801944612876,
          -0.7361669902343383,
          0.7500369440953866,
          -0.22764454955526914,
          0.5783363724164028,
          1.3430340279492383,
          0.22316537570913333,
          -0.2686696242333291,
          -1.9370867804686573,
          -0.748693992415597,
          1.1561540180085867,
          -1.8938816518035753,
          -0.08731504338881442,
          -1.5026348349145464,
          0.9264297372131799,
          0.22610468007977882,
          -0.07072214923274342,
          0.6913298962666558,
          -1.6513938223947522
         ]
        }
       ],
       "layout": {
        "barmode": "overlay",
        "legend": {
         "bgcolor": "#F5F6F9",
         "font": {
          "color": "#4D5663"
         }
        },
        "paper_bgcolor": "#F5F6F9",
        "plot_bgcolor": "#F5F6F9",
        "template": {
         "data": {
          "bar": [
           {
            "error_x": {
             "color": "#2a3f5f"
            },
            "error_y": {
             "color": "#2a3f5f"
            },
            "marker": {
             "line": {
              "color": "#E5ECF6",
              "width": 0.5
             },
             "pattern": {
              "fillmode": "overlay",
              "size": 10,
              "solidity": 0.2
             }
            },
            "type": "bar"
           }
          ],
          "barpolar": [
           {
            "marker": {
             "line": {
              "color": "#E5ECF6",
              "width": 0.5
             },
             "pattern": {
              "fillmode": "overlay",
              "size": 10,
              "solidity": 0.2
             }
            },
            "type": "barpolar"
           }
          ],
          "carpet": [
           {
            "aaxis": {
             "endlinecolor": "#2a3f5f",
             "gridcolor": "white",
             "linecolor": "white",
             "minorgridcolor": "white",
             "startlinecolor": "#2a3f5f"
            },
            "baxis": {
             "endlinecolor": "#2a3f5f",
             "gridcolor": "white",
             "linecolor": "white",
             "minorgridcolor": "white",
             "startlinecolor": "#2a3f5f"
            },
            "type": "carpet"
           }
          ],
          "choropleth": [
           {
            "colorbar": {
             "outlinewidth": 0,
             "ticks": ""
            },
            "type": "choropleth"
           }
          ],
          "contour": [
           {
            "colorbar": {
             "outlinewidth": 0,
             "ticks": ""
            },
            "colorscale": [
             [
              0,
              "#0d0887"
             ],
             [
              0.1111111111111111,
              "#46039f"
             ],
             [
              0.2222222222222222,
              "#7201a8"
             ],
             [
              0.3333333333333333,
              "#9c179e"
             ],
             [
              0.4444444444444444,
              "#bd3786"
             ],
             [
              0.5555555555555556,
              "#d8576b"
             ],
             [
              0.6666666666666666,
              "#ed7953"
             ],
             [
              0.7777777777777778,
              "#fb9f3a"
             ],
             [
              0.8888888888888888,
              "#fdca26"
             ],
             [
              1,
              "#f0f921"
             ]
            ],
            "type": "contour"
           }
          ],
          "contourcarpet": [
           {
            "colorbar": {
             "outlinewidth": 0,
             "ticks": ""
            },
            "type": "contourcarpet"
           }
          ],
          "heatmap": [
           {
            "colorbar": {
             "outlinewidth": 0,
             "ticks": ""
            },
            "colorscale": [
             [
              0,
              "#0d0887"
             ],
             [
              0.1111111111111111,
              "#46039f"
             ],
             [
              0.2222222222222222,
              "#7201a8"
             ],
             [
              0.3333333333333333,
              "#9c179e"
             ],
             [
              0.4444444444444444,
              "#bd3786"
             ],
             [
              0.5555555555555556,
              "#d8576b"
             ],
             [
              0.6666666666666666,
              "#ed7953"
             ],
             [
              0.7777777777777778,
              "#fb9f3a"
             ],
             [
              0.8888888888888888,
              "#fdca26"
             ],
             [
              1,
              "#f0f921"
             ]
            ],
            "type": "heatmap"
           }
          ],
          "heatmapgl": [
           {
            "colorbar": {
             "outlinewidth": 0,
             "ticks": ""
            },
            "colorscale": [
             [
              0,
              "#0d0887"
             ],
             [
              0.1111111111111111,
              "#46039f"
             ],
             [
              0.2222222222222222,
              "#7201a8"
             ],
             [
              0.3333333333333333,
              "#9c179e"
             ],
             [
              0.4444444444444444,
              "#bd3786"
             ],
             [
              0.5555555555555556,
              "#d8576b"
             ],
             [
              0.6666666666666666,
              "#ed7953"
             ],
             [
              0.7777777777777778,
              "#fb9f3a"
             ],
             [
              0.8888888888888888,
              "#fdca26"
             ],
             [
              1,
              "#f0f921"
             ]
            ],
            "type": "heatmapgl"
           }
          ],
          "histogram": [
           {
            "marker": {
             "pattern": {
              "fillmode": "overlay",
              "size": 10,
              "solidity": 0.2
             }
            },
            "type": "histogram"
           }
          ],
          "histogram2d": [
           {
            "colorbar": {
             "outlinewidth": 0,
             "ticks": ""
            },
            "colorscale": [
             [
              0,
              "#0d0887"
             ],
             [
              0.1111111111111111,
              "#46039f"
             ],
             [
              0.2222222222222222,
              "#7201a8"
             ],
             [
              0.3333333333333333,
              "#9c179e"
             ],
             [
              0.4444444444444444,
              "#bd3786"
             ],
             [
              0.5555555555555556,
              "#d8576b"
             ],
             [
              0.6666666666666666,
              "#ed7953"
             ],
             [
              0.7777777777777778,
              "#fb9f3a"
             ],
             [
              0.8888888888888888,
              "#fdca26"
             ],
             [
              1,
              "#f0f921"
             ]
            ],
            "type": "histogram2d"
           }
          ],
          "histogram2dcontour": [
           {
            "colorbar": {
             "outlinewidth": 0,
             "ticks": ""
            },
            "colorscale": [
             [
              0,
              "#0d0887"
             ],
             [
              0.1111111111111111,
              "#46039f"
             ],
             [
              0.2222222222222222,
              "#7201a8"
             ],
             [
              0.3333333333333333,
              "#9c179e"
             ],
             [
              0.4444444444444444,
              "#bd3786"
             ],
             [
              0.5555555555555556,
              "#d8576b"
             ],
             [
              0.6666666666666666,
              "#ed7953"
             ],
             [
              0.7777777777777778,
              "#fb9f3a"
             ],
             [
              0.8888888888888888,
              "#fdca26"
             ],
             [
              1,
              "#f0f921"
             ]
            ],
            "type": "histogram2dcontour"
           }
          ],
          "mesh3d": [
           {
            "colorbar": {
             "outlinewidth": 0,
             "ticks": ""
            },
            "type": "mesh3d"
           }
          ],
          "parcoords": [
           {
            "line": {
             "colorbar": {
              "outlinewidth": 0,
              "ticks": ""
             }
            },
            "type": "parcoords"
           }
          ],
          "pie": [
           {
            "automargin": true,
            "type": "pie"
           }
          ],
          "scatter": [
           {
            "marker": {
             "colorbar": {
              "outlinewidth": 0,
              "ticks": ""
             }
            },
            "type": "scatter"
           }
          ],
          "scatter3d": [
           {
            "line": {
             "colorbar": {
              "outlinewidth": 0,
              "ticks": ""
             }
            },
            "marker": {
             "colorbar": {
              "outlinewidth": 0,
              "ticks": ""
             }
            },
            "type": "scatter3d"
           }
          ],
          "scattercarpet": [
           {
            "marker": {
             "colorbar": {
              "outlinewidth": 0,
              "ticks": ""
             }
            },
            "type": "scattercarpet"
           }
          ],
          "scattergeo": [
           {
            "marker": {
             "colorbar": {
              "outlinewidth": 0,
              "ticks": ""
             }
            },
            "type": "scattergeo"
           }
          ],
          "scattergl": [
           {
            "marker": {
             "colorbar": {
              "outlinewidth": 0,
              "ticks": ""
             }
            },
            "type": "scattergl"
           }
          ],
          "scattermapbox": [
           {
            "marker": {
             "colorbar": {
              "outlinewidth": 0,
              "ticks": ""
             }
            },
            "type": "scattermapbox"
           }
          ],
          "scatterpolar": [
           {
            "marker": {
             "colorbar": {
              "outlinewidth": 0,
              "ticks": ""
             }
            },
            "type": "scatterpolar"
           }
          ],
          "scatterpolargl": [
           {
            "marker": {
             "colorbar": {
              "outlinewidth": 0,
              "ticks": ""
             }
            },
            "type": "scatterpolargl"
           }
          ],
          "scatterternary": [
           {
            "marker": {
             "colorbar": {
              "outlinewidth": 0,
              "ticks": ""
             }
            },
            "type": "scatterternary"
           }
          ],
          "surface": [
           {
            "colorbar": {
             "outlinewidth": 0,
             "ticks": ""
            },
            "colorscale": [
             [
              0,
              "#0d0887"
             ],
             [
              0.1111111111111111,
              "#46039f"
             ],
             [
              0.2222222222222222,
              "#7201a8"
             ],
             [
              0.3333333333333333,
              "#9c179e"
             ],
             [
              0.4444444444444444,
              "#bd3786"
             ],
             [
              0.5555555555555556,
              "#d8576b"
             ],
             [
              0.6666666666666666,
              "#ed7953"
             ],
             [
              0.7777777777777778,
              "#fb9f3a"
             ],
             [
              0.8888888888888888,
              "#fdca26"
             ],
             [
              1,
              "#f0f921"
             ]
            ],
            "type": "surface"
           }
          ],
          "table": [
           {
            "cells": {
             "fill": {
              "color": "#EBF0F8"
             },
             "line": {
              "color": "white"
             }
            },
            "header": {
             "fill": {
              "color": "#C8D4E3"
             },
             "line": {
              "color": "white"
             }
            },
            "type": "table"
           }
          ]
         },
         "layout": {
          "annotationdefaults": {
           "arrowcolor": "#2a3f5f",
           "arrowhead": 0,
           "arrowwidth": 1
          },
          "autotypenumbers": "strict",
          "coloraxis": {
           "colorbar": {
            "outlinewidth": 0,
            "ticks": ""
           }
          },
          "colorscale": {
           "diverging": [
            [
             0,
             "#8e0152"
            ],
            [
             0.1,
             "#c51b7d"
            ],
            [
             0.2,
             "#de77ae"
            ],
            [
             0.3,
             "#f1b6da"
            ],
            [
             0.4,
             "#fde0ef"
            ],
            [
             0.5,
             "#f7f7f7"
            ],
            [
             0.6,
             "#e6f5d0"
            ],
            [
             0.7,
             "#b8e186"
            ],
            [
             0.8,
             "#7fbc41"
            ],
            [
             0.9,
             "#4d9221"
            ],
            [
             1,
             "#276419"
            ]
           ],
           "sequential": [
            [
             0,
             "#0d0887"
            ],
            [
             0.1111111111111111,
             "#46039f"
            ],
            [
             0.2222222222222222,
             "#7201a8"
            ],
            [
             0.3333333333333333,
             "#9c179e"
            ],
            [
             0.4444444444444444,
             "#bd3786"
            ],
            [
             0.5555555555555556,
             "#d8576b"
            ],
            [
             0.6666666666666666,
             "#ed7953"
            ],
            [
             0.7777777777777778,
             "#fb9f3a"
            ],
            [
             0.8888888888888888,
             "#fdca26"
            ],
            [
             1,
             "#f0f921"
            ]
           ],
           "sequentialminus": [
            [
             0,
             "#0d0887"
            ],
            [
             0.1111111111111111,
             "#46039f"
            ],
            [
             0.2222222222222222,
             "#7201a8"
            ],
            [
             0.3333333333333333,
             "#9c179e"
            ],
            [
             0.4444444444444444,
             "#bd3786"
            ],
            [
             0.5555555555555556,
             "#d8576b"
            ],
            [
             0.6666666666666666,
             "#ed7953"
            ],
            [
             0.7777777777777778,
             "#fb9f3a"
            ],
            [
             0.8888888888888888,
             "#fdca26"
            ],
            [
             1,
             "#f0f921"
            ]
           ]
          },
          "colorway": [
           "#636efa",
           "#EF553B",
           "#00cc96",
           "#ab63fa",
           "#FFA15A",
           "#19d3f3",
           "#FF6692",
           "#B6E880",
           "#FF97FF",
           "#FECB52"
          ],
          "font": {
           "color": "#2a3f5f"
          },
          "geo": {
           "bgcolor": "white",
           "lakecolor": "white",
           "landcolor": "#E5ECF6",
           "showlakes": true,
           "showland": true,
           "subunitcolor": "white"
          },
          "hoverlabel": {
           "align": "left"
          },
          "hovermode": "closest",
          "mapbox": {
           "style": "light"
          },
          "paper_bgcolor": "white",
          "plot_bgcolor": "#E5ECF6",
          "polar": {
           "angularaxis": {
            "gridcolor": "white",
            "linecolor": "white",
            "ticks": ""
           },
           "bgcolor": "#E5ECF6",
           "radialaxis": {
            "gridcolor": "white",
            "linecolor": "white",
            "ticks": ""
           }
          },
          "scene": {
           "xaxis": {
            "backgroundcolor": "#E5ECF6",
            "gridcolor": "white",
            "gridwidth": 2,
            "linecolor": "white",
            "showbackground": true,
            "ticks": "",
            "zerolinecolor": "white"
           },
           "yaxis": {
            "backgroundcolor": "#E5ECF6",
            "gridcolor": "white",
            "gridwidth": 2,
            "linecolor": "white",
            "showbackground": true,
            "ticks": "",
            "zerolinecolor": "white"
           },
           "zaxis": {
            "backgroundcolor": "#E5ECF6",
            "gridcolor": "white",
            "gridwidth": 2,
            "linecolor": "white",
            "showbackground": true,
            "ticks": "",
            "zerolinecolor": "white"
           }
          },
          "shapedefaults": {
           "line": {
            "color": "#2a3f5f"
           }
          },
          "ternary": {
           "aaxis": {
            "gridcolor": "white",
            "linecolor": "white",
            "ticks": ""
           },
           "baxis": {
            "gridcolor": "white",
            "linecolor": "white",
            "ticks": ""
           },
           "bgcolor": "#E5ECF6",
           "caxis": {
            "gridcolor": "white",
            "linecolor": "white",
            "ticks": ""
           }
          },
          "title": {
           "x": 0.05
          },
          "xaxis": {
           "automargin": true,
           "gridcolor": "white",
           "linecolor": "white",
           "ticks": "",
           "title": {
            "standoff": 15
           },
           "zerolinecolor": "white",
           "zerolinewidth": 2
          },
          "yaxis": {
           "automargin": true,
           "gridcolor": "white",
           "linecolor": "white",
           "ticks": "",
           "title": {
            "standoff": 15
           },
           "zerolinecolor": "white",
           "zerolinewidth": 2
          }
         }
        },
        "title": {
         "font": {
          "color": "#4D5663"
         }
        },
        "xaxis": {
         "gridcolor": "#E1E5ED",
         "showgrid": true,
         "tickfont": {
          "color": "#4D5663"
         },
         "title": {
          "font": {
           "color": "#4D5663"
          },
          "text": ""
         },
         "zerolinecolor": "#E1E5ED"
        },
        "yaxis": {
         "gridcolor": "#E1E5ED",
         "showgrid": true,
         "tickfont": {
          "color": "#4D5663"
         },
         "title": {
          "font": {
           "color": "#4D5663"
          },
          "text": ""
         },
         "zerolinecolor": "#E1E5ED"
        }
       }
      },
      "text/html": [
       "<div>                            <div id=\"edbd6068-078c-4ae5-84b4-60ec33c40593\" class=\"plotly-graph-div\" style=\"height:525px; width:100%;\"></div>            <script type=\"text/javascript\">                require([\"plotly\"], function(Plotly) {                    window.PLOTLYENV=window.PLOTLYENV || {};\n",
       "                    window.PLOTLYENV.BASE_URL='https://plot.ly';                                    if (document.getElementById(\"edbd6068-078c-4ae5-84b4-60ec33c40593\")) {                    Plotly.newPlot(                        \"edbd6068-078c-4ae5-84b4-60ec33c40593\",                        [{\"histfunc\":\"count\",\"histnorm\":\"\",\"marker\":{\"color\":\"rgba(255, 153, 51, 1.0)\",\"line\":{\"color\":\"#4D5663\",\"width\":1.3}},\"name\":\"A\",\"opacity\":0.8,\"orientation\":\"v\",\"type\":\"histogram\",\"x\":[-0.3603101022368317,-1.4932067099630373,0.7401114483929926,1.5876799119575666,-0.5882553778090175,-0.19328619251142493,-1.1483331165246522,0.3346583368373109,-1.353736298933149,0.16244749177332804,0.4107766850650031,-0.1019513767017405,-0.55044118145215,1.4552814654316812,0.7102307470463595,0.2042809643735204,-1.3141840287757471,0.9397974293810624,1.4622082850861817,0.004581087125822542,1.1872560720964547,-0.06939465386530655,0.34555569871453634,0.47627576924484,0.11665148042293134,0.22866331638806298,-0.29839556035322234,-2.359488044458736,1.5194122054394072,1.4583479497699154,-0.46185920982978745,0.0034936982540661877,0.036773686882005295,-0.4054567731595773,-1.198527786346277,0.6035952075449362,-0.12056204746885117,-0.08696956062189974,-0.30260921526610346,-1.379181324098899,-0.7575510045383668,-1.1669069387928175,0.42251770640713326,-0.39442991537684646,0.8968649696810801,1.000185756835219,1.225290849161005,-0.5684875907200435,-0.9732008970869809,-0.13495915879243361,-0.7444246126382412,-0.08707835112761256,0.8798796323503689,0.7060197101561982,-0.04243007752957983,-1.2601728989214394,-0.944969736816905,0.42698695657750374,-1.9294248752331329,1.0336411672109236,-1.7549866151466353,0.2286082492666186,-1.6149892789862796,0.45981906285790236,-1.4103986669031026,0.9635927411240099,-0.03860187917494151,-1.6626456582328502,2.187540504498553,-0.7097028844079241,-2.2801230185416337,-1.6130622349451873,-0.42600445367120715,1.1394401765294633,-0.3613245728493242,-1.2760968160051436,-0.19054613667361206,-0.5608507458210631,-1.0706260872017523,0.8319065039536502,1.1586586008561413,-0.32577688866384846,-1.120167682648072,-0.8367561889192894,1.1501005753742084,1.1780914040975914,-2.1832722386363814,-0.8275274873462319,0.6478121324458215,1.1681321398775844,0.4718333199251554,1.1460239242801087,-0.7820887448110919,1.556158084660845,-1.6580547553017961,1.268655088327418,0.05952229145177814,-1.5759100408069073,-0.5736314310222357,-0.5229811365201296]},{\"histfunc\":\"count\",\"histnorm\":\"\",\"marker\":{\"color\":\"rgba(55, 128, 191, 1.0)\",\"line\":{\"color\":\"#4D5663\",\"width\":1.3}},\"name\":\"B\",\"opacity\":0.8,\"orientation\":\"v\",\"type\":\"histogram\",\"x\":[0.43857065498127923,0.2921972188658163,0.5269976435150321,0.3456298172824727,-0.17265962141318386,1.5214063113948753,0.21887156209224995,-0.9169151805499315,0.897046790028798,-0.44166817990327406,-0.4905537825729059,0.3393359972150877,-0.13258206022710767,-0.17440426007304868,-0.11436202173227045,1.3765722633554949,-1.363010519812039,1.3652219891550936,-1.041925534006676,0.4030559772477593,0.43147627576451036,1.1244929202098919,0.01284568975710407,-1.7329434635161785,0.34833148705841827,-0.08746755785800744,-0.6181108160972224,1.1033028653163843,0.4471900952784845,1.2369465803935622,0.8148534762160029,1.1024391577961616,-0.6072245388300551,0.16614874269076368,-0.17630537750694994,-0.4874814902562876,0.39146192099755295,0.47440239748577484,1.1108766530426502,0.9709270617422173,0.7094663736011866,0.5789503555856831,-0.29097984660730236,-1.074516099870212,-1.0179962198314423,0.4505070491292211,-0.0987560341762823,-0.3910764524815764,0.20181801446305067,0.9838957226496257,-0.9558160896945229,0.6394471676960702,-0.9552240638281172,-1.1106385648831525,0.393103490534785,0.09981593966862132,0.9439109322465946,0.5682537414314321,-1.201286951986347,0.2897167154660576,-0.6174219282112287,0.8911198651687253,0.6279124615290884,-0.5925009181791696,0.1561814860849528,1.2231838467346279,-0.15737218559812,-1.5474746664860417,0.24730224502486184,-0.6391894769475629,0.7352842406118774,-0.47704956402309234,-0.8582970312013011,-0.3586769108750361,0.8133099841261496,2.0430668916662293,-1.5997064464522288,-0.08913250267434249,-0.8019159391008681,-0.14004361811661117,1.3869118318293119,-3.0081095236739985,-2.6680211196509527,-0.5303358494927747,0.12978698353110324,-0.7636361580880751,0.2908557441422079,-0.295146448189477,-0.3856098063164494,0.5831054907534179,-0.2755588866036854,-1.2385546690415512,0.1378391604588889,-0.5080325904231946,-0.39089986743324556,-1.2611800034901748,-0.7038431183077906,-0.9359997462534155,-1.5480435915792188,-1.7643199576087762]},{\"histfunc\":\"count\",\"histnorm\":\"\",\"marker\":{\"color\":\"rgba(50, 171, 96, 1.0)\",\"line\":{\"color\":\"#4D5663\",\"width\":1.3}},\"name\":\"C\",\"opacity\":0.8,\"orientation\":\"v\",\"type\":\"histogram\",\"x\":[-0.33304407935687297,0.4196480497928561,-1.0128407265795851,0.3834382551550639,-0.22051146973657765,1.2637080409428743,-0.3356546915580256,0.3299473999252595,-0.4927836095423988,0.676365691426167,-0.9540710140336576,1.5677157815516565,1.57803156462598,2.843575341172098,-1.5668013569275019,0.6501896043652855,0.1953136862590582,-0.15982872072127519,1.1881735273199179,-1.1123597654005102,0.31057427517424446,0.6858782640283084,1.5079375265602655,0.8476644826686831,-0.8530209380635657,-0.3570344501316517,0.3906179196994124,0.9159884708277022,-2.0031511144711964,-0.4697245159996884,1.5228230778093375,0.0689225827049908,0.8174298922219405,1.4223047744337014,1.758761790919159,-0.5044357034818677,-0.18286757167954842,-1.099218775044286,0.4895024879162726,-0.3368977802289586,-1.2609291962144602,1.3691913234433875,-1.0870692753036488,1.9913570478602178,-0.6524310062882994,-0.8042847683952612,-0.18297511813568068,0.6101716474685731,-1.076717593416154,-1.0253632413982823,1.3369529745232924,-1.7699044806435573,-0.6264108759527902,-0.5676555030227693,-0.25334572590646204,1.8275003149947189,0.16799628500316302,-0.12509276188550403,0.4583972693777563,-2.071881794074191,0.15131752446529795,1.025645687887124,-1.5457478500698516,0.5612578692014258,0.6891279357590095,-1.7216079830986206,-0.42483538129673476,-0.05640247313958615,-1.3571951381496665,1.3705231324321308,-2.536020325938372,0.30357252032518994,-0.8119117649915281,0.46568393430178984,-1.8053668506899696,0.988117383729646,0.7577646631081413,0.14390128785983738,1.725724147444466,2.1560186716117156,0.5787444953193548,1.5549832669292794,-1.494619446402623,-0.6309125827349641,-0.44162862605770786,0.5914825617692004,0.1282336376605584,-0.5616825304763499,2.5589848887591136,1.099922717554243,-0.6738756847649492,-1.4599028077913867,-0.33055771556131214,-0.9061242626000299,0.7788209404021356,-1.3739973089010387,1.935849500355021,-0.43067333463332313,-0.46124873094628116,-0.43802587757845834]},{\"histfunc\":\"count\",\"histnorm\":\"\",\"marker\":{\"color\":\"rgba(128, 0, 128, 1.0)\",\"line\":{\"color\":\"#4D5663\",\"width\":1.3}},\"name\":\"D\",\"opacity\":0.8,\"orientation\":\"v\",\"type\":\"histogram\",\"x\":[0.44514927902206924,-0.4932796464433643,0.49004951231797034,0.9893702535816634,-0.3695510433765291,1.3073709571524497,-0.20397647509500466,0.9257993020287427,-1.555530442916235,1.0165069323800255,0.36882666878270787,-0.5000287722940971,-0.571415472198531,-0.4891197396518819,-0.09574011339114545,0.4150494653733849,-2.352927571154122,-2.000491316858666,1.2569298384299536,-0.2348889667088603,-0.23579483778080154,-0.7110423729873975,0.8461959867871499,-0.9478531208598431,-0.9105000307076286,0.5103896296782777,-0.36425916193338354,-0.4668898620879838,-0.3694305635936844,-0.07576080216397955,-0.010066937282491953,-1.4309251194300914,-1.1414763333497955,0.5756311607826187,-0.17481915928555952,-0.02311701740580824,-0.6343100617205631,-1.612507757767517,1.1708141165298458,-0.45623817375731646,0.9283694853459812,-0.41076757301040034,-0.23899973661572035,0.9472078095862808,-0.7435332911928643,1.1418564370527604,0.9209724820910382,-0.9097174353194862,-1.6652410148483707,-0.1593311316680365,1.7101480615179498,1.0890536615233795,0.5927881396371886,1.042764922739655,-1.1266567950324227,-1.6288853516330672,0.6369307931518935,1.3128923686572516,-1.0520711699898084,-1.1712015748579032,-1.3686628461617183,-0.13955144009682297,2.2085222175655246,0.8115303005297543,-0.7415545573402113,-0.6468602158556795,-0.09656870583882846,-0.22916502740326786,1.9473398160278808,1.1689978067611757,-1.3063608130632387,-0.14069119585770404,-0.29674570761239183,-0.23564085984490005,1.1324844315536782,-0.9018348771332421,-0.18054103901337937,0.6367796882986028,-0.32603613410308896,0.9936403795486872,-0.4132087009186094,0.5908801944612876,-0.7361669902343383,0.7500369440953866,-0.22764454955526914,0.5783363724164028,1.3430340279492383,0.22316537570913333,-0.2686696242333291,-1.9370867804686573,-0.748693992415597,1.1561540180085867,-1.8938816518035753,-0.08731504338881442,-1.5026348349145464,0.9264297372131799,0.22610468007977882,-0.07072214923274342,0.6913298962666558,-1.6513938223947522]}],                        {\"barmode\":\"overlay\",\"legend\":{\"bgcolor\":\"#F5F6F9\",\"font\":{\"color\":\"#4D5663\"}},\"paper_bgcolor\":\"#F5F6F9\",\"plot_bgcolor\":\"#F5F6F9\",\"template\":{\"data\":{\"bar\":[{\"error_x\":{\"color\":\"#2a3f5f\"},\"error_y\":{\"color\":\"#2a3f5f\"},\"marker\":{\"line\":{\"color\":\"#E5ECF6\",\"width\":0.5},\"pattern\":{\"fillmode\":\"overlay\",\"size\":10,\"solidity\":0.2}},\"type\":\"bar\"}],\"barpolar\":[{\"marker\":{\"line\":{\"color\":\"#E5ECF6\",\"width\":0.5},\"pattern\":{\"fillmode\":\"overlay\",\"size\":10,\"solidity\":0.2}},\"type\":\"barpolar\"}],\"carpet\":[{\"aaxis\":{\"endlinecolor\":\"#2a3f5f\",\"gridcolor\":\"white\",\"linecolor\":\"white\",\"minorgridcolor\":\"white\",\"startlinecolor\":\"#2a3f5f\"},\"baxis\":{\"endlinecolor\":\"#2a3f5f\",\"gridcolor\":\"white\",\"linecolor\":\"white\",\"minorgridcolor\":\"white\",\"startlinecolor\":\"#2a3f5f\"},\"type\":\"carpet\"}],\"choropleth\":[{\"colorbar\":{\"outlinewidth\":0,\"ticks\":\"\"},\"type\":\"choropleth\"}],\"contour\":[{\"colorbar\":{\"outlinewidth\":0,\"ticks\":\"\"},\"colorscale\":[[0.0,\"#0d0887\"],[0.1111111111111111,\"#46039f\"],[0.2222222222222222,\"#7201a8\"],[0.3333333333333333,\"#9c179e\"],[0.4444444444444444,\"#bd3786\"],[0.5555555555555556,\"#d8576b\"],[0.6666666666666666,\"#ed7953\"],[0.7777777777777778,\"#fb9f3a\"],[0.8888888888888888,\"#fdca26\"],[1.0,\"#f0f921\"]],\"type\":\"contour\"}],\"contourcarpet\":[{\"colorbar\":{\"outlinewidth\":0,\"ticks\":\"\"},\"type\":\"contourcarpet\"}],\"heatmap\":[{\"colorbar\":{\"outlinewidth\":0,\"ticks\":\"\"},\"colorscale\":[[0.0,\"#0d0887\"],[0.1111111111111111,\"#46039f\"],[0.2222222222222222,\"#7201a8\"],[0.3333333333333333,\"#9c179e\"],[0.4444444444444444,\"#bd3786\"],[0.5555555555555556,\"#d8576b\"],[0.6666666666666666,\"#ed7953\"],[0.7777777777777778,\"#fb9f3a\"],[0.8888888888888888,\"#fdca26\"],[1.0,\"#f0f921\"]],\"type\":\"heatmap\"}],\"heatmapgl\":[{\"colorbar\":{\"outlinewidth\":0,\"ticks\":\"\"},\"colorscale\":[[0.0,\"#0d0887\"],[0.1111111111111111,\"#46039f\"],[0.2222222222222222,\"#7201a8\"],[0.3333333333333333,\"#9c179e\"],[0.4444444444444444,\"#bd3786\"],[0.5555555555555556,\"#d8576b\"],[0.6666666666666666,\"#ed7953\"],[0.7777777777777778,\"#fb9f3a\"],[0.8888888888888888,\"#fdca26\"],[1.0,\"#f0f921\"]],\"type\":\"heatmapgl\"}],\"histogram\":[{\"marker\":{\"pattern\":{\"fillmode\":\"overlay\",\"size\":10,\"solidity\":0.2}},\"type\":\"histogram\"}],\"histogram2d\":[{\"colorbar\":{\"outlinewidth\":0,\"ticks\":\"\"},\"colorscale\":[[0.0,\"#0d0887\"],[0.1111111111111111,\"#46039f\"],[0.2222222222222222,\"#7201a8\"],[0.3333333333333333,\"#9c179e\"],[0.4444444444444444,\"#bd3786\"],[0.5555555555555556,\"#d8576b\"],[0.6666666666666666,\"#ed7953\"],[0.7777777777777778,\"#fb9f3a\"],[0.8888888888888888,\"#fdca26\"],[1.0,\"#f0f921\"]],\"type\":\"histogram2d\"}],\"histogram2dcontour\":[{\"colorbar\":{\"outlinewidth\":0,\"ticks\":\"\"},\"colorscale\":[[0.0,\"#0d0887\"],[0.1111111111111111,\"#46039f\"],[0.2222222222222222,\"#7201a8\"],[0.3333333333333333,\"#9c179e\"],[0.4444444444444444,\"#bd3786\"],[0.5555555555555556,\"#d8576b\"],[0.6666666666666666,\"#ed7953\"],[0.7777777777777778,\"#fb9f3a\"],[0.8888888888888888,\"#fdca26\"],[1.0,\"#f0f921\"]],\"type\":\"histogram2dcontour\"}],\"mesh3d\":[{\"colorbar\":{\"outlinewidth\":0,\"ticks\":\"\"},\"type\":\"mesh3d\"}],\"parcoords\":[{\"line\":{\"colorbar\":{\"outlinewidth\":0,\"ticks\":\"\"}},\"type\":\"parcoords\"}],\"pie\":[{\"automargin\":true,\"type\":\"pie\"}],\"scatter\":[{\"marker\":{\"colorbar\":{\"outlinewidth\":0,\"ticks\":\"\"}},\"type\":\"scatter\"}],\"scatter3d\":[{\"line\":{\"colorbar\":{\"outlinewidth\":0,\"ticks\":\"\"}},\"marker\":{\"colorbar\":{\"outlinewidth\":0,\"ticks\":\"\"}},\"type\":\"scatter3d\"}],\"scattercarpet\":[{\"marker\":{\"colorbar\":{\"outlinewidth\":0,\"ticks\":\"\"}},\"type\":\"scattercarpet\"}],\"scattergeo\":[{\"marker\":{\"colorbar\":{\"outlinewidth\":0,\"ticks\":\"\"}},\"type\":\"scattergeo\"}],\"scattergl\":[{\"marker\":{\"colorbar\":{\"outlinewidth\":0,\"ticks\":\"\"}},\"type\":\"scattergl\"}],\"scattermapbox\":[{\"marker\":{\"colorbar\":{\"outlinewidth\":0,\"ticks\":\"\"}},\"type\":\"scattermapbox\"}],\"scatterpolar\":[{\"marker\":{\"colorbar\":{\"outlinewidth\":0,\"ticks\":\"\"}},\"type\":\"scatterpolar\"}],\"scatterpolargl\":[{\"marker\":{\"colorbar\":{\"outlinewidth\":0,\"ticks\":\"\"}},\"type\":\"scatterpolargl\"}],\"scatterternary\":[{\"marker\":{\"colorbar\":{\"outlinewidth\":0,\"ticks\":\"\"}},\"type\":\"scatterternary\"}],\"surface\":[{\"colorbar\":{\"outlinewidth\":0,\"ticks\":\"\"},\"colorscale\":[[0.0,\"#0d0887\"],[0.1111111111111111,\"#46039f\"],[0.2222222222222222,\"#7201a8\"],[0.3333333333333333,\"#9c179e\"],[0.4444444444444444,\"#bd3786\"],[0.5555555555555556,\"#d8576b\"],[0.6666666666666666,\"#ed7953\"],[0.7777777777777778,\"#fb9f3a\"],[0.8888888888888888,\"#fdca26\"],[1.0,\"#f0f921\"]],\"type\":\"surface\"}],\"table\":[{\"cells\":{\"fill\":{\"color\":\"#EBF0F8\"},\"line\":{\"color\":\"white\"}},\"header\":{\"fill\":{\"color\":\"#C8D4E3\"},\"line\":{\"color\":\"white\"}},\"type\":\"table\"}]},\"layout\":{\"annotationdefaults\":{\"arrowcolor\":\"#2a3f5f\",\"arrowhead\":0,\"arrowwidth\":1},\"autotypenumbers\":\"strict\",\"coloraxis\":{\"colorbar\":{\"outlinewidth\":0,\"ticks\":\"\"}},\"colorscale\":{\"diverging\":[[0,\"#8e0152\"],[0.1,\"#c51b7d\"],[0.2,\"#de77ae\"],[0.3,\"#f1b6da\"],[0.4,\"#fde0ef\"],[0.5,\"#f7f7f7\"],[0.6,\"#e6f5d0\"],[0.7,\"#b8e186\"],[0.8,\"#7fbc41\"],[0.9,\"#4d9221\"],[1,\"#276419\"]],\"sequential\":[[0.0,\"#0d0887\"],[0.1111111111111111,\"#46039f\"],[0.2222222222222222,\"#7201a8\"],[0.3333333333333333,\"#9c179e\"],[0.4444444444444444,\"#bd3786\"],[0.5555555555555556,\"#d8576b\"],[0.6666666666666666,\"#ed7953\"],[0.7777777777777778,\"#fb9f3a\"],[0.8888888888888888,\"#fdca26\"],[1.0,\"#f0f921\"]],\"sequentialminus\":[[0.0,\"#0d0887\"],[0.1111111111111111,\"#46039f\"],[0.2222222222222222,\"#7201a8\"],[0.3333333333333333,\"#9c179e\"],[0.4444444444444444,\"#bd3786\"],[0.5555555555555556,\"#d8576b\"],[0.6666666666666666,\"#ed7953\"],[0.7777777777777778,\"#fb9f3a\"],[0.8888888888888888,\"#fdca26\"],[1.0,\"#f0f921\"]]},\"colorway\":[\"#636efa\",\"#EF553B\",\"#00cc96\",\"#ab63fa\",\"#FFA15A\",\"#19d3f3\",\"#FF6692\",\"#B6E880\",\"#FF97FF\",\"#FECB52\"],\"font\":{\"color\":\"#2a3f5f\"},\"geo\":{\"bgcolor\":\"white\",\"lakecolor\":\"white\",\"landcolor\":\"#E5ECF6\",\"showlakes\":true,\"showland\":true,\"subunitcolor\":\"white\"},\"hoverlabel\":{\"align\":\"left\"},\"hovermode\":\"closest\",\"mapbox\":{\"style\":\"light\"},\"paper_bgcolor\":\"white\",\"plot_bgcolor\":\"#E5ECF6\",\"polar\":{\"angularaxis\":{\"gridcolor\":\"white\",\"linecolor\":\"white\",\"ticks\":\"\"},\"bgcolor\":\"#E5ECF6\",\"radialaxis\":{\"gridcolor\":\"white\",\"linecolor\":\"white\",\"ticks\":\"\"}},\"scene\":{\"xaxis\":{\"backgroundcolor\":\"#E5ECF6\",\"gridcolor\":\"white\",\"gridwidth\":2,\"linecolor\":\"white\",\"showbackground\":true,\"ticks\":\"\",\"zerolinecolor\":\"white\"},\"yaxis\":{\"backgroundcolor\":\"#E5ECF6\",\"gridcolor\":\"white\",\"gridwidth\":2,\"linecolor\":\"white\",\"showbackground\":true,\"ticks\":\"\",\"zerolinecolor\":\"white\"},\"zaxis\":{\"backgroundcolor\":\"#E5ECF6\",\"gridcolor\":\"white\",\"gridwidth\":2,\"linecolor\":\"white\",\"showbackground\":true,\"ticks\":\"\",\"zerolinecolor\":\"white\"}},\"shapedefaults\":{\"line\":{\"color\":\"#2a3f5f\"}},\"ternary\":{\"aaxis\":{\"gridcolor\":\"white\",\"linecolor\":\"white\",\"ticks\":\"\"},\"baxis\":{\"gridcolor\":\"white\",\"linecolor\":\"white\",\"ticks\":\"\"},\"bgcolor\":\"#E5ECF6\",\"caxis\":{\"gridcolor\":\"white\",\"linecolor\":\"white\",\"ticks\":\"\"}},\"title\":{\"x\":0.05},\"xaxis\":{\"automargin\":true,\"gridcolor\":\"white\",\"linecolor\":\"white\",\"ticks\":\"\",\"title\":{\"standoff\":15},\"zerolinecolor\":\"white\",\"zerolinewidth\":2},\"yaxis\":{\"automargin\":true,\"gridcolor\":\"white\",\"linecolor\":\"white\",\"ticks\":\"\",\"title\":{\"standoff\":15},\"zerolinecolor\":\"white\",\"zerolinewidth\":2}}},\"title\":{\"font\":{\"color\":\"#4D5663\"}},\"xaxis\":{\"gridcolor\":\"#E1E5ED\",\"showgrid\":true,\"tickfont\":{\"color\":\"#4D5663\"},\"title\":{\"font\":{\"color\":\"#4D5663\"},\"text\":\"\"},\"zerolinecolor\":\"#E1E5ED\"},\"yaxis\":{\"gridcolor\":\"#E1E5ED\",\"showgrid\":true,\"tickfont\":{\"color\":\"#4D5663\"},\"title\":{\"font\":{\"color\":\"#4D5663\"},\"text\":\"\"},\"zerolinecolor\":\"#E1E5ED\"}},                        {\"showLink\": true, \"linkText\": \"Export to plot.ly\", \"plotlyServerURL\": \"https://plot.ly\", \"responsive\": true}                    ).then(function(){\n",
       "                            \n",
       "var gd = document.getElementById('edbd6068-078c-4ae5-84b4-60ec33c40593');\n",
       "var x = new MutationObserver(function (mutations, observer) {{\n",
       "        var display = window.getComputedStyle(gd).display;\n",
       "        if (!display || display === 'none') {{\n",
       "            console.log([gd, 'removed!']);\n",
       "            Plotly.purge(gd);\n",
       "            observer.disconnect();\n",
       "        }}\n",
       "}});\n",
       "\n",
       "// Listen for the removal of the full notebook cells\n",
       "var notebookContainer = gd.closest('#notebook-container');\n",
       "if (notebookContainer) {{\n",
       "    x.observe(notebookContainer, {childList: true});\n",
       "}}\n",
       "\n",
       "// Listen for the clearing of the current output cell\n",
       "var outputEl = gd.closest('.output');\n",
       "if (outputEl) {{\n",
       "    x.observe(outputEl, {childList: true});\n",
       "}}\n",
       "\n",
       "                        })                };                });            </script>        </div>"
      ]
     },
     "metadata": {},
     "output_type": "display_data"
    }
   ],
   "source": [
    "df.iplot(kind='hist')"
   ]
  },
  {
   "cell_type": "code",
   "execution_count": 25,
   "id": "565482ad",
   "metadata": {},
   "outputs": [
    {
     "data": {
      "application/vnd.plotly.v1+json": {
       "config": {
        "linkText": "Export to plot.ly",
        "plotlyServerURL": "https://plot.ly",
        "showLink": true
       },
       "data": [
        {
         "histfunc": "count",
         "histnorm": "",
         "marker": {
          "color": "rgba(255, 153, 51, 1.0)",
          "line": {
           "color": "#4D5663",
           "width": 1.3
          }
         },
         "name": "A",
         "nbinsx": 30,
         "opacity": 0.8,
         "orientation": "v",
         "type": "histogram",
         "x": [
          -0.3603101022368317,
          -1.4932067099630373,
          0.7401114483929926,
          1.5876799119575666,
          -0.5882553778090175,
          -0.19328619251142493,
          -1.1483331165246522,
          0.3346583368373109,
          -1.353736298933149,
          0.16244749177332804,
          0.4107766850650031,
          -0.1019513767017405,
          -0.55044118145215,
          1.4552814654316812,
          0.7102307470463595,
          0.2042809643735204,
          -1.3141840287757471,
          0.9397974293810624,
          1.4622082850861817,
          0.004581087125822542,
          1.1872560720964547,
          -0.06939465386530655,
          0.34555569871453634,
          0.47627576924484,
          0.11665148042293134,
          0.22866331638806298,
          -0.29839556035322234,
          -2.359488044458736,
          1.5194122054394072,
          1.4583479497699154,
          -0.46185920982978745,
          0.0034936982540661877,
          0.036773686882005295,
          -0.4054567731595773,
          -1.198527786346277,
          0.6035952075449362,
          -0.12056204746885117,
          -0.08696956062189974,
          -0.30260921526610346,
          -1.379181324098899,
          -0.7575510045383668,
          -1.1669069387928175,
          0.42251770640713326,
          -0.39442991537684646,
          0.8968649696810801,
          1.000185756835219,
          1.225290849161005,
          -0.5684875907200435,
          -0.9732008970869809,
          -0.13495915879243361,
          -0.7444246126382412,
          -0.08707835112761256,
          0.8798796323503689,
          0.7060197101561982,
          -0.04243007752957983,
          -1.2601728989214394,
          -0.944969736816905,
          0.42698695657750374,
          -1.9294248752331329,
          1.0336411672109236,
          -1.7549866151466353,
          0.2286082492666186,
          -1.6149892789862796,
          0.45981906285790236,
          -1.4103986669031026,
          0.9635927411240099,
          -0.03860187917494151,
          -1.6626456582328502,
          2.187540504498553,
          -0.7097028844079241,
          -2.2801230185416337,
          -1.6130622349451873,
          -0.42600445367120715,
          1.1394401765294633,
          -0.3613245728493242,
          -1.2760968160051436,
          -0.19054613667361206,
          -0.5608507458210631,
          -1.0706260872017523,
          0.8319065039536502,
          1.1586586008561413,
          -0.32577688866384846,
          -1.120167682648072,
          -0.8367561889192894,
          1.1501005753742084,
          1.1780914040975914,
          -2.1832722386363814,
          -0.8275274873462319,
          0.6478121324458215,
          1.1681321398775844,
          0.4718333199251554,
          1.1460239242801087,
          -0.7820887448110919,
          1.556158084660845,
          -1.6580547553017961,
          1.268655088327418,
          0.05952229145177814,
          -1.5759100408069073,
          -0.5736314310222357,
          -0.5229811365201296
         ]
        }
       ],
       "layout": {
        "barmode": "overlay",
        "legend": {
         "bgcolor": "#F5F6F9",
         "font": {
          "color": "#4D5663"
         }
        },
        "paper_bgcolor": "#F5F6F9",
        "plot_bgcolor": "#F5F6F9",
        "template": {
         "data": {
          "bar": [
           {
            "error_x": {
             "color": "#2a3f5f"
            },
            "error_y": {
             "color": "#2a3f5f"
            },
            "marker": {
             "line": {
              "color": "#E5ECF6",
              "width": 0.5
             },
             "pattern": {
              "fillmode": "overlay",
              "size": 10,
              "solidity": 0.2
             }
            },
            "type": "bar"
           }
          ],
          "barpolar": [
           {
            "marker": {
             "line": {
              "color": "#E5ECF6",
              "width": 0.5
             },
             "pattern": {
              "fillmode": "overlay",
              "size": 10,
              "solidity": 0.2
             }
            },
            "type": "barpolar"
           }
          ],
          "carpet": [
           {
            "aaxis": {
             "endlinecolor": "#2a3f5f",
             "gridcolor": "white",
             "linecolor": "white",
             "minorgridcolor": "white",
             "startlinecolor": "#2a3f5f"
            },
            "baxis": {
             "endlinecolor": "#2a3f5f",
             "gridcolor": "white",
             "linecolor": "white",
             "minorgridcolor": "white",
             "startlinecolor": "#2a3f5f"
            },
            "type": "carpet"
           }
          ],
          "choropleth": [
           {
            "colorbar": {
             "outlinewidth": 0,
             "ticks": ""
            },
            "type": "choropleth"
           }
          ],
          "contour": [
           {
            "colorbar": {
             "outlinewidth": 0,
             "ticks": ""
            },
            "colorscale": [
             [
              0,
              "#0d0887"
             ],
             [
              0.1111111111111111,
              "#46039f"
             ],
             [
              0.2222222222222222,
              "#7201a8"
             ],
             [
              0.3333333333333333,
              "#9c179e"
             ],
             [
              0.4444444444444444,
              "#bd3786"
             ],
             [
              0.5555555555555556,
              "#d8576b"
             ],
             [
              0.6666666666666666,
              "#ed7953"
             ],
             [
              0.7777777777777778,
              "#fb9f3a"
             ],
             [
              0.8888888888888888,
              "#fdca26"
             ],
             [
              1,
              "#f0f921"
             ]
            ],
            "type": "contour"
           }
          ],
          "contourcarpet": [
           {
            "colorbar": {
             "outlinewidth": 0,
             "ticks": ""
            },
            "type": "contourcarpet"
           }
          ],
          "heatmap": [
           {
            "colorbar": {
             "outlinewidth": 0,
             "ticks": ""
            },
            "colorscale": [
             [
              0,
              "#0d0887"
             ],
             [
              0.1111111111111111,
              "#46039f"
             ],
             [
              0.2222222222222222,
              "#7201a8"
             ],
             [
              0.3333333333333333,
              "#9c179e"
             ],
             [
              0.4444444444444444,
              "#bd3786"
             ],
             [
              0.5555555555555556,
              "#d8576b"
             ],
             [
              0.6666666666666666,
              "#ed7953"
             ],
             [
              0.7777777777777778,
              "#fb9f3a"
             ],
             [
              0.8888888888888888,
              "#fdca26"
             ],
             [
              1,
              "#f0f921"
             ]
            ],
            "type": "heatmap"
           }
          ],
          "heatmapgl": [
           {
            "colorbar": {
             "outlinewidth": 0,
             "ticks": ""
            },
            "colorscale": [
             [
              0,
              "#0d0887"
             ],
             [
              0.1111111111111111,
              "#46039f"
             ],
             [
              0.2222222222222222,
              "#7201a8"
             ],
             [
              0.3333333333333333,
              "#9c179e"
             ],
             [
              0.4444444444444444,
              "#bd3786"
             ],
             [
              0.5555555555555556,
              "#d8576b"
             ],
             [
              0.6666666666666666,
              "#ed7953"
             ],
             [
              0.7777777777777778,
              "#fb9f3a"
             ],
             [
              0.8888888888888888,
              "#fdca26"
             ],
             [
              1,
              "#f0f921"
             ]
            ],
            "type": "heatmapgl"
           }
          ],
          "histogram": [
           {
            "marker": {
             "pattern": {
              "fillmode": "overlay",
              "size": 10,
              "solidity": 0.2
             }
            },
            "type": "histogram"
           }
          ],
          "histogram2d": [
           {
            "colorbar": {
             "outlinewidth": 0,
             "ticks": ""
            },
            "colorscale": [
             [
              0,
              "#0d0887"
             ],
             [
              0.1111111111111111,
              "#46039f"
             ],
             [
              0.2222222222222222,
              "#7201a8"
             ],
             [
              0.3333333333333333,
              "#9c179e"
             ],
             [
              0.4444444444444444,
              "#bd3786"
             ],
             [
              0.5555555555555556,
              "#d8576b"
             ],
             [
              0.6666666666666666,
              "#ed7953"
             ],
             [
              0.7777777777777778,
              "#fb9f3a"
             ],
             [
              0.8888888888888888,
              "#fdca26"
             ],
             [
              1,
              "#f0f921"
             ]
            ],
            "type": "histogram2d"
           }
          ],
          "histogram2dcontour": [
           {
            "colorbar": {
             "outlinewidth": 0,
             "ticks": ""
            },
            "colorscale": [
             [
              0,
              "#0d0887"
             ],
             [
              0.1111111111111111,
              "#46039f"
             ],
             [
              0.2222222222222222,
              "#7201a8"
             ],
             [
              0.3333333333333333,
              "#9c179e"
             ],
             [
              0.4444444444444444,
              "#bd3786"
             ],
             [
              0.5555555555555556,
              "#d8576b"
             ],
             [
              0.6666666666666666,
              "#ed7953"
             ],
             [
              0.7777777777777778,
              "#fb9f3a"
             ],
             [
              0.8888888888888888,
              "#fdca26"
             ],
             [
              1,
              "#f0f921"
             ]
            ],
            "type": "histogram2dcontour"
           }
          ],
          "mesh3d": [
           {
            "colorbar": {
             "outlinewidth": 0,
             "ticks": ""
            },
            "type": "mesh3d"
           }
          ],
          "parcoords": [
           {
            "line": {
             "colorbar": {
              "outlinewidth": 0,
              "ticks": ""
             }
            },
            "type": "parcoords"
           }
          ],
          "pie": [
           {
            "automargin": true,
            "type": "pie"
           }
          ],
          "scatter": [
           {
            "marker": {
             "colorbar": {
              "outlinewidth": 0,
              "ticks": ""
             }
            },
            "type": "scatter"
           }
          ],
          "scatter3d": [
           {
            "line": {
             "colorbar": {
              "outlinewidth": 0,
              "ticks": ""
             }
            },
            "marker": {
             "colorbar": {
              "outlinewidth": 0,
              "ticks": ""
             }
            },
            "type": "scatter3d"
           }
          ],
          "scattercarpet": [
           {
            "marker": {
             "colorbar": {
              "outlinewidth": 0,
              "ticks": ""
             }
            },
            "type": "scattercarpet"
           }
          ],
          "scattergeo": [
           {
            "marker": {
             "colorbar": {
              "outlinewidth": 0,
              "ticks": ""
             }
            },
            "type": "scattergeo"
           }
          ],
          "scattergl": [
           {
            "marker": {
             "colorbar": {
              "outlinewidth": 0,
              "ticks": ""
             }
            },
            "type": "scattergl"
           }
          ],
          "scattermapbox": [
           {
            "marker": {
             "colorbar": {
              "outlinewidth": 0,
              "ticks": ""
             }
            },
            "type": "scattermapbox"
           }
          ],
          "scatterpolar": [
           {
            "marker": {
             "colorbar": {
              "outlinewidth": 0,
              "ticks": ""
             }
            },
            "type": "scatterpolar"
           }
          ],
          "scatterpolargl": [
           {
            "marker": {
             "colorbar": {
              "outlinewidth": 0,
              "ticks": ""
             }
            },
            "type": "scatterpolargl"
           }
          ],
          "scatterternary": [
           {
            "marker": {
             "colorbar": {
              "outlinewidth": 0,
              "ticks": ""
             }
            },
            "type": "scatterternary"
           }
          ],
          "surface": [
           {
            "colorbar": {
             "outlinewidth": 0,
             "ticks": ""
            },
            "colorscale": [
             [
              0,
              "#0d0887"
             ],
             [
              0.1111111111111111,
              "#46039f"
             ],
             [
              0.2222222222222222,
              "#7201a8"
             ],
             [
              0.3333333333333333,
              "#9c179e"
             ],
             [
              0.4444444444444444,
              "#bd3786"
             ],
             [
              0.5555555555555556,
              "#d8576b"
             ],
             [
              0.6666666666666666,
              "#ed7953"
             ],
             [
              0.7777777777777778,
              "#fb9f3a"
             ],
             [
              0.8888888888888888,
              "#fdca26"
             ],
             [
              1,
              "#f0f921"
             ]
            ],
            "type": "surface"
           }
          ],
          "table": [
           {
            "cells": {
             "fill": {
              "color": "#EBF0F8"
             },
             "line": {
              "color": "white"
             }
            },
            "header": {
             "fill": {
              "color": "#C8D4E3"
             },
             "line": {
              "color": "white"
             }
            },
            "type": "table"
           }
          ]
         },
         "layout": {
          "annotationdefaults": {
           "arrowcolor": "#2a3f5f",
           "arrowhead": 0,
           "arrowwidth": 1
          },
          "autotypenumbers": "strict",
          "coloraxis": {
           "colorbar": {
            "outlinewidth": 0,
            "ticks": ""
           }
          },
          "colorscale": {
           "diverging": [
            [
             0,
             "#8e0152"
            ],
            [
             0.1,
             "#c51b7d"
            ],
            [
             0.2,
             "#de77ae"
            ],
            [
             0.3,
             "#f1b6da"
            ],
            [
             0.4,
             "#fde0ef"
            ],
            [
             0.5,
             "#f7f7f7"
            ],
            [
             0.6,
             "#e6f5d0"
            ],
            [
             0.7,
             "#b8e186"
            ],
            [
             0.8,
             "#7fbc41"
            ],
            [
             0.9,
             "#4d9221"
            ],
            [
             1,
             "#276419"
            ]
           ],
           "sequential": [
            [
             0,
             "#0d0887"
            ],
            [
             0.1111111111111111,
             "#46039f"
            ],
            [
             0.2222222222222222,
             "#7201a8"
            ],
            [
             0.3333333333333333,
             "#9c179e"
            ],
            [
             0.4444444444444444,
             "#bd3786"
            ],
            [
             0.5555555555555556,
             "#d8576b"
            ],
            [
             0.6666666666666666,
             "#ed7953"
            ],
            [
             0.7777777777777778,
             "#fb9f3a"
            ],
            [
             0.8888888888888888,
             "#fdca26"
            ],
            [
             1,
             "#f0f921"
            ]
           ],
           "sequentialminus": [
            [
             0,
             "#0d0887"
            ],
            [
             0.1111111111111111,
             "#46039f"
            ],
            [
             0.2222222222222222,
             "#7201a8"
            ],
            [
             0.3333333333333333,
             "#9c179e"
            ],
            [
             0.4444444444444444,
             "#bd3786"
            ],
            [
             0.5555555555555556,
             "#d8576b"
            ],
            [
             0.6666666666666666,
             "#ed7953"
            ],
            [
             0.7777777777777778,
             "#fb9f3a"
            ],
            [
             0.8888888888888888,
             "#fdca26"
            ],
            [
             1,
             "#f0f921"
            ]
           ]
          },
          "colorway": [
           "#636efa",
           "#EF553B",
           "#00cc96",
           "#ab63fa",
           "#FFA15A",
           "#19d3f3",
           "#FF6692",
           "#B6E880",
           "#FF97FF",
           "#FECB52"
          ],
          "font": {
           "color": "#2a3f5f"
          },
          "geo": {
           "bgcolor": "white",
           "lakecolor": "white",
           "landcolor": "#E5ECF6",
           "showlakes": true,
           "showland": true,
           "subunitcolor": "white"
          },
          "hoverlabel": {
           "align": "left"
          },
          "hovermode": "closest",
          "mapbox": {
           "style": "light"
          },
          "paper_bgcolor": "white",
          "plot_bgcolor": "#E5ECF6",
          "polar": {
           "angularaxis": {
            "gridcolor": "white",
            "linecolor": "white",
            "ticks": ""
           },
           "bgcolor": "#E5ECF6",
           "radialaxis": {
            "gridcolor": "white",
            "linecolor": "white",
            "ticks": ""
           }
          },
          "scene": {
           "xaxis": {
            "backgroundcolor": "#E5ECF6",
            "gridcolor": "white",
            "gridwidth": 2,
            "linecolor": "white",
            "showbackground": true,
            "ticks": "",
            "zerolinecolor": "white"
           },
           "yaxis": {
            "backgroundcolor": "#E5ECF6",
            "gridcolor": "white",
            "gridwidth": 2,
            "linecolor": "white",
            "showbackground": true,
            "ticks": "",
            "zerolinecolor": "white"
           },
           "zaxis": {
            "backgroundcolor": "#E5ECF6",
            "gridcolor": "white",
            "gridwidth": 2,
            "linecolor": "white",
            "showbackground": true,
            "ticks": "",
            "zerolinecolor": "white"
           }
          },
          "shapedefaults": {
           "line": {
            "color": "#2a3f5f"
           }
          },
          "ternary": {
           "aaxis": {
            "gridcolor": "white",
            "linecolor": "white",
            "ticks": ""
           },
           "baxis": {
            "gridcolor": "white",
            "linecolor": "white",
            "ticks": ""
           },
           "bgcolor": "#E5ECF6",
           "caxis": {
            "gridcolor": "white",
            "linecolor": "white",
            "ticks": ""
           }
          },
          "title": {
           "x": 0.05
          },
          "xaxis": {
           "automargin": true,
           "gridcolor": "white",
           "linecolor": "white",
           "ticks": "",
           "title": {
            "standoff": 15
           },
           "zerolinecolor": "white",
           "zerolinewidth": 2
          },
          "yaxis": {
           "automargin": true,
           "gridcolor": "white",
           "linecolor": "white",
           "ticks": "",
           "title": {
            "standoff": 15
           },
           "zerolinecolor": "white",
           "zerolinewidth": 2
          }
         }
        },
        "title": {
         "font": {
          "color": "#4D5663"
         }
        },
        "xaxis": {
         "gridcolor": "#E1E5ED",
         "showgrid": true,
         "tickfont": {
          "color": "#4D5663"
         },
         "title": {
          "font": {
           "color": "#4D5663"
          },
          "text": ""
         },
         "zerolinecolor": "#E1E5ED"
        },
        "yaxis": {
         "gridcolor": "#E1E5ED",
         "showgrid": true,
         "tickfont": {
          "color": "#4D5663"
         },
         "title": {
          "font": {
           "color": "#4D5663"
          },
          "text": ""
         },
         "zerolinecolor": "#E1E5ED"
        }
       }
      },
      "text/html": [
       "<div>                            <div id=\"40717b32-7285-49d9-9b55-c2b4b3590ee2\" class=\"plotly-graph-div\" style=\"height:525px; width:100%;\"></div>            <script type=\"text/javascript\">                require([\"plotly\"], function(Plotly) {                    window.PLOTLYENV=window.PLOTLYENV || {};\n",
       "                    window.PLOTLYENV.BASE_URL='https://plot.ly';                                    if (document.getElementById(\"40717b32-7285-49d9-9b55-c2b4b3590ee2\")) {                    Plotly.newPlot(                        \"40717b32-7285-49d9-9b55-c2b4b3590ee2\",                        [{\"histfunc\":\"count\",\"histnorm\":\"\",\"marker\":{\"color\":\"rgba(255, 153, 51, 1.0)\",\"line\":{\"color\":\"#4D5663\",\"width\":1.3}},\"name\":\"A\",\"nbinsx\":30,\"opacity\":0.8,\"orientation\":\"v\",\"type\":\"histogram\",\"x\":[-0.3603101022368317,-1.4932067099630373,0.7401114483929926,1.5876799119575666,-0.5882553778090175,-0.19328619251142493,-1.1483331165246522,0.3346583368373109,-1.353736298933149,0.16244749177332804,0.4107766850650031,-0.1019513767017405,-0.55044118145215,1.4552814654316812,0.7102307470463595,0.2042809643735204,-1.3141840287757471,0.9397974293810624,1.4622082850861817,0.004581087125822542,1.1872560720964547,-0.06939465386530655,0.34555569871453634,0.47627576924484,0.11665148042293134,0.22866331638806298,-0.29839556035322234,-2.359488044458736,1.5194122054394072,1.4583479497699154,-0.46185920982978745,0.0034936982540661877,0.036773686882005295,-0.4054567731595773,-1.198527786346277,0.6035952075449362,-0.12056204746885117,-0.08696956062189974,-0.30260921526610346,-1.379181324098899,-0.7575510045383668,-1.1669069387928175,0.42251770640713326,-0.39442991537684646,0.8968649696810801,1.000185756835219,1.225290849161005,-0.5684875907200435,-0.9732008970869809,-0.13495915879243361,-0.7444246126382412,-0.08707835112761256,0.8798796323503689,0.7060197101561982,-0.04243007752957983,-1.2601728989214394,-0.944969736816905,0.42698695657750374,-1.9294248752331329,1.0336411672109236,-1.7549866151466353,0.2286082492666186,-1.6149892789862796,0.45981906285790236,-1.4103986669031026,0.9635927411240099,-0.03860187917494151,-1.6626456582328502,2.187540504498553,-0.7097028844079241,-2.2801230185416337,-1.6130622349451873,-0.42600445367120715,1.1394401765294633,-0.3613245728493242,-1.2760968160051436,-0.19054613667361206,-0.5608507458210631,-1.0706260872017523,0.8319065039536502,1.1586586008561413,-0.32577688866384846,-1.120167682648072,-0.8367561889192894,1.1501005753742084,1.1780914040975914,-2.1832722386363814,-0.8275274873462319,0.6478121324458215,1.1681321398775844,0.4718333199251554,1.1460239242801087,-0.7820887448110919,1.556158084660845,-1.6580547553017961,1.268655088327418,0.05952229145177814,-1.5759100408069073,-0.5736314310222357,-0.5229811365201296]}],                        {\"barmode\":\"overlay\",\"legend\":{\"bgcolor\":\"#F5F6F9\",\"font\":{\"color\":\"#4D5663\"}},\"paper_bgcolor\":\"#F5F6F9\",\"plot_bgcolor\":\"#F5F6F9\",\"template\":{\"data\":{\"bar\":[{\"error_x\":{\"color\":\"#2a3f5f\"},\"error_y\":{\"color\":\"#2a3f5f\"},\"marker\":{\"line\":{\"color\":\"#E5ECF6\",\"width\":0.5},\"pattern\":{\"fillmode\":\"overlay\",\"size\":10,\"solidity\":0.2}},\"type\":\"bar\"}],\"barpolar\":[{\"marker\":{\"line\":{\"color\":\"#E5ECF6\",\"width\":0.5},\"pattern\":{\"fillmode\":\"overlay\",\"size\":10,\"solidity\":0.2}},\"type\":\"barpolar\"}],\"carpet\":[{\"aaxis\":{\"endlinecolor\":\"#2a3f5f\",\"gridcolor\":\"white\",\"linecolor\":\"white\",\"minorgridcolor\":\"white\",\"startlinecolor\":\"#2a3f5f\"},\"baxis\":{\"endlinecolor\":\"#2a3f5f\",\"gridcolor\":\"white\",\"linecolor\":\"white\",\"minorgridcolor\":\"white\",\"startlinecolor\":\"#2a3f5f\"},\"type\":\"carpet\"}],\"choropleth\":[{\"colorbar\":{\"outlinewidth\":0,\"ticks\":\"\"},\"type\":\"choropleth\"}],\"contour\":[{\"colorbar\":{\"outlinewidth\":0,\"ticks\":\"\"},\"colorscale\":[[0.0,\"#0d0887\"],[0.1111111111111111,\"#46039f\"],[0.2222222222222222,\"#7201a8\"],[0.3333333333333333,\"#9c179e\"],[0.4444444444444444,\"#bd3786\"],[0.5555555555555556,\"#d8576b\"],[0.6666666666666666,\"#ed7953\"],[0.7777777777777778,\"#fb9f3a\"],[0.8888888888888888,\"#fdca26\"],[1.0,\"#f0f921\"]],\"type\":\"contour\"}],\"contourcarpet\":[{\"colorbar\":{\"outlinewidth\":0,\"ticks\":\"\"},\"type\":\"contourcarpet\"}],\"heatmap\":[{\"colorbar\":{\"outlinewidth\":0,\"ticks\":\"\"},\"colorscale\":[[0.0,\"#0d0887\"],[0.1111111111111111,\"#46039f\"],[0.2222222222222222,\"#7201a8\"],[0.3333333333333333,\"#9c179e\"],[0.4444444444444444,\"#bd3786\"],[0.5555555555555556,\"#d8576b\"],[0.6666666666666666,\"#ed7953\"],[0.7777777777777778,\"#fb9f3a\"],[0.8888888888888888,\"#fdca26\"],[1.0,\"#f0f921\"]],\"type\":\"heatmap\"}],\"heatmapgl\":[{\"colorbar\":{\"outlinewidth\":0,\"ticks\":\"\"},\"colorscale\":[[0.0,\"#0d0887\"],[0.1111111111111111,\"#46039f\"],[0.2222222222222222,\"#7201a8\"],[0.3333333333333333,\"#9c179e\"],[0.4444444444444444,\"#bd3786\"],[0.5555555555555556,\"#d8576b\"],[0.6666666666666666,\"#ed7953\"],[0.7777777777777778,\"#fb9f3a\"],[0.8888888888888888,\"#fdca26\"],[1.0,\"#f0f921\"]],\"type\":\"heatmapgl\"}],\"histogram\":[{\"marker\":{\"pattern\":{\"fillmode\":\"overlay\",\"size\":10,\"solidity\":0.2}},\"type\":\"histogram\"}],\"histogram2d\":[{\"colorbar\":{\"outlinewidth\":0,\"ticks\":\"\"},\"colorscale\":[[0.0,\"#0d0887\"],[0.1111111111111111,\"#46039f\"],[0.2222222222222222,\"#7201a8\"],[0.3333333333333333,\"#9c179e\"],[0.4444444444444444,\"#bd3786\"],[0.5555555555555556,\"#d8576b\"],[0.6666666666666666,\"#ed7953\"],[0.7777777777777778,\"#fb9f3a\"],[0.8888888888888888,\"#fdca26\"],[1.0,\"#f0f921\"]],\"type\":\"histogram2d\"}],\"histogram2dcontour\":[{\"colorbar\":{\"outlinewidth\":0,\"ticks\":\"\"},\"colorscale\":[[0.0,\"#0d0887\"],[0.1111111111111111,\"#46039f\"],[0.2222222222222222,\"#7201a8\"],[0.3333333333333333,\"#9c179e\"],[0.4444444444444444,\"#bd3786\"],[0.5555555555555556,\"#d8576b\"],[0.6666666666666666,\"#ed7953\"],[0.7777777777777778,\"#fb9f3a\"],[0.8888888888888888,\"#fdca26\"],[1.0,\"#f0f921\"]],\"type\":\"histogram2dcontour\"}],\"mesh3d\":[{\"colorbar\":{\"outlinewidth\":0,\"ticks\":\"\"},\"type\":\"mesh3d\"}],\"parcoords\":[{\"line\":{\"colorbar\":{\"outlinewidth\":0,\"ticks\":\"\"}},\"type\":\"parcoords\"}],\"pie\":[{\"automargin\":true,\"type\":\"pie\"}],\"scatter\":[{\"marker\":{\"colorbar\":{\"outlinewidth\":0,\"ticks\":\"\"}},\"type\":\"scatter\"}],\"scatter3d\":[{\"line\":{\"colorbar\":{\"outlinewidth\":0,\"ticks\":\"\"}},\"marker\":{\"colorbar\":{\"outlinewidth\":0,\"ticks\":\"\"}},\"type\":\"scatter3d\"}],\"scattercarpet\":[{\"marker\":{\"colorbar\":{\"outlinewidth\":0,\"ticks\":\"\"}},\"type\":\"scattercarpet\"}],\"scattergeo\":[{\"marker\":{\"colorbar\":{\"outlinewidth\":0,\"ticks\":\"\"}},\"type\":\"scattergeo\"}],\"scattergl\":[{\"marker\":{\"colorbar\":{\"outlinewidth\":0,\"ticks\":\"\"}},\"type\":\"scattergl\"}],\"scattermapbox\":[{\"marker\":{\"colorbar\":{\"outlinewidth\":0,\"ticks\":\"\"}},\"type\":\"scattermapbox\"}],\"scatterpolar\":[{\"marker\":{\"colorbar\":{\"outlinewidth\":0,\"ticks\":\"\"}},\"type\":\"scatterpolar\"}],\"scatterpolargl\":[{\"marker\":{\"colorbar\":{\"outlinewidth\":0,\"ticks\":\"\"}},\"type\":\"scatterpolargl\"}],\"scatterternary\":[{\"marker\":{\"colorbar\":{\"outlinewidth\":0,\"ticks\":\"\"}},\"type\":\"scatterternary\"}],\"surface\":[{\"colorbar\":{\"outlinewidth\":0,\"ticks\":\"\"},\"colorscale\":[[0.0,\"#0d0887\"],[0.1111111111111111,\"#46039f\"],[0.2222222222222222,\"#7201a8\"],[0.3333333333333333,\"#9c179e\"],[0.4444444444444444,\"#bd3786\"],[0.5555555555555556,\"#d8576b\"],[0.6666666666666666,\"#ed7953\"],[0.7777777777777778,\"#fb9f3a\"],[0.8888888888888888,\"#fdca26\"],[1.0,\"#f0f921\"]],\"type\":\"surface\"}],\"table\":[{\"cells\":{\"fill\":{\"color\":\"#EBF0F8\"},\"line\":{\"color\":\"white\"}},\"header\":{\"fill\":{\"color\":\"#C8D4E3\"},\"line\":{\"color\":\"white\"}},\"type\":\"table\"}]},\"layout\":{\"annotationdefaults\":{\"arrowcolor\":\"#2a3f5f\",\"arrowhead\":0,\"arrowwidth\":1},\"autotypenumbers\":\"strict\",\"coloraxis\":{\"colorbar\":{\"outlinewidth\":0,\"ticks\":\"\"}},\"colorscale\":{\"diverging\":[[0,\"#8e0152\"],[0.1,\"#c51b7d\"],[0.2,\"#de77ae\"],[0.3,\"#f1b6da\"],[0.4,\"#fde0ef\"],[0.5,\"#f7f7f7\"],[0.6,\"#e6f5d0\"],[0.7,\"#b8e186\"],[0.8,\"#7fbc41\"],[0.9,\"#4d9221\"],[1,\"#276419\"]],\"sequential\":[[0.0,\"#0d0887\"],[0.1111111111111111,\"#46039f\"],[0.2222222222222222,\"#7201a8\"],[0.3333333333333333,\"#9c179e\"],[0.4444444444444444,\"#bd3786\"],[0.5555555555555556,\"#d8576b\"],[0.6666666666666666,\"#ed7953\"],[0.7777777777777778,\"#fb9f3a\"],[0.8888888888888888,\"#fdca26\"],[1.0,\"#f0f921\"]],\"sequentialminus\":[[0.0,\"#0d0887\"],[0.1111111111111111,\"#46039f\"],[0.2222222222222222,\"#7201a8\"],[0.3333333333333333,\"#9c179e\"],[0.4444444444444444,\"#bd3786\"],[0.5555555555555556,\"#d8576b\"],[0.6666666666666666,\"#ed7953\"],[0.7777777777777778,\"#fb9f3a\"],[0.8888888888888888,\"#fdca26\"],[1.0,\"#f0f921\"]]},\"colorway\":[\"#636efa\",\"#EF553B\",\"#00cc96\",\"#ab63fa\",\"#FFA15A\",\"#19d3f3\",\"#FF6692\",\"#B6E880\",\"#FF97FF\",\"#FECB52\"],\"font\":{\"color\":\"#2a3f5f\"},\"geo\":{\"bgcolor\":\"white\",\"lakecolor\":\"white\",\"landcolor\":\"#E5ECF6\",\"showlakes\":true,\"showland\":true,\"subunitcolor\":\"white\"},\"hoverlabel\":{\"align\":\"left\"},\"hovermode\":\"closest\",\"mapbox\":{\"style\":\"light\"},\"paper_bgcolor\":\"white\",\"plot_bgcolor\":\"#E5ECF6\",\"polar\":{\"angularaxis\":{\"gridcolor\":\"white\",\"linecolor\":\"white\",\"ticks\":\"\"},\"bgcolor\":\"#E5ECF6\",\"radialaxis\":{\"gridcolor\":\"white\",\"linecolor\":\"white\",\"ticks\":\"\"}},\"scene\":{\"xaxis\":{\"backgroundcolor\":\"#E5ECF6\",\"gridcolor\":\"white\",\"gridwidth\":2,\"linecolor\":\"white\",\"showbackground\":true,\"ticks\":\"\",\"zerolinecolor\":\"white\"},\"yaxis\":{\"backgroundcolor\":\"#E5ECF6\",\"gridcolor\":\"white\",\"gridwidth\":2,\"linecolor\":\"white\",\"showbackground\":true,\"ticks\":\"\",\"zerolinecolor\":\"white\"},\"zaxis\":{\"backgroundcolor\":\"#E5ECF6\",\"gridcolor\":\"white\",\"gridwidth\":2,\"linecolor\":\"white\",\"showbackground\":true,\"ticks\":\"\",\"zerolinecolor\":\"white\"}},\"shapedefaults\":{\"line\":{\"color\":\"#2a3f5f\"}},\"ternary\":{\"aaxis\":{\"gridcolor\":\"white\",\"linecolor\":\"white\",\"ticks\":\"\"},\"baxis\":{\"gridcolor\":\"white\",\"linecolor\":\"white\",\"ticks\":\"\"},\"bgcolor\":\"#E5ECF6\",\"caxis\":{\"gridcolor\":\"white\",\"linecolor\":\"white\",\"ticks\":\"\"}},\"title\":{\"x\":0.05},\"xaxis\":{\"automargin\":true,\"gridcolor\":\"white\",\"linecolor\":\"white\",\"ticks\":\"\",\"title\":{\"standoff\":15},\"zerolinecolor\":\"white\",\"zerolinewidth\":2},\"yaxis\":{\"automargin\":true,\"gridcolor\":\"white\",\"linecolor\":\"white\",\"ticks\":\"\",\"title\":{\"standoff\":15},\"zerolinecolor\":\"white\",\"zerolinewidth\":2}}},\"title\":{\"font\":{\"color\":\"#4D5663\"}},\"xaxis\":{\"gridcolor\":\"#E1E5ED\",\"showgrid\":true,\"tickfont\":{\"color\":\"#4D5663\"},\"title\":{\"font\":{\"color\":\"#4D5663\"},\"text\":\"\"},\"zerolinecolor\":\"#E1E5ED\"},\"yaxis\":{\"gridcolor\":\"#E1E5ED\",\"showgrid\":true,\"tickfont\":{\"color\":\"#4D5663\"},\"title\":{\"font\":{\"color\":\"#4D5663\"},\"text\":\"\"},\"zerolinecolor\":\"#E1E5ED\"}},                        {\"showLink\": true, \"linkText\": \"Export to plot.ly\", \"plotlyServerURL\": \"https://plot.ly\", \"responsive\": true}                    ).then(function(){\n",
       "                            \n",
       "var gd = document.getElementById('40717b32-7285-49d9-9b55-c2b4b3590ee2');\n",
       "var x = new MutationObserver(function (mutations, observer) {{\n",
       "        var display = window.getComputedStyle(gd).display;\n",
       "        if (!display || display === 'none') {{\n",
       "            console.log([gd, 'removed!']);\n",
       "            Plotly.purge(gd);\n",
       "            observer.disconnect();\n",
       "        }}\n",
       "}});\n",
       "\n",
       "// Listen for the removal of the full notebook cells\n",
       "var notebookContainer = gd.closest('#notebook-container');\n",
       "if (notebookContainer) {{\n",
       "    x.observe(notebookContainer, {childList: true});\n",
       "}}\n",
       "\n",
       "// Listen for the clearing of the current output cell\n",
       "var outputEl = gd.closest('.output');\n",
       "if (outputEl) {{\n",
       "    x.observe(outputEl, {childList: true});\n",
       "}}\n",
       "\n",
       "                        })                };                });            </script>        </div>"
      ]
     },
     "metadata": {},
     "output_type": "display_data"
    }
   ],
   "source": [
    "df['A'].iplot(kind='hist', bins=30)"
   ]
  },
  {
   "cell_type": "code",
   "execution_count": 26,
   "id": "f193e362",
   "metadata": {},
   "outputs": [
    {
     "name": "stderr",
     "output_type": "stream",
     "text": [
      "C:\\Users\\user\\AppData\\Local\\Programs\\Python\\Python39\\lib\\site-packages\\cufflinks\\plotlytools.py:849: FutureWarning:\n",
      "\n",
      "The pandas.np module is deprecated and will be removed from pandas in a future version. Import numpy directly instead\n",
      "\n",
      "C:\\Users\\user\\AppData\\Local\\Programs\\Python\\Python39\\lib\\site-packages\\cufflinks\\plotlytools.py:850: FutureWarning:\n",
      "\n",
      "The pandas.np module is deprecated and will be removed from pandas in a future version. Import numpy directly instead\n",
      "\n"
     ]
    },
    {
     "data": {
      "application/vnd.plotly.v1+json": {
       "config": {
        "linkText": "Export to plot.ly",
        "plotlyServerURL": "https://plot.ly",
        "showLink": true
       },
       "data": [
        {
         "line": {
          "color": "rgba(255, 153, 51, 1.0)",
          "dash": "solid",
          "shape": "linear",
          "width": 1.3
         },
         "mode": "lines",
         "name": "A",
         "text": "",
         "type": "scatter",
         "x": [
          0,
          1,
          2,
          3,
          4,
          5,
          6,
          7,
          8,
          9,
          10,
          11,
          12,
          13,
          14,
          15,
          16,
          17,
          18,
          19,
          20,
          21,
          22,
          23,
          24,
          25,
          26,
          27,
          28,
          29,
          30,
          31,
          32,
          33,
          34,
          35,
          36,
          37,
          38,
          39,
          40,
          41,
          42,
          43,
          44,
          45,
          46,
          47,
          48,
          49,
          50,
          51,
          52,
          53,
          54,
          55,
          56,
          57,
          58,
          59,
          60,
          61,
          62,
          63,
          64,
          65,
          66,
          67,
          68,
          69,
          70,
          71,
          72,
          73,
          74,
          75,
          76,
          77,
          78,
          79,
          80,
          81,
          82,
          83,
          84,
          85,
          86,
          87,
          88,
          89,
          90,
          91,
          92,
          93,
          94,
          95,
          96,
          97,
          98,
          99
         ],
         "y": [
          -0.3603101022368317,
          -1.4932067099630373,
          0.7401114483929926,
          1.5876799119575666,
          -0.5882553778090175,
          -0.19328619251142493,
          -1.1483331165246522,
          0.3346583368373109,
          -1.353736298933149,
          0.16244749177332804,
          0.4107766850650031,
          -0.1019513767017405,
          -0.55044118145215,
          1.4552814654316812,
          0.7102307470463595,
          0.2042809643735204,
          -1.3141840287757471,
          0.9397974293810624,
          1.4622082850861817,
          0.004581087125822542,
          1.1872560720964547,
          -0.06939465386530655,
          0.34555569871453634,
          0.47627576924484,
          0.11665148042293134,
          0.22866331638806298,
          -0.29839556035322234,
          -2.359488044458736,
          1.5194122054394072,
          1.4583479497699154,
          -0.46185920982978745,
          0.0034936982540661877,
          0.036773686882005295,
          -0.4054567731595773,
          -1.198527786346277,
          0.6035952075449362,
          -0.12056204746885117,
          -0.08696956062189974,
          -0.30260921526610346,
          -1.379181324098899,
          -0.7575510045383668,
          -1.1669069387928175,
          0.42251770640713326,
          -0.39442991537684646,
          0.8968649696810801,
          1.000185756835219,
          1.225290849161005,
          -0.5684875907200435,
          -0.9732008970869809,
          -0.13495915879243361,
          -0.7444246126382412,
          -0.08707835112761256,
          0.8798796323503689,
          0.7060197101561982,
          -0.04243007752957983,
          -1.2601728989214394,
          -0.944969736816905,
          0.42698695657750374,
          -1.9294248752331329,
          1.0336411672109236,
          -1.7549866151466353,
          0.2286082492666186,
          -1.6149892789862796,
          0.45981906285790236,
          -1.4103986669031026,
          0.9635927411240099,
          -0.03860187917494151,
          -1.6626456582328502,
          2.187540504498553,
          -0.7097028844079241,
          -2.2801230185416337,
          -1.6130622349451873,
          -0.42600445367120715,
          1.1394401765294633,
          -0.3613245728493242,
          -1.2760968160051436,
          -0.19054613667361206,
          -0.5608507458210631,
          -1.0706260872017523,
          0.8319065039536502,
          1.1586586008561413,
          -0.32577688866384846,
          -1.120167682648072,
          -0.8367561889192894,
          1.1501005753742084,
          1.1780914040975914,
          -2.1832722386363814,
          -0.8275274873462319,
          0.6478121324458215,
          1.1681321398775844,
          0.4718333199251554,
          1.1460239242801087,
          -0.7820887448110919,
          1.556158084660845,
          -1.6580547553017961,
          1.268655088327418,
          0.05952229145177814,
          -1.5759100408069073,
          -0.5736314310222357,
          -0.5229811365201296
         ]
        },
        {
         "line": {
          "color": "rgba(55, 128, 191, 1.0)",
          "dash": "solid",
          "shape": "linear",
          "width": 1.3
         },
         "mode": "lines",
         "name": "B",
         "text": "",
         "type": "scatter",
         "x": [
          0,
          1,
          2,
          3,
          4,
          5,
          6,
          7,
          8,
          9,
          10,
          11,
          12,
          13,
          14,
          15,
          16,
          17,
          18,
          19,
          20,
          21,
          22,
          23,
          24,
          25,
          26,
          27,
          28,
          29,
          30,
          31,
          32,
          33,
          34,
          35,
          36,
          37,
          38,
          39,
          40,
          41,
          42,
          43,
          44,
          45,
          46,
          47,
          48,
          49,
          50,
          51,
          52,
          53,
          54,
          55,
          56,
          57,
          58,
          59,
          60,
          61,
          62,
          63,
          64,
          65,
          66,
          67,
          68,
          69,
          70,
          71,
          72,
          73,
          74,
          75,
          76,
          77,
          78,
          79,
          80,
          81,
          82,
          83,
          84,
          85,
          86,
          87,
          88,
          89,
          90,
          91,
          92,
          93,
          94,
          95,
          96,
          97,
          98,
          99
         ],
         "y": [
          0.43857065498127923,
          0.2921972188658163,
          0.5269976435150321,
          0.3456298172824727,
          -0.17265962141318386,
          1.5214063113948753,
          0.21887156209224995,
          -0.9169151805499315,
          0.897046790028798,
          -0.44166817990327406,
          -0.4905537825729059,
          0.3393359972150877,
          -0.13258206022710767,
          -0.17440426007304868,
          -0.11436202173227045,
          1.3765722633554949,
          -1.363010519812039,
          1.3652219891550936,
          -1.041925534006676,
          0.4030559772477593,
          0.43147627576451036,
          1.1244929202098919,
          0.01284568975710407,
          -1.7329434635161785,
          0.34833148705841827,
          -0.08746755785800744,
          -0.6181108160972224,
          1.1033028653163843,
          0.4471900952784845,
          1.2369465803935622,
          0.8148534762160029,
          1.1024391577961616,
          -0.6072245388300551,
          0.16614874269076368,
          -0.17630537750694994,
          -0.4874814902562876,
          0.39146192099755295,
          0.47440239748577484,
          1.1108766530426502,
          0.9709270617422173,
          0.7094663736011866,
          0.5789503555856831,
          -0.29097984660730236,
          -1.074516099870212,
          -1.0179962198314423,
          0.4505070491292211,
          -0.0987560341762823,
          -0.3910764524815764,
          0.20181801446305067,
          0.9838957226496257,
          -0.9558160896945229,
          0.6394471676960702,
          -0.9552240638281172,
          -1.1106385648831525,
          0.393103490534785,
          0.09981593966862132,
          0.9439109322465946,
          0.5682537414314321,
          -1.201286951986347,
          0.2897167154660576,
          -0.6174219282112287,
          0.8911198651687253,
          0.6279124615290884,
          -0.5925009181791696,
          0.1561814860849528,
          1.2231838467346279,
          -0.15737218559812,
          -1.5474746664860417,
          0.24730224502486184,
          -0.6391894769475629,
          0.7352842406118774,
          -0.47704956402309234,
          -0.8582970312013011,
          -0.3586769108750361,
          0.8133099841261496,
          2.0430668916662293,
          -1.5997064464522288,
          -0.08913250267434249,
          -0.8019159391008681,
          -0.14004361811661117,
          1.3869118318293119,
          -3.0081095236739985,
          -2.6680211196509527,
          -0.5303358494927747,
          0.12978698353110324,
          -0.7636361580880751,
          0.2908557441422079,
          -0.295146448189477,
          -0.3856098063164494,
          0.5831054907534179,
          -0.2755588866036854,
          -1.2385546690415512,
          0.1378391604588889,
          -0.5080325904231946,
          -0.39089986743324556,
          -1.2611800034901748,
          -0.7038431183077906,
          -0.9359997462534155,
          -1.5480435915792188,
          -1.7643199576087762
         ]
        },
        {
         "connectgaps": false,
         "fill": "tozeroy",
         "line": {
          "color": "green",
          "dash": "solid",
          "shape": "linear",
          "width": 0.5
         },
         "mode": "lines",
         "name": "Spread",
         "showlegend": false,
         "type": "scatter",
         "x": [
          0,
          1,
          2,
          3,
          4,
          5,
          6,
          7,
          8,
          9,
          10,
          11,
          12,
          13,
          14,
          15,
          16,
          17,
          18,
          19,
          20,
          21,
          22,
          23,
          24,
          25,
          26,
          27,
          28,
          29,
          30,
          31,
          32,
          33,
          34,
          35,
          36,
          37,
          38,
          39,
          40,
          41,
          42,
          43,
          44,
          45,
          46,
          47,
          48,
          49,
          50,
          51,
          52,
          53,
          54,
          55,
          56,
          57,
          58,
          59,
          60,
          61,
          62,
          63,
          64,
          65,
          66,
          67,
          68,
          69,
          70,
          71,
          72,
          73,
          74,
          75,
          76,
          77,
          78,
          79,
          80,
          81,
          82,
          83,
          84,
          85,
          86,
          87,
          88,
          89,
          90,
          91,
          92,
          93,
          94,
          95,
          96,
          97,
          98,
          99
         ],
         "xaxis": "x2",
         "y": [
          "",
          "",
          0.2131138048779605,
          1.2420500946750939,
          "",
          "",
          "",
          1.2515735173872424,
          "",
          0.6041156716766021,
          0.901330467637909,
          "",
          "",
          1.62968572550473,
          0.8245927687786299,
          "",
          0.048826491036291886,
          "",
          2.504133819092858,
          "",
          0.7557797963319444,
          "",
          0.33271000895743225,
          2.2092192327610185,
          "",
          0.31613087424607045,
          0.31971525574400006,
          "",
          1.0722221101609226,
          0.22140136937635324,
          "",
          "",
          0.6439982257120604,
          "",
          "",
          1.0910766978012238,
          "",
          "",
          "",
          "",
          "",
          "",
          0.7134975530144356,
          0.6800861844933654,
          1.9148611895125223,
          0.5496787077059979,
          1.3240468833372874,
          "",
          "",
          "",
          0.2113914770562817,
          "",
          1.8351036961784861,
          1.8166582750393507,
          "",
          "",
          "",
          "",
          "",
          0.743924451744866,
          "",
          "",
          "",
          1.052319981037072,
          "",
          "",
          0.11877030642317848,
          "",
          1.940238259473691,
          "",
          "",
          "",
          0.4322925775300939,
          1.4981170874044993,
          "",
          "",
          1.4091603097786167,
          "",
          "",
          0.9719501220702613,
          "",
          2.68233263501015,
          1.5478534370028807,
          "",
          1.0203135918431052,
          1.9417275621856664,
          "",
          "",
          1.033421938762271,
          0.5850266491241665,
          0.7473922065288408,
          2.3845785933216597,
          "",
          2.0641906750840393,
          "",
          2.529835091817593,
          0.7633654097595687,
          "",
          0.9744121605569831,
          1.2413388210886467
         ],
         "yaxis": "y2"
        },
        {
         "connectgaps": false,
         "fill": "tozeroy",
         "line": {
          "color": "red",
          "dash": "solid",
          "shape": "linear",
          "width": 0.5
         },
         "mode": "lines",
         "name": "Spread",
         "showlegend": false,
         "type": "scatter",
         "x": [
          0,
          1,
          2,
          3,
          4,
          5,
          6,
          7,
          8,
          9,
          10,
          11,
          12,
          13,
          14,
          15,
          16,
          17,
          18,
          19,
          20,
          21,
          22,
          23,
          24,
          25,
          26,
          27,
          28,
          29,
          30,
          31,
          32,
          33,
          34,
          35,
          36,
          37,
          38,
          39,
          40,
          41,
          42,
          43,
          44,
          45,
          46,
          47,
          48,
          49,
          50,
          51,
          52,
          53,
          54,
          55,
          56,
          57,
          58,
          59,
          60,
          61,
          62,
          63,
          64,
          65,
          66,
          67,
          68,
          69,
          70,
          71,
          72,
          73,
          74,
          75,
          76,
          77,
          78,
          79,
          80,
          81,
          82,
          83,
          84,
          85,
          86,
          87,
          88,
          89,
          90,
          91,
          92,
          93,
          94,
          95,
          96,
          97,
          98,
          99
         ],
         "xaxis": "x2",
         "y": [
          -0.7988807572181109,
          -1.7854039288288535,
          "",
          "",
          -0.4155957563958336,
          -1.7146925039063001,
          -1.367204678616902,
          "",
          -2.250783088961947,
          "",
          "",
          -0.4412873739168282,
          -0.4178591212250424,
          "",
          "",
          -1.1722912989819745,
          "",
          -0.42542455977403126,
          "",
          -0.39847489012193676,
          "",
          -1.1938875740751984,
          "",
          "",
          -0.23168000663548693,
          "",
          "",
          -3.46279090977512,
          "",
          "",
          -1.2767126860457902,
          -1.0989454595420955,
          "",
          -0.571605515850341,
          -1.0222224088393272,
          "",
          -0.5120239684664041,
          -0.5613719581076746,
          -1.4134858683087537,
          -2.3501083858411165,
          -1.4670173781395532,
          -1.7458572943785007,
          "",
          "",
          "",
          "",
          "",
          -0.1774111382384671,
          -1.1750189115500316,
          -1.1188548814420594,
          "",
          -0.7265255188236828,
          "",
          "",
          -0.43553356806436483,
          -1.3599888385900607,
          -1.8888806690634996,
          -0.1412667848539284,
          -0.728137923246786,
          "",
          -1.1375646869354066,
          -0.6625116159021067,
          -2.242901740515368,
          "",
          -1.5665801529880554,
          -0.25959110561061793,
          "",
          -0.11517099174680845,
          "",
          -0.07051340746036117,
          -3.015407259153511,
          -1.136012670922095,
          "",
          "",
          -1.174634556975474,
          -3.3191637076713727,
          "",
          -0.4717182431467206,
          -0.2687101481008842,
          "",
          -0.22825323097317063,
          "",
          "",
          -0.3064203394265147,
          "",
          "",
          -2.4741279827785894,
          -0.5323810391567549,
          "",
          "",
          "",
          "",
          -0.9199279052699808,
          "",
          -1.2671548878685506,
          "",
          "",
          -0.6399102945534918,
          "",
          ""
         ],
         "yaxis": "y2"
        }
       ],
       "layout": {
        "hovermode": "x",
        "legend": {
         "bgcolor": "#F5F6F9",
         "font": {
          "color": "#4D5663"
         }
        },
        "paper_bgcolor": "#F5F6F9",
        "plot_bgcolor": "#F5F6F9",
        "template": {
         "data": {
          "bar": [
           {
            "error_x": {
             "color": "#2a3f5f"
            },
            "error_y": {
             "color": "#2a3f5f"
            },
            "marker": {
             "line": {
              "color": "#E5ECF6",
              "width": 0.5
             },
             "pattern": {
              "fillmode": "overlay",
              "size": 10,
              "solidity": 0.2
             }
            },
            "type": "bar"
           }
          ],
          "barpolar": [
           {
            "marker": {
             "line": {
              "color": "#E5ECF6",
              "width": 0.5
             },
             "pattern": {
              "fillmode": "overlay",
              "size": 10,
              "solidity": 0.2
             }
            },
            "type": "barpolar"
           }
          ],
          "carpet": [
           {
            "aaxis": {
             "endlinecolor": "#2a3f5f",
             "gridcolor": "white",
             "linecolor": "white",
             "minorgridcolor": "white",
             "startlinecolor": "#2a3f5f"
            },
            "baxis": {
             "endlinecolor": "#2a3f5f",
             "gridcolor": "white",
             "linecolor": "white",
             "minorgridcolor": "white",
             "startlinecolor": "#2a3f5f"
            },
            "type": "carpet"
           }
          ],
          "choropleth": [
           {
            "colorbar": {
             "outlinewidth": 0,
             "ticks": ""
            },
            "type": "choropleth"
           }
          ],
          "contour": [
           {
            "colorbar": {
             "outlinewidth": 0,
             "ticks": ""
            },
            "colorscale": [
             [
              0,
              "#0d0887"
             ],
             [
              0.1111111111111111,
              "#46039f"
             ],
             [
              0.2222222222222222,
              "#7201a8"
             ],
             [
              0.3333333333333333,
              "#9c179e"
             ],
             [
              0.4444444444444444,
              "#bd3786"
             ],
             [
              0.5555555555555556,
              "#d8576b"
             ],
             [
              0.6666666666666666,
              "#ed7953"
             ],
             [
              0.7777777777777778,
              "#fb9f3a"
             ],
             [
              0.8888888888888888,
              "#fdca26"
             ],
             [
              1,
              "#f0f921"
             ]
            ],
            "type": "contour"
           }
          ],
          "contourcarpet": [
           {
            "colorbar": {
             "outlinewidth": 0,
             "ticks": ""
            },
            "type": "contourcarpet"
           }
          ],
          "heatmap": [
           {
            "colorbar": {
             "outlinewidth": 0,
             "ticks": ""
            },
            "colorscale": [
             [
              0,
              "#0d0887"
             ],
             [
              0.1111111111111111,
              "#46039f"
             ],
             [
              0.2222222222222222,
              "#7201a8"
             ],
             [
              0.3333333333333333,
              "#9c179e"
             ],
             [
              0.4444444444444444,
              "#bd3786"
             ],
             [
              0.5555555555555556,
              "#d8576b"
             ],
             [
              0.6666666666666666,
              "#ed7953"
             ],
             [
              0.7777777777777778,
              "#fb9f3a"
             ],
             [
              0.8888888888888888,
              "#fdca26"
             ],
             [
              1,
              "#f0f921"
             ]
            ],
            "type": "heatmap"
           }
          ],
          "heatmapgl": [
           {
            "colorbar": {
             "outlinewidth": 0,
             "ticks": ""
            },
            "colorscale": [
             [
              0,
              "#0d0887"
             ],
             [
              0.1111111111111111,
              "#46039f"
             ],
             [
              0.2222222222222222,
              "#7201a8"
             ],
             [
              0.3333333333333333,
              "#9c179e"
             ],
             [
              0.4444444444444444,
              "#bd3786"
             ],
             [
              0.5555555555555556,
              "#d8576b"
             ],
             [
              0.6666666666666666,
              "#ed7953"
             ],
             [
              0.7777777777777778,
              "#fb9f3a"
             ],
             [
              0.8888888888888888,
              "#fdca26"
             ],
             [
              1,
              "#f0f921"
             ]
            ],
            "type": "heatmapgl"
           }
          ],
          "histogram": [
           {
            "marker": {
             "pattern": {
              "fillmode": "overlay",
              "size": 10,
              "solidity": 0.2
             }
            },
            "type": "histogram"
           }
          ],
          "histogram2d": [
           {
            "colorbar": {
             "outlinewidth": 0,
             "ticks": ""
            },
            "colorscale": [
             [
              0,
              "#0d0887"
             ],
             [
              0.1111111111111111,
              "#46039f"
             ],
             [
              0.2222222222222222,
              "#7201a8"
             ],
             [
              0.3333333333333333,
              "#9c179e"
             ],
             [
              0.4444444444444444,
              "#bd3786"
             ],
             [
              0.5555555555555556,
              "#d8576b"
             ],
             [
              0.6666666666666666,
              "#ed7953"
             ],
             [
              0.7777777777777778,
              "#fb9f3a"
             ],
             [
              0.8888888888888888,
              "#fdca26"
             ],
             [
              1,
              "#f0f921"
             ]
            ],
            "type": "histogram2d"
           }
          ],
          "histogram2dcontour": [
           {
            "colorbar": {
             "outlinewidth": 0,
             "ticks": ""
            },
            "colorscale": [
             [
              0,
              "#0d0887"
             ],
             [
              0.1111111111111111,
              "#46039f"
             ],
             [
              0.2222222222222222,
              "#7201a8"
             ],
             [
              0.3333333333333333,
              "#9c179e"
             ],
             [
              0.4444444444444444,
              "#bd3786"
             ],
             [
              0.5555555555555556,
              "#d8576b"
             ],
             [
              0.6666666666666666,
              "#ed7953"
             ],
             [
              0.7777777777777778,
              "#fb9f3a"
             ],
             [
              0.8888888888888888,
              "#fdca26"
             ],
             [
              1,
              "#f0f921"
             ]
            ],
            "type": "histogram2dcontour"
           }
          ],
          "mesh3d": [
           {
            "colorbar": {
             "outlinewidth": 0,
             "ticks": ""
            },
            "type": "mesh3d"
           }
          ],
          "parcoords": [
           {
            "line": {
             "colorbar": {
              "outlinewidth": 0,
              "ticks": ""
             }
            },
            "type": "parcoords"
           }
          ],
          "pie": [
           {
            "automargin": true,
            "type": "pie"
           }
          ],
          "scatter": [
           {
            "marker": {
             "colorbar": {
              "outlinewidth": 0,
              "ticks": ""
             }
            },
            "type": "scatter"
           }
          ],
          "scatter3d": [
           {
            "line": {
             "colorbar": {
              "outlinewidth": 0,
              "ticks": ""
             }
            },
            "marker": {
             "colorbar": {
              "outlinewidth": 0,
              "ticks": ""
             }
            },
            "type": "scatter3d"
           }
          ],
          "scattercarpet": [
           {
            "marker": {
             "colorbar": {
              "outlinewidth": 0,
              "ticks": ""
             }
            },
            "type": "scattercarpet"
           }
          ],
          "scattergeo": [
           {
            "marker": {
             "colorbar": {
              "outlinewidth": 0,
              "ticks": ""
             }
            },
            "type": "scattergeo"
           }
          ],
          "scattergl": [
           {
            "marker": {
             "colorbar": {
              "outlinewidth": 0,
              "ticks": ""
             }
            },
            "type": "scattergl"
           }
          ],
          "scattermapbox": [
           {
            "marker": {
             "colorbar": {
              "outlinewidth": 0,
              "ticks": ""
             }
            },
            "type": "scattermapbox"
           }
          ],
          "scatterpolar": [
           {
            "marker": {
             "colorbar": {
              "outlinewidth": 0,
              "ticks": ""
             }
            },
            "type": "scatterpolar"
           }
          ],
          "scatterpolargl": [
           {
            "marker": {
             "colorbar": {
              "outlinewidth": 0,
              "ticks": ""
             }
            },
            "type": "scatterpolargl"
           }
          ],
          "scatterternary": [
           {
            "marker": {
             "colorbar": {
              "outlinewidth": 0,
              "ticks": ""
             }
            },
            "type": "scatterternary"
           }
          ],
          "surface": [
           {
            "colorbar": {
             "outlinewidth": 0,
             "ticks": ""
            },
            "colorscale": [
             [
              0,
              "#0d0887"
             ],
             [
              0.1111111111111111,
              "#46039f"
             ],
             [
              0.2222222222222222,
              "#7201a8"
             ],
             [
              0.3333333333333333,
              "#9c179e"
             ],
             [
              0.4444444444444444,
              "#bd3786"
             ],
             [
              0.5555555555555556,
              "#d8576b"
             ],
             [
              0.6666666666666666,
              "#ed7953"
             ],
             [
              0.7777777777777778,
              "#fb9f3a"
             ],
             [
              0.8888888888888888,
              "#fdca26"
             ],
             [
              1,
              "#f0f921"
             ]
            ],
            "type": "surface"
           }
          ],
          "table": [
           {
            "cells": {
             "fill": {
              "color": "#EBF0F8"
             },
             "line": {
              "color": "white"
             }
            },
            "header": {
             "fill": {
              "color": "#C8D4E3"
             },
             "line": {
              "color": "white"
             }
            },
            "type": "table"
           }
          ]
         },
         "layout": {
          "annotationdefaults": {
           "arrowcolor": "#2a3f5f",
           "arrowhead": 0,
           "arrowwidth": 1
          },
          "autotypenumbers": "strict",
          "coloraxis": {
           "colorbar": {
            "outlinewidth": 0,
            "ticks": ""
           }
          },
          "colorscale": {
           "diverging": [
            [
             0,
             "#8e0152"
            ],
            [
             0.1,
             "#c51b7d"
            ],
            [
             0.2,
             "#de77ae"
            ],
            [
             0.3,
             "#f1b6da"
            ],
            [
             0.4,
             "#fde0ef"
            ],
            [
             0.5,
             "#f7f7f7"
            ],
            [
             0.6,
             "#e6f5d0"
            ],
            [
             0.7,
             "#b8e186"
            ],
            [
             0.8,
             "#7fbc41"
            ],
            [
             0.9,
             "#4d9221"
            ],
            [
             1,
             "#276419"
            ]
           ],
           "sequential": [
            [
             0,
             "#0d0887"
            ],
            [
             0.1111111111111111,
             "#46039f"
            ],
            [
             0.2222222222222222,
             "#7201a8"
            ],
            [
             0.3333333333333333,
             "#9c179e"
            ],
            [
             0.4444444444444444,
             "#bd3786"
            ],
            [
             0.5555555555555556,
             "#d8576b"
            ],
            [
             0.6666666666666666,
             "#ed7953"
            ],
            [
             0.7777777777777778,
             "#fb9f3a"
            ],
            [
             0.8888888888888888,
             "#fdca26"
            ],
            [
             1,
             "#f0f921"
            ]
           ],
           "sequentialminus": [
            [
             0,
             "#0d0887"
            ],
            [
             0.1111111111111111,
             "#46039f"
            ],
            [
             0.2222222222222222,
             "#7201a8"
            ],
            [
             0.3333333333333333,
             "#9c179e"
            ],
            [
             0.4444444444444444,
             "#bd3786"
            ],
            [
             0.5555555555555556,
             "#d8576b"
            ],
            [
             0.6666666666666666,
             "#ed7953"
            ],
            [
             0.7777777777777778,
             "#fb9f3a"
            ],
            [
             0.8888888888888888,
             "#fdca26"
            ],
            [
             1,
             "#f0f921"
            ]
           ]
          },
          "colorway": [
           "#636efa",
           "#EF553B",
           "#00cc96",
           "#ab63fa",
           "#FFA15A",
           "#19d3f3",
           "#FF6692",
           "#B6E880",
           "#FF97FF",
           "#FECB52"
          ],
          "font": {
           "color": "#2a3f5f"
          },
          "geo": {
           "bgcolor": "white",
           "lakecolor": "white",
           "landcolor": "#E5ECF6",
           "showlakes": true,
           "showland": true,
           "subunitcolor": "white"
          },
          "hoverlabel": {
           "align": "left"
          },
          "hovermode": "closest",
          "mapbox": {
           "style": "light"
          },
          "paper_bgcolor": "white",
          "plot_bgcolor": "#E5ECF6",
          "polar": {
           "angularaxis": {
            "gridcolor": "white",
            "linecolor": "white",
            "ticks": ""
           },
           "bgcolor": "#E5ECF6",
           "radialaxis": {
            "gridcolor": "white",
            "linecolor": "white",
            "ticks": ""
           }
          },
          "scene": {
           "xaxis": {
            "backgroundcolor": "#E5ECF6",
            "gridcolor": "white",
            "gridwidth": 2,
            "linecolor": "white",
            "showbackground": true,
            "ticks": "",
            "zerolinecolor": "white"
           },
           "yaxis": {
            "backgroundcolor": "#E5ECF6",
            "gridcolor": "white",
            "gridwidth": 2,
            "linecolor": "white",
            "showbackground": true,
            "ticks": "",
            "zerolinecolor": "white"
           },
           "zaxis": {
            "backgroundcolor": "#E5ECF6",
            "gridcolor": "white",
            "gridwidth": 2,
            "linecolor": "white",
            "showbackground": true,
            "ticks": "",
            "zerolinecolor": "white"
           }
          },
          "shapedefaults": {
           "line": {
            "color": "#2a3f5f"
           }
          },
          "ternary": {
           "aaxis": {
            "gridcolor": "white",
            "linecolor": "white",
            "ticks": ""
           },
           "baxis": {
            "gridcolor": "white",
            "linecolor": "white",
            "ticks": ""
           },
           "bgcolor": "#E5ECF6",
           "caxis": {
            "gridcolor": "white",
            "linecolor": "white",
            "ticks": ""
           }
          },
          "title": {
           "x": 0.05
          },
          "xaxis": {
           "automargin": true,
           "gridcolor": "white",
           "linecolor": "white",
           "ticks": "",
           "title": {
            "standoff": 15
           },
           "zerolinecolor": "white",
           "zerolinewidth": 2
          },
          "yaxis": {
           "automargin": true,
           "gridcolor": "white",
           "linecolor": "white",
           "ticks": "",
           "title": {
            "standoff": 15
           },
           "zerolinecolor": "white",
           "zerolinewidth": 2
          }
         }
        },
        "title": {
         "font": {
          "color": "#4D5663"
         }
        },
        "xaxis": {
         "gridcolor": "#E1E5ED",
         "showgrid": true,
         "tickfont": {
          "color": "#4D5663"
         },
         "title": {
          "font": {
           "color": "#4D5663"
          },
          "text": ""
         },
         "zerolinecolor": "#E1E5ED"
        },
        "xaxis2": {
         "anchor": "y2",
         "gridcolor": "#E1E5ED",
         "showgrid": true,
         "showticklabels": false,
         "tickfont": {
          "color": "#4D5663"
         },
         "title": {
          "font": {
           "color": "#4D5663"
          },
          "text": ""
         },
         "zerolinecolor": "#E1E5ED"
        },
        "yaxis": {
         "domain": [
          0.3,
          1
         ],
         "gridcolor": "#E1E5ED",
         "showgrid": true,
         "tickfont": {
          "color": "#4D5663"
         },
         "title": {
          "font": {
           "color": "#4D5663"
          },
          "text": ""
         },
         "zerolinecolor": "#E1E5ED"
        },
        "yaxis2": {
         "domain": [
          0,
          0.25
         ],
         "gridcolor": "#E1E5ED",
         "showgrid": true,
         "tickfont": {
          "color": "#4D5663"
         },
         "title": {
          "font": {
           "color": "#4D5663"
          },
          "text": "Spread"
         },
         "zerolinecolor": "#E1E5ED"
        }
       }
      },
      "text/html": [
       "<div>                            <div id=\"21b445ee-ec35-4e50-b682-7a37358c132d\" class=\"plotly-graph-div\" style=\"height:525px; width:100%;\"></div>            <script type=\"text/javascript\">                require([\"plotly\"], function(Plotly) {                    window.PLOTLYENV=window.PLOTLYENV || {};\n",
       "                    window.PLOTLYENV.BASE_URL='https://plot.ly';                                    if (document.getElementById(\"21b445ee-ec35-4e50-b682-7a37358c132d\")) {                    Plotly.newPlot(                        \"21b445ee-ec35-4e50-b682-7a37358c132d\",                        [{\"line\":{\"color\":\"rgba(255, 153, 51, 1.0)\",\"dash\":\"solid\",\"shape\":\"linear\",\"width\":1.3},\"mode\":\"lines\",\"name\":\"A\",\"text\":\"\",\"type\":\"scatter\",\"x\":[0,1,2,3,4,5,6,7,8,9,10,11,12,13,14,15,16,17,18,19,20,21,22,23,24,25,26,27,28,29,30,31,32,33,34,35,36,37,38,39,40,41,42,43,44,45,46,47,48,49,50,51,52,53,54,55,56,57,58,59,60,61,62,63,64,65,66,67,68,69,70,71,72,73,74,75,76,77,78,79,80,81,82,83,84,85,86,87,88,89,90,91,92,93,94,95,96,97,98,99],\"y\":[-0.3603101022368317,-1.4932067099630373,0.7401114483929926,1.5876799119575666,-0.5882553778090175,-0.19328619251142493,-1.1483331165246522,0.3346583368373109,-1.353736298933149,0.16244749177332804,0.4107766850650031,-0.1019513767017405,-0.55044118145215,1.4552814654316812,0.7102307470463595,0.2042809643735204,-1.3141840287757471,0.9397974293810624,1.4622082850861817,0.004581087125822542,1.1872560720964547,-0.06939465386530655,0.34555569871453634,0.47627576924484,0.11665148042293134,0.22866331638806298,-0.29839556035322234,-2.359488044458736,1.5194122054394072,1.4583479497699154,-0.46185920982978745,0.0034936982540661877,0.036773686882005295,-0.4054567731595773,-1.198527786346277,0.6035952075449362,-0.12056204746885117,-0.08696956062189974,-0.30260921526610346,-1.379181324098899,-0.7575510045383668,-1.1669069387928175,0.42251770640713326,-0.39442991537684646,0.8968649696810801,1.000185756835219,1.225290849161005,-0.5684875907200435,-0.9732008970869809,-0.13495915879243361,-0.7444246126382412,-0.08707835112761256,0.8798796323503689,0.7060197101561982,-0.04243007752957983,-1.2601728989214394,-0.944969736816905,0.42698695657750374,-1.9294248752331329,1.0336411672109236,-1.7549866151466353,0.2286082492666186,-1.6149892789862796,0.45981906285790236,-1.4103986669031026,0.9635927411240099,-0.03860187917494151,-1.6626456582328502,2.187540504498553,-0.7097028844079241,-2.2801230185416337,-1.6130622349451873,-0.42600445367120715,1.1394401765294633,-0.3613245728493242,-1.2760968160051436,-0.19054613667361206,-0.5608507458210631,-1.0706260872017523,0.8319065039536502,1.1586586008561413,-0.32577688866384846,-1.120167682648072,-0.8367561889192894,1.1501005753742084,1.1780914040975914,-2.1832722386363814,-0.8275274873462319,0.6478121324458215,1.1681321398775844,0.4718333199251554,1.1460239242801087,-0.7820887448110919,1.556158084660845,-1.6580547553017961,1.268655088327418,0.05952229145177814,-1.5759100408069073,-0.5736314310222357,-0.5229811365201296]},{\"line\":{\"color\":\"rgba(55, 128, 191, 1.0)\",\"dash\":\"solid\",\"shape\":\"linear\",\"width\":1.3},\"mode\":\"lines\",\"name\":\"B\",\"text\":\"\",\"type\":\"scatter\",\"x\":[0,1,2,3,4,5,6,7,8,9,10,11,12,13,14,15,16,17,18,19,20,21,22,23,24,25,26,27,28,29,30,31,32,33,34,35,36,37,38,39,40,41,42,43,44,45,46,47,48,49,50,51,52,53,54,55,56,57,58,59,60,61,62,63,64,65,66,67,68,69,70,71,72,73,74,75,76,77,78,79,80,81,82,83,84,85,86,87,88,89,90,91,92,93,94,95,96,97,98,99],\"y\":[0.43857065498127923,0.2921972188658163,0.5269976435150321,0.3456298172824727,-0.17265962141318386,1.5214063113948753,0.21887156209224995,-0.9169151805499315,0.897046790028798,-0.44166817990327406,-0.4905537825729059,0.3393359972150877,-0.13258206022710767,-0.17440426007304868,-0.11436202173227045,1.3765722633554949,-1.363010519812039,1.3652219891550936,-1.041925534006676,0.4030559772477593,0.43147627576451036,1.1244929202098919,0.01284568975710407,-1.7329434635161785,0.34833148705841827,-0.08746755785800744,-0.6181108160972224,1.1033028653163843,0.4471900952784845,1.2369465803935622,0.8148534762160029,1.1024391577961616,-0.6072245388300551,0.16614874269076368,-0.17630537750694994,-0.4874814902562876,0.39146192099755295,0.47440239748577484,1.1108766530426502,0.9709270617422173,0.7094663736011866,0.5789503555856831,-0.29097984660730236,-1.074516099870212,-1.0179962198314423,0.4505070491292211,-0.0987560341762823,-0.3910764524815764,0.20181801446305067,0.9838957226496257,-0.9558160896945229,0.6394471676960702,-0.9552240638281172,-1.1106385648831525,0.393103490534785,0.09981593966862132,0.9439109322465946,0.5682537414314321,-1.201286951986347,0.2897167154660576,-0.6174219282112287,0.8911198651687253,0.6279124615290884,-0.5925009181791696,0.1561814860849528,1.2231838467346279,-0.15737218559812,-1.5474746664860417,0.24730224502486184,-0.6391894769475629,0.7352842406118774,-0.47704956402309234,-0.8582970312013011,-0.3586769108750361,0.8133099841261496,2.0430668916662293,-1.5997064464522288,-0.08913250267434249,-0.8019159391008681,-0.14004361811661117,1.3869118318293119,-3.0081095236739985,-2.6680211196509527,-0.5303358494927747,0.12978698353110324,-0.7636361580880751,0.2908557441422079,-0.295146448189477,-0.3856098063164494,0.5831054907534179,-0.2755588866036854,-1.2385546690415512,0.1378391604588889,-0.5080325904231946,-0.39089986743324556,-1.2611800034901748,-0.7038431183077906,-0.9359997462534155,-1.5480435915792188,-1.7643199576087762]},{\"connectgaps\":false,\"fill\":\"tozeroy\",\"line\":{\"color\":\"green\",\"dash\":\"solid\",\"shape\":\"linear\",\"width\":0.5},\"mode\":\"lines\",\"name\":\"Spread\",\"showlegend\":false,\"type\":\"scatter\",\"x\":[0,1,2,3,4,5,6,7,8,9,10,11,12,13,14,15,16,17,18,19,20,21,22,23,24,25,26,27,28,29,30,31,32,33,34,35,36,37,38,39,40,41,42,43,44,45,46,47,48,49,50,51,52,53,54,55,56,57,58,59,60,61,62,63,64,65,66,67,68,69,70,71,72,73,74,75,76,77,78,79,80,81,82,83,84,85,86,87,88,89,90,91,92,93,94,95,96,97,98,99],\"xaxis\":\"x2\",\"y\":[\"\",\"\",0.2131138048779605,1.2420500946750939,\"\",\"\",\"\",1.2515735173872424,\"\",0.6041156716766021,0.901330467637909,\"\",\"\",1.62968572550473,0.8245927687786299,\"\",0.048826491036291886,\"\",2.504133819092858,\"\",0.7557797963319444,\"\",0.33271000895743225,2.2092192327610185,\"\",0.31613087424607045,0.31971525574400006,\"\",1.0722221101609226,0.22140136937635324,\"\",\"\",0.6439982257120604,\"\",\"\",1.0910766978012238,\"\",\"\",\"\",\"\",\"\",\"\",0.7134975530144356,0.6800861844933654,1.9148611895125223,0.5496787077059979,1.3240468833372874,\"\",\"\",\"\",0.2113914770562817,\"\",1.8351036961784861,1.8166582750393507,\"\",\"\",\"\",\"\",\"\",0.743924451744866,\"\",\"\",\"\",1.052319981037072,\"\",\"\",0.11877030642317848,\"\",1.940238259473691,\"\",\"\",\"\",0.4322925775300939,1.4981170874044993,\"\",\"\",1.4091603097786167,\"\",\"\",0.9719501220702613,\"\",2.68233263501015,1.5478534370028807,\"\",1.0203135918431052,1.9417275621856664,\"\",\"\",1.033421938762271,0.5850266491241665,0.7473922065288408,2.3845785933216597,\"\",2.0641906750840393,\"\",2.529835091817593,0.7633654097595687,\"\",0.9744121605569831,1.2413388210886467],\"yaxis\":\"y2\"},{\"connectgaps\":false,\"fill\":\"tozeroy\",\"line\":{\"color\":\"red\",\"dash\":\"solid\",\"shape\":\"linear\",\"width\":0.5},\"mode\":\"lines\",\"name\":\"Spread\",\"showlegend\":false,\"type\":\"scatter\",\"x\":[0,1,2,3,4,5,6,7,8,9,10,11,12,13,14,15,16,17,18,19,20,21,22,23,24,25,26,27,28,29,30,31,32,33,34,35,36,37,38,39,40,41,42,43,44,45,46,47,48,49,50,51,52,53,54,55,56,57,58,59,60,61,62,63,64,65,66,67,68,69,70,71,72,73,74,75,76,77,78,79,80,81,82,83,84,85,86,87,88,89,90,91,92,93,94,95,96,97,98,99],\"xaxis\":\"x2\",\"y\":[-0.7988807572181109,-1.7854039288288535,\"\",\"\",-0.4155957563958336,-1.7146925039063001,-1.367204678616902,\"\",-2.250783088961947,\"\",\"\",-0.4412873739168282,-0.4178591212250424,\"\",\"\",-1.1722912989819745,\"\",-0.42542455977403126,\"\",-0.39847489012193676,\"\",-1.1938875740751984,\"\",\"\",-0.23168000663548693,\"\",\"\",-3.46279090977512,\"\",\"\",-1.2767126860457902,-1.0989454595420955,\"\",-0.571605515850341,-1.0222224088393272,\"\",-0.5120239684664041,-0.5613719581076746,-1.4134858683087537,-2.3501083858411165,-1.4670173781395532,-1.7458572943785007,\"\",\"\",\"\",\"\",\"\",-0.1774111382384671,-1.1750189115500316,-1.1188548814420594,\"\",-0.7265255188236828,\"\",\"\",-0.43553356806436483,-1.3599888385900607,-1.8888806690634996,-0.1412667848539284,-0.728137923246786,\"\",-1.1375646869354066,-0.6625116159021067,-2.242901740515368,\"\",-1.5665801529880554,-0.25959110561061793,\"\",-0.11517099174680845,\"\",-0.07051340746036117,-3.015407259153511,-1.136012670922095,\"\",\"\",-1.174634556975474,-3.3191637076713727,\"\",-0.4717182431467206,-0.2687101481008842,\"\",-0.22825323097317063,\"\",\"\",-0.3064203394265147,\"\",\"\",-2.4741279827785894,-0.5323810391567549,\"\",\"\",\"\",\"\",-0.9199279052699808,\"\",-1.2671548878685506,\"\",\"\",-0.6399102945534918,\"\",\"\"],\"yaxis\":\"y2\"}],                        {\"hovermode\":\"x\",\"legend\":{\"bgcolor\":\"#F5F6F9\",\"font\":{\"color\":\"#4D5663\"}},\"paper_bgcolor\":\"#F5F6F9\",\"plot_bgcolor\":\"#F5F6F9\",\"template\":{\"data\":{\"bar\":[{\"error_x\":{\"color\":\"#2a3f5f\"},\"error_y\":{\"color\":\"#2a3f5f\"},\"marker\":{\"line\":{\"color\":\"#E5ECF6\",\"width\":0.5},\"pattern\":{\"fillmode\":\"overlay\",\"size\":10,\"solidity\":0.2}},\"type\":\"bar\"}],\"barpolar\":[{\"marker\":{\"line\":{\"color\":\"#E5ECF6\",\"width\":0.5},\"pattern\":{\"fillmode\":\"overlay\",\"size\":10,\"solidity\":0.2}},\"type\":\"barpolar\"}],\"carpet\":[{\"aaxis\":{\"endlinecolor\":\"#2a3f5f\",\"gridcolor\":\"white\",\"linecolor\":\"white\",\"minorgridcolor\":\"white\",\"startlinecolor\":\"#2a3f5f\"},\"baxis\":{\"endlinecolor\":\"#2a3f5f\",\"gridcolor\":\"white\",\"linecolor\":\"white\",\"minorgridcolor\":\"white\",\"startlinecolor\":\"#2a3f5f\"},\"type\":\"carpet\"}],\"choropleth\":[{\"colorbar\":{\"outlinewidth\":0,\"ticks\":\"\"},\"type\":\"choropleth\"}],\"contour\":[{\"colorbar\":{\"outlinewidth\":0,\"ticks\":\"\"},\"colorscale\":[[0.0,\"#0d0887\"],[0.1111111111111111,\"#46039f\"],[0.2222222222222222,\"#7201a8\"],[0.3333333333333333,\"#9c179e\"],[0.4444444444444444,\"#bd3786\"],[0.5555555555555556,\"#d8576b\"],[0.6666666666666666,\"#ed7953\"],[0.7777777777777778,\"#fb9f3a\"],[0.8888888888888888,\"#fdca26\"],[1.0,\"#f0f921\"]],\"type\":\"contour\"}],\"contourcarpet\":[{\"colorbar\":{\"outlinewidth\":0,\"ticks\":\"\"},\"type\":\"contourcarpet\"}],\"heatmap\":[{\"colorbar\":{\"outlinewidth\":0,\"ticks\":\"\"},\"colorscale\":[[0.0,\"#0d0887\"],[0.1111111111111111,\"#46039f\"],[0.2222222222222222,\"#7201a8\"],[0.3333333333333333,\"#9c179e\"],[0.4444444444444444,\"#bd3786\"],[0.5555555555555556,\"#d8576b\"],[0.6666666666666666,\"#ed7953\"],[0.7777777777777778,\"#fb9f3a\"],[0.8888888888888888,\"#fdca26\"],[1.0,\"#f0f921\"]],\"type\":\"heatmap\"}],\"heatmapgl\":[{\"colorbar\":{\"outlinewidth\":0,\"ticks\":\"\"},\"colorscale\":[[0.0,\"#0d0887\"],[0.1111111111111111,\"#46039f\"],[0.2222222222222222,\"#7201a8\"],[0.3333333333333333,\"#9c179e\"],[0.4444444444444444,\"#bd3786\"],[0.5555555555555556,\"#d8576b\"],[0.6666666666666666,\"#ed7953\"],[0.7777777777777778,\"#fb9f3a\"],[0.8888888888888888,\"#fdca26\"],[1.0,\"#f0f921\"]],\"type\":\"heatmapgl\"}],\"histogram\":[{\"marker\":{\"pattern\":{\"fillmode\":\"overlay\",\"size\":10,\"solidity\":0.2}},\"type\":\"histogram\"}],\"histogram2d\":[{\"colorbar\":{\"outlinewidth\":0,\"ticks\":\"\"},\"colorscale\":[[0.0,\"#0d0887\"],[0.1111111111111111,\"#46039f\"],[0.2222222222222222,\"#7201a8\"],[0.3333333333333333,\"#9c179e\"],[0.4444444444444444,\"#bd3786\"],[0.5555555555555556,\"#d8576b\"],[0.6666666666666666,\"#ed7953\"],[0.7777777777777778,\"#fb9f3a\"],[0.8888888888888888,\"#fdca26\"],[1.0,\"#f0f921\"]],\"type\":\"histogram2d\"}],\"histogram2dcontour\":[{\"colorbar\":{\"outlinewidth\":0,\"ticks\":\"\"},\"colorscale\":[[0.0,\"#0d0887\"],[0.1111111111111111,\"#46039f\"],[0.2222222222222222,\"#7201a8\"],[0.3333333333333333,\"#9c179e\"],[0.4444444444444444,\"#bd3786\"],[0.5555555555555556,\"#d8576b\"],[0.6666666666666666,\"#ed7953\"],[0.7777777777777778,\"#fb9f3a\"],[0.8888888888888888,\"#fdca26\"],[1.0,\"#f0f921\"]],\"type\":\"histogram2dcontour\"}],\"mesh3d\":[{\"colorbar\":{\"outlinewidth\":0,\"ticks\":\"\"},\"type\":\"mesh3d\"}],\"parcoords\":[{\"line\":{\"colorbar\":{\"outlinewidth\":0,\"ticks\":\"\"}},\"type\":\"parcoords\"}],\"pie\":[{\"automargin\":true,\"type\":\"pie\"}],\"scatter\":[{\"marker\":{\"colorbar\":{\"outlinewidth\":0,\"ticks\":\"\"}},\"type\":\"scatter\"}],\"scatter3d\":[{\"line\":{\"colorbar\":{\"outlinewidth\":0,\"ticks\":\"\"}},\"marker\":{\"colorbar\":{\"outlinewidth\":0,\"ticks\":\"\"}},\"type\":\"scatter3d\"}],\"scattercarpet\":[{\"marker\":{\"colorbar\":{\"outlinewidth\":0,\"ticks\":\"\"}},\"type\":\"scattercarpet\"}],\"scattergeo\":[{\"marker\":{\"colorbar\":{\"outlinewidth\":0,\"ticks\":\"\"}},\"type\":\"scattergeo\"}],\"scattergl\":[{\"marker\":{\"colorbar\":{\"outlinewidth\":0,\"ticks\":\"\"}},\"type\":\"scattergl\"}],\"scattermapbox\":[{\"marker\":{\"colorbar\":{\"outlinewidth\":0,\"ticks\":\"\"}},\"type\":\"scattermapbox\"}],\"scatterpolar\":[{\"marker\":{\"colorbar\":{\"outlinewidth\":0,\"ticks\":\"\"}},\"type\":\"scatterpolar\"}],\"scatterpolargl\":[{\"marker\":{\"colorbar\":{\"outlinewidth\":0,\"ticks\":\"\"}},\"type\":\"scatterpolargl\"}],\"scatterternary\":[{\"marker\":{\"colorbar\":{\"outlinewidth\":0,\"ticks\":\"\"}},\"type\":\"scatterternary\"}],\"surface\":[{\"colorbar\":{\"outlinewidth\":0,\"ticks\":\"\"},\"colorscale\":[[0.0,\"#0d0887\"],[0.1111111111111111,\"#46039f\"],[0.2222222222222222,\"#7201a8\"],[0.3333333333333333,\"#9c179e\"],[0.4444444444444444,\"#bd3786\"],[0.5555555555555556,\"#d8576b\"],[0.6666666666666666,\"#ed7953\"],[0.7777777777777778,\"#fb9f3a\"],[0.8888888888888888,\"#fdca26\"],[1.0,\"#f0f921\"]],\"type\":\"surface\"}],\"table\":[{\"cells\":{\"fill\":{\"color\":\"#EBF0F8\"},\"line\":{\"color\":\"white\"}},\"header\":{\"fill\":{\"color\":\"#C8D4E3\"},\"line\":{\"color\":\"white\"}},\"type\":\"table\"}]},\"layout\":{\"annotationdefaults\":{\"arrowcolor\":\"#2a3f5f\",\"arrowhead\":0,\"arrowwidth\":1},\"autotypenumbers\":\"strict\",\"coloraxis\":{\"colorbar\":{\"outlinewidth\":0,\"ticks\":\"\"}},\"colorscale\":{\"diverging\":[[0,\"#8e0152\"],[0.1,\"#c51b7d\"],[0.2,\"#de77ae\"],[0.3,\"#f1b6da\"],[0.4,\"#fde0ef\"],[0.5,\"#f7f7f7\"],[0.6,\"#e6f5d0\"],[0.7,\"#b8e186\"],[0.8,\"#7fbc41\"],[0.9,\"#4d9221\"],[1,\"#276419\"]],\"sequential\":[[0.0,\"#0d0887\"],[0.1111111111111111,\"#46039f\"],[0.2222222222222222,\"#7201a8\"],[0.3333333333333333,\"#9c179e\"],[0.4444444444444444,\"#bd3786\"],[0.5555555555555556,\"#d8576b\"],[0.6666666666666666,\"#ed7953\"],[0.7777777777777778,\"#fb9f3a\"],[0.8888888888888888,\"#fdca26\"],[1.0,\"#f0f921\"]],\"sequentialminus\":[[0.0,\"#0d0887\"],[0.1111111111111111,\"#46039f\"],[0.2222222222222222,\"#7201a8\"],[0.3333333333333333,\"#9c179e\"],[0.4444444444444444,\"#bd3786\"],[0.5555555555555556,\"#d8576b\"],[0.6666666666666666,\"#ed7953\"],[0.7777777777777778,\"#fb9f3a\"],[0.8888888888888888,\"#fdca26\"],[1.0,\"#f0f921\"]]},\"colorway\":[\"#636efa\",\"#EF553B\",\"#00cc96\",\"#ab63fa\",\"#FFA15A\",\"#19d3f3\",\"#FF6692\",\"#B6E880\",\"#FF97FF\",\"#FECB52\"],\"font\":{\"color\":\"#2a3f5f\"},\"geo\":{\"bgcolor\":\"white\",\"lakecolor\":\"white\",\"landcolor\":\"#E5ECF6\",\"showlakes\":true,\"showland\":true,\"subunitcolor\":\"white\"},\"hoverlabel\":{\"align\":\"left\"},\"hovermode\":\"closest\",\"mapbox\":{\"style\":\"light\"},\"paper_bgcolor\":\"white\",\"plot_bgcolor\":\"#E5ECF6\",\"polar\":{\"angularaxis\":{\"gridcolor\":\"white\",\"linecolor\":\"white\",\"ticks\":\"\"},\"bgcolor\":\"#E5ECF6\",\"radialaxis\":{\"gridcolor\":\"white\",\"linecolor\":\"white\",\"ticks\":\"\"}},\"scene\":{\"xaxis\":{\"backgroundcolor\":\"#E5ECF6\",\"gridcolor\":\"white\",\"gridwidth\":2,\"linecolor\":\"white\",\"showbackground\":true,\"ticks\":\"\",\"zerolinecolor\":\"white\"},\"yaxis\":{\"backgroundcolor\":\"#E5ECF6\",\"gridcolor\":\"white\",\"gridwidth\":2,\"linecolor\":\"white\",\"showbackground\":true,\"ticks\":\"\",\"zerolinecolor\":\"white\"},\"zaxis\":{\"backgroundcolor\":\"#E5ECF6\",\"gridcolor\":\"white\",\"gridwidth\":2,\"linecolor\":\"white\",\"showbackground\":true,\"ticks\":\"\",\"zerolinecolor\":\"white\"}},\"shapedefaults\":{\"line\":{\"color\":\"#2a3f5f\"}},\"ternary\":{\"aaxis\":{\"gridcolor\":\"white\",\"linecolor\":\"white\",\"ticks\":\"\"},\"baxis\":{\"gridcolor\":\"white\",\"linecolor\":\"white\",\"ticks\":\"\"},\"bgcolor\":\"#E5ECF6\",\"caxis\":{\"gridcolor\":\"white\",\"linecolor\":\"white\",\"ticks\":\"\"}},\"title\":{\"x\":0.05},\"xaxis\":{\"automargin\":true,\"gridcolor\":\"white\",\"linecolor\":\"white\",\"ticks\":\"\",\"title\":{\"standoff\":15},\"zerolinecolor\":\"white\",\"zerolinewidth\":2},\"yaxis\":{\"automargin\":true,\"gridcolor\":\"white\",\"linecolor\":\"white\",\"ticks\":\"\",\"title\":{\"standoff\":15},\"zerolinecolor\":\"white\",\"zerolinewidth\":2}}},\"title\":{\"font\":{\"color\":\"#4D5663\"}},\"xaxis\":{\"gridcolor\":\"#E1E5ED\",\"showgrid\":true,\"tickfont\":{\"color\":\"#4D5663\"},\"title\":{\"font\":{\"color\":\"#4D5663\"},\"text\":\"\"},\"zerolinecolor\":\"#E1E5ED\"},\"xaxis2\":{\"anchor\":\"y2\",\"gridcolor\":\"#E1E5ED\",\"showgrid\":true,\"showticklabels\":false,\"tickfont\":{\"color\":\"#4D5663\"},\"title\":{\"font\":{\"color\":\"#4D5663\"},\"text\":\"\"},\"zerolinecolor\":\"#E1E5ED\"},\"yaxis\":{\"domain\":[0.3,1],\"gridcolor\":\"#E1E5ED\",\"showgrid\":true,\"tickfont\":{\"color\":\"#4D5663\"},\"title\":{\"font\":{\"color\":\"#4D5663\"},\"text\":\"\"},\"zerolinecolor\":\"#E1E5ED\"},\"yaxis2\":{\"domain\":[0,0.25],\"gridcolor\":\"#E1E5ED\",\"showgrid\":true,\"tickfont\":{\"color\":\"#4D5663\"},\"title\":{\"font\":{\"color\":\"#4D5663\"},\"text\":\"Spread\"},\"zerolinecolor\":\"#E1E5ED\"}},                        {\"showLink\": true, \"linkText\": \"Export to plot.ly\", \"plotlyServerURL\": \"https://plot.ly\", \"responsive\": true}                    ).then(function(){\n",
       "                            \n",
       "var gd = document.getElementById('21b445ee-ec35-4e50-b682-7a37358c132d');\n",
       "var x = new MutationObserver(function (mutations, observer) {{\n",
       "        var display = window.getComputedStyle(gd).display;\n",
       "        if (!display || display === 'none') {{\n",
       "            console.log([gd, 'removed!']);\n",
       "            Plotly.purge(gd);\n",
       "            observer.disconnect();\n",
       "        }}\n",
       "}});\n",
       "\n",
       "// Listen for the removal of the full notebook cells\n",
       "var notebookContainer = gd.closest('#notebook-container');\n",
       "if (notebookContainer) {{\n",
       "    x.observe(notebookContainer, {childList: true});\n",
       "}}\n",
       "\n",
       "// Listen for the clearing of the current output cell\n",
       "var outputEl = gd.closest('.output');\n",
       "if (outputEl) {{\n",
       "    x.observe(outputEl, {childList: true});\n",
       "}}\n",
       "\n",
       "                        })                };                });            </script>        </div>"
      ]
     },
     "metadata": {},
     "output_type": "display_data"
    }
   ],
   "source": [
    "df[['A', 'B']].iplot(kind='spread') # main used in stocks"
   ]
  },
  {
   "cell_type": "code",
   "execution_count": 29,
   "id": "4b05e09f",
   "metadata": {},
   "outputs": [
    {
     "data": {
      "application/vnd.plotly.v1+json": {
       "config": {
        "linkText": "Export to plot.ly",
        "plotlyServerURL": "https://plot.ly",
        "showLink": true
       },
       "data": [
        {
         "marker": {
          "color": [
           "rgb(255, 153, 51)",
           "rgb(55, 128, 191)",
           "rgb(50, 171, 96)",
           "rgb(128, 0, 128)",
           "rgb(219, 64, 82)",
           "rgb(0, 128, 128)",
           "rgb(255, 255, 51)",
           "rgb(128, 128, 0)",
           "rgb(251, 128, 114)",
           "rgb(128, 177, 211)"
          ],
          "line": {
           "width": 1.3
          },
          "size": [
           52,
           66,
           40,
           66,
           55,
           82,
           52,
           65,
           49,
           71,
           41,
           88,
           88,
           112,
           30,
           71,
           62,
           56,
           81,
           38,
           64,
           71,
           87,
           74,
           43,
           52,
           66,
           76,
           21,
           50,
           87,
           60,
           74,
           85,
           91,
           49,
           55,
           38,
           68,
           52,
           35,
           84,
           38,
           96,
           47,
           44,
           55,
           70,
           39,
           40,
           83,
           26,
           47,
           48,
           54,
           93,
           62,
           56,
           67,
           20,
           61,
           78,
           30,
           69,
           71,
           27,
           51,
           58,
           33,
           84,
           12,
           64,
           44,
           67,
           25,
           77,
           73,
           61,
           91,
           99,
           69,
           88,
           31,
           47,
           50,
           70,
           61,
           48,
           106,
           79,
           46,
           32,
           52,
           42,
           73,
           33,
           95,
           51,
           50,
           50
          ],
          "symbol": "circle"
         },
         "mode": "markers",
         "text": "",
         "type": "scatter",
         "x": [
          -0.3603101022368317,
          -1.4932067099630373,
          0.7401114483929926,
          1.5876799119575666,
          -0.5882553778090175,
          -0.19328619251142493,
          -1.1483331165246522,
          0.3346583368373109,
          -1.353736298933149,
          0.16244749177332804,
          0.4107766850650031,
          -0.1019513767017405,
          -0.55044118145215,
          1.4552814654316812,
          0.7102307470463595,
          0.2042809643735204,
          -1.3141840287757471,
          0.9397974293810624,
          1.4622082850861817,
          0.004581087125822542,
          1.1872560720964547,
          -0.06939465386530655,
          0.34555569871453634,
          0.47627576924484,
          0.11665148042293134,
          0.22866331638806298,
          -0.29839556035322234,
          -2.359488044458736,
          1.5194122054394072,
          1.4583479497699154,
          -0.46185920982978745,
          0.0034936982540661877,
          0.036773686882005295,
          -0.4054567731595773,
          -1.198527786346277,
          0.6035952075449362,
          -0.12056204746885117,
          -0.08696956062189974,
          -0.30260921526610346,
          -1.379181324098899,
          -0.7575510045383668,
          -1.1669069387928175,
          0.42251770640713326,
          -0.39442991537684646,
          0.8968649696810801,
          1.000185756835219,
          1.225290849161005,
          -0.5684875907200435,
          -0.9732008970869809,
          -0.13495915879243361,
          -0.7444246126382412,
          -0.08707835112761256,
          0.8798796323503689,
          0.7060197101561982,
          -0.04243007752957983,
          -1.2601728989214394,
          -0.944969736816905,
          0.42698695657750374,
          -1.9294248752331329,
          1.0336411672109236,
          -1.7549866151466353,
          0.2286082492666186,
          -1.6149892789862796,
          0.45981906285790236,
          -1.4103986669031026,
          0.9635927411240099,
          -0.03860187917494151,
          -1.6626456582328502,
          2.187540504498553,
          -0.7097028844079241,
          -2.2801230185416337,
          -1.6130622349451873,
          -0.42600445367120715,
          1.1394401765294633,
          -0.3613245728493242,
          -1.2760968160051436,
          -0.19054613667361206,
          -0.5608507458210631,
          -1.0706260872017523,
          0.8319065039536502,
          1.1586586008561413,
          -0.32577688866384846,
          -1.120167682648072,
          -0.8367561889192894,
          1.1501005753742084,
          1.1780914040975914,
          -2.1832722386363814,
          -0.8275274873462319,
          0.6478121324458215,
          1.1681321398775844,
          0.4718333199251554,
          1.1460239242801087,
          -0.7820887448110919,
          1.556158084660845,
          -1.6580547553017961,
          1.268655088327418,
          0.05952229145177814,
          -1.5759100408069073,
          -0.5736314310222357,
          -0.5229811365201296
         ],
         "y": [
          0.43857065498127923,
          0.2921972188658163,
          0.5269976435150321,
          0.3456298172824727,
          -0.17265962141318386,
          1.5214063113948753,
          0.21887156209224995,
          -0.9169151805499315,
          0.897046790028798,
          -0.44166817990327406,
          -0.4905537825729059,
          0.3393359972150877,
          -0.13258206022710767,
          -0.17440426007304868,
          -0.11436202173227045,
          1.3765722633554949,
          -1.363010519812039,
          1.3652219891550936,
          -1.041925534006676,
          0.4030559772477593,
          0.43147627576451036,
          1.1244929202098919,
          0.01284568975710407,
          -1.7329434635161785,
          0.34833148705841827,
          -0.08746755785800744,
          -0.6181108160972224,
          1.1033028653163843,
          0.4471900952784845,
          1.2369465803935622,
          0.8148534762160029,
          1.1024391577961616,
          -0.6072245388300551,
          0.16614874269076368,
          -0.17630537750694994,
          -0.4874814902562876,
          0.39146192099755295,
          0.47440239748577484,
          1.1108766530426502,
          0.9709270617422173,
          0.7094663736011866,
          0.5789503555856831,
          -0.29097984660730236,
          -1.074516099870212,
          -1.0179962198314423,
          0.4505070491292211,
          -0.0987560341762823,
          -0.3910764524815764,
          0.20181801446305067,
          0.9838957226496257,
          -0.9558160896945229,
          0.6394471676960702,
          -0.9552240638281172,
          -1.1106385648831525,
          0.393103490534785,
          0.09981593966862132,
          0.9439109322465946,
          0.5682537414314321,
          -1.201286951986347,
          0.2897167154660576,
          -0.6174219282112287,
          0.8911198651687253,
          0.6279124615290884,
          -0.5925009181791696,
          0.1561814860849528,
          1.2231838467346279,
          -0.15737218559812,
          -1.5474746664860417,
          0.24730224502486184,
          -0.6391894769475629,
          0.7352842406118774,
          -0.47704956402309234,
          -0.8582970312013011,
          -0.3586769108750361,
          0.8133099841261496,
          2.0430668916662293,
          -1.5997064464522288,
          -0.08913250267434249,
          -0.8019159391008681,
          -0.14004361811661117,
          1.3869118318293119,
          -3.0081095236739985,
          -2.6680211196509527,
          -0.5303358494927747,
          0.12978698353110324,
          -0.7636361580880751,
          0.2908557441422079,
          -0.295146448189477,
          -0.3856098063164494,
          0.5831054907534179,
          -0.2755588866036854,
          -1.2385546690415512,
          0.1378391604588889,
          -0.5080325904231946,
          -0.39089986743324556,
          -1.2611800034901748,
          -0.7038431183077906,
          -0.9359997462534155,
          -1.5480435915792188,
          -1.7643199576087762
         ]
        }
       ],
       "layout": {
        "legend": {
         "bgcolor": "#F5F6F9",
         "font": {
          "color": "#4D5663"
         }
        },
        "paper_bgcolor": "#F5F6F9",
        "plot_bgcolor": "#F5F6F9",
        "template": {
         "data": {
          "bar": [
           {
            "error_x": {
             "color": "#2a3f5f"
            },
            "error_y": {
             "color": "#2a3f5f"
            },
            "marker": {
             "line": {
              "color": "#E5ECF6",
              "width": 0.5
             },
             "pattern": {
              "fillmode": "overlay",
              "size": 10,
              "solidity": 0.2
             }
            },
            "type": "bar"
           }
          ],
          "barpolar": [
           {
            "marker": {
             "line": {
              "color": "#E5ECF6",
              "width": 0.5
             },
             "pattern": {
              "fillmode": "overlay",
              "size": 10,
              "solidity": 0.2
             }
            },
            "type": "barpolar"
           }
          ],
          "carpet": [
           {
            "aaxis": {
             "endlinecolor": "#2a3f5f",
             "gridcolor": "white",
             "linecolor": "white",
             "minorgridcolor": "white",
             "startlinecolor": "#2a3f5f"
            },
            "baxis": {
             "endlinecolor": "#2a3f5f",
             "gridcolor": "white",
             "linecolor": "white",
             "minorgridcolor": "white",
             "startlinecolor": "#2a3f5f"
            },
            "type": "carpet"
           }
          ],
          "choropleth": [
           {
            "colorbar": {
             "outlinewidth": 0,
             "ticks": ""
            },
            "type": "choropleth"
           }
          ],
          "contour": [
           {
            "colorbar": {
             "outlinewidth": 0,
             "ticks": ""
            },
            "colorscale": [
             [
              0,
              "#0d0887"
             ],
             [
              0.1111111111111111,
              "#46039f"
             ],
             [
              0.2222222222222222,
              "#7201a8"
             ],
             [
              0.3333333333333333,
              "#9c179e"
             ],
             [
              0.4444444444444444,
              "#bd3786"
             ],
             [
              0.5555555555555556,
              "#d8576b"
             ],
             [
              0.6666666666666666,
              "#ed7953"
             ],
             [
              0.7777777777777778,
              "#fb9f3a"
             ],
             [
              0.8888888888888888,
              "#fdca26"
             ],
             [
              1,
              "#f0f921"
             ]
            ],
            "type": "contour"
           }
          ],
          "contourcarpet": [
           {
            "colorbar": {
             "outlinewidth": 0,
             "ticks": ""
            },
            "type": "contourcarpet"
           }
          ],
          "heatmap": [
           {
            "colorbar": {
             "outlinewidth": 0,
             "ticks": ""
            },
            "colorscale": [
             [
              0,
              "#0d0887"
             ],
             [
              0.1111111111111111,
              "#46039f"
             ],
             [
              0.2222222222222222,
              "#7201a8"
             ],
             [
              0.3333333333333333,
              "#9c179e"
             ],
             [
              0.4444444444444444,
              "#bd3786"
             ],
             [
              0.5555555555555556,
              "#d8576b"
             ],
             [
              0.6666666666666666,
              "#ed7953"
             ],
             [
              0.7777777777777778,
              "#fb9f3a"
             ],
             [
              0.8888888888888888,
              "#fdca26"
             ],
             [
              1,
              "#f0f921"
             ]
            ],
            "type": "heatmap"
           }
          ],
          "heatmapgl": [
           {
            "colorbar": {
             "outlinewidth": 0,
             "ticks": ""
            },
            "colorscale": [
             [
              0,
              "#0d0887"
             ],
             [
              0.1111111111111111,
              "#46039f"
             ],
             [
              0.2222222222222222,
              "#7201a8"
             ],
             [
              0.3333333333333333,
              "#9c179e"
             ],
             [
              0.4444444444444444,
              "#bd3786"
             ],
             [
              0.5555555555555556,
              "#d8576b"
             ],
             [
              0.6666666666666666,
              "#ed7953"
             ],
             [
              0.7777777777777778,
              "#fb9f3a"
             ],
             [
              0.8888888888888888,
              "#fdca26"
             ],
             [
              1,
              "#f0f921"
             ]
            ],
            "type": "heatmapgl"
           }
          ],
          "histogram": [
           {
            "marker": {
             "pattern": {
              "fillmode": "overlay",
              "size": 10,
              "solidity": 0.2
             }
            },
            "type": "histogram"
           }
          ],
          "histogram2d": [
           {
            "colorbar": {
             "outlinewidth": 0,
             "ticks": ""
            },
            "colorscale": [
             [
              0,
              "#0d0887"
             ],
             [
              0.1111111111111111,
              "#46039f"
             ],
             [
              0.2222222222222222,
              "#7201a8"
             ],
             [
              0.3333333333333333,
              "#9c179e"
             ],
             [
              0.4444444444444444,
              "#bd3786"
             ],
             [
              0.5555555555555556,
              "#d8576b"
             ],
             [
              0.6666666666666666,
              "#ed7953"
             ],
             [
              0.7777777777777778,
              "#fb9f3a"
             ],
             [
              0.8888888888888888,
              "#fdca26"
             ],
             [
              1,
              "#f0f921"
             ]
            ],
            "type": "histogram2d"
           }
          ],
          "histogram2dcontour": [
           {
            "colorbar": {
             "outlinewidth": 0,
             "ticks": ""
            },
            "colorscale": [
             [
              0,
              "#0d0887"
             ],
             [
              0.1111111111111111,
              "#46039f"
             ],
             [
              0.2222222222222222,
              "#7201a8"
             ],
             [
              0.3333333333333333,
              "#9c179e"
             ],
             [
              0.4444444444444444,
              "#bd3786"
             ],
             [
              0.5555555555555556,
              "#d8576b"
             ],
             [
              0.6666666666666666,
              "#ed7953"
             ],
             [
              0.7777777777777778,
              "#fb9f3a"
             ],
             [
              0.8888888888888888,
              "#fdca26"
             ],
             [
              1,
              "#f0f921"
             ]
            ],
            "type": "histogram2dcontour"
           }
          ],
          "mesh3d": [
           {
            "colorbar": {
             "outlinewidth": 0,
             "ticks": ""
            },
            "type": "mesh3d"
           }
          ],
          "parcoords": [
           {
            "line": {
             "colorbar": {
              "outlinewidth": 0,
              "ticks": ""
             }
            },
            "type": "parcoords"
           }
          ],
          "pie": [
           {
            "automargin": true,
            "type": "pie"
           }
          ],
          "scatter": [
           {
            "marker": {
             "colorbar": {
              "outlinewidth": 0,
              "ticks": ""
             }
            },
            "type": "scatter"
           }
          ],
          "scatter3d": [
           {
            "line": {
             "colorbar": {
              "outlinewidth": 0,
              "ticks": ""
             }
            },
            "marker": {
             "colorbar": {
              "outlinewidth": 0,
              "ticks": ""
             }
            },
            "type": "scatter3d"
           }
          ],
          "scattercarpet": [
           {
            "marker": {
             "colorbar": {
              "outlinewidth": 0,
              "ticks": ""
             }
            },
            "type": "scattercarpet"
           }
          ],
          "scattergeo": [
           {
            "marker": {
             "colorbar": {
              "outlinewidth": 0,
              "ticks": ""
             }
            },
            "type": "scattergeo"
           }
          ],
          "scattergl": [
           {
            "marker": {
             "colorbar": {
              "outlinewidth": 0,
              "ticks": ""
             }
            },
            "type": "scattergl"
           }
          ],
          "scattermapbox": [
           {
            "marker": {
             "colorbar": {
              "outlinewidth": 0,
              "ticks": ""
             }
            },
            "type": "scattermapbox"
           }
          ],
          "scatterpolar": [
           {
            "marker": {
             "colorbar": {
              "outlinewidth": 0,
              "ticks": ""
             }
            },
            "type": "scatterpolar"
           }
          ],
          "scatterpolargl": [
           {
            "marker": {
             "colorbar": {
              "outlinewidth": 0,
              "ticks": ""
             }
            },
            "type": "scatterpolargl"
           }
          ],
          "scatterternary": [
           {
            "marker": {
             "colorbar": {
              "outlinewidth": 0,
              "ticks": ""
             }
            },
            "type": "scatterternary"
           }
          ],
          "surface": [
           {
            "colorbar": {
             "outlinewidth": 0,
             "ticks": ""
            },
            "colorscale": [
             [
              0,
              "#0d0887"
             ],
             [
              0.1111111111111111,
              "#46039f"
             ],
             [
              0.2222222222222222,
              "#7201a8"
             ],
             [
              0.3333333333333333,
              "#9c179e"
             ],
             [
              0.4444444444444444,
              "#bd3786"
             ],
             [
              0.5555555555555556,
              "#d8576b"
             ],
             [
              0.6666666666666666,
              "#ed7953"
             ],
             [
              0.7777777777777778,
              "#fb9f3a"
             ],
             [
              0.8888888888888888,
              "#fdca26"
             ],
             [
              1,
              "#f0f921"
             ]
            ],
            "type": "surface"
           }
          ],
          "table": [
           {
            "cells": {
             "fill": {
              "color": "#EBF0F8"
             },
             "line": {
              "color": "white"
             }
            },
            "header": {
             "fill": {
              "color": "#C8D4E3"
             },
             "line": {
              "color": "white"
             }
            },
            "type": "table"
           }
          ]
         },
         "layout": {
          "annotationdefaults": {
           "arrowcolor": "#2a3f5f",
           "arrowhead": 0,
           "arrowwidth": 1
          },
          "autotypenumbers": "strict",
          "coloraxis": {
           "colorbar": {
            "outlinewidth": 0,
            "ticks": ""
           }
          },
          "colorscale": {
           "diverging": [
            [
             0,
             "#8e0152"
            ],
            [
             0.1,
             "#c51b7d"
            ],
            [
             0.2,
             "#de77ae"
            ],
            [
             0.3,
             "#f1b6da"
            ],
            [
             0.4,
             "#fde0ef"
            ],
            [
             0.5,
             "#f7f7f7"
            ],
            [
             0.6,
             "#e6f5d0"
            ],
            [
             0.7,
             "#b8e186"
            ],
            [
             0.8,
             "#7fbc41"
            ],
            [
             0.9,
             "#4d9221"
            ],
            [
             1,
             "#276419"
            ]
           ],
           "sequential": [
            [
             0,
             "#0d0887"
            ],
            [
             0.1111111111111111,
             "#46039f"
            ],
            [
             0.2222222222222222,
             "#7201a8"
            ],
            [
             0.3333333333333333,
             "#9c179e"
            ],
            [
             0.4444444444444444,
             "#bd3786"
            ],
            [
             0.5555555555555556,
             "#d8576b"
            ],
            [
             0.6666666666666666,
             "#ed7953"
            ],
            [
             0.7777777777777778,
             "#fb9f3a"
            ],
            [
             0.8888888888888888,
             "#fdca26"
            ],
            [
             1,
             "#f0f921"
            ]
           ],
           "sequentialminus": [
            [
             0,
             "#0d0887"
            ],
            [
             0.1111111111111111,
             "#46039f"
            ],
            [
             0.2222222222222222,
             "#7201a8"
            ],
            [
             0.3333333333333333,
             "#9c179e"
            ],
            [
             0.4444444444444444,
             "#bd3786"
            ],
            [
             0.5555555555555556,
             "#d8576b"
            ],
            [
             0.6666666666666666,
             "#ed7953"
            ],
            [
             0.7777777777777778,
             "#fb9f3a"
            ],
            [
             0.8888888888888888,
             "#fdca26"
            ],
            [
             1,
             "#f0f921"
            ]
           ]
          },
          "colorway": [
           "#636efa",
           "#EF553B",
           "#00cc96",
           "#ab63fa",
           "#FFA15A",
           "#19d3f3",
           "#FF6692",
           "#B6E880",
           "#FF97FF",
           "#FECB52"
          ],
          "font": {
           "color": "#2a3f5f"
          },
          "geo": {
           "bgcolor": "white",
           "lakecolor": "white",
           "landcolor": "#E5ECF6",
           "showlakes": true,
           "showland": true,
           "subunitcolor": "white"
          },
          "hoverlabel": {
           "align": "left"
          },
          "hovermode": "closest",
          "mapbox": {
           "style": "light"
          },
          "paper_bgcolor": "white",
          "plot_bgcolor": "#E5ECF6",
          "polar": {
           "angularaxis": {
            "gridcolor": "white",
            "linecolor": "white",
            "ticks": ""
           },
           "bgcolor": "#E5ECF6",
           "radialaxis": {
            "gridcolor": "white",
            "linecolor": "white",
            "ticks": ""
           }
          },
          "scene": {
           "xaxis": {
            "backgroundcolor": "#E5ECF6",
            "gridcolor": "white",
            "gridwidth": 2,
            "linecolor": "white",
            "showbackground": true,
            "ticks": "",
            "zerolinecolor": "white"
           },
           "yaxis": {
            "backgroundcolor": "#E5ECF6",
            "gridcolor": "white",
            "gridwidth": 2,
            "linecolor": "white",
            "showbackground": true,
            "ticks": "",
            "zerolinecolor": "white"
           },
           "zaxis": {
            "backgroundcolor": "#E5ECF6",
            "gridcolor": "white",
            "gridwidth": 2,
            "linecolor": "white",
            "showbackground": true,
            "ticks": "",
            "zerolinecolor": "white"
           }
          },
          "shapedefaults": {
           "line": {
            "color": "#2a3f5f"
           }
          },
          "ternary": {
           "aaxis": {
            "gridcolor": "white",
            "linecolor": "white",
            "ticks": ""
           },
           "baxis": {
            "gridcolor": "white",
            "linecolor": "white",
            "ticks": ""
           },
           "bgcolor": "#E5ECF6",
           "caxis": {
            "gridcolor": "white",
            "linecolor": "white",
            "ticks": ""
           }
          },
          "title": {
           "x": 0.05
          },
          "xaxis": {
           "automargin": true,
           "gridcolor": "white",
           "linecolor": "white",
           "ticks": "",
           "title": {
            "standoff": 15
           },
           "zerolinecolor": "white",
           "zerolinewidth": 2
          },
          "yaxis": {
           "automargin": true,
           "gridcolor": "white",
           "linecolor": "white",
           "ticks": "",
           "title": {
            "standoff": 15
           },
           "zerolinecolor": "white",
           "zerolinewidth": 2
          }
         }
        },
        "title": {
         "font": {
          "color": "#4D5663"
         }
        },
        "xaxis": {
         "gridcolor": "#E1E5ED",
         "showgrid": true,
         "tickfont": {
          "color": "#4D5663"
         },
         "title": {
          "font": {
           "color": "#4D5663"
          },
          "text": ""
         },
         "zerolinecolor": "#E1E5ED"
        },
        "yaxis": {
         "gridcolor": "#E1E5ED",
         "showgrid": true,
         "tickfont": {
          "color": "#4D5663"
         },
         "title": {
          "font": {
           "color": "#4D5663"
          },
          "text": ""
         },
         "zerolinecolor": "#E1E5ED"
        }
       }
      },
      "text/html": [
       "<div>                            <div id=\"d9b67b34-9edf-40c0-9c19-eb2edc142629\" class=\"plotly-graph-div\" style=\"height:525px; width:100%;\"></div>            <script type=\"text/javascript\">                require([\"plotly\"], function(Plotly) {                    window.PLOTLYENV=window.PLOTLYENV || {};\n",
       "                    window.PLOTLYENV.BASE_URL='https://plot.ly';                                    if (document.getElementById(\"d9b67b34-9edf-40c0-9c19-eb2edc142629\")) {                    Plotly.newPlot(                        \"d9b67b34-9edf-40c0-9c19-eb2edc142629\",                        [{\"marker\":{\"color\":[\"rgb(255, 153, 51)\",\"rgb(55, 128, 191)\",\"rgb(50, 171, 96)\",\"rgb(128, 0, 128)\",\"rgb(219, 64, 82)\",\"rgb(0, 128, 128)\",\"rgb(255, 255, 51)\",\"rgb(128, 128, 0)\",\"rgb(251, 128, 114)\",\"rgb(128, 177, 211)\"],\"line\":{\"width\":1.3},\"size\":[52,66,40,66,55,82,52,65,49,71,41,88,88,112,30,71,62,56,81,38,64,71,87,74,43,52,66,76,21,50,87,60,74,85,91,49,55,38,68,52,35,84,38,96,47,44,55,70,39,40,83,26,47,48,54,93,62,56,67,20,61,78,30,69,71,27,51,58,33,84,12,64,44,67,25,77,73,61,91,99,69,88,31,47,50,70,61,48,106,79,46,32,52,42,73,33,95,51,50,50],\"symbol\":\"circle\"},\"mode\":\"markers\",\"text\":\"\",\"type\":\"scatter\",\"x\":[-0.3603101022368317,-1.4932067099630373,0.7401114483929926,1.5876799119575666,-0.5882553778090175,-0.19328619251142493,-1.1483331165246522,0.3346583368373109,-1.353736298933149,0.16244749177332804,0.4107766850650031,-0.1019513767017405,-0.55044118145215,1.4552814654316812,0.7102307470463595,0.2042809643735204,-1.3141840287757471,0.9397974293810624,1.4622082850861817,0.004581087125822542,1.1872560720964547,-0.06939465386530655,0.34555569871453634,0.47627576924484,0.11665148042293134,0.22866331638806298,-0.29839556035322234,-2.359488044458736,1.5194122054394072,1.4583479497699154,-0.46185920982978745,0.0034936982540661877,0.036773686882005295,-0.4054567731595773,-1.198527786346277,0.6035952075449362,-0.12056204746885117,-0.08696956062189974,-0.30260921526610346,-1.379181324098899,-0.7575510045383668,-1.1669069387928175,0.42251770640713326,-0.39442991537684646,0.8968649696810801,1.000185756835219,1.225290849161005,-0.5684875907200435,-0.9732008970869809,-0.13495915879243361,-0.7444246126382412,-0.08707835112761256,0.8798796323503689,0.7060197101561982,-0.04243007752957983,-1.2601728989214394,-0.944969736816905,0.42698695657750374,-1.9294248752331329,1.0336411672109236,-1.7549866151466353,0.2286082492666186,-1.6149892789862796,0.45981906285790236,-1.4103986669031026,0.9635927411240099,-0.03860187917494151,-1.6626456582328502,2.187540504498553,-0.7097028844079241,-2.2801230185416337,-1.6130622349451873,-0.42600445367120715,1.1394401765294633,-0.3613245728493242,-1.2760968160051436,-0.19054613667361206,-0.5608507458210631,-1.0706260872017523,0.8319065039536502,1.1586586008561413,-0.32577688866384846,-1.120167682648072,-0.8367561889192894,1.1501005753742084,1.1780914040975914,-2.1832722386363814,-0.8275274873462319,0.6478121324458215,1.1681321398775844,0.4718333199251554,1.1460239242801087,-0.7820887448110919,1.556158084660845,-1.6580547553017961,1.268655088327418,0.05952229145177814,-1.5759100408069073,-0.5736314310222357,-0.5229811365201296],\"y\":[0.43857065498127923,0.2921972188658163,0.5269976435150321,0.3456298172824727,-0.17265962141318386,1.5214063113948753,0.21887156209224995,-0.9169151805499315,0.897046790028798,-0.44166817990327406,-0.4905537825729059,0.3393359972150877,-0.13258206022710767,-0.17440426007304868,-0.11436202173227045,1.3765722633554949,-1.363010519812039,1.3652219891550936,-1.041925534006676,0.4030559772477593,0.43147627576451036,1.1244929202098919,0.01284568975710407,-1.7329434635161785,0.34833148705841827,-0.08746755785800744,-0.6181108160972224,1.1033028653163843,0.4471900952784845,1.2369465803935622,0.8148534762160029,1.1024391577961616,-0.6072245388300551,0.16614874269076368,-0.17630537750694994,-0.4874814902562876,0.39146192099755295,0.47440239748577484,1.1108766530426502,0.9709270617422173,0.7094663736011866,0.5789503555856831,-0.29097984660730236,-1.074516099870212,-1.0179962198314423,0.4505070491292211,-0.0987560341762823,-0.3910764524815764,0.20181801446305067,0.9838957226496257,-0.9558160896945229,0.6394471676960702,-0.9552240638281172,-1.1106385648831525,0.393103490534785,0.09981593966862132,0.9439109322465946,0.5682537414314321,-1.201286951986347,0.2897167154660576,-0.6174219282112287,0.8911198651687253,0.6279124615290884,-0.5925009181791696,0.1561814860849528,1.2231838467346279,-0.15737218559812,-1.5474746664860417,0.24730224502486184,-0.6391894769475629,0.7352842406118774,-0.47704956402309234,-0.8582970312013011,-0.3586769108750361,0.8133099841261496,2.0430668916662293,-1.5997064464522288,-0.08913250267434249,-0.8019159391008681,-0.14004361811661117,1.3869118318293119,-3.0081095236739985,-2.6680211196509527,-0.5303358494927747,0.12978698353110324,-0.7636361580880751,0.2908557441422079,-0.295146448189477,-0.3856098063164494,0.5831054907534179,-0.2755588866036854,-1.2385546690415512,0.1378391604588889,-0.5080325904231946,-0.39089986743324556,-1.2611800034901748,-0.7038431183077906,-0.9359997462534155,-1.5480435915792188,-1.7643199576087762]}],                        {\"legend\":{\"bgcolor\":\"#F5F6F9\",\"font\":{\"color\":\"#4D5663\"}},\"paper_bgcolor\":\"#F5F6F9\",\"plot_bgcolor\":\"#F5F6F9\",\"template\":{\"data\":{\"bar\":[{\"error_x\":{\"color\":\"#2a3f5f\"},\"error_y\":{\"color\":\"#2a3f5f\"},\"marker\":{\"line\":{\"color\":\"#E5ECF6\",\"width\":0.5},\"pattern\":{\"fillmode\":\"overlay\",\"size\":10,\"solidity\":0.2}},\"type\":\"bar\"}],\"barpolar\":[{\"marker\":{\"line\":{\"color\":\"#E5ECF6\",\"width\":0.5},\"pattern\":{\"fillmode\":\"overlay\",\"size\":10,\"solidity\":0.2}},\"type\":\"barpolar\"}],\"carpet\":[{\"aaxis\":{\"endlinecolor\":\"#2a3f5f\",\"gridcolor\":\"white\",\"linecolor\":\"white\",\"minorgridcolor\":\"white\",\"startlinecolor\":\"#2a3f5f\"},\"baxis\":{\"endlinecolor\":\"#2a3f5f\",\"gridcolor\":\"white\",\"linecolor\":\"white\",\"minorgridcolor\":\"white\",\"startlinecolor\":\"#2a3f5f\"},\"type\":\"carpet\"}],\"choropleth\":[{\"colorbar\":{\"outlinewidth\":0,\"ticks\":\"\"},\"type\":\"choropleth\"}],\"contour\":[{\"colorbar\":{\"outlinewidth\":0,\"ticks\":\"\"},\"colorscale\":[[0.0,\"#0d0887\"],[0.1111111111111111,\"#46039f\"],[0.2222222222222222,\"#7201a8\"],[0.3333333333333333,\"#9c179e\"],[0.4444444444444444,\"#bd3786\"],[0.5555555555555556,\"#d8576b\"],[0.6666666666666666,\"#ed7953\"],[0.7777777777777778,\"#fb9f3a\"],[0.8888888888888888,\"#fdca26\"],[1.0,\"#f0f921\"]],\"type\":\"contour\"}],\"contourcarpet\":[{\"colorbar\":{\"outlinewidth\":0,\"ticks\":\"\"},\"type\":\"contourcarpet\"}],\"heatmap\":[{\"colorbar\":{\"outlinewidth\":0,\"ticks\":\"\"},\"colorscale\":[[0.0,\"#0d0887\"],[0.1111111111111111,\"#46039f\"],[0.2222222222222222,\"#7201a8\"],[0.3333333333333333,\"#9c179e\"],[0.4444444444444444,\"#bd3786\"],[0.5555555555555556,\"#d8576b\"],[0.6666666666666666,\"#ed7953\"],[0.7777777777777778,\"#fb9f3a\"],[0.8888888888888888,\"#fdca26\"],[1.0,\"#f0f921\"]],\"type\":\"heatmap\"}],\"heatmapgl\":[{\"colorbar\":{\"outlinewidth\":0,\"ticks\":\"\"},\"colorscale\":[[0.0,\"#0d0887\"],[0.1111111111111111,\"#46039f\"],[0.2222222222222222,\"#7201a8\"],[0.3333333333333333,\"#9c179e\"],[0.4444444444444444,\"#bd3786\"],[0.5555555555555556,\"#d8576b\"],[0.6666666666666666,\"#ed7953\"],[0.7777777777777778,\"#fb9f3a\"],[0.8888888888888888,\"#fdca26\"],[1.0,\"#f0f921\"]],\"type\":\"heatmapgl\"}],\"histogram\":[{\"marker\":{\"pattern\":{\"fillmode\":\"overlay\",\"size\":10,\"solidity\":0.2}},\"type\":\"histogram\"}],\"histogram2d\":[{\"colorbar\":{\"outlinewidth\":0,\"ticks\":\"\"},\"colorscale\":[[0.0,\"#0d0887\"],[0.1111111111111111,\"#46039f\"],[0.2222222222222222,\"#7201a8\"],[0.3333333333333333,\"#9c179e\"],[0.4444444444444444,\"#bd3786\"],[0.5555555555555556,\"#d8576b\"],[0.6666666666666666,\"#ed7953\"],[0.7777777777777778,\"#fb9f3a\"],[0.8888888888888888,\"#fdca26\"],[1.0,\"#f0f921\"]],\"type\":\"histogram2d\"}],\"histogram2dcontour\":[{\"colorbar\":{\"outlinewidth\":0,\"ticks\":\"\"},\"colorscale\":[[0.0,\"#0d0887\"],[0.1111111111111111,\"#46039f\"],[0.2222222222222222,\"#7201a8\"],[0.3333333333333333,\"#9c179e\"],[0.4444444444444444,\"#bd3786\"],[0.5555555555555556,\"#d8576b\"],[0.6666666666666666,\"#ed7953\"],[0.7777777777777778,\"#fb9f3a\"],[0.8888888888888888,\"#fdca26\"],[1.0,\"#f0f921\"]],\"type\":\"histogram2dcontour\"}],\"mesh3d\":[{\"colorbar\":{\"outlinewidth\":0,\"ticks\":\"\"},\"type\":\"mesh3d\"}],\"parcoords\":[{\"line\":{\"colorbar\":{\"outlinewidth\":0,\"ticks\":\"\"}},\"type\":\"parcoords\"}],\"pie\":[{\"automargin\":true,\"type\":\"pie\"}],\"scatter\":[{\"marker\":{\"colorbar\":{\"outlinewidth\":0,\"ticks\":\"\"}},\"type\":\"scatter\"}],\"scatter3d\":[{\"line\":{\"colorbar\":{\"outlinewidth\":0,\"ticks\":\"\"}},\"marker\":{\"colorbar\":{\"outlinewidth\":0,\"ticks\":\"\"}},\"type\":\"scatter3d\"}],\"scattercarpet\":[{\"marker\":{\"colorbar\":{\"outlinewidth\":0,\"ticks\":\"\"}},\"type\":\"scattercarpet\"}],\"scattergeo\":[{\"marker\":{\"colorbar\":{\"outlinewidth\":0,\"ticks\":\"\"}},\"type\":\"scattergeo\"}],\"scattergl\":[{\"marker\":{\"colorbar\":{\"outlinewidth\":0,\"ticks\":\"\"}},\"type\":\"scattergl\"}],\"scattermapbox\":[{\"marker\":{\"colorbar\":{\"outlinewidth\":0,\"ticks\":\"\"}},\"type\":\"scattermapbox\"}],\"scatterpolar\":[{\"marker\":{\"colorbar\":{\"outlinewidth\":0,\"ticks\":\"\"}},\"type\":\"scatterpolar\"}],\"scatterpolargl\":[{\"marker\":{\"colorbar\":{\"outlinewidth\":0,\"ticks\":\"\"}},\"type\":\"scatterpolargl\"}],\"scatterternary\":[{\"marker\":{\"colorbar\":{\"outlinewidth\":0,\"ticks\":\"\"}},\"type\":\"scatterternary\"}],\"surface\":[{\"colorbar\":{\"outlinewidth\":0,\"ticks\":\"\"},\"colorscale\":[[0.0,\"#0d0887\"],[0.1111111111111111,\"#46039f\"],[0.2222222222222222,\"#7201a8\"],[0.3333333333333333,\"#9c179e\"],[0.4444444444444444,\"#bd3786\"],[0.5555555555555556,\"#d8576b\"],[0.6666666666666666,\"#ed7953\"],[0.7777777777777778,\"#fb9f3a\"],[0.8888888888888888,\"#fdca26\"],[1.0,\"#f0f921\"]],\"type\":\"surface\"}],\"table\":[{\"cells\":{\"fill\":{\"color\":\"#EBF0F8\"},\"line\":{\"color\":\"white\"}},\"header\":{\"fill\":{\"color\":\"#C8D4E3\"},\"line\":{\"color\":\"white\"}},\"type\":\"table\"}]},\"layout\":{\"annotationdefaults\":{\"arrowcolor\":\"#2a3f5f\",\"arrowhead\":0,\"arrowwidth\":1},\"autotypenumbers\":\"strict\",\"coloraxis\":{\"colorbar\":{\"outlinewidth\":0,\"ticks\":\"\"}},\"colorscale\":{\"diverging\":[[0,\"#8e0152\"],[0.1,\"#c51b7d\"],[0.2,\"#de77ae\"],[0.3,\"#f1b6da\"],[0.4,\"#fde0ef\"],[0.5,\"#f7f7f7\"],[0.6,\"#e6f5d0\"],[0.7,\"#b8e186\"],[0.8,\"#7fbc41\"],[0.9,\"#4d9221\"],[1,\"#276419\"]],\"sequential\":[[0.0,\"#0d0887\"],[0.1111111111111111,\"#46039f\"],[0.2222222222222222,\"#7201a8\"],[0.3333333333333333,\"#9c179e\"],[0.4444444444444444,\"#bd3786\"],[0.5555555555555556,\"#d8576b\"],[0.6666666666666666,\"#ed7953\"],[0.7777777777777778,\"#fb9f3a\"],[0.8888888888888888,\"#fdca26\"],[1.0,\"#f0f921\"]],\"sequentialminus\":[[0.0,\"#0d0887\"],[0.1111111111111111,\"#46039f\"],[0.2222222222222222,\"#7201a8\"],[0.3333333333333333,\"#9c179e\"],[0.4444444444444444,\"#bd3786\"],[0.5555555555555556,\"#d8576b\"],[0.6666666666666666,\"#ed7953\"],[0.7777777777777778,\"#fb9f3a\"],[0.8888888888888888,\"#fdca26\"],[1.0,\"#f0f921\"]]},\"colorway\":[\"#636efa\",\"#EF553B\",\"#00cc96\",\"#ab63fa\",\"#FFA15A\",\"#19d3f3\",\"#FF6692\",\"#B6E880\",\"#FF97FF\",\"#FECB52\"],\"font\":{\"color\":\"#2a3f5f\"},\"geo\":{\"bgcolor\":\"white\",\"lakecolor\":\"white\",\"landcolor\":\"#E5ECF6\",\"showlakes\":true,\"showland\":true,\"subunitcolor\":\"white\"},\"hoverlabel\":{\"align\":\"left\"},\"hovermode\":\"closest\",\"mapbox\":{\"style\":\"light\"},\"paper_bgcolor\":\"white\",\"plot_bgcolor\":\"#E5ECF6\",\"polar\":{\"angularaxis\":{\"gridcolor\":\"white\",\"linecolor\":\"white\",\"ticks\":\"\"},\"bgcolor\":\"#E5ECF6\",\"radialaxis\":{\"gridcolor\":\"white\",\"linecolor\":\"white\",\"ticks\":\"\"}},\"scene\":{\"xaxis\":{\"backgroundcolor\":\"#E5ECF6\",\"gridcolor\":\"white\",\"gridwidth\":2,\"linecolor\":\"white\",\"showbackground\":true,\"ticks\":\"\",\"zerolinecolor\":\"white\"},\"yaxis\":{\"backgroundcolor\":\"#E5ECF6\",\"gridcolor\":\"white\",\"gridwidth\":2,\"linecolor\":\"white\",\"showbackground\":true,\"ticks\":\"\",\"zerolinecolor\":\"white\"},\"zaxis\":{\"backgroundcolor\":\"#E5ECF6\",\"gridcolor\":\"white\",\"gridwidth\":2,\"linecolor\":\"white\",\"showbackground\":true,\"ticks\":\"\",\"zerolinecolor\":\"white\"}},\"shapedefaults\":{\"line\":{\"color\":\"#2a3f5f\"}},\"ternary\":{\"aaxis\":{\"gridcolor\":\"white\",\"linecolor\":\"white\",\"ticks\":\"\"},\"baxis\":{\"gridcolor\":\"white\",\"linecolor\":\"white\",\"ticks\":\"\"},\"bgcolor\":\"#E5ECF6\",\"caxis\":{\"gridcolor\":\"white\",\"linecolor\":\"white\",\"ticks\":\"\"}},\"title\":{\"x\":0.05},\"xaxis\":{\"automargin\":true,\"gridcolor\":\"white\",\"linecolor\":\"white\",\"ticks\":\"\",\"title\":{\"standoff\":15},\"zerolinecolor\":\"white\",\"zerolinewidth\":2},\"yaxis\":{\"automargin\":true,\"gridcolor\":\"white\",\"linecolor\":\"white\",\"ticks\":\"\",\"title\":{\"standoff\":15},\"zerolinecolor\":\"white\",\"zerolinewidth\":2}}},\"title\":{\"font\":{\"color\":\"#4D5663\"}},\"xaxis\":{\"gridcolor\":\"#E1E5ED\",\"showgrid\":true,\"tickfont\":{\"color\":\"#4D5663\"},\"title\":{\"font\":{\"color\":\"#4D5663\"},\"text\":\"\"},\"zerolinecolor\":\"#E1E5ED\"},\"yaxis\":{\"gridcolor\":\"#E1E5ED\",\"showgrid\":true,\"tickfont\":{\"color\":\"#4D5663\"},\"title\":{\"font\":{\"color\":\"#4D5663\"},\"text\":\"\"},\"zerolinecolor\":\"#E1E5ED\"}},                        {\"showLink\": true, \"linkText\": \"Export to plot.ly\", \"plotlyServerURL\": \"https://plot.ly\", \"responsive\": true}                    ).then(function(){\n",
       "                            \n",
       "var gd = document.getElementById('d9b67b34-9edf-40c0-9c19-eb2edc142629');\n",
       "var x = new MutationObserver(function (mutations, observer) {{\n",
       "        var display = window.getComputedStyle(gd).display;\n",
       "        if (!display || display === 'none') {{\n",
       "            console.log([gd, 'removed!']);\n",
       "            Plotly.purge(gd);\n",
       "            observer.disconnect();\n",
       "        }}\n",
       "}});\n",
       "\n",
       "// Listen for the removal of the full notebook cells\n",
       "var notebookContainer = gd.closest('#notebook-container');\n",
       "if (notebookContainer) {{\n",
       "    x.observe(notebookContainer, {childList: true});\n",
       "}}\n",
       "\n",
       "// Listen for the clearing of the current output cell\n",
       "var outputEl = gd.closest('.output');\n",
       "if (outputEl) {{\n",
       "    x.observe(outputEl, {childList: true});\n",
       "}}\n",
       "\n",
       "                        })                };                });            </script>        </div>"
      ]
     },
     "metadata": {},
     "output_type": "display_data"
    }
   ],
   "source": [
    "df.iplot(kind='bubble', x='A', y='B', size='C')"
   ]
  },
  {
   "cell_type": "code",
   "execution_count": 30,
   "id": "d521b9c8",
   "metadata": {},
   "outputs": [
    {
     "data": {
      "application/vnd.plotly.v1+json": {
       "config": {
        "linkText": "Export to plot.ly",
        "plotlyServerURL": "https://plot.ly",
        "showLink": true
       },
       "data": [
        {
         "histfunc": "count",
         "histnorm": "",
         "marker": {
          "color": "rgba(255, 153, 51, 1.0)",
          "line": {
           "color": "#4D5663",
           "width": 1.3
          }
         },
         "name": "A",
         "nbinsx": 10,
         "opacity": 0.8,
         "orientation": "v",
         "type": "histogram",
         "x": [
          -0.3603101022368317,
          -1.4932067099630373,
          0.7401114483929926,
          1.5876799119575666,
          -0.5882553778090175,
          -0.19328619251142493,
          -1.1483331165246522,
          0.3346583368373109,
          -1.353736298933149,
          0.16244749177332804,
          0.4107766850650031,
          -0.1019513767017405,
          -0.55044118145215,
          1.4552814654316812,
          0.7102307470463595,
          0.2042809643735204,
          -1.3141840287757471,
          0.9397974293810624,
          1.4622082850861817,
          0.004581087125822542,
          1.1872560720964547,
          -0.06939465386530655,
          0.34555569871453634,
          0.47627576924484,
          0.11665148042293134,
          0.22866331638806298,
          -0.29839556035322234,
          -2.359488044458736,
          1.5194122054394072,
          1.4583479497699154,
          -0.46185920982978745,
          0.0034936982540661877,
          0.036773686882005295,
          -0.4054567731595773,
          -1.198527786346277,
          0.6035952075449362,
          -0.12056204746885117,
          -0.08696956062189974,
          -0.30260921526610346,
          -1.379181324098899,
          -0.7575510045383668,
          -1.1669069387928175,
          0.42251770640713326,
          -0.39442991537684646,
          0.8968649696810801,
          1.000185756835219,
          1.225290849161005,
          -0.5684875907200435,
          -0.9732008970869809,
          -0.13495915879243361,
          -0.7444246126382412,
          -0.08707835112761256,
          0.8798796323503689,
          0.7060197101561982,
          -0.04243007752957983,
          -1.2601728989214394,
          -0.944969736816905,
          0.42698695657750374,
          -1.9294248752331329,
          1.0336411672109236,
          -1.7549866151466353,
          0.2286082492666186,
          -1.6149892789862796,
          0.45981906285790236,
          -1.4103986669031026,
          0.9635927411240099,
          -0.03860187917494151,
          -1.6626456582328502,
          2.187540504498553,
          -0.7097028844079241,
          -2.2801230185416337,
          -1.6130622349451873,
          -0.42600445367120715,
          1.1394401765294633,
          -0.3613245728493242,
          -1.2760968160051436,
          -0.19054613667361206,
          -0.5608507458210631,
          -1.0706260872017523,
          0.8319065039536502,
          1.1586586008561413,
          -0.32577688866384846,
          -1.120167682648072,
          -0.8367561889192894,
          1.1501005753742084,
          1.1780914040975914,
          -2.1832722386363814,
          -0.8275274873462319,
          0.6478121324458215,
          1.1681321398775844,
          0.4718333199251554,
          1.1460239242801087,
          -0.7820887448110919,
          1.556158084660845,
          -1.6580547553017961,
          1.268655088327418,
          0.05952229145177814,
          -1.5759100408069073,
          -0.5736314310222357,
          -0.5229811365201296
         ],
         "xaxis": "x",
         "yaxis": "y"
        },
        {
         "line": {
          "color": "rgba(128, 128, 128, 1.0)",
          "dash": "solid",
          "shape": "linear",
          "width": 1.3
         },
         "marker": {
          "size": 2,
          "symbol": "circle"
         },
         "mode": "markers",
         "name": "A",
         "text": "",
         "type": "scatter",
         "x": [
          0.43857065498127923,
          0.2921972188658163,
          0.5269976435150321,
          0.3456298172824727,
          -0.17265962141318386,
          1.5214063113948753,
          0.21887156209224995,
          -0.9169151805499315,
          0.897046790028798,
          -0.44166817990327406,
          -0.4905537825729059,
          0.3393359972150877,
          -0.13258206022710767,
          -0.17440426007304868,
          -0.11436202173227045,
          1.3765722633554949,
          -1.363010519812039,
          1.3652219891550936,
          -1.041925534006676,
          0.4030559772477593,
          0.43147627576451036,
          1.1244929202098919,
          0.01284568975710407,
          -1.7329434635161785,
          0.34833148705841827,
          -0.08746755785800744,
          -0.6181108160972224,
          1.1033028653163843,
          0.4471900952784845,
          1.2369465803935622,
          0.8148534762160029,
          1.1024391577961616,
          -0.6072245388300551,
          0.16614874269076368,
          -0.17630537750694994,
          -0.4874814902562876,
          0.39146192099755295,
          0.47440239748577484,
          1.1108766530426502,
          0.9709270617422173,
          0.7094663736011866,
          0.5789503555856831,
          -0.29097984660730236,
          -1.074516099870212,
          -1.0179962198314423,
          0.4505070491292211,
          -0.0987560341762823,
          -0.3910764524815764,
          0.20181801446305067,
          0.9838957226496257,
          -0.9558160896945229,
          0.6394471676960702,
          -0.9552240638281172,
          -1.1106385648831525,
          0.393103490534785,
          0.09981593966862132,
          0.9439109322465946,
          0.5682537414314321,
          -1.201286951986347,
          0.2897167154660576,
          -0.6174219282112287,
          0.8911198651687253,
          0.6279124615290884,
          -0.5925009181791696,
          0.1561814860849528,
          1.2231838467346279,
          -0.15737218559812,
          -1.5474746664860417,
          0.24730224502486184,
          -0.6391894769475629,
          0.7352842406118774,
          -0.47704956402309234,
          -0.8582970312013011,
          -0.3586769108750361,
          0.8133099841261496,
          2.0430668916662293,
          -1.5997064464522288,
          -0.08913250267434249,
          -0.8019159391008681,
          -0.14004361811661117,
          1.3869118318293119,
          -3.0081095236739985,
          -2.6680211196509527,
          -0.5303358494927747,
          0.12978698353110324,
          -0.7636361580880751,
          0.2908557441422079,
          -0.295146448189477,
          -0.3856098063164494,
          0.5831054907534179,
          -0.2755588866036854,
          -1.2385546690415512,
          0.1378391604588889,
          -0.5080325904231946,
          -0.39089986743324556,
          -1.2611800034901748,
          -0.7038431183077906,
          -0.9359997462534155,
          -1.5480435915792188,
          -1.7643199576087762
         ],
         "xaxis": "x2",
         "y": [
          -0.3603101022368317,
          -1.4932067099630373,
          0.7401114483929926,
          1.5876799119575666,
          -0.5882553778090175,
          -0.19328619251142493,
          -1.1483331165246522,
          0.3346583368373109,
          -1.353736298933149,
          0.16244749177332804,
          0.4107766850650031,
          -0.1019513767017405,
          -0.55044118145215,
          1.4552814654316812,
          0.7102307470463595,
          0.2042809643735204,
          -1.3141840287757471,
          0.9397974293810624,
          1.4622082850861817,
          0.004581087125822542,
          1.1872560720964547,
          -0.06939465386530655,
          0.34555569871453634,
          0.47627576924484,
          0.11665148042293134,
          0.22866331638806298,
          -0.29839556035322234,
          -2.359488044458736,
          1.5194122054394072,
          1.4583479497699154,
          -0.46185920982978745,
          0.0034936982540661877,
          0.036773686882005295,
          -0.4054567731595773,
          -1.198527786346277,
          0.6035952075449362,
          -0.12056204746885117,
          -0.08696956062189974,
          -0.30260921526610346,
          -1.379181324098899,
          -0.7575510045383668,
          -1.1669069387928175,
          0.42251770640713326,
          -0.39442991537684646,
          0.8968649696810801,
          1.000185756835219,
          1.225290849161005,
          -0.5684875907200435,
          -0.9732008970869809,
          -0.13495915879243361,
          -0.7444246126382412,
          -0.08707835112761256,
          0.8798796323503689,
          0.7060197101561982,
          -0.04243007752957983,
          -1.2601728989214394,
          -0.944969736816905,
          0.42698695657750374,
          -1.9294248752331329,
          1.0336411672109236,
          -1.7549866151466353,
          0.2286082492666186,
          -1.6149892789862796,
          0.45981906285790236,
          -1.4103986669031026,
          0.9635927411240099,
          -0.03860187917494151,
          -1.6626456582328502,
          2.187540504498553,
          -0.7097028844079241,
          -2.2801230185416337,
          -1.6130622349451873,
          -0.42600445367120715,
          1.1394401765294633,
          -0.3613245728493242,
          -1.2760968160051436,
          -0.19054613667361206,
          -0.5608507458210631,
          -1.0706260872017523,
          0.8319065039536502,
          1.1586586008561413,
          -0.32577688866384846,
          -1.120167682648072,
          -0.8367561889192894,
          1.1501005753742084,
          1.1780914040975914,
          -2.1832722386363814,
          -0.8275274873462319,
          0.6478121324458215,
          1.1681321398775844,
          0.4718333199251554,
          1.1460239242801087,
          -0.7820887448110919,
          1.556158084660845,
          -1.6580547553017961,
          1.268655088327418,
          0.05952229145177814,
          -1.5759100408069073,
          -0.5736314310222357,
          -0.5229811365201296
         ],
         "yaxis": "y2"
        },
        {
         "line": {
          "color": "rgba(128, 128, 128, 1.0)",
          "dash": "solid",
          "shape": "linear",
          "width": 1.3
         },
         "marker": {
          "size": 2,
          "symbol": "circle"
         },
         "mode": "markers",
         "name": "A",
         "text": "",
         "type": "scatter",
         "x": [
          -0.33304407935687297,
          0.4196480497928561,
          -1.0128407265795851,
          0.3834382551550639,
          -0.22051146973657765,
          1.2637080409428743,
          -0.3356546915580256,
          0.3299473999252595,
          -0.4927836095423988,
          0.676365691426167,
          -0.9540710140336576,
          1.5677157815516565,
          1.57803156462598,
          2.843575341172098,
          -1.5668013569275019,
          0.6501896043652855,
          0.1953136862590582,
          -0.15982872072127519,
          1.1881735273199179,
          -1.1123597654005102,
          0.31057427517424446,
          0.6858782640283084,
          1.5079375265602655,
          0.8476644826686831,
          -0.8530209380635657,
          -0.3570344501316517,
          0.3906179196994124,
          0.9159884708277022,
          -2.0031511144711964,
          -0.4697245159996884,
          1.5228230778093375,
          0.0689225827049908,
          0.8174298922219405,
          1.4223047744337014,
          1.758761790919159,
          -0.5044357034818677,
          -0.18286757167954842,
          -1.099218775044286,
          0.4895024879162726,
          -0.3368977802289586,
          -1.2609291962144602,
          1.3691913234433875,
          -1.0870692753036488,
          1.9913570478602178,
          -0.6524310062882994,
          -0.8042847683952612,
          -0.18297511813568068,
          0.6101716474685731,
          -1.076717593416154,
          -1.0253632413982823,
          1.3369529745232924,
          -1.7699044806435573,
          -0.6264108759527902,
          -0.5676555030227693,
          -0.25334572590646204,
          1.8275003149947189,
          0.16799628500316302,
          -0.12509276188550403,
          0.4583972693777563,
          -2.071881794074191,
          0.15131752446529795,
          1.025645687887124,
          -1.5457478500698516,
          0.5612578692014258,
          0.6891279357590095,
          -1.7216079830986206,
          -0.42483538129673476,
          -0.05640247313958615,
          -1.3571951381496665,
          1.3705231324321308,
          -2.536020325938372,
          0.30357252032518994,
          -0.8119117649915281,
          0.46568393430178984,
          -1.8053668506899696,
          0.988117383729646,
          0.7577646631081413,
          0.14390128785983738,
          1.725724147444466,
          2.1560186716117156,
          0.5787444953193548,
          1.5549832669292794,
          -1.494619446402623,
          -0.6309125827349641,
          -0.44162862605770786,
          0.5914825617692004,
          0.1282336376605584,
          -0.5616825304763499,
          2.5589848887591136,
          1.099922717554243,
          -0.6738756847649492,
          -1.4599028077913867,
          -0.33055771556131214,
          -0.9061242626000299,
          0.7788209404021356,
          -1.3739973089010387,
          1.935849500355021,
          -0.43067333463332313,
          -0.46124873094628116,
          -0.43802587757845834
         ],
         "xaxis": "x3",
         "y": [
          -0.3603101022368317,
          -1.4932067099630373,
          0.7401114483929926,
          1.5876799119575666,
          -0.5882553778090175,
          -0.19328619251142493,
          -1.1483331165246522,
          0.3346583368373109,
          -1.353736298933149,
          0.16244749177332804,
          0.4107766850650031,
          -0.1019513767017405,
          -0.55044118145215,
          1.4552814654316812,
          0.7102307470463595,
          0.2042809643735204,
          -1.3141840287757471,
          0.9397974293810624,
          1.4622082850861817,
          0.004581087125822542,
          1.1872560720964547,
          -0.06939465386530655,
          0.34555569871453634,
          0.47627576924484,
          0.11665148042293134,
          0.22866331638806298,
          -0.29839556035322234,
          -2.359488044458736,
          1.5194122054394072,
          1.4583479497699154,
          -0.46185920982978745,
          0.0034936982540661877,
          0.036773686882005295,
          -0.4054567731595773,
          -1.198527786346277,
          0.6035952075449362,
          -0.12056204746885117,
          -0.08696956062189974,
          -0.30260921526610346,
          -1.379181324098899,
          -0.7575510045383668,
          -1.1669069387928175,
          0.42251770640713326,
          -0.39442991537684646,
          0.8968649696810801,
          1.000185756835219,
          1.225290849161005,
          -0.5684875907200435,
          -0.9732008970869809,
          -0.13495915879243361,
          -0.7444246126382412,
          -0.08707835112761256,
          0.8798796323503689,
          0.7060197101561982,
          -0.04243007752957983,
          -1.2601728989214394,
          -0.944969736816905,
          0.42698695657750374,
          -1.9294248752331329,
          1.0336411672109236,
          -1.7549866151466353,
          0.2286082492666186,
          -1.6149892789862796,
          0.45981906285790236,
          -1.4103986669031026,
          0.9635927411240099,
          -0.03860187917494151,
          -1.6626456582328502,
          2.187540504498553,
          -0.7097028844079241,
          -2.2801230185416337,
          -1.6130622349451873,
          -0.42600445367120715,
          1.1394401765294633,
          -0.3613245728493242,
          -1.2760968160051436,
          -0.19054613667361206,
          -0.5608507458210631,
          -1.0706260872017523,
          0.8319065039536502,
          1.1586586008561413,
          -0.32577688866384846,
          -1.120167682648072,
          -0.8367561889192894,
          1.1501005753742084,
          1.1780914040975914,
          -2.1832722386363814,
          -0.8275274873462319,
          0.6478121324458215,
          1.1681321398775844,
          0.4718333199251554,
          1.1460239242801087,
          -0.7820887448110919,
          1.556158084660845,
          -1.6580547553017961,
          1.268655088327418,
          0.05952229145177814,
          -1.5759100408069073,
          -0.5736314310222357,
          -0.5229811365201296
         ],
         "yaxis": "y3"
        },
        {
         "line": {
          "color": "rgba(128, 128, 128, 1.0)",
          "dash": "solid",
          "shape": "linear",
          "width": 1.3
         },
         "marker": {
          "size": 2,
          "symbol": "circle"
         },
         "mode": "markers",
         "name": "A",
         "text": "",
         "type": "scatter",
         "x": [
          0.44514927902206924,
          -0.4932796464433643,
          0.49004951231797034,
          0.9893702535816634,
          -0.3695510433765291,
          1.3073709571524497,
          -0.20397647509500466,
          0.9257993020287427,
          -1.555530442916235,
          1.0165069323800255,
          0.36882666878270787,
          -0.5000287722940971,
          -0.571415472198531,
          -0.4891197396518819,
          -0.09574011339114545,
          0.4150494653733849,
          -2.352927571154122,
          -2.000491316858666,
          1.2569298384299536,
          -0.2348889667088603,
          -0.23579483778080154,
          -0.7110423729873975,
          0.8461959867871499,
          -0.9478531208598431,
          -0.9105000307076286,
          0.5103896296782777,
          -0.36425916193338354,
          -0.4668898620879838,
          -0.3694305635936844,
          -0.07576080216397955,
          -0.010066937282491953,
          -1.4309251194300914,
          -1.1414763333497955,
          0.5756311607826187,
          -0.17481915928555952,
          -0.02311701740580824,
          -0.6343100617205631,
          -1.612507757767517,
          1.1708141165298458,
          -0.45623817375731646,
          0.9283694853459812,
          -0.41076757301040034,
          -0.23899973661572035,
          0.9472078095862808,
          -0.7435332911928643,
          1.1418564370527604,
          0.9209724820910382,
          -0.9097174353194862,
          -1.6652410148483707,
          -0.1593311316680365,
          1.7101480615179498,
          1.0890536615233795,
          0.5927881396371886,
          1.042764922739655,
          -1.1266567950324227,
          -1.6288853516330672,
          0.6369307931518935,
          1.3128923686572516,
          -1.0520711699898084,
          -1.1712015748579032,
          -1.3686628461617183,
          -0.13955144009682297,
          2.2085222175655246,
          0.8115303005297543,
          -0.7415545573402113,
          -0.6468602158556795,
          -0.09656870583882846,
          -0.22916502740326786,
          1.9473398160278808,
          1.1689978067611757,
          -1.3063608130632387,
          -0.14069119585770404,
          -0.29674570761239183,
          -0.23564085984490005,
          1.1324844315536782,
          -0.9018348771332421,
          -0.18054103901337937,
          0.6367796882986028,
          -0.32603613410308896,
          0.9936403795486872,
          -0.4132087009186094,
          0.5908801944612876,
          -0.7361669902343383,
          0.7500369440953866,
          -0.22764454955526914,
          0.5783363724164028,
          1.3430340279492383,
          0.22316537570913333,
          -0.2686696242333291,
          -1.9370867804686573,
          -0.748693992415597,
          1.1561540180085867,
          -1.8938816518035753,
          -0.08731504338881442,
          -1.5026348349145464,
          0.9264297372131799,
          0.22610468007977882,
          -0.07072214923274342,
          0.6913298962666558,
          -1.6513938223947522
         ],
         "xaxis": "x4",
         "y": [
          -0.3603101022368317,
          -1.4932067099630373,
          0.7401114483929926,
          1.5876799119575666,
          -0.5882553778090175,
          -0.19328619251142493,
          -1.1483331165246522,
          0.3346583368373109,
          -1.353736298933149,
          0.16244749177332804,
          0.4107766850650031,
          -0.1019513767017405,
          -0.55044118145215,
          1.4552814654316812,
          0.7102307470463595,
          0.2042809643735204,
          -1.3141840287757471,
          0.9397974293810624,
          1.4622082850861817,
          0.004581087125822542,
          1.1872560720964547,
          -0.06939465386530655,
          0.34555569871453634,
          0.47627576924484,
          0.11665148042293134,
          0.22866331638806298,
          -0.29839556035322234,
          -2.359488044458736,
          1.5194122054394072,
          1.4583479497699154,
          -0.46185920982978745,
          0.0034936982540661877,
          0.036773686882005295,
          -0.4054567731595773,
          -1.198527786346277,
          0.6035952075449362,
          -0.12056204746885117,
          -0.08696956062189974,
          -0.30260921526610346,
          -1.379181324098899,
          -0.7575510045383668,
          -1.1669069387928175,
          0.42251770640713326,
          -0.39442991537684646,
          0.8968649696810801,
          1.000185756835219,
          1.225290849161005,
          -0.5684875907200435,
          -0.9732008970869809,
          -0.13495915879243361,
          -0.7444246126382412,
          -0.08707835112761256,
          0.8798796323503689,
          0.7060197101561982,
          -0.04243007752957983,
          -1.2601728989214394,
          -0.944969736816905,
          0.42698695657750374,
          -1.9294248752331329,
          1.0336411672109236,
          -1.7549866151466353,
          0.2286082492666186,
          -1.6149892789862796,
          0.45981906285790236,
          -1.4103986669031026,
          0.9635927411240099,
          -0.03860187917494151,
          -1.6626456582328502,
          2.187540504498553,
          -0.7097028844079241,
          -2.2801230185416337,
          -1.6130622349451873,
          -0.42600445367120715,
          1.1394401765294633,
          -0.3613245728493242,
          -1.2760968160051436,
          -0.19054613667361206,
          -0.5608507458210631,
          -1.0706260872017523,
          0.8319065039536502,
          1.1586586008561413,
          -0.32577688866384846,
          -1.120167682648072,
          -0.8367561889192894,
          1.1501005753742084,
          1.1780914040975914,
          -2.1832722386363814,
          -0.8275274873462319,
          0.6478121324458215,
          1.1681321398775844,
          0.4718333199251554,
          1.1460239242801087,
          -0.7820887448110919,
          1.556158084660845,
          -1.6580547553017961,
          1.268655088327418,
          0.05952229145177814,
          -1.5759100408069073,
          -0.5736314310222357,
          -0.5229811365201296
         ],
         "yaxis": "y4"
        },
        {
         "line": {
          "color": "rgba(128, 128, 128, 1.0)",
          "dash": "solid",
          "shape": "linear",
          "width": 1.3
         },
         "marker": {
          "size": 2,
          "symbol": "circle"
         },
         "mode": "markers",
         "name": "B",
         "text": "",
         "type": "scatter",
         "x": [
          -0.3603101022368317,
          -1.4932067099630373,
          0.7401114483929926,
          1.5876799119575666,
          -0.5882553778090175,
          -0.19328619251142493,
          -1.1483331165246522,
          0.3346583368373109,
          -1.353736298933149,
          0.16244749177332804,
          0.4107766850650031,
          -0.1019513767017405,
          -0.55044118145215,
          1.4552814654316812,
          0.7102307470463595,
          0.2042809643735204,
          -1.3141840287757471,
          0.9397974293810624,
          1.4622082850861817,
          0.004581087125822542,
          1.1872560720964547,
          -0.06939465386530655,
          0.34555569871453634,
          0.47627576924484,
          0.11665148042293134,
          0.22866331638806298,
          -0.29839556035322234,
          -2.359488044458736,
          1.5194122054394072,
          1.4583479497699154,
          -0.46185920982978745,
          0.0034936982540661877,
          0.036773686882005295,
          -0.4054567731595773,
          -1.198527786346277,
          0.6035952075449362,
          -0.12056204746885117,
          -0.08696956062189974,
          -0.30260921526610346,
          -1.379181324098899,
          -0.7575510045383668,
          -1.1669069387928175,
          0.42251770640713326,
          -0.39442991537684646,
          0.8968649696810801,
          1.000185756835219,
          1.225290849161005,
          -0.5684875907200435,
          -0.9732008970869809,
          -0.13495915879243361,
          -0.7444246126382412,
          -0.08707835112761256,
          0.8798796323503689,
          0.7060197101561982,
          -0.04243007752957983,
          -1.2601728989214394,
          -0.944969736816905,
          0.42698695657750374,
          -1.9294248752331329,
          1.0336411672109236,
          -1.7549866151466353,
          0.2286082492666186,
          -1.6149892789862796,
          0.45981906285790236,
          -1.4103986669031026,
          0.9635927411240099,
          -0.03860187917494151,
          -1.6626456582328502,
          2.187540504498553,
          -0.7097028844079241,
          -2.2801230185416337,
          -1.6130622349451873,
          -0.42600445367120715,
          1.1394401765294633,
          -0.3613245728493242,
          -1.2760968160051436,
          -0.19054613667361206,
          -0.5608507458210631,
          -1.0706260872017523,
          0.8319065039536502,
          1.1586586008561413,
          -0.32577688866384846,
          -1.120167682648072,
          -0.8367561889192894,
          1.1501005753742084,
          1.1780914040975914,
          -2.1832722386363814,
          -0.8275274873462319,
          0.6478121324458215,
          1.1681321398775844,
          0.4718333199251554,
          1.1460239242801087,
          -0.7820887448110919,
          1.556158084660845,
          -1.6580547553017961,
          1.268655088327418,
          0.05952229145177814,
          -1.5759100408069073,
          -0.5736314310222357,
          -0.5229811365201296
         ],
         "xaxis": "x5",
         "y": [
          0.43857065498127923,
          0.2921972188658163,
          0.5269976435150321,
          0.3456298172824727,
          -0.17265962141318386,
          1.5214063113948753,
          0.21887156209224995,
          -0.9169151805499315,
          0.897046790028798,
          -0.44166817990327406,
          -0.4905537825729059,
          0.3393359972150877,
          -0.13258206022710767,
          -0.17440426007304868,
          -0.11436202173227045,
          1.3765722633554949,
          -1.363010519812039,
          1.3652219891550936,
          -1.041925534006676,
          0.4030559772477593,
          0.43147627576451036,
          1.1244929202098919,
          0.01284568975710407,
          -1.7329434635161785,
          0.34833148705841827,
          -0.08746755785800744,
          -0.6181108160972224,
          1.1033028653163843,
          0.4471900952784845,
          1.2369465803935622,
          0.8148534762160029,
          1.1024391577961616,
          -0.6072245388300551,
          0.16614874269076368,
          -0.17630537750694994,
          -0.4874814902562876,
          0.39146192099755295,
          0.47440239748577484,
          1.1108766530426502,
          0.9709270617422173,
          0.7094663736011866,
          0.5789503555856831,
          -0.29097984660730236,
          -1.074516099870212,
          -1.0179962198314423,
          0.4505070491292211,
          -0.0987560341762823,
          -0.3910764524815764,
          0.20181801446305067,
          0.9838957226496257,
          -0.9558160896945229,
          0.6394471676960702,
          -0.9552240638281172,
          -1.1106385648831525,
          0.393103490534785,
          0.09981593966862132,
          0.9439109322465946,
          0.5682537414314321,
          -1.201286951986347,
          0.2897167154660576,
          -0.6174219282112287,
          0.8911198651687253,
          0.6279124615290884,
          -0.5925009181791696,
          0.1561814860849528,
          1.2231838467346279,
          -0.15737218559812,
          -1.5474746664860417,
          0.24730224502486184,
          -0.6391894769475629,
          0.7352842406118774,
          -0.47704956402309234,
          -0.8582970312013011,
          -0.3586769108750361,
          0.8133099841261496,
          2.0430668916662293,
          -1.5997064464522288,
          -0.08913250267434249,
          -0.8019159391008681,
          -0.14004361811661117,
          1.3869118318293119,
          -3.0081095236739985,
          -2.6680211196509527,
          -0.5303358494927747,
          0.12978698353110324,
          -0.7636361580880751,
          0.2908557441422079,
          -0.295146448189477,
          -0.3856098063164494,
          0.5831054907534179,
          -0.2755588866036854,
          -1.2385546690415512,
          0.1378391604588889,
          -0.5080325904231946,
          -0.39089986743324556,
          -1.2611800034901748,
          -0.7038431183077906,
          -0.9359997462534155,
          -1.5480435915792188,
          -1.7643199576087762
         ],
         "yaxis": "y5"
        },
        {
         "histfunc": "count",
         "histnorm": "",
         "marker": {
          "color": "rgba(55, 128, 191, 1.0)",
          "line": {
           "color": "#4D5663",
           "width": 1.3
          }
         },
         "name": "B",
         "nbinsx": 10,
         "opacity": 0.8,
         "orientation": "v",
         "type": "histogram",
         "x": [
          0.43857065498127923,
          0.2921972188658163,
          0.5269976435150321,
          0.3456298172824727,
          -0.17265962141318386,
          1.5214063113948753,
          0.21887156209224995,
          -0.9169151805499315,
          0.897046790028798,
          -0.44166817990327406,
          -0.4905537825729059,
          0.3393359972150877,
          -0.13258206022710767,
          -0.17440426007304868,
          -0.11436202173227045,
          1.3765722633554949,
          -1.363010519812039,
          1.3652219891550936,
          -1.041925534006676,
          0.4030559772477593,
          0.43147627576451036,
          1.1244929202098919,
          0.01284568975710407,
          -1.7329434635161785,
          0.34833148705841827,
          -0.08746755785800744,
          -0.6181108160972224,
          1.1033028653163843,
          0.4471900952784845,
          1.2369465803935622,
          0.8148534762160029,
          1.1024391577961616,
          -0.6072245388300551,
          0.16614874269076368,
          -0.17630537750694994,
          -0.4874814902562876,
          0.39146192099755295,
          0.47440239748577484,
          1.1108766530426502,
          0.9709270617422173,
          0.7094663736011866,
          0.5789503555856831,
          -0.29097984660730236,
          -1.074516099870212,
          -1.0179962198314423,
          0.4505070491292211,
          -0.0987560341762823,
          -0.3910764524815764,
          0.20181801446305067,
          0.9838957226496257,
          -0.9558160896945229,
          0.6394471676960702,
          -0.9552240638281172,
          -1.1106385648831525,
          0.393103490534785,
          0.09981593966862132,
          0.9439109322465946,
          0.5682537414314321,
          -1.201286951986347,
          0.2897167154660576,
          -0.6174219282112287,
          0.8911198651687253,
          0.6279124615290884,
          -0.5925009181791696,
          0.1561814860849528,
          1.2231838467346279,
          -0.15737218559812,
          -1.5474746664860417,
          0.24730224502486184,
          -0.6391894769475629,
          0.7352842406118774,
          -0.47704956402309234,
          -0.8582970312013011,
          -0.3586769108750361,
          0.8133099841261496,
          2.0430668916662293,
          -1.5997064464522288,
          -0.08913250267434249,
          -0.8019159391008681,
          -0.14004361811661117,
          1.3869118318293119,
          -3.0081095236739985,
          -2.6680211196509527,
          -0.5303358494927747,
          0.12978698353110324,
          -0.7636361580880751,
          0.2908557441422079,
          -0.295146448189477,
          -0.3856098063164494,
          0.5831054907534179,
          -0.2755588866036854,
          -1.2385546690415512,
          0.1378391604588889,
          -0.5080325904231946,
          -0.39089986743324556,
          -1.2611800034901748,
          -0.7038431183077906,
          -0.9359997462534155,
          -1.5480435915792188,
          -1.7643199576087762
         ],
         "xaxis": "x6",
         "yaxis": "y6"
        },
        {
         "line": {
          "color": "rgba(128, 128, 128, 1.0)",
          "dash": "solid",
          "shape": "linear",
          "width": 1.3
         },
         "marker": {
          "size": 2,
          "symbol": "circle"
         },
         "mode": "markers",
         "name": "B",
         "text": "",
         "type": "scatter",
         "x": [
          -0.33304407935687297,
          0.4196480497928561,
          -1.0128407265795851,
          0.3834382551550639,
          -0.22051146973657765,
          1.2637080409428743,
          -0.3356546915580256,
          0.3299473999252595,
          -0.4927836095423988,
          0.676365691426167,
          -0.9540710140336576,
          1.5677157815516565,
          1.57803156462598,
          2.843575341172098,
          -1.5668013569275019,
          0.6501896043652855,
          0.1953136862590582,
          -0.15982872072127519,
          1.1881735273199179,
          -1.1123597654005102,
          0.31057427517424446,
          0.6858782640283084,
          1.5079375265602655,
          0.8476644826686831,
          -0.8530209380635657,
          -0.3570344501316517,
          0.3906179196994124,
          0.9159884708277022,
          -2.0031511144711964,
          -0.4697245159996884,
          1.5228230778093375,
          0.0689225827049908,
          0.8174298922219405,
          1.4223047744337014,
          1.758761790919159,
          -0.5044357034818677,
          -0.18286757167954842,
          -1.099218775044286,
          0.4895024879162726,
          -0.3368977802289586,
          -1.2609291962144602,
          1.3691913234433875,
          -1.0870692753036488,
          1.9913570478602178,
          -0.6524310062882994,
          -0.8042847683952612,
          -0.18297511813568068,
          0.6101716474685731,
          -1.076717593416154,
          -1.0253632413982823,
          1.3369529745232924,
          -1.7699044806435573,
          -0.6264108759527902,
          -0.5676555030227693,
          -0.25334572590646204,
          1.8275003149947189,
          0.16799628500316302,
          -0.12509276188550403,
          0.4583972693777563,
          -2.071881794074191,
          0.15131752446529795,
          1.025645687887124,
          -1.5457478500698516,
          0.5612578692014258,
          0.6891279357590095,
          -1.7216079830986206,
          -0.42483538129673476,
          -0.05640247313958615,
          -1.3571951381496665,
          1.3705231324321308,
          -2.536020325938372,
          0.30357252032518994,
          -0.8119117649915281,
          0.46568393430178984,
          -1.8053668506899696,
          0.988117383729646,
          0.7577646631081413,
          0.14390128785983738,
          1.725724147444466,
          2.1560186716117156,
          0.5787444953193548,
          1.5549832669292794,
          -1.494619446402623,
          -0.6309125827349641,
          -0.44162862605770786,
          0.5914825617692004,
          0.1282336376605584,
          -0.5616825304763499,
          2.5589848887591136,
          1.099922717554243,
          -0.6738756847649492,
          -1.4599028077913867,
          -0.33055771556131214,
          -0.9061242626000299,
          0.7788209404021356,
          -1.3739973089010387,
          1.935849500355021,
          -0.43067333463332313,
          -0.46124873094628116,
          -0.43802587757845834
         ],
         "xaxis": "x7",
         "y": [
          0.43857065498127923,
          0.2921972188658163,
          0.5269976435150321,
          0.3456298172824727,
          -0.17265962141318386,
          1.5214063113948753,
          0.21887156209224995,
          -0.9169151805499315,
          0.897046790028798,
          -0.44166817990327406,
          -0.4905537825729059,
          0.3393359972150877,
          -0.13258206022710767,
          -0.17440426007304868,
          -0.11436202173227045,
          1.3765722633554949,
          -1.363010519812039,
          1.3652219891550936,
          -1.041925534006676,
          0.4030559772477593,
          0.43147627576451036,
          1.1244929202098919,
          0.01284568975710407,
          -1.7329434635161785,
          0.34833148705841827,
          -0.08746755785800744,
          -0.6181108160972224,
          1.1033028653163843,
          0.4471900952784845,
          1.2369465803935622,
          0.8148534762160029,
          1.1024391577961616,
          -0.6072245388300551,
          0.16614874269076368,
          -0.17630537750694994,
          -0.4874814902562876,
          0.39146192099755295,
          0.47440239748577484,
          1.1108766530426502,
          0.9709270617422173,
          0.7094663736011866,
          0.5789503555856831,
          -0.29097984660730236,
          -1.074516099870212,
          -1.0179962198314423,
          0.4505070491292211,
          -0.0987560341762823,
          -0.3910764524815764,
          0.20181801446305067,
          0.9838957226496257,
          -0.9558160896945229,
          0.6394471676960702,
          -0.9552240638281172,
          -1.1106385648831525,
          0.393103490534785,
          0.09981593966862132,
          0.9439109322465946,
          0.5682537414314321,
          -1.201286951986347,
          0.2897167154660576,
          -0.6174219282112287,
          0.8911198651687253,
          0.6279124615290884,
          -0.5925009181791696,
          0.1561814860849528,
          1.2231838467346279,
          -0.15737218559812,
          -1.5474746664860417,
          0.24730224502486184,
          -0.6391894769475629,
          0.7352842406118774,
          -0.47704956402309234,
          -0.8582970312013011,
          -0.3586769108750361,
          0.8133099841261496,
          2.0430668916662293,
          -1.5997064464522288,
          -0.08913250267434249,
          -0.8019159391008681,
          -0.14004361811661117,
          1.3869118318293119,
          -3.0081095236739985,
          -2.6680211196509527,
          -0.5303358494927747,
          0.12978698353110324,
          -0.7636361580880751,
          0.2908557441422079,
          -0.295146448189477,
          -0.3856098063164494,
          0.5831054907534179,
          -0.2755588866036854,
          -1.2385546690415512,
          0.1378391604588889,
          -0.5080325904231946,
          -0.39089986743324556,
          -1.2611800034901748,
          -0.7038431183077906,
          -0.9359997462534155,
          -1.5480435915792188,
          -1.7643199576087762
         ],
         "yaxis": "y7"
        },
        {
         "line": {
          "color": "rgba(128, 128, 128, 1.0)",
          "dash": "solid",
          "shape": "linear",
          "width": 1.3
         },
         "marker": {
          "size": 2,
          "symbol": "circle"
         },
         "mode": "markers",
         "name": "B",
         "text": "",
         "type": "scatter",
         "x": [
          0.44514927902206924,
          -0.4932796464433643,
          0.49004951231797034,
          0.9893702535816634,
          -0.3695510433765291,
          1.3073709571524497,
          -0.20397647509500466,
          0.9257993020287427,
          -1.555530442916235,
          1.0165069323800255,
          0.36882666878270787,
          -0.5000287722940971,
          -0.571415472198531,
          -0.4891197396518819,
          -0.09574011339114545,
          0.4150494653733849,
          -2.352927571154122,
          -2.000491316858666,
          1.2569298384299536,
          -0.2348889667088603,
          -0.23579483778080154,
          -0.7110423729873975,
          0.8461959867871499,
          -0.9478531208598431,
          -0.9105000307076286,
          0.5103896296782777,
          -0.36425916193338354,
          -0.4668898620879838,
          -0.3694305635936844,
          -0.07576080216397955,
          -0.010066937282491953,
          -1.4309251194300914,
          -1.1414763333497955,
          0.5756311607826187,
          -0.17481915928555952,
          -0.02311701740580824,
          -0.6343100617205631,
          -1.612507757767517,
          1.1708141165298458,
          -0.45623817375731646,
          0.9283694853459812,
          -0.41076757301040034,
          -0.23899973661572035,
          0.9472078095862808,
          -0.7435332911928643,
          1.1418564370527604,
          0.9209724820910382,
          -0.9097174353194862,
          -1.6652410148483707,
          -0.1593311316680365,
          1.7101480615179498,
          1.0890536615233795,
          0.5927881396371886,
          1.042764922739655,
          -1.1266567950324227,
          -1.6288853516330672,
          0.6369307931518935,
          1.3128923686572516,
          -1.0520711699898084,
          -1.1712015748579032,
          -1.3686628461617183,
          -0.13955144009682297,
          2.2085222175655246,
          0.8115303005297543,
          -0.7415545573402113,
          -0.6468602158556795,
          -0.09656870583882846,
          -0.22916502740326786,
          1.9473398160278808,
          1.1689978067611757,
          -1.3063608130632387,
          -0.14069119585770404,
          -0.29674570761239183,
          -0.23564085984490005,
          1.1324844315536782,
          -0.9018348771332421,
          -0.18054103901337937,
          0.6367796882986028,
          -0.32603613410308896,
          0.9936403795486872,
          -0.4132087009186094,
          0.5908801944612876,
          -0.7361669902343383,
          0.7500369440953866,
          -0.22764454955526914,
          0.5783363724164028,
          1.3430340279492383,
          0.22316537570913333,
          -0.2686696242333291,
          -1.9370867804686573,
          -0.748693992415597,
          1.1561540180085867,
          -1.8938816518035753,
          -0.08731504338881442,
          -1.5026348349145464,
          0.9264297372131799,
          0.22610468007977882,
          -0.07072214923274342,
          0.6913298962666558,
          -1.6513938223947522
         ],
         "xaxis": "x8",
         "y": [
          0.43857065498127923,
          0.2921972188658163,
          0.5269976435150321,
          0.3456298172824727,
          -0.17265962141318386,
          1.5214063113948753,
          0.21887156209224995,
          -0.9169151805499315,
          0.897046790028798,
          -0.44166817990327406,
          -0.4905537825729059,
          0.3393359972150877,
          -0.13258206022710767,
          -0.17440426007304868,
          -0.11436202173227045,
          1.3765722633554949,
          -1.363010519812039,
          1.3652219891550936,
          -1.041925534006676,
          0.4030559772477593,
          0.43147627576451036,
          1.1244929202098919,
          0.01284568975710407,
          -1.7329434635161785,
          0.34833148705841827,
          -0.08746755785800744,
          -0.6181108160972224,
          1.1033028653163843,
          0.4471900952784845,
          1.2369465803935622,
          0.8148534762160029,
          1.1024391577961616,
          -0.6072245388300551,
          0.16614874269076368,
          -0.17630537750694994,
          -0.4874814902562876,
          0.39146192099755295,
          0.47440239748577484,
          1.1108766530426502,
          0.9709270617422173,
          0.7094663736011866,
          0.5789503555856831,
          -0.29097984660730236,
          -1.074516099870212,
          -1.0179962198314423,
          0.4505070491292211,
          -0.0987560341762823,
          -0.3910764524815764,
          0.20181801446305067,
          0.9838957226496257,
          -0.9558160896945229,
          0.6394471676960702,
          -0.9552240638281172,
          -1.1106385648831525,
          0.393103490534785,
          0.09981593966862132,
          0.9439109322465946,
          0.5682537414314321,
          -1.201286951986347,
          0.2897167154660576,
          -0.6174219282112287,
          0.8911198651687253,
          0.6279124615290884,
          -0.5925009181791696,
          0.1561814860849528,
          1.2231838467346279,
          -0.15737218559812,
          -1.5474746664860417,
          0.24730224502486184,
          -0.6391894769475629,
          0.7352842406118774,
          -0.47704956402309234,
          -0.8582970312013011,
          -0.3586769108750361,
          0.8133099841261496,
          2.0430668916662293,
          -1.5997064464522288,
          -0.08913250267434249,
          -0.8019159391008681,
          -0.14004361811661117,
          1.3869118318293119,
          -3.0081095236739985,
          -2.6680211196509527,
          -0.5303358494927747,
          0.12978698353110324,
          -0.7636361580880751,
          0.2908557441422079,
          -0.295146448189477,
          -0.3856098063164494,
          0.5831054907534179,
          -0.2755588866036854,
          -1.2385546690415512,
          0.1378391604588889,
          -0.5080325904231946,
          -0.39089986743324556,
          -1.2611800034901748,
          -0.7038431183077906,
          -0.9359997462534155,
          -1.5480435915792188,
          -1.7643199576087762
         ],
         "yaxis": "y8"
        },
        {
         "line": {
          "color": "rgba(128, 128, 128, 1.0)",
          "dash": "solid",
          "shape": "linear",
          "width": 1.3
         },
         "marker": {
          "size": 2,
          "symbol": "circle"
         },
         "mode": "markers",
         "name": "C",
         "text": "",
         "type": "scatter",
         "x": [
          -0.3603101022368317,
          -1.4932067099630373,
          0.7401114483929926,
          1.5876799119575666,
          -0.5882553778090175,
          -0.19328619251142493,
          -1.1483331165246522,
          0.3346583368373109,
          -1.353736298933149,
          0.16244749177332804,
          0.4107766850650031,
          -0.1019513767017405,
          -0.55044118145215,
          1.4552814654316812,
          0.7102307470463595,
          0.2042809643735204,
          -1.3141840287757471,
          0.9397974293810624,
          1.4622082850861817,
          0.004581087125822542,
          1.1872560720964547,
          -0.06939465386530655,
          0.34555569871453634,
          0.47627576924484,
          0.11665148042293134,
          0.22866331638806298,
          -0.29839556035322234,
          -2.359488044458736,
          1.5194122054394072,
          1.4583479497699154,
          -0.46185920982978745,
          0.0034936982540661877,
          0.036773686882005295,
          -0.4054567731595773,
          -1.198527786346277,
          0.6035952075449362,
          -0.12056204746885117,
          -0.08696956062189974,
          -0.30260921526610346,
          -1.379181324098899,
          -0.7575510045383668,
          -1.1669069387928175,
          0.42251770640713326,
          -0.39442991537684646,
          0.8968649696810801,
          1.000185756835219,
          1.225290849161005,
          -0.5684875907200435,
          -0.9732008970869809,
          -0.13495915879243361,
          -0.7444246126382412,
          -0.08707835112761256,
          0.8798796323503689,
          0.7060197101561982,
          -0.04243007752957983,
          -1.2601728989214394,
          -0.944969736816905,
          0.42698695657750374,
          -1.9294248752331329,
          1.0336411672109236,
          -1.7549866151466353,
          0.2286082492666186,
          -1.6149892789862796,
          0.45981906285790236,
          -1.4103986669031026,
          0.9635927411240099,
          -0.03860187917494151,
          -1.6626456582328502,
          2.187540504498553,
          -0.7097028844079241,
          -2.2801230185416337,
          -1.6130622349451873,
          -0.42600445367120715,
          1.1394401765294633,
          -0.3613245728493242,
          -1.2760968160051436,
          -0.19054613667361206,
          -0.5608507458210631,
          -1.0706260872017523,
          0.8319065039536502,
          1.1586586008561413,
          -0.32577688866384846,
          -1.120167682648072,
          -0.8367561889192894,
          1.1501005753742084,
          1.1780914040975914,
          -2.1832722386363814,
          -0.8275274873462319,
          0.6478121324458215,
          1.1681321398775844,
          0.4718333199251554,
          1.1460239242801087,
          -0.7820887448110919,
          1.556158084660845,
          -1.6580547553017961,
          1.268655088327418,
          0.05952229145177814,
          -1.5759100408069073,
          -0.5736314310222357,
          -0.5229811365201296
         ],
         "xaxis": "x9",
         "y": [
          -0.33304407935687297,
          0.4196480497928561,
          -1.0128407265795851,
          0.3834382551550639,
          -0.22051146973657765,
          1.2637080409428743,
          -0.3356546915580256,
          0.3299473999252595,
          -0.4927836095423988,
          0.676365691426167,
          -0.9540710140336576,
          1.5677157815516565,
          1.57803156462598,
          2.843575341172098,
          -1.5668013569275019,
          0.6501896043652855,
          0.1953136862590582,
          -0.15982872072127519,
          1.1881735273199179,
          -1.1123597654005102,
          0.31057427517424446,
          0.6858782640283084,
          1.5079375265602655,
          0.8476644826686831,
          -0.8530209380635657,
          -0.3570344501316517,
          0.3906179196994124,
          0.9159884708277022,
          -2.0031511144711964,
          -0.4697245159996884,
          1.5228230778093375,
          0.0689225827049908,
          0.8174298922219405,
          1.4223047744337014,
          1.758761790919159,
          -0.5044357034818677,
          -0.18286757167954842,
          -1.099218775044286,
          0.4895024879162726,
          -0.3368977802289586,
          -1.2609291962144602,
          1.3691913234433875,
          -1.0870692753036488,
          1.9913570478602178,
          -0.6524310062882994,
          -0.8042847683952612,
          -0.18297511813568068,
          0.6101716474685731,
          -1.076717593416154,
          -1.0253632413982823,
          1.3369529745232924,
          -1.7699044806435573,
          -0.6264108759527902,
          -0.5676555030227693,
          -0.25334572590646204,
          1.8275003149947189,
          0.16799628500316302,
          -0.12509276188550403,
          0.4583972693777563,
          -2.071881794074191,
          0.15131752446529795,
          1.025645687887124,
          -1.5457478500698516,
          0.5612578692014258,
          0.6891279357590095,
          -1.7216079830986206,
          -0.42483538129673476,
          -0.05640247313958615,
          -1.3571951381496665,
          1.3705231324321308,
          -2.536020325938372,
          0.30357252032518994,
          -0.8119117649915281,
          0.46568393430178984,
          -1.8053668506899696,
          0.988117383729646,
          0.7577646631081413,
          0.14390128785983738,
          1.725724147444466,
          2.1560186716117156,
          0.5787444953193548,
          1.5549832669292794,
          -1.494619446402623,
          -0.6309125827349641,
          -0.44162862605770786,
          0.5914825617692004,
          0.1282336376605584,
          -0.5616825304763499,
          2.5589848887591136,
          1.099922717554243,
          -0.6738756847649492,
          -1.4599028077913867,
          -0.33055771556131214,
          -0.9061242626000299,
          0.7788209404021356,
          -1.3739973089010387,
          1.935849500355021,
          -0.43067333463332313,
          -0.46124873094628116,
          -0.43802587757845834
         ],
         "yaxis": "y9"
        },
        {
         "line": {
          "color": "rgba(128, 128, 128, 1.0)",
          "dash": "solid",
          "shape": "linear",
          "width": 1.3
         },
         "marker": {
          "size": 2,
          "symbol": "circle"
         },
         "mode": "markers",
         "name": "C",
         "text": "",
         "type": "scatter",
         "x": [
          0.43857065498127923,
          0.2921972188658163,
          0.5269976435150321,
          0.3456298172824727,
          -0.17265962141318386,
          1.5214063113948753,
          0.21887156209224995,
          -0.9169151805499315,
          0.897046790028798,
          -0.44166817990327406,
          -0.4905537825729059,
          0.3393359972150877,
          -0.13258206022710767,
          -0.17440426007304868,
          -0.11436202173227045,
          1.3765722633554949,
          -1.363010519812039,
          1.3652219891550936,
          -1.041925534006676,
          0.4030559772477593,
          0.43147627576451036,
          1.1244929202098919,
          0.01284568975710407,
          -1.7329434635161785,
          0.34833148705841827,
          -0.08746755785800744,
          -0.6181108160972224,
          1.1033028653163843,
          0.4471900952784845,
          1.2369465803935622,
          0.8148534762160029,
          1.1024391577961616,
          -0.6072245388300551,
          0.16614874269076368,
          -0.17630537750694994,
          -0.4874814902562876,
          0.39146192099755295,
          0.47440239748577484,
          1.1108766530426502,
          0.9709270617422173,
          0.7094663736011866,
          0.5789503555856831,
          -0.29097984660730236,
          -1.074516099870212,
          -1.0179962198314423,
          0.4505070491292211,
          -0.0987560341762823,
          -0.3910764524815764,
          0.20181801446305067,
          0.9838957226496257,
          -0.9558160896945229,
          0.6394471676960702,
          -0.9552240638281172,
          -1.1106385648831525,
          0.393103490534785,
          0.09981593966862132,
          0.9439109322465946,
          0.5682537414314321,
          -1.201286951986347,
          0.2897167154660576,
          -0.6174219282112287,
          0.8911198651687253,
          0.6279124615290884,
          -0.5925009181791696,
          0.1561814860849528,
          1.2231838467346279,
          -0.15737218559812,
          -1.5474746664860417,
          0.24730224502486184,
          -0.6391894769475629,
          0.7352842406118774,
          -0.47704956402309234,
          -0.8582970312013011,
          -0.3586769108750361,
          0.8133099841261496,
          2.0430668916662293,
          -1.5997064464522288,
          -0.08913250267434249,
          -0.8019159391008681,
          -0.14004361811661117,
          1.3869118318293119,
          -3.0081095236739985,
          -2.6680211196509527,
          -0.5303358494927747,
          0.12978698353110324,
          -0.7636361580880751,
          0.2908557441422079,
          -0.295146448189477,
          -0.3856098063164494,
          0.5831054907534179,
          -0.2755588866036854,
          -1.2385546690415512,
          0.1378391604588889,
          -0.5080325904231946,
          -0.39089986743324556,
          -1.2611800034901748,
          -0.7038431183077906,
          -0.9359997462534155,
          -1.5480435915792188,
          -1.7643199576087762
         ],
         "xaxis": "x10",
         "y": [
          -0.33304407935687297,
          0.4196480497928561,
          -1.0128407265795851,
          0.3834382551550639,
          -0.22051146973657765,
          1.2637080409428743,
          -0.3356546915580256,
          0.3299473999252595,
          -0.4927836095423988,
          0.676365691426167,
          -0.9540710140336576,
          1.5677157815516565,
          1.57803156462598,
          2.843575341172098,
          -1.5668013569275019,
          0.6501896043652855,
          0.1953136862590582,
          -0.15982872072127519,
          1.1881735273199179,
          -1.1123597654005102,
          0.31057427517424446,
          0.6858782640283084,
          1.5079375265602655,
          0.8476644826686831,
          -0.8530209380635657,
          -0.3570344501316517,
          0.3906179196994124,
          0.9159884708277022,
          -2.0031511144711964,
          -0.4697245159996884,
          1.5228230778093375,
          0.0689225827049908,
          0.8174298922219405,
          1.4223047744337014,
          1.758761790919159,
          -0.5044357034818677,
          -0.18286757167954842,
          -1.099218775044286,
          0.4895024879162726,
          -0.3368977802289586,
          -1.2609291962144602,
          1.3691913234433875,
          -1.0870692753036488,
          1.9913570478602178,
          -0.6524310062882994,
          -0.8042847683952612,
          -0.18297511813568068,
          0.6101716474685731,
          -1.076717593416154,
          -1.0253632413982823,
          1.3369529745232924,
          -1.7699044806435573,
          -0.6264108759527902,
          -0.5676555030227693,
          -0.25334572590646204,
          1.8275003149947189,
          0.16799628500316302,
          -0.12509276188550403,
          0.4583972693777563,
          -2.071881794074191,
          0.15131752446529795,
          1.025645687887124,
          -1.5457478500698516,
          0.5612578692014258,
          0.6891279357590095,
          -1.7216079830986206,
          -0.42483538129673476,
          -0.05640247313958615,
          -1.3571951381496665,
          1.3705231324321308,
          -2.536020325938372,
          0.30357252032518994,
          -0.8119117649915281,
          0.46568393430178984,
          -1.8053668506899696,
          0.988117383729646,
          0.7577646631081413,
          0.14390128785983738,
          1.725724147444466,
          2.1560186716117156,
          0.5787444953193548,
          1.5549832669292794,
          -1.494619446402623,
          -0.6309125827349641,
          -0.44162862605770786,
          0.5914825617692004,
          0.1282336376605584,
          -0.5616825304763499,
          2.5589848887591136,
          1.099922717554243,
          -0.6738756847649492,
          -1.4599028077913867,
          -0.33055771556131214,
          -0.9061242626000299,
          0.7788209404021356,
          -1.3739973089010387,
          1.935849500355021,
          -0.43067333463332313,
          -0.46124873094628116,
          -0.43802587757845834
         ],
         "yaxis": "y10"
        },
        {
         "histfunc": "count",
         "histnorm": "",
         "marker": {
          "color": "rgba(50, 171, 96, 1.0)",
          "line": {
           "color": "#4D5663",
           "width": 1.3
          }
         },
         "name": "C",
         "nbinsx": 10,
         "opacity": 0.8,
         "orientation": "v",
         "type": "histogram",
         "x": [
          -0.33304407935687297,
          0.4196480497928561,
          -1.0128407265795851,
          0.3834382551550639,
          -0.22051146973657765,
          1.2637080409428743,
          -0.3356546915580256,
          0.3299473999252595,
          -0.4927836095423988,
          0.676365691426167,
          -0.9540710140336576,
          1.5677157815516565,
          1.57803156462598,
          2.843575341172098,
          -1.5668013569275019,
          0.6501896043652855,
          0.1953136862590582,
          -0.15982872072127519,
          1.1881735273199179,
          -1.1123597654005102,
          0.31057427517424446,
          0.6858782640283084,
          1.5079375265602655,
          0.8476644826686831,
          -0.8530209380635657,
          -0.3570344501316517,
          0.3906179196994124,
          0.9159884708277022,
          -2.0031511144711964,
          -0.4697245159996884,
          1.5228230778093375,
          0.0689225827049908,
          0.8174298922219405,
          1.4223047744337014,
          1.758761790919159,
          -0.5044357034818677,
          -0.18286757167954842,
          -1.099218775044286,
          0.4895024879162726,
          -0.3368977802289586,
          -1.2609291962144602,
          1.3691913234433875,
          -1.0870692753036488,
          1.9913570478602178,
          -0.6524310062882994,
          -0.8042847683952612,
          -0.18297511813568068,
          0.6101716474685731,
          -1.076717593416154,
          -1.0253632413982823,
          1.3369529745232924,
          -1.7699044806435573,
          -0.6264108759527902,
          -0.5676555030227693,
          -0.25334572590646204,
          1.8275003149947189,
          0.16799628500316302,
          -0.12509276188550403,
          0.4583972693777563,
          -2.071881794074191,
          0.15131752446529795,
          1.025645687887124,
          -1.5457478500698516,
          0.5612578692014258,
          0.6891279357590095,
          -1.7216079830986206,
          -0.42483538129673476,
          -0.05640247313958615,
          -1.3571951381496665,
          1.3705231324321308,
          -2.536020325938372,
          0.30357252032518994,
          -0.8119117649915281,
          0.46568393430178984,
          -1.8053668506899696,
          0.988117383729646,
          0.7577646631081413,
          0.14390128785983738,
          1.725724147444466,
          2.1560186716117156,
          0.5787444953193548,
          1.5549832669292794,
          -1.494619446402623,
          -0.6309125827349641,
          -0.44162862605770786,
          0.5914825617692004,
          0.1282336376605584,
          -0.5616825304763499,
          2.5589848887591136,
          1.099922717554243,
          -0.6738756847649492,
          -1.4599028077913867,
          -0.33055771556131214,
          -0.9061242626000299,
          0.7788209404021356,
          -1.3739973089010387,
          1.935849500355021,
          -0.43067333463332313,
          -0.46124873094628116,
          -0.43802587757845834
         ],
         "xaxis": "x11",
         "yaxis": "y11"
        },
        {
         "line": {
          "color": "rgba(128, 128, 128, 1.0)",
          "dash": "solid",
          "shape": "linear",
          "width": 1.3
         },
         "marker": {
          "size": 2,
          "symbol": "circle"
         },
         "mode": "markers",
         "name": "C",
         "text": "",
         "type": "scatter",
         "x": [
          0.44514927902206924,
          -0.4932796464433643,
          0.49004951231797034,
          0.9893702535816634,
          -0.3695510433765291,
          1.3073709571524497,
          -0.20397647509500466,
          0.9257993020287427,
          -1.555530442916235,
          1.0165069323800255,
          0.36882666878270787,
          -0.5000287722940971,
          -0.571415472198531,
          -0.4891197396518819,
          -0.09574011339114545,
          0.4150494653733849,
          -2.352927571154122,
          -2.000491316858666,
          1.2569298384299536,
          -0.2348889667088603,
          -0.23579483778080154,
          -0.7110423729873975,
          0.8461959867871499,
          -0.9478531208598431,
          -0.9105000307076286,
          0.5103896296782777,
          -0.36425916193338354,
          -0.4668898620879838,
          -0.3694305635936844,
          -0.07576080216397955,
          -0.010066937282491953,
          -1.4309251194300914,
          -1.1414763333497955,
          0.5756311607826187,
          -0.17481915928555952,
          -0.02311701740580824,
          -0.6343100617205631,
          -1.612507757767517,
          1.1708141165298458,
          -0.45623817375731646,
          0.9283694853459812,
          -0.41076757301040034,
          -0.23899973661572035,
          0.9472078095862808,
          -0.7435332911928643,
          1.1418564370527604,
          0.9209724820910382,
          -0.9097174353194862,
          -1.6652410148483707,
          -0.1593311316680365,
          1.7101480615179498,
          1.0890536615233795,
          0.5927881396371886,
          1.042764922739655,
          -1.1266567950324227,
          -1.6288853516330672,
          0.6369307931518935,
          1.3128923686572516,
          -1.0520711699898084,
          -1.1712015748579032,
          -1.3686628461617183,
          -0.13955144009682297,
          2.2085222175655246,
          0.8115303005297543,
          -0.7415545573402113,
          -0.6468602158556795,
          -0.09656870583882846,
          -0.22916502740326786,
          1.9473398160278808,
          1.1689978067611757,
          -1.3063608130632387,
          -0.14069119585770404,
          -0.29674570761239183,
          -0.23564085984490005,
          1.1324844315536782,
          -0.9018348771332421,
          -0.18054103901337937,
          0.6367796882986028,
          -0.32603613410308896,
          0.9936403795486872,
          -0.4132087009186094,
          0.5908801944612876,
          -0.7361669902343383,
          0.7500369440953866,
          -0.22764454955526914,
          0.5783363724164028,
          1.3430340279492383,
          0.22316537570913333,
          -0.2686696242333291,
          -1.9370867804686573,
          -0.748693992415597,
          1.1561540180085867,
          -1.8938816518035753,
          -0.08731504338881442,
          -1.5026348349145464,
          0.9264297372131799,
          0.22610468007977882,
          -0.07072214923274342,
          0.6913298962666558,
          -1.6513938223947522
         ],
         "xaxis": "x12",
         "y": [
          -0.33304407935687297,
          0.4196480497928561,
          -1.0128407265795851,
          0.3834382551550639,
          -0.22051146973657765,
          1.2637080409428743,
          -0.3356546915580256,
          0.3299473999252595,
          -0.4927836095423988,
          0.676365691426167,
          -0.9540710140336576,
          1.5677157815516565,
          1.57803156462598,
          2.843575341172098,
          -1.5668013569275019,
          0.6501896043652855,
          0.1953136862590582,
          -0.15982872072127519,
          1.1881735273199179,
          -1.1123597654005102,
          0.31057427517424446,
          0.6858782640283084,
          1.5079375265602655,
          0.8476644826686831,
          -0.8530209380635657,
          -0.3570344501316517,
          0.3906179196994124,
          0.9159884708277022,
          -2.0031511144711964,
          -0.4697245159996884,
          1.5228230778093375,
          0.0689225827049908,
          0.8174298922219405,
          1.4223047744337014,
          1.758761790919159,
          -0.5044357034818677,
          -0.18286757167954842,
          -1.099218775044286,
          0.4895024879162726,
          -0.3368977802289586,
          -1.2609291962144602,
          1.3691913234433875,
          -1.0870692753036488,
          1.9913570478602178,
          -0.6524310062882994,
          -0.8042847683952612,
          -0.18297511813568068,
          0.6101716474685731,
          -1.076717593416154,
          -1.0253632413982823,
          1.3369529745232924,
          -1.7699044806435573,
          -0.6264108759527902,
          -0.5676555030227693,
          -0.25334572590646204,
          1.8275003149947189,
          0.16799628500316302,
          -0.12509276188550403,
          0.4583972693777563,
          -2.071881794074191,
          0.15131752446529795,
          1.025645687887124,
          -1.5457478500698516,
          0.5612578692014258,
          0.6891279357590095,
          -1.7216079830986206,
          -0.42483538129673476,
          -0.05640247313958615,
          -1.3571951381496665,
          1.3705231324321308,
          -2.536020325938372,
          0.30357252032518994,
          -0.8119117649915281,
          0.46568393430178984,
          -1.8053668506899696,
          0.988117383729646,
          0.7577646631081413,
          0.14390128785983738,
          1.725724147444466,
          2.1560186716117156,
          0.5787444953193548,
          1.5549832669292794,
          -1.494619446402623,
          -0.6309125827349641,
          -0.44162862605770786,
          0.5914825617692004,
          0.1282336376605584,
          -0.5616825304763499,
          2.5589848887591136,
          1.099922717554243,
          -0.6738756847649492,
          -1.4599028077913867,
          -0.33055771556131214,
          -0.9061242626000299,
          0.7788209404021356,
          -1.3739973089010387,
          1.935849500355021,
          -0.43067333463332313,
          -0.46124873094628116,
          -0.43802587757845834
         ],
         "yaxis": "y12"
        },
        {
         "line": {
          "color": "rgba(128, 128, 128, 1.0)",
          "dash": "solid",
          "shape": "linear",
          "width": 1.3
         },
         "marker": {
          "size": 2,
          "symbol": "circle"
         },
         "mode": "markers",
         "name": "D",
         "text": "",
         "type": "scatter",
         "x": [
          -0.3603101022368317,
          -1.4932067099630373,
          0.7401114483929926,
          1.5876799119575666,
          -0.5882553778090175,
          -0.19328619251142493,
          -1.1483331165246522,
          0.3346583368373109,
          -1.353736298933149,
          0.16244749177332804,
          0.4107766850650031,
          -0.1019513767017405,
          -0.55044118145215,
          1.4552814654316812,
          0.7102307470463595,
          0.2042809643735204,
          -1.3141840287757471,
          0.9397974293810624,
          1.4622082850861817,
          0.004581087125822542,
          1.1872560720964547,
          -0.06939465386530655,
          0.34555569871453634,
          0.47627576924484,
          0.11665148042293134,
          0.22866331638806298,
          -0.29839556035322234,
          -2.359488044458736,
          1.5194122054394072,
          1.4583479497699154,
          -0.46185920982978745,
          0.0034936982540661877,
          0.036773686882005295,
          -0.4054567731595773,
          -1.198527786346277,
          0.6035952075449362,
          -0.12056204746885117,
          -0.08696956062189974,
          -0.30260921526610346,
          -1.379181324098899,
          -0.7575510045383668,
          -1.1669069387928175,
          0.42251770640713326,
          -0.39442991537684646,
          0.8968649696810801,
          1.000185756835219,
          1.225290849161005,
          -0.5684875907200435,
          -0.9732008970869809,
          -0.13495915879243361,
          -0.7444246126382412,
          -0.08707835112761256,
          0.8798796323503689,
          0.7060197101561982,
          -0.04243007752957983,
          -1.2601728989214394,
          -0.944969736816905,
          0.42698695657750374,
          -1.9294248752331329,
          1.0336411672109236,
          -1.7549866151466353,
          0.2286082492666186,
          -1.6149892789862796,
          0.45981906285790236,
          -1.4103986669031026,
          0.9635927411240099,
          -0.03860187917494151,
          -1.6626456582328502,
          2.187540504498553,
          -0.7097028844079241,
          -2.2801230185416337,
          -1.6130622349451873,
          -0.42600445367120715,
          1.1394401765294633,
          -0.3613245728493242,
          -1.2760968160051436,
          -0.19054613667361206,
          -0.5608507458210631,
          -1.0706260872017523,
          0.8319065039536502,
          1.1586586008561413,
          -0.32577688866384846,
          -1.120167682648072,
          -0.8367561889192894,
          1.1501005753742084,
          1.1780914040975914,
          -2.1832722386363814,
          -0.8275274873462319,
          0.6478121324458215,
          1.1681321398775844,
          0.4718333199251554,
          1.1460239242801087,
          -0.7820887448110919,
          1.556158084660845,
          -1.6580547553017961,
          1.268655088327418,
          0.05952229145177814,
          -1.5759100408069073,
          -0.5736314310222357,
          -0.5229811365201296
         ],
         "xaxis": "x13",
         "y": [
          0.44514927902206924,
          -0.4932796464433643,
          0.49004951231797034,
          0.9893702535816634,
          -0.3695510433765291,
          1.3073709571524497,
          -0.20397647509500466,
          0.9257993020287427,
          -1.555530442916235,
          1.0165069323800255,
          0.36882666878270787,
          -0.5000287722940971,
          -0.571415472198531,
          -0.4891197396518819,
          -0.09574011339114545,
          0.4150494653733849,
          -2.352927571154122,
          -2.000491316858666,
          1.2569298384299536,
          -0.2348889667088603,
          -0.23579483778080154,
          -0.7110423729873975,
          0.8461959867871499,
          -0.9478531208598431,
          -0.9105000307076286,
          0.5103896296782777,
          -0.36425916193338354,
          -0.4668898620879838,
          -0.3694305635936844,
          -0.07576080216397955,
          -0.010066937282491953,
          -1.4309251194300914,
          -1.1414763333497955,
          0.5756311607826187,
          -0.17481915928555952,
          -0.02311701740580824,
          -0.6343100617205631,
          -1.612507757767517,
          1.1708141165298458,
          -0.45623817375731646,
          0.9283694853459812,
          -0.41076757301040034,
          -0.23899973661572035,
          0.9472078095862808,
          -0.7435332911928643,
          1.1418564370527604,
          0.9209724820910382,
          -0.9097174353194862,
          -1.6652410148483707,
          -0.1593311316680365,
          1.7101480615179498,
          1.0890536615233795,
          0.5927881396371886,
          1.042764922739655,
          -1.1266567950324227,
          -1.6288853516330672,
          0.6369307931518935,
          1.3128923686572516,
          -1.0520711699898084,
          -1.1712015748579032,
          -1.3686628461617183,
          -0.13955144009682297,
          2.2085222175655246,
          0.8115303005297543,
          -0.7415545573402113,
          -0.6468602158556795,
          -0.09656870583882846,
          -0.22916502740326786,
          1.9473398160278808,
          1.1689978067611757,
          -1.3063608130632387,
          -0.14069119585770404,
          -0.29674570761239183,
          -0.23564085984490005,
          1.1324844315536782,
          -0.9018348771332421,
          -0.18054103901337937,
          0.6367796882986028,
          -0.32603613410308896,
          0.9936403795486872,
          -0.4132087009186094,
          0.5908801944612876,
          -0.7361669902343383,
          0.7500369440953866,
          -0.22764454955526914,
          0.5783363724164028,
          1.3430340279492383,
          0.22316537570913333,
          -0.2686696242333291,
          -1.9370867804686573,
          -0.748693992415597,
          1.1561540180085867,
          -1.8938816518035753,
          -0.08731504338881442,
          -1.5026348349145464,
          0.9264297372131799,
          0.22610468007977882,
          -0.07072214923274342,
          0.6913298962666558,
          -1.6513938223947522
         ],
         "yaxis": "y13"
        },
        {
         "line": {
          "color": "rgba(128, 128, 128, 1.0)",
          "dash": "solid",
          "shape": "linear",
          "width": 1.3
         },
         "marker": {
          "size": 2,
          "symbol": "circle"
         },
         "mode": "markers",
         "name": "D",
         "text": "",
         "type": "scatter",
         "x": [
          0.43857065498127923,
          0.2921972188658163,
          0.5269976435150321,
          0.3456298172824727,
          -0.17265962141318386,
          1.5214063113948753,
          0.21887156209224995,
          -0.9169151805499315,
          0.897046790028798,
          -0.44166817990327406,
          -0.4905537825729059,
          0.3393359972150877,
          -0.13258206022710767,
          -0.17440426007304868,
          -0.11436202173227045,
          1.3765722633554949,
          -1.363010519812039,
          1.3652219891550936,
          -1.041925534006676,
          0.4030559772477593,
          0.43147627576451036,
          1.1244929202098919,
          0.01284568975710407,
          -1.7329434635161785,
          0.34833148705841827,
          -0.08746755785800744,
          -0.6181108160972224,
          1.1033028653163843,
          0.4471900952784845,
          1.2369465803935622,
          0.8148534762160029,
          1.1024391577961616,
          -0.6072245388300551,
          0.16614874269076368,
          -0.17630537750694994,
          -0.4874814902562876,
          0.39146192099755295,
          0.47440239748577484,
          1.1108766530426502,
          0.9709270617422173,
          0.7094663736011866,
          0.5789503555856831,
          -0.29097984660730236,
          -1.074516099870212,
          -1.0179962198314423,
          0.4505070491292211,
          -0.0987560341762823,
          -0.3910764524815764,
          0.20181801446305067,
          0.9838957226496257,
          -0.9558160896945229,
          0.6394471676960702,
          -0.9552240638281172,
          -1.1106385648831525,
          0.393103490534785,
          0.09981593966862132,
          0.9439109322465946,
          0.5682537414314321,
          -1.201286951986347,
          0.2897167154660576,
          -0.6174219282112287,
          0.8911198651687253,
          0.6279124615290884,
          -0.5925009181791696,
          0.1561814860849528,
          1.2231838467346279,
          -0.15737218559812,
          -1.5474746664860417,
          0.24730224502486184,
          -0.6391894769475629,
          0.7352842406118774,
          -0.47704956402309234,
          -0.8582970312013011,
          -0.3586769108750361,
          0.8133099841261496,
          2.0430668916662293,
          -1.5997064464522288,
          -0.08913250267434249,
          -0.8019159391008681,
          -0.14004361811661117,
          1.3869118318293119,
          -3.0081095236739985,
          -2.6680211196509527,
          -0.5303358494927747,
          0.12978698353110324,
          -0.7636361580880751,
          0.2908557441422079,
          -0.295146448189477,
          -0.3856098063164494,
          0.5831054907534179,
          -0.2755588866036854,
          -1.2385546690415512,
          0.1378391604588889,
          -0.5080325904231946,
          -0.39089986743324556,
          -1.2611800034901748,
          -0.7038431183077906,
          -0.9359997462534155,
          -1.5480435915792188,
          -1.7643199576087762
         ],
         "xaxis": "x14",
         "y": [
          0.44514927902206924,
          -0.4932796464433643,
          0.49004951231797034,
          0.9893702535816634,
          -0.3695510433765291,
          1.3073709571524497,
          -0.20397647509500466,
          0.9257993020287427,
          -1.555530442916235,
          1.0165069323800255,
          0.36882666878270787,
          -0.5000287722940971,
          -0.571415472198531,
          -0.4891197396518819,
          -0.09574011339114545,
          0.4150494653733849,
          -2.352927571154122,
          -2.000491316858666,
          1.2569298384299536,
          -0.2348889667088603,
          -0.23579483778080154,
          -0.7110423729873975,
          0.8461959867871499,
          -0.9478531208598431,
          -0.9105000307076286,
          0.5103896296782777,
          -0.36425916193338354,
          -0.4668898620879838,
          -0.3694305635936844,
          -0.07576080216397955,
          -0.010066937282491953,
          -1.4309251194300914,
          -1.1414763333497955,
          0.5756311607826187,
          -0.17481915928555952,
          -0.02311701740580824,
          -0.6343100617205631,
          -1.612507757767517,
          1.1708141165298458,
          -0.45623817375731646,
          0.9283694853459812,
          -0.41076757301040034,
          -0.23899973661572035,
          0.9472078095862808,
          -0.7435332911928643,
          1.1418564370527604,
          0.9209724820910382,
          -0.9097174353194862,
          -1.6652410148483707,
          -0.1593311316680365,
          1.7101480615179498,
          1.0890536615233795,
          0.5927881396371886,
          1.042764922739655,
          -1.1266567950324227,
          -1.6288853516330672,
          0.6369307931518935,
          1.3128923686572516,
          -1.0520711699898084,
          -1.1712015748579032,
          -1.3686628461617183,
          -0.13955144009682297,
          2.2085222175655246,
          0.8115303005297543,
          -0.7415545573402113,
          -0.6468602158556795,
          -0.09656870583882846,
          -0.22916502740326786,
          1.9473398160278808,
          1.1689978067611757,
          -1.3063608130632387,
          -0.14069119585770404,
          -0.29674570761239183,
          -0.23564085984490005,
          1.1324844315536782,
          -0.9018348771332421,
          -0.18054103901337937,
          0.6367796882986028,
          -0.32603613410308896,
          0.9936403795486872,
          -0.4132087009186094,
          0.5908801944612876,
          -0.7361669902343383,
          0.7500369440953866,
          -0.22764454955526914,
          0.5783363724164028,
          1.3430340279492383,
          0.22316537570913333,
          -0.2686696242333291,
          -1.9370867804686573,
          -0.748693992415597,
          1.1561540180085867,
          -1.8938816518035753,
          -0.08731504338881442,
          -1.5026348349145464,
          0.9264297372131799,
          0.22610468007977882,
          -0.07072214923274342,
          0.6913298962666558,
          -1.6513938223947522
         ],
         "yaxis": "y14"
        },
        {
         "line": {
          "color": "rgba(128, 128, 128, 1.0)",
          "dash": "solid",
          "shape": "linear",
          "width": 1.3
         },
         "marker": {
          "size": 2,
          "symbol": "circle"
         },
         "mode": "markers",
         "name": "D",
         "text": "",
         "type": "scatter",
         "x": [
          -0.33304407935687297,
          0.4196480497928561,
          -1.0128407265795851,
          0.3834382551550639,
          -0.22051146973657765,
          1.2637080409428743,
          -0.3356546915580256,
          0.3299473999252595,
          -0.4927836095423988,
          0.676365691426167,
          -0.9540710140336576,
          1.5677157815516565,
          1.57803156462598,
          2.843575341172098,
          -1.5668013569275019,
          0.6501896043652855,
          0.1953136862590582,
          -0.15982872072127519,
          1.1881735273199179,
          -1.1123597654005102,
          0.31057427517424446,
          0.6858782640283084,
          1.5079375265602655,
          0.8476644826686831,
          -0.8530209380635657,
          -0.3570344501316517,
          0.3906179196994124,
          0.9159884708277022,
          -2.0031511144711964,
          -0.4697245159996884,
          1.5228230778093375,
          0.0689225827049908,
          0.8174298922219405,
          1.4223047744337014,
          1.758761790919159,
          -0.5044357034818677,
          -0.18286757167954842,
          -1.099218775044286,
          0.4895024879162726,
          -0.3368977802289586,
          -1.2609291962144602,
          1.3691913234433875,
          -1.0870692753036488,
          1.9913570478602178,
          -0.6524310062882994,
          -0.8042847683952612,
          -0.18297511813568068,
          0.6101716474685731,
          -1.076717593416154,
          -1.0253632413982823,
          1.3369529745232924,
          -1.7699044806435573,
          -0.6264108759527902,
          -0.5676555030227693,
          -0.25334572590646204,
          1.8275003149947189,
          0.16799628500316302,
          -0.12509276188550403,
          0.4583972693777563,
          -2.071881794074191,
          0.15131752446529795,
          1.025645687887124,
          -1.5457478500698516,
          0.5612578692014258,
          0.6891279357590095,
          -1.7216079830986206,
          -0.42483538129673476,
          -0.05640247313958615,
          -1.3571951381496665,
          1.3705231324321308,
          -2.536020325938372,
          0.30357252032518994,
          -0.8119117649915281,
          0.46568393430178984,
          -1.8053668506899696,
          0.988117383729646,
          0.7577646631081413,
          0.14390128785983738,
          1.725724147444466,
          2.1560186716117156,
          0.5787444953193548,
          1.5549832669292794,
          -1.494619446402623,
          -0.6309125827349641,
          -0.44162862605770786,
          0.5914825617692004,
          0.1282336376605584,
          -0.5616825304763499,
          2.5589848887591136,
          1.099922717554243,
          -0.6738756847649492,
          -1.4599028077913867,
          -0.33055771556131214,
          -0.9061242626000299,
          0.7788209404021356,
          -1.3739973089010387,
          1.935849500355021,
          -0.43067333463332313,
          -0.46124873094628116,
          -0.43802587757845834
         ],
         "xaxis": "x15",
         "y": [
          0.44514927902206924,
          -0.4932796464433643,
          0.49004951231797034,
          0.9893702535816634,
          -0.3695510433765291,
          1.3073709571524497,
          -0.20397647509500466,
          0.9257993020287427,
          -1.555530442916235,
          1.0165069323800255,
          0.36882666878270787,
          -0.5000287722940971,
          -0.571415472198531,
          -0.4891197396518819,
          -0.09574011339114545,
          0.4150494653733849,
          -2.352927571154122,
          -2.000491316858666,
          1.2569298384299536,
          -0.2348889667088603,
          -0.23579483778080154,
          -0.7110423729873975,
          0.8461959867871499,
          -0.9478531208598431,
          -0.9105000307076286,
          0.5103896296782777,
          -0.36425916193338354,
          -0.4668898620879838,
          -0.3694305635936844,
          -0.07576080216397955,
          -0.010066937282491953,
          -1.4309251194300914,
          -1.1414763333497955,
          0.5756311607826187,
          -0.17481915928555952,
          -0.02311701740580824,
          -0.6343100617205631,
          -1.612507757767517,
          1.1708141165298458,
          -0.45623817375731646,
          0.9283694853459812,
          -0.41076757301040034,
          -0.23899973661572035,
          0.9472078095862808,
          -0.7435332911928643,
          1.1418564370527604,
          0.9209724820910382,
          -0.9097174353194862,
          -1.6652410148483707,
          -0.1593311316680365,
          1.7101480615179498,
          1.0890536615233795,
          0.5927881396371886,
          1.042764922739655,
          -1.1266567950324227,
          -1.6288853516330672,
          0.6369307931518935,
          1.3128923686572516,
          -1.0520711699898084,
          -1.1712015748579032,
          -1.3686628461617183,
          -0.13955144009682297,
          2.2085222175655246,
          0.8115303005297543,
          -0.7415545573402113,
          -0.6468602158556795,
          -0.09656870583882846,
          -0.22916502740326786,
          1.9473398160278808,
          1.1689978067611757,
          -1.3063608130632387,
          -0.14069119585770404,
          -0.29674570761239183,
          -0.23564085984490005,
          1.1324844315536782,
          -0.9018348771332421,
          -0.18054103901337937,
          0.6367796882986028,
          -0.32603613410308896,
          0.9936403795486872,
          -0.4132087009186094,
          0.5908801944612876,
          -0.7361669902343383,
          0.7500369440953866,
          -0.22764454955526914,
          0.5783363724164028,
          1.3430340279492383,
          0.22316537570913333,
          -0.2686696242333291,
          -1.9370867804686573,
          -0.748693992415597,
          1.1561540180085867,
          -1.8938816518035753,
          -0.08731504338881442,
          -1.5026348349145464,
          0.9264297372131799,
          0.22610468007977882,
          -0.07072214923274342,
          0.6913298962666558,
          -1.6513938223947522
         ],
         "yaxis": "y15"
        },
        {
         "histfunc": "count",
         "histnorm": "",
         "marker": {
          "color": "rgba(128, 0, 128, 1.0)",
          "line": {
           "color": "#4D5663",
           "width": 1.3
          }
         },
         "name": "D",
         "nbinsx": 10,
         "opacity": 0.8,
         "orientation": "v",
         "type": "histogram",
         "x": [
          0.44514927902206924,
          -0.4932796464433643,
          0.49004951231797034,
          0.9893702535816634,
          -0.3695510433765291,
          1.3073709571524497,
          -0.20397647509500466,
          0.9257993020287427,
          -1.555530442916235,
          1.0165069323800255,
          0.36882666878270787,
          -0.5000287722940971,
          -0.571415472198531,
          -0.4891197396518819,
          -0.09574011339114545,
          0.4150494653733849,
          -2.352927571154122,
          -2.000491316858666,
          1.2569298384299536,
          -0.2348889667088603,
          -0.23579483778080154,
          -0.7110423729873975,
          0.8461959867871499,
          -0.9478531208598431,
          -0.9105000307076286,
          0.5103896296782777,
          -0.36425916193338354,
          -0.4668898620879838,
          -0.3694305635936844,
          -0.07576080216397955,
          -0.010066937282491953,
          -1.4309251194300914,
          -1.1414763333497955,
          0.5756311607826187,
          -0.17481915928555952,
          -0.02311701740580824,
          -0.6343100617205631,
          -1.612507757767517,
          1.1708141165298458,
          -0.45623817375731646,
          0.9283694853459812,
          -0.41076757301040034,
          -0.23899973661572035,
          0.9472078095862808,
          -0.7435332911928643,
          1.1418564370527604,
          0.9209724820910382,
          -0.9097174353194862,
          -1.6652410148483707,
          -0.1593311316680365,
          1.7101480615179498,
          1.0890536615233795,
          0.5927881396371886,
          1.042764922739655,
          -1.1266567950324227,
          -1.6288853516330672,
          0.6369307931518935,
          1.3128923686572516,
          -1.0520711699898084,
          -1.1712015748579032,
          -1.3686628461617183,
          -0.13955144009682297,
          2.2085222175655246,
          0.8115303005297543,
          -0.7415545573402113,
          -0.6468602158556795,
          -0.09656870583882846,
          -0.22916502740326786,
          1.9473398160278808,
          1.1689978067611757,
          -1.3063608130632387,
          -0.14069119585770404,
          -0.29674570761239183,
          -0.23564085984490005,
          1.1324844315536782,
          -0.9018348771332421,
          -0.18054103901337937,
          0.6367796882986028,
          -0.32603613410308896,
          0.9936403795486872,
          -0.4132087009186094,
          0.5908801944612876,
          -0.7361669902343383,
          0.7500369440953866,
          -0.22764454955526914,
          0.5783363724164028,
          1.3430340279492383,
          0.22316537570913333,
          -0.2686696242333291,
          -1.9370867804686573,
          -0.748693992415597,
          1.1561540180085867,
          -1.8938816518035753,
          -0.08731504338881442,
          -1.5026348349145464,
          0.9264297372131799,
          0.22610468007977882,
          -0.07072214923274342,
          0.6913298962666558,
          -1.6513938223947522
         ],
         "xaxis": "x16",
         "yaxis": "y16"
        }
       ],
       "layout": {
        "bargap": 0.02,
        "legend": {
         "bgcolor": "#F5F6F9",
         "font": {
          "color": "#4D5663"
         }
        },
        "paper_bgcolor": "#F5F6F9",
        "plot_bgcolor": "#F5F6F9",
        "showlegend": false,
        "template": {
         "data": {
          "bar": [
           {
            "error_x": {
             "color": "#2a3f5f"
            },
            "error_y": {
             "color": "#2a3f5f"
            },
            "marker": {
             "line": {
              "color": "#E5ECF6",
              "width": 0.5
             },
             "pattern": {
              "fillmode": "overlay",
              "size": 10,
              "solidity": 0.2
             }
            },
            "type": "bar"
           }
          ],
          "barpolar": [
           {
            "marker": {
             "line": {
              "color": "#E5ECF6",
              "width": 0.5
             },
             "pattern": {
              "fillmode": "overlay",
              "size": 10,
              "solidity": 0.2
             }
            },
            "type": "barpolar"
           }
          ],
          "carpet": [
           {
            "aaxis": {
             "endlinecolor": "#2a3f5f",
             "gridcolor": "white",
             "linecolor": "white",
             "minorgridcolor": "white",
             "startlinecolor": "#2a3f5f"
            },
            "baxis": {
             "endlinecolor": "#2a3f5f",
             "gridcolor": "white",
             "linecolor": "white",
             "minorgridcolor": "white",
             "startlinecolor": "#2a3f5f"
            },
            "type": "carpet"
           }
          ],
          "choropleth": [
           {
            "colorbar": {
             "outlinewidth": 0,
             "ticks": ""
            },
            "type": "choropleth"
           }
          ],
          "contour": [
           {
            "colorbar": {
             "outlinewidth": 0,
             "ticks": ""
            },
            "colorscale": [
             [
              0,
              "#0d0887"
             ],
             [
              0.1111111111111111,
              "#46039f"
             ],
             [
              0.2222222222222222,
              "#7201a8"
             ],
             [
              0.3333333333333333,
              "#9c179e"
             ],
             [
              0.4444444444444444,
              "#bd3786"
             ],
             [
              0.5555555555555556,
              "#d8576b"
             ],
             [
              0.6666666666666666,
              "#ed7953"
             ],
             [
              0.7777777777777778,
              "#fb9f3a"
             ],
             [
              0.8888888888888888,
              "#fdca26"
             ],
             [
              1,
              "#f0f921"
             ]
            ],
            "type": "contour"
           }
          ],
          "contourcarpet": [
           {
            "colorbar": {
             "outlinewidth": 0,
             "ticks": ""
            },
            "type": "contourcarpet"
           }
          ],
          "heatmap": [
           {
            "colorbar": {
             "outlinewidth": 0,
             "ticks": ""
            },
            "colorscale": [
             [
              0,
              "#0d0887"
             ],
             [
              0.1111111111111111,
              "#46039f"
             ],
             [
              0.2222222222222222,
              "#7201a8"
             ],
             [
              0.3333333333333333,
              "#9c179e"
             ],
             [
              0.4444444444444444,
              "#bd3786"
             ],
             [
              0.5555555555555556,
              "#d8576b"
             ],
             [
              0.6666666666666666,
              "#ed7953"
             ],
             [
              0.7777777777777778,
              "#fb9f3a"
             ],
             [
              0.8888888888888888,
              "#fdca26"
             ],
             [
              1,
              "#f0f921"
             ]
            ],
            "type": "heatmap"
           }
          ],
          "heatmapgl": [
           {
            "colorbar": {
             "outlinewidth": 0,
             "ticks": ""
            },
            "colorscale": [
             [
              0,
              "#0d0887"
             ],
             [
              0.1111111111111111,
              "#46039f"
             ],
             [
              0.2222222222222222,
              "#7201a8"
             ],
             [
              0.3333333333333333,
              "#9c179e"
             ],
             [
              0.4444444444444444,
              "#bd3786"
             ],
             [
              0.5555555555555556,
              "#d8576b"
             ],
             [
              0.6666666666666666,
              "#ed7953"
             ],
             [
              0.7777777777777778,
              "#fb9f3a"
             ],
             [
              0.8888888888888888,
              "#fdca26"
             ],
             [
              1,
              "#f0f921"
             ]
            ],
            "type": "heatmapgl"
           }
          ],
          "histogram": [
           {
            "marker": {
             "pattern": {
              "fillmode": "overlay",
              "size": 10,
              "solidity": 0.2
             }
            },
            "type": "histogram"
           }
          ],
          "histogram2d": [
           {
            "colorbar": {
             "outlinewidth": 0,
             "ticks": ""
            },
            "colorscale": [
             [
              0,
              "#0d0887"
             ],
             [
              0.1111111111111111,
              "#46039f"
             ],
             [
              0.2222222222222222,
              "#7201a8"
             ],
             [
              0.3333333333333333,
              "#9c179e"
             ],
             [
              0.4444444444444444,
              "#bd3786"
             ],
             [
              0.5555555555555556,
              "#d8576b"
             ],
             [
              0.6666666666666666,
              "#ed7953"
             ],
             [
              0.7777777777777778,
              "#fb9f3a"
             ],
             [
              0.8888888888888888,
              "#fdca26"
             ],
             [
              1,
              "#f0f921"
             ]
            ],
            "type": "histogram2d"
           }
          ],
          "histogram2dcontour": [
           {
            "colorbar": {
             "outlinewidth": 0,
             "ticks": ""
            },
            "colorscale": [
             [
              0,
              "#0d0887"
             ],
             [
              0.1111111111111111,
              "#46039f"
             ],
             [
              0.2222222222222222,
              "#7201a8"
             ],
             [
              0.3333333333333333,
              "#9c179e"
             ],
             [
              0.4444444444444444,
              "#bd3786"
             ],
             [
              0.5555555555555556,
              "#d8576b"
             ],
             [
              0.6666666666666666,
              "#ed7953"
             ],
             [
              0.7777777777777778,
              "#fb9f3a"
             ],
             [
              0.8888888888888888,
              "#fdca26"
             ],
             [
              1,
              "#f0f921"
             ]
            ],
            "type": "histogram2dcontour"
           }
          ],
          "mesh3d": [
           {
            "colorbar": {
             "outlinewidth": 0,
             "ticks": ""
            },
            "type": "mesh3d"
           }
          ],
          "parcoords": [
           {
            "line": {
             "colorbar": {
              "outlinewidth": 0,
              "ticks": ""
             }
            },
            "type": "parcoords"
           }
          ],
          "pie": [
           {
            "automargin": true,
            "type": "pie"
           }
          ],
          "scatter": [
           {
            "marker": {
             "colorbar": {
              "outlinewidth": 0,
              "ticks": ""
             }
            },
            "type": "scatter"
           }
          ],
          "scatter3d": [
           {
            "line": {
             "colorbar": {
              "outlinewidth": 0,
              "ticks": ""
             }
            },
            "marker": {
             "colorbar": {
              "outlinewidth": 0,
              "ticks": ""
             }
            },
            "type": "scatter3d"
           }
          ],
          "scattercarpet": [
           {
            "marker": {
             "colorbar": {
              "outlinewidth": 0,
              "ticks": ""
             }
            },
            "type": "scattercarpet"
           }
          ],
          "scattergeo": [
           {
            "marker": {
             "colorbar": {
              "outlinewidth": 0,
              "ticks": ""
             }
            },
            "type": "scattergeo"
           }
          ],
          "scattergl": [
           {
            "marker": {
             "colorbar": {
              "outlinewidth": 0,
              "ticks": ""
             }
            },
            "type": "scattergl"
           }
          ],
          "scattermapbox": [
           {
            "marker": {
             "colorbar": {
              "outlinewidth": 0,
              "ticks": ""
             }
            },
            "type": "scattermapbox"
           }
          ],
          "scatterpolar": [
           {
            "marker": {
             "colorbar": {
              "outlinewidth": 0,
              "ticks": ""
             }
            },
            "type": "scatterpolar"
           }
          ],
          "scatterpolargl": [
           {
            "marker": {
             "colorbar": {
              "outlinewidth": 0,
              "ticks": ""
             }
            },
            "type": "scatterpolargl"
           }
          ],
          "scatterternary": [
           {
            "marker": {
             "colorbar": {
              "outlinewidth": 0,
              "ticks": ""
             }
            },
            "type": "scatterternary"
           }
          ],
          "surface": [
           {
            "colorbar": {
             "outlinewidth": 0,
             "ticks": ""
            },
            "colorscale": [
             [
              0,
              "#0d0887"
             ],
             [
              0.1111111111111111,
              "#46039f"
             ],
             [
              0.2222222222222222,
              "#7201a8"
             ],
             [
              0.3333333333333333,
              "#9c179e"
             ],
             [
              0.4444444444444444,
              "#bd3786"
             ],
             [
              0.5555555555555556,
              "#d8576b"
             ],
             [
              0.6666666666666666,
              "#ed7953"
             ],
             [
              0.7777777777777778,
              "#fb9f3a"
             ],
             [
              0.8888888888888888,
              "#fdca26"
             ],
             [
              1,
              "#f0f921"
             ]
            ],
            "type": "surface"
           }
          ],
          "table": [
           {
            "cells": {
             "fill": {
              "color": "#EBF0F8"
             },
             "line": {
              "color": "white"
             }
            },
            "header": {
             "fill": {
              "color": "#C8D4E3"
             },
             "line": {
              "color": "white"
             }
            },
            "type": "table"
           }
          ]
         },
         "layout": {
          "annotationdefaults": {
           "arrowcolor": "#2a3f5f",
           "arrowhead": 0,
           "arrowwidth": 1
          },
          "autotypenumbers": "strict",
          "coloraxis": {
           "colorbar": {
            "outlinewidth": 0,
            "ticks": ""
           }
          },
          "colorscale": {
           "diverging": [
            [
             0,
             "#8e0152"
            ],
            [
             0.1,
             "#c51b7d"
            ],
            [
             0.2,
             "#de77ae"
            ],
            [
             0.3,
             "#f1b6da"
            ],
            [
             0.4,
             "#fde0ef"
            ],
            [
             0.5,
             "#f7f7f7"
            ],
            [
             0.6,
             "#e6f5d0"
            ],
            [
             0.7,
             "#b8e186"
            ],
            [
             0.8,
             "#7fbc41"
            ],
            [
             0.9,
             "#4d9221"
            ],
            [
             1,
             "#276419"
            ]
           ],
           "sequential": [
            [
             0,
             "#0d0887"
            ],
            [
             0.1111111111111111,
             "#46039f"
            ],
            [
             0.2222222222222222,
             "#7201a8"
            ],
            [
             0.3333333333333333,
             "#9c179e"
            ],
            [
             0.4444444444444444,
             "#bd3786"
            ],
            [
             0.5555555555555556,
             "#d8576b"
            ],
            [
             0.6666666666666666,
             "#ed7953"
            ],
            [
             0.7777777777777778,
             "#fb9f3a"
            ],
            [
             0.8888888888888888,
             "#fdca26"
            ],
            [
             1,
             "#f0f921"
            ]
           ],
           "sequentialminus": [
            [
             0,
             "#0d0887"
            ],
            [
             0.1111111111111111,
             "#46039f"
            ],
            [
             0.2222222222222222,
             "#7201a8"
            ],
            [
             0.3333333333333333,
             "#9c179e"
            ],
            [
             0.4444444444444444,
             "#bd3786"
            ],
            [
             0.5555555555555556,
             "#d8576b"
            ],
            [
             0.6666666666666666,
             "#ed7953"
            ],
            [
             0.7777777777777778,
             "#fb9f3a"
            ],
            [
             0.8888888888888888,
             "#fdca26"
            ],
            [
             1,
             "#f0f921"
            ]
           ]
          },
          "colorway": [
           "#636efa",
           "#EF553B",
           "#00cc96",
           "#ab63fa",
           "#FFA15A",
           "#19d3f3",
           "#FF6692",
           "#B6E880",
           "#FF97FF",
           "#FECB52"
          ],
          "font": {
           "color": "#2a3f5f"
          },
          "geo": {
           "bgcolor": "white",
           "lakecolor": "white",
           "landcolor": "#E5ECF6",
           "showlakes": true,
           "showland": true,
           "subunitcolor": "white"
          },
          "hoverlabel": {
           "align": "left"
          },
          "hovermode": "closest",
          "mapbox": {
           "style": "light"
          },
          "paper_bgcolor": "white",
          "plot_bgcolor": "#E5ECF6",
          "polar": {
           "angularaxis": {
            "gridcolor": "white",
            "linecolor": "white",
            "ticks": ""
           },
           "bgcolor": "#E5ECF6",
           "radialaxis": {
            "gridcolor": "white",
            "linecolor": "white",
            "ticks": ""
           }
          },
          "scene": {
           "xaxis": {
            "backgroundcolor": "#E5ECF6",
            "gridcolor": "white",
            "gridwidth": 2,
            "linecolor": "white",
            "showbackground": true,
            "ticks": "",
            "zerolinecolor": "white"
           },
           "yaxis": {
            "backgroundcolor": "#E5ECF6",
            "gridcolor": "white",
            "gridwidth": 2,
            "linecolor": "white",
            "showbackground": true,
            "ticks": "",
            "zerolinecolor": "white"
           },
           "zaxis": {
            "backgroundcolor": "#E5ECF6",
            "gridcolor": "white",
            "gridwidth": 2,
            "linecolor": "white",
            "showbackground": true,
            "ticks": "",
            "zerolinecolor": "white"
           }
          },
          "shapedefaults": {
           "line": {
            "color": "#2a3f5f"
           }
          },
          "ternary": {
           "aaxis": {
            "gridcolor": "white",
            "linecolor": "white",
            "ticks": ""
           },
           "baxis": {
            "gridcolor": "white",
            "linecolor": "white",
            "ticks": ""
           },
           "bgcolor": "#E5ECF6",
           "caxis": {
            "gridcolor": "white",
            "linecolor": "white",
            "ticks": ""
           }
          },
          "title": {
           "x": 0.05
          },
          "xaxis": {
           "automargin": true,
           "gridcolor": "white",
           "linecolor": "white",
           "ticks": "",
           "title": {
            "standoff": 15
           },
           "zerolinecolor": "white",
           "zerolinewidth": 2
          },
          "yaxis": {
           "automargin": true,
           "gridcolor": "white",
           "linecolor": "white",
           "ticks": "",
           "title": {
            "standoff": 15
           },
           "zerolinecolor": "white",
           "zerolinewidth": 2
          }
         }
        },
        "title": {
         "font": {
          "color": "#4D5663"
         }
        },
        "xaxis": {
         "anchor": "y",
         "domain": [
          0,
          0.2125
         ],
         "gridcolor": "#E1E5ED",
         "showgrid": false,
         "tickfont": {
          "color": "#4D5663"
         },
         "title": {
          "font": {
           "color": "#4D5663"
          },
          "text": ""
         },
         "zerolinecolor": "#E1E5ED"
        },
        "xaxis10": {
         "anchor": "y10",
         "domain": [
          0.2625,
          0.475
         ],
         "gridcolor": "#E1E5ED",
         "showgrid": false,
         "tickfont": {
          "color": "#4D5663"
         },
         "title": {
          "font": {
           "color": "#4D5663"
          },
          "text": ""
         },
         "zerolinecolor": "#E1E5ED"
        },
        "xaxis11": {
         "anchor": "y11",
         "domain": [
          0.525,
          0.7375
         ],
         "gridcolor": "#E1E5ED",
         "showgrid": false,
         "tickfont": {
          "color": "#4D5663"
         },
         "title": {
          "font": {
           "color": "#4D5663"
          },
          "text": ""
         },
         "zerolinecolor": "#E1E5ED"
        },
        "xaxis12": {
         "anchor": "y12",
         "domain": [
          0.7875,
          1
         ],
         "gridcolor": "#E1E5ED",
         "showgrid": false,
         "tickfont": {
          "color": "#4D5663"
         },
         "title": {
          "font": {
           "color": "#4D5663"
          },
          "text": ""
         },
         "zerolinecolor": "#E1E5ED"
        },
        "xaxis13": {
         "anchor": "y13",
         "domain": [
          0,
          0.2125
         ],
         "gridcolor": "#E1E5ED",
         "showgrid": false,
         "tickfont": {
          "color": "#4D5663"
         },
         "title": {
          "font": {
           "color": "#4D5663"
          },
          "text": ""
         },
         "zerolinecolor": "#E1E5ED"
        },
        "xaxis14": {
         "anchor": "y14",
         "domain": [
          0.2625,
          0.475
         ],
         "gridcolor": "#E1E5ED",
         "showgrid": false,
         "tickfont": {
          "color": "#4D5663"
         },
         "title": {
          "font": {
           "color": "#4D5663"
          },
          "text": ""
         },
         "zerolinecolor": "#E1E5ED"
        },
        "xaxis15": {
         "anchor": "y15",
         "domain": [
          0.525,
          0.7375
         ],
         "gridcolor": "#E1E5ED",
         "showgrid": false,
         "tickfont": {
          "color": "#4D5663"
         },
         "title": {
          "font": {
           "color": "#4D5663"
          },
          "text": ""
         },
         "zerolinecolor": "#E1E5ED"
        },
        "xaxis16": {
         "anchor": "y16",
         "domain": [
          0.7875,
          1
         ],
         "gridcolor": "#E1E5ED",
         "showgrid": false,
         "tickfont": {
          "color": "#4D5663"
         },
         "title": {
          "font": {
           "color": "#4D5663"
          },
          "text": ""
         },
         "zerolinecolor": "#E1E5ED"
        },
        "xaxis2": {
         "anchor": "y2",
         "domain": [
          0.2625,
          0.475
         ],
         "gridcolor": "#E1E5ED",
         "showgrid": false,
         "tickfont": {
          "color": "#4D5663"
         },
         "title": {
          "font": {
           "color": "#4D5663"
          },
          "text": ""
         },
         "zerolinecolor": "#E1E5ED"
        },
        "xaxis3": {
         "anchor": "y3",
         "domain": [
          0.525,
          0.7375
         ],
         "gridcolor": "#E1E5ED",
         "showgrid": false,
         "tickfont": {
          "color": "#4D5663"
         },
         "title": {
          "font": {
           "color": "#4D5663"
          },
          "text": ""
         },
         "zerolinecolor": "#E1E5ED"
        },
        "xaxis4": {
         "anchor": "y4",
         "domain": [
          0.7875,
          1
         ],
         "gridcolor": "#E1E5ED",
         "showgrid": false,
         "tickfont": {
          "color": "#4D5663"
         },
         "title": {
          "font": {
           "color": "#4D5663"
          },
          "text": ""
         },
         "zerolinecolor": "#E1E5ED"
        },
        "xaxis5": {
         "anchor": "y5",
         "domain": [
          0,
          0.2125
         ],
         "gridcolor": "#E1E5ED",
         "showgrid": false,
         "tickfont": {
          "color": "#4D5663"
         },
         "title": {
          "font": {
           "color": "#4D5663"
          },
          "text": ""
         },
         "zerolinecolor": "#E1E5ED"
        },
        "xaxis6": {
         "anchor": "y6",
         "domain": [
          0.2625,
          0.475
         ],
         "gridcolor": "#E1E5ED",
         "showgrid": false,
         "tickfont": {
          "color": "#4D5663"
         },
         "title": {
          "font": {
           "color": "#4D5663"
          },
          "text": ""
         },
         "zerolinecolor": "#E1E5ED"
        },
        "xaxis7": {
         "anchor": "y7",
         "domain": [
          0.525,
          0.7375
         ],
         "gridcolor": "#E1E5ED",
         "showgrid": false,
         "tickfont": {
          "color": "#4D5663"
         },
         "title": {
          "font": {
           "color": "#4D5663"
          },
          "text": ""
         },
         "zerolinecolor": "#E1E5ED"
        },
        "xaxis8": {
         "anchor": "y8",
         "domain": [
          0.7875,
          1
         ],
         "gridcolor": "#E1E5ED",
         "showgrid": false,
         "tickfont": {
          "color": "#4D5663"
         },
         "title": {
          "font": {
           "color": "#4D5663"
          },
          "text": ""
         },
         "zerolinecolor": "#E1E5ED"
        },
        "xaxis9": {
         "anchor": "y9",
         "domain": [
          0,
          0.2125
         ],
         "gridcolor": "#E1E5ED",
         "showgrid": false,
         "tickfont": {
          "color": "#4D5663"
         },
         "title": {
          "font": {
           "color": "#4D5663"
          },
          "text": ""
         },
         "zerolinecolor": "#E1E5ED"
        },
        "yaxis": {
         "anchor": "x",
         "domain": [
          0.8025,
          1
         ],
         "gridcolor": "#E1E5ED",
         "showgrid": false,
         "tickfont": {
          "color": "#4D5663"
         },
         "title": {
          "font": {
           "color": "#4D5663"
          },
          "text": ""
         },
         "zerolinecolor": "#E1E5ED"
        },
        "yaxis10": {
         "anchor": "x10",
         "domain": [
          0.2675,
          0.465
         ],
         "gridcolor": "#E1E5ED",
         "showgrid": false,
         "tickfont": {
          "color": "#4D5663"
         },
         "title": {
          "font": {
           "color": "#4D5663"
          },
          "text": ""
         },
         "zerolinecolor": "#E1E5ED"
        },
        "yaxis11": {
         "anchor": "x11",
         "domain": [
          0.2675,
          0.465
         ],
         "gridcolor": "#E1E5ED",
         "showgrid": false,
         "tickfont": {
          "color": "#4D5663"
         },
         "title": {
          "font": {
           "color": "#4D5663"
          },
          "text": ""
         },
         "zerolinecolor": "#E1E5ED"
        },
        "yaxis12": {
         "anchor": "x12",
         "domain": [
          0.2675,
          0.465
         ],
         "gridcolor": "#E1E5ED",
         "showgrid": false,
         "tickfont": {
          "color": "#4D5663"
         },
         "title": {
          "font": {
           "color": "#4D5663"
          },
          "text": ""
         },
         "zerolinecolor": "#E1E5ED"
        },
        "yaxis13": {
         "anchor": "x13",
         "domain": [
          0,
          0.1975
         ],
         "gridcolor": "#E1E5ED",
         "showgrid": false,
         "tickfont": {
          "color": "#4D5663"
         },
         "title": {
          "font": {
           "color": "#4D5663"
          },
          "text": ""
         },
         "zerolinecolor": "#E1E5ED"
        },
        "yaxis14": {
         "anchor": "x14",
         "domain": [
          0,
          0.1975
         ],
         "gridcolor": "#E1E5ED",
         "showgrid": false,
         "tickfont": {
          "color": "#4D5663"
         },
         "title": {
          "font": {
           "color": "#4D5663"
          },
          "text": ""
         },
         "zerolinecolor": "#E1E5ED"
        },
        "yaxis15": {
         "anchor": "x15",
         "domain": [
          0,
          0.1975
         ],
         "gridcolor": "#E1E5ED",
         "showgrid": false,
         "tickfont": {
          "color": "#4D5663"
         },
         "title": {
          "font": {
           "color": "#4D5663"
          },
          "text": ""
         },
         "zerolinecolor": "#E1E5ED"
        },
        "yaxis16": {
         "anchor": "x16",
         "domain": [
          0,
          0.1975
         ],
         "gridcolor": "#E1E5ED",
         "showgrid": false,
         "tickfont": {
          "color": "#4D5663"
         },
         "title": {
          "font": {
           "color": "#4D5663"
          },
          "text": ""
         },
         "zerolinecolor": "#E1E5ED"
        },
        "yaxis2": {
         "anchor": "x2",
         "domain": [
          0.8025,
          1
         ],
         "gridcolor": "#E1E5ED",
         "showgrid": false,
         "tickfont": {
          "color": "#4D5663"
         },
         "title": {
          "font": {
           "color": "#4D5663"
          },
          "text": ""
         },
         "zerolinecolor": "#E1E5ED"
        },
        "yaxis3": {
         "anchor": "x3",
         "domain": [
          0.8025,
          1
         ],
         "gridcolor": "#E1E5ED",
         "showgrid": false,
         "tickfont": {
          "color": "#4D5663"
         },
         "title": {
          "font": {
           "color": "#4D5663"
          },
          "text": ""
         },
         "zerolinecolor": "#E1E5ED"
        },
        "yaxis4": {
         "anchor": "x4",
         "domain": [
          0.8025,
          1
         ],
         "gridcolor": "#E1E5ED",
         "showgrid": false,
         "tickfont": {
          "color": "#4D5663"
         },
         "title": {
          "font": {
           "color": "#4D5663"
          },
          "text": ""
         },
         "zerolinecolor": "#E1E5ED"
        },
        "yaxis5": {
         "anchor": "x5",
         "domain": [
          0.535,
          0.7325
         ],
         "gridcolor": "#E1E5ED",
         "showgrid": false,
         "tickfont": {
          "color": "#4D5663"
         },
         "title": {
          "font": {
           "color": "#4D5663"
          },
          "text": ""
         },
         "zerolinecolor": "#E1E5ED"
        },
        "yaxis6": {
         "anchor": "x6",
         "domain": [
          0.535,
          0.7325
         ],
         "gridcolor": "#E1E5ED",
         "showgrid": false,
         "tickfont": {
          "color": "#4D5663"
         },
         "title": {
          "font": {
           "color": "#4D5663"
          },
          "text": ""
         },
         "zerolinecolor": "#E1E5ED"
        },
        "yaxis7": {
         "anchor": "x7",
         "domain": [
          0.535,
          0.7325
         ],
         "gridcolor": "#E1E5ED",
         "showgrid": false,
         "tickfont": {
          "color": "#4D5663"
         },
         "title": {
          "font": {
           "color": "#4D5663"
          },
          "text": ""
         },
         "zerolinecolor": "#E1E5ED"
        },
        "yaxis8": {
         "anchor": "x8",
         "domain": [
          0.535,
          0.7325
         ],
         "gridcolor": "#E1E5ED",
         "showgrid": false,
         "tickfont": {
          "color": "#4D5663"
         },
         "title": {
          "font": {
           "color": "#4D5663"
          },
          "text": ""
         },
         "zerolinecolor": "#E1E5ED"
        },
        "yaxis9": {
         "anchor": "x9",
         "domain": [
          0.2675,
          0.465
         ],
         "gridcolor": "#E1E5ED",
         "showgrid": false,
         "tickfont": {
          "color": "#4D5663"
         },
         "title": {
          "font": {
           "color": "#4D5663"
          },
          "text": ""
         },
         "zerolinecolor": "#E1E5ED"
        }
       }
      },
      "text/html": [
       "<div>                            <div id=\"3cf8e4d1-a821-4143-9d68-ec743f5ed36f\" class=\"plotly-graph-div\" style=\"height:525px; width:100%;\"></div>            <script type=\"text/javascript\">                require([\"plotly\"], function(Plotly) {                    window.PLOTLYENV=window.PLOTLYENV || {};\n",
       "                    window.PLOTLYENV.BASE_URL='https://plot.ly';                                    if (document.getElementById(\"3cf8e4d1-a821-4143-9d68-ec743f5ed36f\")) {                    Plotly.newPlot(                        \"3cf8e4d1-a821-4143-9d68-ec743f5ed36f\",                        [{\"histfunc\":\"count\",\"histnorm\":\"\",\"marker\":{\"color\":\"rgba(255, 153, 51, 1.0)\",\"line\":{\"color\":\"#4D5663\",\"width\":1.3}},\"name\":\"A\",\"nbinsx\":10,\"opacity\":0.8,\"orientation\":\"v\",\"type\":\"histogram\",\"x\":[-0.3603101022368317,-1.4932067099630373,0.7401114483929926,1.5876799119575666,-0.5882553778090175,-0.19328619251142493,-1.1483331165246522,0.3346583368373109,-1.353736298933149,0.16244749177332804,0.4107766850650031,-0.1019513767017405,-0.55044118145215,1.4552814654316812,0.7102307470463595,0.2042809643735204,-1.3141840287757471,0.9397974293810624,1.4622082850861817,0.004581087125822542,1.1872560720964547,-0.06939465386530655,0.34555569871453634,0.47627576924484,0.11665148042293134,0.22866331638806298,-0.29839556035322234,-2.359488044458736,1.5194122054394072,1.4583479497699154,-0.46185920982978745,0.0034936982540661877,0.036773686882005295,-0.4054567731595773,-1.198527786346277,0.6035952075449362,-0.12056204746885117,-0.08696956062189974,-0.30260921526610346,-1.379181324098899,-0.7575510045383668,-1.1669069387928175,0.42251770640713326,-0.39442991537684646,0.8968649696810801,1.000185756835219,1.225290849161005,-0.5684875907200435,-0.9732008970869809,-0.13495915879243361,-0.7444246126382412,-0.08707835112761256,0.8798796323503689,0.7060197101561982,-0.04243007752957983,-1.2601728989214394,-0.944969736816905,0.42698695657750374,-1.9294248752331329,1.0336411672109236,-1.7549866151466353,0.2286082492666186,-1.6149892789862796,0.45981906285790236,-1.4103986669031026,0.9635927411240099,-0.03860187917494151,-1.6626456582328502,2.187540504498553,-0.7097028844079241,-2.2801230185416337,-1.6130622349451873,-0.42600445367120715,1.1394401765294633,-0.3613245728493242,-1.2760968160051436,-0.19054613667361206,-0.5608507458210631,-1.0706260872017523,0.8319065039536502,1.1586586008561413,-0.32577688866384846,-1.120167682648072,-0.8367561889192894,1.1501005753742084,1.1780914040975914,-2.1832722386363814,-0.8275274873462319,0.6478121324458215,1.1681321398775844,0.4718333199251554,1.1460239242801087,-0.7820887448110919,1.556158084660845,-1.6580547553017961,1.268655088327418,0.05952229145177814,-1.5759100408069073,-0.5736314310222357,-0.5229811365201296],\"xaxis\":\"x\",\"yaxis\":\"y\"},{\"line\":{\"color\":\"rgba(128, 128, 128, 1.0)\",\"dash\":\"solid\",\"shape\":\"linear\",\"width\":1.3},\"marker\":{\"size\":2,\"symbol\":\"circle\"},\"mode\":\"markers\",\"name\":\"A\",\"text\":\"\",\"type\":\"scatter\",\"x\":[0.43857065498127923,0.2921972188658163,0.5269976435150321,0.3456298172824727,-0.17265962141318386,1.5214063113948753,0.21887156209224995,-0.9169151805499315,0.897046790028798,-0.44166817990327406,-0.4905537825729059,0.3393359972150877,-0.13258206022710767,-0.17440426007304868,-0.11436202173227045,1.3765722633554949,-1.363010519812039,1.3652219891550936,-1.041925534006676,0.4030559772477593,0.43147627576451036,1.1244929202098919,0.01284568975710407,-1.7329434635161785,0.34833148705841827,-0.08746755785800744,-0.6181108160972224,1.1033028653163843,0.4471900952784845,1.2369465803935622,0.8148534762160029,1.1024391577961616,-0.6072245388300551,0.16614874269076368,-0.17630537750694994,-0.4874814902562876,0.39146192099755295,0.47440239748577484,1.1108766530426502,0.9709270617422173,0.7094663736011866,0.5789503555856831,-0.29097984660730236,-1.074516099870212,-1.0179962198314423,0.4505070491292211,-0.0987560341762823,-0.3910764524815764,0.20181801446305067,0.9838957226496257,-0.9558160896945229,0.6394471676960702,-0.9552240638281172,-1.1106385648831525,0.393103490534785,0.09981593966862132,0.9439109322465946,0.5682537414314321,-1.201286951986347,0.2897167154660576,-0.6174219282112287,0.8911198651687253,0.6279124615290884,-0.5925009181791696,0.1561814860849528,1.2231838467346279,-0.15737218559812,-1.5474746664860417,0.24730224502486184,-0.6391894769475629,0.7352842406118774,-0.47704956402309234,-0.8582970312013011,-0.3586769108750361,0.8133099841261496,2.0430668916662293,-1.5997064464522288,-0.08913250267434249,-0.8019159391008681,-0.14004361811661117,1.3869118318293119,-3.0081095236739985,-2.6680211196509527,-0.5303358494927747,0.12978698353110324,-0.7636361580880751,0.2908557441422079,-0.295146448189477,-0.3856098063164494,0.5831054907534179,-0.2755588866036854,-1.2385546690415512,0.1378391604588889,-0.5080325904231946,-0.39089986743324556,-1.2611800034901748,-0.7038431183077906,-0.9359997462534155,-1.5480435915792188,-1.7643199576087762],\"xaxis\":\"x2\",\"y\":[-0.3603101022368317,-1.4932067099630373,0.7401114483929926,1.5876799119575666,-0.5882553778090175,-0.19328619251142493,-1.1483331165246522,0.3346583368373109,-1.353736298933149,0.16244749177332804,0.4107766850650031,-0.1019513767017405,-0.55044118145215,1.4552814654316812,0.7102307470463595,0.2042809643735204,-1.3141840287757471,0.9397974293810624,1.4622082850861817,0.004581087125822542,1.1872560720964547,-0.06939465386530655,0.34555569871453634,0.47627576924484,0.11665148042293134,0.22866331638806298,-0.29839556035322234,-2.359488044458736,1.5194122054394072,1.4583479497699154,-0.46185920982978745,0.0034936982540661877,0.036773686882005295,-0.4054567731595773,-1.198527786346277,0.6035952075449362,-0.12056204746885117,-0.08696956062189974,-0.30260921526610346,-1.379181324098899,-0.7575510045383668,-1.1669069387928175,0.42251770640713326,-0.39442991537684646,0.8968649696810801,1.000185756835219,1.225290849161005,-0.5684875907200435,-0.9732008970869809,-0.13495915879243361,-0.7444246126382412,-0.08707835112761256,0.8798796323503689,0.7060197101561982,-0.04243007752957983,-1.2601728989214394,-0.944969736816905,0.42698695657750374,-1.9294248752331329,1.0336411672109236,-1.7549866151466353,0.2286082492666186,-1.6149892789862796,0.45981906285790236,-1.4103986669031026,0.9635927411240099,-0.03860187917494151,-1.6626456582328502,2.187540504498553,-0.7097028844079241,-2.2801230185416337,-1.6130622349451873,-0.42600445367120715,1.1394401765294633,-0.3613245728493242,-1.2760968160051436,-0.19054613667361206,-0.5608507458210631,-1.0706260872017523,0.8319065039536502,1.1586586008561413,-0.32577688866384846,-1.120167682648072,-0.8367561889192894,1.1501005753742084,1.1780914040975914,-2.1832722386363814,-0.8275274873462319,0.6478121324458215,1.1681321398775844,0.4718333199251554,1.1460239242801087,-0.7820887448110919,1.556158084660845,-1.6580547553017961,1.268655088327418,0.05952229145177814,-1.5759100408069073,-0.5736314310222357,-0.5229811365201296],\"yaxis\":\"y2\"},{\"line\":{\"color\":\"rgba(128, 128, 128, 1.0)\",\"dash\":\"solid\",\"shape\":\"linear\",\"width\":1.3},\"marker\":{\"size\":2,\"symbol\":\"circle\"},\"mode\":\"markers\",\"name\":\"A\",\"text\":\"\",\"type\":\"scatter\",\"x\":[-0.33304407935687297,0.4196480497928561,-1.0128407265795851,0.3834382551550639,-0.22051146973657765,1.2637080409428743,-0.3356546915580256,0.3299473999252595,-0.4927836095423988,0.676365691426167,-0.9540710140336576,1.5677157815516565,1.57803156462598,2.843575341172098,-1.5668013569275019,0.6501896043652855,0.1953136862590582,-0.15982872072127519,1.1881735273199179,-1.1123597654005102,0.31057427517424446,0.6858782640283084,1.5079375265602655,0.8476644826686831,-0.8530209380635657,-0.3570344501316517,0.3906179196994124,0.9159884708277022,-2.0031511144711964,-0.4697245159996884,1.5228230778093375,0.0689225827049908,0.8174298922219405,1.4223047744337014,1.758761790919159,-0.5044357034818677,-0.18286757167954842,-1.099218775044286,0.4895024879162726,-0.3368977802289586,-1.2609291962144602,1.3691913234433875,-1.0870692753036488,1.9913570478602178,-0.6524310062882994,-0.8042847683952612,-0.18297511813568068,0.6101716474685731,-1.076717593416154,-1.0253632413982823,1.3369529745232924,-1.7699044806435573,-0.6264108759527902,-0.5676555030227693,-0.25334572590646204,1.8275003149947189,0.16799628500316302,-0.12509276188550403,0.4583972693777563,-2.071881794074191,0.15131752446529795,1.025645687887124,-1.5457478500698516,0.5612578692014258,0.6891279357590095,-1.7216079830986206,-0.42483538129673476,-0.05640247313958615,-1.3571951381496665,1.3705231324321308,-2.536020325938372,0.30357252032518994,-0.8119117649915281,0.46568393430178984,-1.8053668506899696,0.988117383729646,0.7577646631081413,0.14390128785983738,1.725724147444466,2.1560186716117156,0.5787444953193548,1.5549832669292794,-1.494619446402623,-0.6309125827349641,-0.44162862605770786,0.5914825617692004,0.1282336376605584,-0.5616825304763499,2.5589848887591136,1.099922717554243,-0.6738756847649492,-1.4599028077913867,-0.33055771556131214,-0.9061242626000299,0.7788209404021356,-1.3739973089010387,1.935849500355021,-0.43067333463332313,-0.46124873094628116,-0.43802587757845834],\"xaxis\":\"x3\",\"y\":[-0.3603101022368317,-1.4932067099630373,0.7401114483929926,1.5876799119575666,-0.5882553778090175,-0.19328619251142493,-1.1483331165246522,0.3346583368373109,-1.353736298933149,0.16244749177332804,0.4107766850650031,-0.1019513767017405,-0.55044118145215,1.4552814654316812,0.7102307470463595,0.2042809643735204,-1.3141840287757471,0.9397974293810624,1.4622082850861817,0.004581087125822542,1.1872560720964547,-0.06939465386530655,0.34555569871453634,0.47627576924484,0.11665148042293134,0.22866331638806298,-0.29839556035322234,-2.359488044458736,1.5194122054394072,1.4583479497699154,-0.46185920982978745,0.0034936982540661877,0.036773686882005295,-0.4054567731595773,-1.198527786346277,0.6035952075449362,-0.12056204746885117,-0.08696956062189974,-0.30260921526610346,-1.379181324098899,-0.7575510045383668,-1.1669069387928175,0.42251770640713326,-0.39442991537684646,0.8968649696810801,1.000185756835219,1.225290849161005,-0.5684875907200435,-0.9732008970869809,-0.13495915879243361,-0.7444246126382412,-0.08707835112761256,0.8798796323503689,0.7060197101561982,-0.04243007752957983,-1.2601728989214394,-0.944969736816905,0.42698695657750374,-1.9294248752331329,1.0336411672109236,-1.7549866151466353,0.2286082492666186,-1.6149892789862796,0.45981906285790236,-1.4103986669031026,0.9635927411240099,-0.03860187917494151,-1.6626456582328502,2.187540504498553,-0.7097028844079241,-2.2801230185416337,-1.6130622349451873,-0.42600445367120715,1.1394401765294633,-0.3613245728493242,-1.2760968160051436,-0.19054613667361206,-0.5608507458210631,-1.0706260872017523,0.8319065039536502,1.1586586008561413,-0.32577688866384846,-1.120167682648072,-0.8367561889192894,1.1501005753742084,1.1780914040975914,-2.1832722386363814,-0.8275274873462319,0.6478121324458215,1.1681321398775844,0.4718333199251554,1.1460239242801087,-0.7820887448110919,1.556158084660845,-1.6580547553017961,1.268655088327418,0.05952229145177814,-1.5759100408069073,-0.5736314310222357,-0.5229811365201296],\"yaxis\":\"y3\"},{\"line\":{\"color\":\"rgba(128, 128, 128, 1.0)\",\"dash\":\"solid\",\"shape\":\"linear\",\"width\":1.3},\"marker\":{\"size\":2,\"symbol\":\"circle\"},\"mode\":\"markers\",\"name\":\"A\",\"text\":\"\",\"type\":\"scatter\",\"x\":[0.44514927902206924,-0.4932796464433643,0.49004951231797034,0.9893702535816634,-0.3695510433765291,1.3073709571524497,-0.20397647509500466,0.9257993020287427,-1.555530442916235,1.0165069323800255,0.36882666878270787,-0.5000287722940971,-0.571415472198531,-0.4891197396518819,-0.09574011339114545,0.4150494653733849,-2.352927571154122,-2.000491316858666,1.2569298384299536,-0.2348889667088603,-0.23579483778080154,-0.7110423729873975,0.8461959867871499,-0.9478531208598431,-0.9105000307076286,0.5103896296782777,-0.36425916193338354,-0.4668898620879838,-0.3694305635936844,-0.07576080216397955,-0.010066937282491953,-1.4309251194300914,-1.1414763333497955,0.5756311607826187,-0.17481915928555952,-0.02311701740580824,-0.6343100617205631,-1.612507757767517,1.1708141165298458,-0.45623817375731646,0.9283694853459812,-0.41076757301040034,-0.23899973661572035,0.9472078095862808,-0.7435332911928643,1.1418564370527604,0.9209724820910382,-0.9097174353194862,-1.6652410148483707,-0.1593311316680365,1.7101480615179498,1.0890536615233795,0.5927881396371886,1.042764922739655,-1.1266567950324227,-1.6288853516330672,0.6369307931518935,1.3128923686572516,-1.0520711699898084,-1.1712015748579032,-1.3686628461617183,-0.13955144009682297,2.2085222175655246,0.8115303005297543,-0.7415545573402113,-0.6468602158556795,-0.09656870583882846,-0.22916502740326786,1.9473398160278808,1.1689978067611757,-1.3063608130632387,-0.14069119585770404,-0.29674570761239183,-0.23564085984490005,1.1324844315536782,-0.9018348771332421,-0.18054103901337937,0.6367796882986028,-0.32603613410308896,0.9936403795486872,-0.4132087009186094,0.5908801944612876,-0.7361669902343383,0.7500369440953866,-0.22764454955526914,0.5783363724164028,1.3430340279492383,0.22316537570913333,-0.2686696242333291,-1.9370867804686573,-0.748693992415597,1.1561540180085867,-1.8938816518035753,-0.08731504338881442,-1.5026348349145464,0.9264297372131799,0.22610468007977882,-0.07072214923274342,0.6913298962666558,-1.6513938223947522],\"xaxis\":\"x4\",\"y\":[-0.3603101022368317,-1.4932067099630373,0.7401114483929926,1.5876799119575666,-0.5882553778090175,-0.19328619251142493,-1.1483331165246522,0.3346583368373109,-1.353736298933149,0.16244749177332804,0.4107766850650031,-0.1019513767017405,-0.55044118145215,1.4552814654316812,0.7102307470463595,0.2042809643735204,-1.3141840287757471,0.9397974293810624,1.4622082850861817,0.004581087125822542,1.1872560720964547,-0.06939465386530655,0.34555569871453634,0.47627576924484,0.11665148042293134,0.22866331638806298,-0.29839556035322234,-2.359488044458736,1.5194122054394072,1.4583479497699154,-0.46185920982978745,0.0034936982540661877,0.036773686882005295,-0.4054567731595773,-1.198527786346277,0.6035952075449362,-0.12056204746885117,-0.08696956062189974,-0.30260921526610346,-1.379181324098899,-0.7575510045383668,-1.1669069387928175,0.42251770640713326,-0.39442991537684646,0.8968649696810801,1.000185756835219,1.225290849161005,-0.5684875907200435,-0.9732008970869809,-0.13495915879243361,-0.7444246126382412,-0.08707835112761256,0.8798796323503689,0.7060197101561982,-0.04243007752957983,-1.2601728989214394,-0.944969736816905,0.42698695657750374,-1.9294248752331329,1.0336411672109236,-1.7549866151466353,0.2286082492666186,-1.6149892789862796,0.45981906285790236,-1.4103986669031026,0.9635927411240099,-0.03860187917494151,-1.6626456582328502,2.187540504498553,-0.7097028844079241,-2.2801230185416337,-1.6130622349451873,-0.42600445367120715,1.1394401765294633,-0.3613245728493242,-1.2760968160051436,-0.19054613667361206,-0.5608507458210631,-1.0706260872017523,0.8319065039536502,1.1586586008561413,-0.32577688866384846,-1.120167682648072,-0.8367561889192894,1.1501005753742084,1.1780914040975914,-2.1832722386363814,-0.8275274873462319,0.6478121324458215,1.1681321398775844,0.4718333199251554,1.1460239242801087,-0.7820887448110919,1.556158084660845,-1.6580547553017961,1.268655088327418,0.05952229145177814,-1.5759100408069073,-0.5736314310222357,-0.5229811365201296],\"yaxis\":\"y4\"},{\"line\":{\"color\":\"rgba(128, 128, 128, 1.0)\",\"dash\":\"solid\",\"shape\":\"linear\",\"width\":1.3},\"marker\":{\"size\":2,\"symbol\":\"circle\"},\"mode\":\"markers\",\"name\":\"B\",\"text\":\"\",\"type\":\"scatter\",\"x\":[-0.3603101022368317,-1.4932067099630373,0.7401114483929926,1.5876799119575666,-0.5882553778090175,-0.19328619251142493,-1.1483331165246522,0.3346583368373109,-1.353736298933149,0.16244749177332804,0.4107766850650031,-0.1019513767017405,-0.55044118145215,1.4552814654316812,0.7102307470463595,0.2042809643735204,-1.3141840287757471,0.9397974293810624,1.4622082850861817,0.004581087125822542,1.1872560720964547,-0.06939465386530655,0.34555569871453634,0.47627576924484,0.11665148042293134,0.22866331638806298,-0.29839556035322234,-2.359488044458736,1.5194122054394072,1.4583479497699154,-0.46185920982978745,0.0034936982540661877,0.036773686882005295,-0.4054567731595773,-1.198527786346277,0.6035952075449362,-0.12056204746885117,-0.08696956062189974,-0.30260921526610346,-1.379181324098899,-0.7575510045383668,-1.1669069387928175,0.42251770640713326,-0.39442991537684646,0.8968649696810801,1.000185756835219,1.225290849161005,-0.5684875907200435,-0.9732008970869809,-0.13495915879243361,-0.7444246126382412,-0.08707835112761256,0.8798796323503689,0.7060197101561982,-0.04243007752957983,-1.2601728989214394,-0.944969736816905,0.42698695657750374,-1.9294248752331329,1.0336411672109236,-1.7549866151466353,0.2286082492666186,-1.6149892789862796,0.45981906285790236,-1.4103986669031026,0.9635927411240099,-0.03860187917494151,-1.6626456582328502,2.187540504498553,-0.7097028844079241,-2.2801230185416337,-1.6130622349451873,-0.42600445367120715,1.1394401765294633,-0.3613245728493242,-1.2760968160051436,-0.19054613667361206,-0.5608507458210631,-1.0706260872017523,0.8319065039536502,1.1586586008561413,-0.32577688866384846,-1.120167682648072,-0.8367561889192894,1.1501005753742084,1.1780914040975914,-2.1832722386363814,-0.8275274873462319,0.6478121324458215,1.1681321398775844,0.4718333199251554,1.1460239242801087,-0.7820887448110919,1.556158084660845,-1.6580547553017961,1.268655088327418,0.05952229145177814,-1.5759100408069073,-0.5736314310222357,-0.5229811365201296],\"xaxis\":\"x5\",\"y\":[0.43857065498127923,0.2921972188658163,0.5269976435150321,0.3456298172824727,-0.17265962141318386,1.5214063113948753,0.21887156209224995,-0.9169151805499315,0.897046790028798,-0.44166817990327406,-0.4905537825729059,0.3393359972150877,-0.13258206022710767,-0.17440426007304868,-0.11436202173227045,1.3765722633554949,-1.363010519812039,1.3652219891550936,-1.041925534006676,0.4030559772477593,0.43147627576451036,1.1244929202098919,0.01284568975710407,-1.7329434635161785,0.34833148705841827,-0.08746755785800744,-0.6181108160972224,1.1033028653163843,0.4471900952784845,1.2369465803935622,0.8148534762160029,1.1024391577961616,-0.6072245388300551,0.16614874269076368,-0.17630537750694994,-0.4874814902562876,0.39146192099755295,0.47440239748577484,1.1108766530426502,0.9709270617422173,0.7094663736011866,0.5789503555856831,-0.29097984660730236,-1.074516099870212,-1.0179962198314423,0.4505070491292211,-0.0987560341762823,-0.3910764524815764,0.20181801446305067,0.9838957226496257,-0.9558160896945229,0.6394471676960702,-0.9552240638281172,-1.1106385648831525,0.393103490534785,0.09981593966862132,0.9439109322465946,0.5682537414314321,-1.201286951986347,0.2897167154660576,-0.6174219282112287,0.8911198651687253,0.6279124615290884,-0.5925009181791696,0.1561814860849528,1.2231838467346279,-0.15737218559812,-1.5474746664860417,0.24730224502486184,-0.6391894769475629,0.7352842406118774,-0.47704956402309234,-0.8582970312013011,-0.3586769108750361,0.8133099841261496,2.0430668916662293,-1.5997064464522288,-0.08913250267434249,-0.8019159391008681,-0.14004361811661117,1.3869118318293119,-3.0081095236739985,-2.6680211196509527,-0.5303358494927747,0.12978698353110324,-0.7636361580880751,0.2908557441422079,-0.295146448189477,-0.3856098063164494,0.5831054907534179,-0.2755588866036854,-1.2385546690415512,0.1378391604588889,-0.5080325904231946,-0.39089986743324556,-1.2611800034901748,-0.7038431183077906,-0.9359997462534155,-1.5480435915792188,-1.7643199576087762],\"yaxis\":\"y5\"},{\"histfunc\":\"count\",\"histnorm\":\"\",\"marker\":{\"color\":\"rgba(55, 128, 191, 1.0)\",\"line\":{\"color\":\"#4D5663\",\"width\":1.3}},\"name\":\"B\",\"nbinsx\":10,\"opacity\":0.8,\"orientation\":\"v\",\"type\":\"histogram\",\"x\":[0.43857065498127923,0.2921972188658163,0.5269976435150321,0.3456298172824727,-0.17265962141318386,1.5214063113948753,0.21887156209224995,-0.9169151805499315,0.897046790028798,-0.44166817990327406,-0.4905537825729059,0.3393359972150877,-0.13258206022710767,-0.17440426007304868,-0.11436202173227045,1.3765722633554949,-1.363010519812039,1.3652219891550936,-1.041925534006676,0.4030559772477593,0.43147627576451036,1.1244929202098919,0.01284568975710407,-1.7329434635161785,0.34833148705841827,-0.08746755785800744,-0.6181108160972224,1.1033028653163843,0.4471900952784845,1.2369465803935622,0.8148534762160029,1.1024391577961616,-0.6072245388300551,0.16614874269076368,-0.17630537750694994,-0.4874814902562876,0.39146192099755295,0.47440239748577484,1.1108766530426502,0.9709270617422173,0.7094663736011866,0.5789503555856831,-0.29097984660730236,-1.074516099870212,-1.0179962198314423,0.4505070491292211,-0.0987560341762823,-0.3910764524815764,0.20181801446305067,0.9838957226496257,-0.9558160896945229,0.6394471676960702,-0.9552240638281172,-1.1106385648831525,0.393103490534785,0.09981593966862132,0.9439109322465946,0.5682537414314321,-1.201286951986347,0.2897167154660576,-0.6174219282112287,0.8911198651687253,0.6279124615290884,-0.5925009181791696,0.1561814860849528,1.2231838467346279,-0.15737218559812,-1.5474746664860417,0.24730224502486184,-0.6391894769475629,0.7352842406118774,-0.47704956402309234,-0.8582970312013011,-0.3586769108750361,0.8133099841261496,2.0430668916662293,-1.5997064464522288,-0.08913250267434249,-0.8019159391008681,-0.14004361811661117,1.3869118318293119,-3.0081095236739985,-2.6680211196509527,-0.5303358494927747,0.12978698353110324,-0.7636361580880751,0.2908557441422079,-0.295146448189477,-0.3856098063164494,0.5831054907534179,-0.2755588866036854,-1.2385546690415512,0.1378391604588889,-0.5080325904231946,-0.39089986743324556,-1.2611800034901748,-0.7038431183077906,-0.9359997462534155,-1.5480435915792188,-1.7643199576087762],\"xaxis\":\"x6\",\"yaxis\":\"y6\"},{\"line\":{\"color\":\"rgba(128, 128, 128, 1.0)\",\"dash\":\"solid\",\"shape\":\"linear\",\"width\":1.3},\"marker\":{\"size\":2,\"symbol\":\"circle\"},\"mode\":\"markers\",\"name\":\"B\",\"text\":\"\",\"type\":\"scatter\",\"x\":[-0.33304407935687297,0.4196480497928561,-1.0128407265795851,0.3834382551550639,-0.22051146973657765,1.2637080409428743,-0.3356546915580256,0.3299473999252595,-0.4927836095423988,0.676365691426167,-0.9540710140336576,1.5677157815516565,1.57803156462598,2.843575341172098,-1.5668013569275019,0.6501896043652855,0.1953136862590582,-0.15982872072127519,1.1881735273199179,-1.1123597654005102,0.31057427517424446,0.6858782640283084,1.5079375265602655,0.8476644826686831,-0.8530209380635657,-0.3570344501316517,0.3906179196994124,0.9159884708277022,-2.0031511144711964,-0.4697245159996884,1.5228230778093375,0.0689225827049908,0.8174298922219405,1.4223047744337014,1.758761790919159,-0.5044357034818677,-0.18286757167954842,-1.099218775044286,0.4895024879162726,-0.3368977802289586,-1.2609291962144602,1.3691913234433875,-1.0870692753036488,1.9913570478602178,-0.6524310062882994,-0.8042847683952612,-0.18297511813568068,0.6101716474685731,-1.076717593416154,-1.0253632413982823,1.3369529745232924,-1.7699044806435573,-0.6264108759527902,-0.5676555030227693,-0.25334572590646204,1.8275003149947189,0.16799628500316302,-0.12509276188550403,0.4583972693777563,-2.071881794074191,0.15131752446529795,1.025645687887124,-1.5457478500698516,0.5612578692014258,0.6891279357590095,-1.7216079830986206,-0.42483538129673476,-0.05640247313958615,-1.3571951381496665,1.3705231324321308,-2.536020325938372,0.30357252032518994,-0.8119117649915281,0.46568393430178984,-1.8053668506899696,0.988117383729646,0.7577646631081413,0.14390128785983738,1.725724147444466,2.1560186716117156,0.5787444953193548,1.5549832669292794,-1.494619446402623,-0.6309125827349641,-0.44162862605770786,0.5914825617692004,0.1282336376605584,-0.5616825304763499,2.5589848887591136,1.099922717554243,-0.6738756847649492,-1.4599028077913867,-0.33055771556131214,-0.9061242626000299,0.7788209404021356,-1.3739973089010387,1.935849500355021,-0.43067333463332313,-0.46124873094628116,-0.43802587757845834],\"xaxis\":\"x7\",\"y\":[0.43857065498127923,0.2921972188658163,0.5269976435150321,0.3456298172824727,-0.17265962141318386,1.5214063113948753,0.21887156209224995,-0.9169151805499315,0.897046790028798,-0.44166817990327406,-0.4905537825729059,0.3393359972150877,-0.13258206022710767,-0.17440426007304868,-0.11436202173227045,1.3765722633554949,-1.363010519812039,1.3652219891550936,-1.041925534006676,0.4030559772477593,0.43147627576451036,1.1244929202098919,0.01284568975710407,-1.7329434635161785,0.34833148705841827,-0.08746755785800744,-0.6181108160972224,1.1033028653163843,0.4471900952784845,1.2369465803935622,0.8148534762160029,1.1024391577961616,-0.6072245388300551,0.16614874269076368,-0.17630537750694994,-0.4874814902562876,0.39146192099755295,0.47440239748577484,1.1108766530426502,0.9709270617422173,0.7094663736011866,0.5789503555856831,-0.29097984660730236,-1.074516099870212,-1.0179962198314423,0.4505070491292211,-0.0987560341762823,-0.3910764524815764,0.20181801446305067,0.9838957226496257,-0.9558160896945229,0.6394471676960702,-0.9552240638281172,-1.1106385648831525,0.393103490534785,0.09981593966862132,0.9439109322465946,0.5682537414314321,-1.201286951986347,0.2897167154660576,-0.6174219282112287,0.8911198651687253,0.6279124615290884,-0.5925009181791696,0.1561814860849528,1.2231838467346279,-0.15737218559812,-1.5474746664860417,0.24730224502486184,-0.6391894769475629,0.7352842406118774,-0.47704956402309234,-0.8582970312013011,-0.3586769108750361,0.8133099841261496,2.0430668916662293,-1.5997064464522288,-0.08913250267434249,-0.8019159391008681,-0.14004361811661117,1.3869118318293119,-3.0081095236739985,-2.6680211196509527,-0.5303358494927747,0.12978698353110324,-0.7636361580880751,0.2908557441422079,-0.295146448189477,-0.3856098063164494,0.5831054907534179,-0.2755588866036854,-1.2385546690415512,0.1378391604588889,-0.5080325904231946,-0.39089986743324556,-1.2611800034901748,-0.7038431183077906,-0.9359997462534155,-1.5480435915792188,-1.7643199576087762],\"yaxis\":\"y7\"},{\"line\":{\"color\":\"rgba(128, 128, 128, 1.0)\",\"dash\":\"solid\",\"shape\":\"linear\",\"width\":1.3},\"marker\":{\"size\":2,\"symbol\":\"circle\"},\"mode\":\"markers\",\"name\":\"B\",\"text\":\"\",\"type\":\"scatter\",\"x\":[0.44514927902206924,-0.4932796464433643,0.49004951231797034,0.9893702535816634,-0.3695510433765291,1.3073709571524497,-0.20397647509500466,0.9257993020287427,-1.555530442916235,1.0165069323800255,0.36882666878270787,-0.5000287722940971,-0.571415472198531,-0.4891197396518819,-0.09574011339114545,0.4150494653733849,-2.352927571154122,-2.000491316858666,1.2569298384299536,-0.2348889667088603,-0.23579483778080154,-0.7110423729873975,0.8461959867871499,-0.9478531208598431,-0.9105000307076286,0.5103896296782777,-0.36425916193338354,-0.4668898620879838,-0.3694305635936844,-0.07576080216397955,-0.010066937282491953,-1.4309251194300914,-1.1414763333497955,0.5756311607826187,-0.17481915928555952,-0.02311701740580824,-0.6343100617205631,-1.612507757767517,1.1708141165298458,-0.45623817375731646,0.9283694853459812,-0.41076757301040034,-0.23899973661572035,0.9472078095862808,-0.7435332911928643,1.1418564370527604,0.9209724820910382,-0.9097174353194862,-1.6652410148483707,-0.1593311316680365,1.7101480615179498,1.0890536615233795,0.5927881396371886,1.042764922739655,-1.1266567950324227,-1.6288853516330672,0.6369307931518935,1.3128923686572516,-1.0520711699898084,-1.1712015748579032,-1.3686628461617183,-0.13955144009682297,2.2085222175655246,0.8115303005297543,-0.7415545573402113,-0.6468602158556795,-0.09656870583882846,-0.22916502740326786,1.9473398160278808,1.1689978067611757,-1.3063608130632387,-0.14069119585770404,-0.29674570761239183,-0.23564085984490005,1.1324844315536782,-0.9018348771332421,-0.18054103901337937,0.6367796882986028,-0.32603613410308896,0.9936403795486872,-0.4132087009186094,0.5908801944612876,-0.7361669902343383,0.7500369440953866,-0.22764454955526914,0.5783363724164028,1.3430340279492383,0.22316537570913333,-0.2686696242333291,-1.9370867804686573,-0.748693992415597,1.1561540180085867,-1.8938816518035753,-0.08731504338881442,-1.5026348349145464,0.9264297372131799,0.22610468007977882,-0.07072214923274342,0.6913298962666558,-1.6513938223947522],\"xaxis\":\"x8\",\"y\":[0.43857065498127923,0.2921972188658163,0.5269976435150321,0.3456298172824727,-0.17265962141318386,1.5214063113948753,0.21887156209224995,-0.9169151805499315,0.897046790028798,-0.44166817990327406,-0.4905537825729059,0.3393359972150877,-0.13258206022710767,-0.17440426007304868,-0.11436202173227045,1.3765722633554949,-1.363010519812039,1.3652219891550936,-1.041925534006676,0.4030559772477593,0.43147627576451036,1.1244929202098919,0.01284568975710407,-1.7329434635161785,0.34833148705841827,-0.08746755785800744,-0.6181108160972224,1.1033028653163843,0.4471900952784845,1.2369465803935622,0.8148534762160029,1.1024391577961616,-0.6072245388300551,0.16614874269076368,-0.17630537750694994,-0.4874814902562876,0.39146192099755295,0.47440239748577484,1.1108766530426502,0.9709270617422173,0.7094663736011866,0.5789503555856831,-0.29097984660730236,-1.074516099870212,-1.0179962198314423,0.4505070491292211,-0.0987560341762823,-0.3910764524815764,0.20181801446305067,0.9838957226496257,-0.9558160896945229,0.6394471676960702,-0.9552240638281172,-1.1106385648831525,0.393103490534785,0.09981593966862132,0.9439109322465946,0.5682537414314321,-1.201286951986347,0.2897167154660576,-0.6174219282112287,0.8911198651687253,0.6279124615290884,-0.5925009181791696,0.1561814860849528,1.2231838467346279,-0.15737218559812,-1.5474746664860417,0.24730224502486184,-0.6391894769475629,0.7352842406118774,-0.47704956402309234,-0.8582970312013011,-0.3586769108750361,0.8133099841261496,2.0430668916662293,-1.5997064464522288,-0.08913250267434249,-0.8019159391008681,-0.14004361811661117,1.3869118318293119,-3.0081095236739985,-2.6680211196509527,-0.5303358494927747,0.12978698353110324,-0.7636361580880751,0.2908557441422079,-0.295146448189477,-0.3856098063164494,0.5831054907534179,-0.2755588866036854,-1.2385546690415512,0.1378391604588889,-0.5080325904231946,-0.39089986743324556,-1.2611800034901748,-0.7038431183077906,-0.9359997462534155,-1.5480435915792188,-1.7643199576087762],\"yaxis\":\"y8\"},{\"line\":{\"color\":\"rgba(128, 128, 128, 1.0)\",\"dash\":\"solid\",\"shape\":\"linear\",\"width\":1.3},\"marker\":{\"size\":2,\"symbol\":\"circle\"},\"mode\":\"markers\",\"name\":\"C\",\"text\":\"\",\"type\":\"scatter\",\"x\":[-0.3603101022368317,-1.4932067099630373,0.7401114483929926,1.5876799119575666,-0.5882553778090175,-0.19328619251142493,-1.1483331165246522,0.3346583368373109,-1.353736298933149,0.16244749177332804,0.4107766850650031,-0.1019513767017405,-0.55044118145215,1.4552814654316812,0.7102307470463595,0.2042809643735204,-1.3141840287757471,0.9397974293810624,1.4622082850861817,0.004581087125822542,1.1872560720964547,-0.06939465386530655,0.34555569871453634,0.47627576924484,0.11665148042293134,0.22866331638806298,-0.29839556035322234,-2.359488044458736,1.5194122054394072,1.4583479497699154,-0.46185920982978745,0.0034936982540661877,0.036773686882005295,-0.4054567731595773,-1.198527786346277,0.6035952075449362,-0.12056204746885117,-0.08696956062189974,-0.30260921526610346,-1.379181324098899,-0.7575510045383668,-1.1669069387928175,0.42251770640713326,-0.39442991537684646,0.8968649696810801,1.000185756835219,1.225290849161005,-0.5684875907200435,-0.9732008970869809,-0.13495915879243361,-0.7444246126382412,-0.08707835112761256,0.8798796323503689,0.7060197101561982,-0.04243007752957983,-1.2601728989214394,-0.944969736816905,0.42698695657750374,-1.9294248752331329,1.0336411672109236,-1.7549866151466353,0.2286082492666186,-1.6149892789862796,0.45981906285790236,-1.4103986669031026,0.9635927411240099,-0.03860187917494151,-1.6626456582328502,2.187540504498553,-0.7097028844079241,-2.2801230185416337,-1.6130622349451873,-0.42600445367120715,1.1394401765294633,-0.3613245728493242,-1.2760968160051436,-0.19054613667361206,-0.5608507458210631,-1.0706260872017523,0.8319065039536502,1.1586586008561413,-0.32577688866384846,-1.120167682648072,-0.8367561889192894,1.1501005753742084,1.1780914040975914,-2.1832722386363814,-0.8275274873462319,0.6478121324458215,1.1681321398775844,0.4718333199251554,1.1460239242801087,-0.7820887448110919,1.556158084660845,-1.6580547553017961,1.268655088327418,0.05952229145177814,-1.5759100408069073,-0.5736314310222357,-0.5229811365201296],\"xaxis\":\"x9\",\"y\":[-0.33304407935687297,0.4196480497928561,-1.0128407265795851,0.3834382551550639,-0.22051146973657765,1.2637080409428743,-0.3356546915580256,0.3299473999252595,-0.4927836095423988,0.676365691426167,-0.9540710140336576,1.5677157815516565,1.57803156462598,2.843575341172098,-1.5668013569275019,0.6501896043652855,0.1953136862590582,-0.15982872072127519,1.1881735273199179,-1.1123597654005102,0.31057427517424446,0.6858782640283084,1.5079375265602655,0.8476644826686831,-0.8530209380635657,-0.3570344501316517,0.3906179196994124,0.9159884708277022,-2.0031511144711964,-0.4697245159996884,1.5228230778093375,0.0689225827049908,0.8174298922219405,1.4223047744337014,1.758761790919159,-0.5044357034818677,-0.18286757167954842,-1.099218775044286,0.4895024879162726,-0.3368977802289586,-1.2609291962144602,1.3691913234433875,-1.0870692753036488,1.9913570478602178,-0.6524310062882994,-0.8042847683952612,-0.18297511813568068,0.6101716474685731,-1.076717593416154,-1.0253632413982823,1.3369529745232924,-1.7699044806435573,-0.6264108759527902,-0.5676555030227693,-0.25334572590646204,1.8275003149947189,0.16799628500316302,-0.12509276188550403,0.4583972693777563,-2.071881794074191,0.15131752446529795,1.025645687887124,-1.5457478500698516,0.5612578692014258,0.6891279357590095,-1.7216079830986206,-0.42483538129673476,-0.05640247313958615,-1.3571951381496665,1.3705231324321308,-2.536020325938372,0.30357252032518994,-0.8119117649915281,0.46568393430178984,-1.8053668506899696,0.988117383729646,0.7577646631081413,0.14390128785983738,1.725724147444466,2.1560186716117156,0.5787444953193548,1.5549832669292794,-1.494619446402623,-0.6309125827349641,-0.44162862605770786,0.5914825617692004,0.1282336376605584,-0.5616825304763499,2.5589848887591136,1.099922717554243,-0.6738756847649492,-1.4599028077913867,-0.33055771556131214,-0.9061242626000299,0.7788209404021356,-1.3739973089010387,1.935849500355021,-0.43067333463332313,-0.46124873094628116,-0.43802587757845834],\"yaxis\":\"y9\"},{\"line\":{\"color\":\"rgba(128, 128, 128, 1.0)\",\"dash\":\"solid\",\"shape\":\"linear\",\"width\":1.3},\"marker\":{\"size\":2,\"symbol\":\"circle\"},\"mode\":\"markers\",\"name\":\"C\",\"text\":\"\",\"type\":\"scatter\",\"x\":[0.43857065498127923,0.2921972188658163,0.5269976435150321,0.3456298172824727,-0.17265962141318386,1.5214063113948753,0.21887156209224995,-0.9169151805499315,0.897046790028798,-0.44166817990327406,-0.4905537825729059,0.3393359972150877,-0.13258206022710767,-0.17440426007304868,-0.11436202173227045,1.3765722633554949,-1.363010519812039,1.3652219891550936,-1.041925534006676,0.4030559772477593,0.43147627576451036,1.1244929202098919,0.01284568975710407,-1.7329434635161785,0.34833148705841827,-0.08746755785800744,-0.6181108160972224,1.1033028653163843,0.4471900952784845,1.2369465803935622,0.8148534762160029,1.1024391577961616,-0.6072245388300551,0.16614874269076368,-0.17630537750694994,-0.4874814902562876,0.39146192099755295,0.47440239748577484,1.1108766530426502,0.9709270617422173,0.7094663736011866,0.5789503555856831,-0.29097984660730236,-1.074516099870212,-1.0179962198314423,0.4505070491292211,-0.0987560341762823,-0.3910764524815764,0.20181801446305067,0.9838957226496257,-0.9558160896945229,0.6394471676960702,-0.9552240638281172,-1.1106385648831525,0.393103490534785,0.09981593966862132,0.9439109322465946,0.5682537414314321,-1.201286951986347,0.2897167154660576,-0.6174219282112287,0.8911198651687253,0.6279124615290884,-0.5925009181791696,0.1561814860849528,1.2231838467346279,-0.15737218559812,-1.5474746664860417,0.24730224502486184,-0.6391894769475629,0.7352842406118774,-0.47704956402309234,-0.8582970312013011,-0.3586769108750361,0.8133099841261496,2.0430668916662293,-1.5997064464522288,-0.08913250267434249,-0.8019159391008681,-0.14004361811661117,1.3869118318293119,-3.0081095236739985,-2.6680211196509527,-0.5303358494927747,0.12978698353110324,-0.7636361580880751,0.2908557441422079,-0.295146448189477,-0.3856098063164494,0.5831054907534179,-0.2755588866036854,-1.2385546690415512,0.1378391604588889,-0.5080325904231946,-0.39089986743324556,-1.2611800034901748,-0.7038431183077906,-0.9359997462534155,-1.5480435915792188,-1.7643199576087762],\"xaxis\":\"x10\",\"y\":[-0.33304407935687297,0.4196480497928561,-1.0128407265795851,0.3834382551550639,-0.22051146973657765,1.2637080409428743,-0.3356546915580256,0.3299473999252595,-0.4927836095423988,0.676365691426167,-0.9540710140336576,1.5677157815516565,1.57803156462598,2.843575341172098,-1.5668013569275019,0.6501896043652855,0.1953136862590582,-0.15982872072127519,1.1881735273199179,-1.1123597654005102,0.31057427517424446,0.6858782640283084,1.5079375265602655,0.8476644826686831,-0.8530209380635657,-0.3570344501316517,0.3906179196994124,0.9159884708277022,-2.0031511144711964,-0.4697245159996884,1.5228230778093375,0.0689225827049908,0.8174298922219405,1.4223047744337014,1.758761790919159,-0.5044357034818677,-0.18286757167954842,-1.099218775044286,0.4895024879162726,-0.3368977802289586,-1.2609291962144602,1.3691913234433875,-1.0870692753036488,1.9913570478602178,-0.6524310062882994,-0.8042847683952612,-0.18297511813568068,0.6101716474685731,-1.076717593416154,-1.0253632413982823,1.3369529745232924,-1.7699044806435573,-0.6264108759527902,-0.5676555030227693,-0.25334572590646204,1.8275003149947189,0.16799628500316302,-0.12509276188550403,0.4583972693777563,-2.071881794074191,0.15131752446529795,1.025645687887124,-1.5457478500698516,0.5612578692014258,0.6891279357590095,-1.7216079830986206,-0.42483538129673476,-0.05640247313958615,-1.3571951381496665,1.3705231324321308,-2.536020325938372,0.30357252032518994,-0.8119117649915281,0.46568393430178984,-1.8053668506899696,0.988117383729646,0.7577646631081413,0.14390128785983738,1.725724147444466,2.1560186716117156,0.5787444953193548,1.5549832669292794,-1.494619446402623,-0.6309125827349641,-0.44162862605770786,0.5914825617692004,0.1282336376605584,-0.5616825304763499,2.5589848887591136,1.099922717554243,-0.6738756847649492,-1.4599028077913867,-0.33055771556131214,-0.9061242626000299,0.7788209404021356,-1.3739973089010387,1.935849500355021,-0.43067333463332313,-0.46124873094628116,-0.43802587757845834],\"yaxis\":\"y10\"},{\"histfunc\":\"count\",\"histnorm\":\"\",\"marker\":{\"color\":\"rgba(50, 171, 96, 1.0)\",\"line\":{\"color\":\"#4D5663\",\"width\":1.3}},\"name\":\"C\",\"nbinsx\":10,\"opacity\":0.8,\"orientation\":\"v\",\"type\":\"histogram\",\"x\":[-0.33304407935687297,0.4196480497928561,-1.0128407265795851,0.3834382551550639,-0.22051146973657765,1.2637080409428743,-0.3356546915580256,0.3299473999252595,-0.4927836095423988,0.676365691426167,-0.9540710140336576,1.5677157815516565,1.57803156462598,2.843575341172098,-1.5668013569275019,0.6501896043652855,0.1953136862590582,-0.15982872072127519,1.1881735273199179,-1.1123597654005102,0.31057427517424446,0.6858782640283084,1.5079375265602655,0.8476644826686831,-0.8530209380635657,-0.3570344501316517,0.3906179196994124,0.9159884708277022,-2.0031511144711964,-0.4697245159996884,1.5228230778093375,0.0689225827049908,0.8174298922219405,1.4223047744337014,1.758761790919159,-0.5044357034818677,-0.18286757167954842,-1.099218775044286,0.4895024879162726,-0.3368977802289586,-1.2609291962144602,1.3691913234433875,-1.0870692753036488,1.9913570478602178,-0.6524310062882994,-0.8042847683952612,-0.18297511813568068,0.6101716474685731,-1.076717593416154,-1.0253632413982823,1.3369529745232924,-1.7699044806435573,-0.6264108759527902,-0.5676555030227693,-0.25334572590646204,1.8275003149947189,0.16799628500316302,-0.12509276188550403,0.4583972693777563,-2.071881794074191,0.15131752446529795,1.025645687887124,-1.5457478500698516,0.5612578692014258,0.6891279357590095,-1.7216079830986206,-0.42483538129673476,-0.05640247313958615,-1.3571951381496665,1.3705231324321308,-2.536020325938372,0.30357252032518994,-0.8119117649915281,0.46568393430178984,-1.8053668506899696,0.988117383729646,0.7577646631081413,0.14390128785983738,1.725724147444466,2.1560186716117156,0.5787444953193548,1.5549832669292794,-1.494619446402623,-0.6309125827349641,-0.44162862605770786,0.5914825617692004,0.1282336376605584,-0.5616825304763499,2.5589848887591136,1.099922717554243,-0.6738756847649492,-1.4599028077913867,-0.33055771556131214,-0.9061242626000299,0.7788209404021356,-1.3739973089010387,1.935849500355021,-0.43067333463332313,-0.46124873094628116,-0.43802587757845834],\"xaxis\":\"x11\",\"yaxis\":\"y11\"},{\"line\":{\"color\":\"rgba(128, 128, 128, 1.0)\",\"dash\":\"solid\",\"shape\":\"linear\",\"width\":1.3},\"marker\":{\"size\":2,\"symbol\":\"circle\"},\"mode\":\"markers\",\"name\":\"C\",\"text\":\"\",\"type\":\"scatter\",\"x\":[0.44514927902206924,-0.4932796464433643,0.49004951231797034,0.9893702535816634,-0.3695510433765291,1.3073709571524497,-0.20397647509500466,0.9257993020287427,-1.555530442916235,1.0165069323800255,0.36882666878270787,-0.5000287722940971,-0.571415472198531,-0.4891197396518819,-0.09574011339114545,0.4150494653733849,-2.352927571154122,-2.000491316858666,1.2569298384299536,-0.2348889667088603,-0.23579483778080154,-0.7110423729873975,0.8461959867871499,-0.9478531208598431,-0.9105000307076286,0.5103896296782777,-0.36425916193338354,-0.4668898620879838,-0.3694305635936844,-0.07576080216397955,-0.010066937282491953,-1.4309251194300914,-1.1414763333497955,0.5756311607826187,-0.17481915928555952,-0.02311701740580824,-0.6343100617205631,-1.612507757767517,1.1708141165298458,-0.45623817375731646,0.9283694853459812,-0.41076757301040034,-0.23899973661572035,0.9472078095862808,-0.7435332911928643,1.1418564370527604,0.9209724820910382,-0.9097174353194862,-1.6652410148483707,-0.1593311316680365,1.7101480615179498,1.0890536615233795,0.5927881396371886,1.042764922739655,-1.1266567950324227,-1.6288853516330672,0.6369307931518935,1.3128923686572516,-1.0520711699898084,-1.1712015748579032,-1.3686628461617183,-0.13955144009682297,2.2085222175655246,0.8115303005297543,-0.7415545573402113,-0.6468602158556795,-0.09656870583882846,-0.22916502740326786,1.9473398160278808,1.1689978067611757,-1.3063608130632387,-0.14069119585770404,-0.29674570761239183,-0.23564085984490005,1.1324844315536782,-0.9018348771332421,-0.18054103901337937,0.6367796882986028,-0.32603613410308896,0.9936403795486872,-0.4132087009186094,0.5908801944612876,-0.7361669902343383,0.7500369440953866,-0.22764454955526914,0.5783363724164028,1.3430340279492383,0.22316537570913333,-0.2686696242333291,-1.9370867804686573,-0.748693992415597,1.1561540180085867,-1.8938816518035753,-0.08731504338881442,-1.5026348349145464,0.9264297372131799,0.22610468007977882,-0.07072214923274342,0.6913298962666558,-1.6513938223947522],\"xaxis\":\"x12\",\"y\":[-0.33304407935687297,0.4196480497928561,-1.0128407265795851,0.3834382551550639,-0.22051146973657765,1.2637080409428743,-0.3356546915580256,0.3299473999252595,-0.4927836095423988,0.676365691426167,-0.9540710140336576,1.5677157815516565,1.57803156462598,2.843575341172098,-1.5668013569275019,0.6501896043652855,0.1953136862590582,-0.15982872072127519,1.1881735273199179,-1.1123597654005102,0.31057427517424446,0.6858782640283084,1.5079375265602655,0.8476644826686831,-0.8530209380635657,-0.3570344501316517,0.3906179196994124,0.9159884708277022,-2.0031511144711964,-0.4697245159996884,1.5228230778093375,0.0689225827049908,0.8174298922219405,1.4223047744337014,1.758761790919159,-0.5044357034818677,-0.18286757167954842,-1.099218775044286,0.4895024879162726,-0.3368977802289586,-1.2609291962144602,1.3691913234433875,-1.0870692753036488,1.9913570478602178,-0.6524310062882994,-0.8042847683952612,-0.18297511813568068,0.6101716474685731,-1.076717593416154,-1.0253632413982823,1.3369529745232924,-1.7699044806435573,-0.6264108759527902,-0.5676555030227693,-0.25334572590646204,1.8275003149947189,0.16799628500316302,-0.12509276188550403,0.4583972693777563,-2.071881794074191,0.15131752446529795,1.025645687887124,-1.5457478500698516,0.5612578692014258,0.6891279357590095,-1.7216079830986206,-0.42483538129673476,-0.05640247313958615,-1.3571951381496665,1.3705231324321308,-2.536020325938372,0.30357252032518994,-0.8119117649915281,0.46568393430178984,-1.8053668506899696,0.988117383729646,0.7577646631081413,0.14390128785983738,1.725724147444466,2.1560186716117156,0.5787444953193548,1.5549832669292794,-1.494619446402623,-0.6309125827349641,-0.44162862605770786,0.5914825617692004,0.1282336376605584,-0.5616825304763499,2.5589848887591136,1.099922717554243,-0.6738756847649492,-1.4599028077913867,-0.33055771556131214,-0.9061242626000299,0.7788209404021356,-1.3739973089010387,1.935849500355021,-0.43067333463332313,-0.46124873094628116,-0.43802587757845834],\"yaxis\":\"y12\"},{\"line\":{\"color\":\"rgba(128, 128, 128, 1.0)\",\"dash\":\"solid\",\"shape\":\"linear\",\"width\":1.3},\"marker\":{\"size\":2,\"symbol\":\"circle\"},\"mode\":\"markers\",\"name\":\"D\",\"text\":\"\",\"type\":\"scatter\",\"x\":[-0.3603101022368317,-1.4932067099630373,0.7401114483929926,1.5876799119575666,-0.5882553778090175,-0.19328619251142493,-1.1483331165246522,0.3346583368373109,-1.353736298933149,0.16244749177332804,0.4107766850650031,-0.1019513767017405,-0.55044118145215,1.4552814654316812,0.7102307470463595,0.2042809643735204,-1.3141840287757471,0.9397974293810624,1.4622082850861817,0.004581087125822542,1.1872560720964547,-0.06939465386530655,0.34555569871453634,0.47627576924484,0.11665148042293134,0.22866331638806298,-0.29839556035322234,-2.359488044458736,1.5194122054394072,1.4583479497699154,-0.46185920982978745,0.0034936982540661877,0.036773686882005295,-0.4054567731595773,-1.198527786346277,0.6035952075449362,-0.12056204746885117,-0.08696956062189974,-0.30260921526610346,-1.379181324098899,-0.7575510045383668,-1.1669069387928175,0.42251770640713326,-0.39442991537684646,0.8968649696810801,1.000185756835219,1.225290849161005,-0.5684875907200435,-0.9732008970869809,-0.13495915879243361,-0.7444246126382412,-0.08707835112761256,0.8798796323503689,0.7060197101561982,-0.04243007752957983,-1.2601728989214394,-0.944969736816905,0.42698695657750374,-1.9294248752331329,1.0336411672109236,-1.7549866151466353,0.2286082492666186,-1.6149892789862796,0.45981906285790236,-1.4103986669031026,0.9635927411240099,-0.03860187917494151,-1.6626456582328502,2.187540504498553,-0.7097028844079241,-2.2801230185416337,-1.6130622349451873,-0.42600445367120715,1.1394401765294633,-0.3613245728493242,-1.2760968160051436,-0.19054613667361206,-0.5608507458210631,-1.0706260872017523,0.8319065039536502,1.1586586008561413,-0.32577688866384846,-1.120167682648072,-0.8367561889192894,1.1501005753742084,1.1780914040975914,-2.1832722386363814,-0.8275274873462319,0.6478121324458215,1.1681321398775844,0.4718333199251554,1.1460239242801087,-0.7820887448110919,1.556158084660845,-1.6580547553017961,1.268655088327418,0.05952229145177814,-1.5759100408069073,-0.5736314310222357,-0.5229811365201296],\"xaxis\":\"x13\",\"y\":[0.44514927902206924,-0.4932796464433643,0.49004951231797034,0.9893702535816634,-0.3695510433765291,1.3073709571524497,-0.20397647509500466,0.9257993020287427,-1.555530442916235,1.0165069323800255,0.36882666878270787,-0.5000287722940971,-0.571415472198531,-0.4891197396518819,-0.09574011339114545,0.4150494653733849,-2.352927571154122,-2.000491316858666,1.2569298384299536,-0.2348889667088603,-0.23579483778080154,-0.7110423729873975,0.8461959867871499,-0.9478531208598431,-0.9105000307076286,0.5103896296782777,-0.36425916193338354,-0.4668898620879838,-0.3694305635936844,-0.07576080216397955,-0.010066937282491953,-1.4309251194300914,-1.1414763333497955,0.5756311607826187,-0.17481915928555952,-0.02311701740580824,-0.6343100617205631,-1.612507757767517,1.1708141165298458,-0.45623817375731646,0.9283694853459812,-0.41076757301040034,-0.23899973661572035,0.9472078095862808,-0.7435332911928643,1.1418564370527604,0.9209724820910382,-0.9097174353194862,-1.6652410148483707,-0.1593311316680365,1.7101480615179498,1.0890536615233795,0.5927881396371886,1.042764922739655,-1.1266567950324227,-1.6288853516330672,0.6369307931518935,1.3128923686572516,-1.0520711699898084,-1.1712015748579032,-1.3686628461617183,-0.13955144009682297,2.2085222175655246,0.8115303005297543,-0.7415545573402113,-0.6468602158556795,-0.09656870583882846,-0.22916502740326786,1.9473398160278808,1.1689978067611757,-1.3063608130632387,-0.14069119585770404,-0.29674570761239183,-0.23564085984490005,1.1324844315536782,-0.9018348771332421,-0.18054103901337937,0.6367796882986028,-0.32603613410308896,0.9936403795486872,-0.4132087009186094,0.5908801944612876,-0.7361669902343383,0.7500369440953866,-0.22764454955526914,0.5783363724164028,1.3430340279492383,0.22316537570913333,-0.2686696242333291,-1.9370867804686573,-0.748693992415597,1.1561540180085867,-1.8938816518035753,-0.08731504338881442,-1.5026348349145464,0.9264297372131799,0.22610468007977882,-0.07072214923274342,0.6913298962666558,-1.6513938223947522],\"yaxis\":\"y13\"},{\"line\":{\"color\":\"rgba(128, 128, 128, 1.0)\",\"dash\":\"solid\",\"shape\":\"linear\",\"width\":1.3},\"marker\":{\"size\":2,\"symbol\":\"circle\"},\"mode\":\"markers\",\"name\":\"D\",\"text\":\"\",\"type\":\"scatter\",\"x\":[0.43857065498127923,0.2921972188658163,0.5269976435150321,0.3456298172824727,-0.17265962141318386,1.5214063113948753,0.21887156209224995,-0.9169151805499315,0.897046790028798,-0.44166817990327406,-0.4905537825729059,0.3393359972150877,-0.13258206022710767,-0.17440426007304868,-0.11436202173227045,1.3765722633554949,-1.363010519812039,1.3652219891550936,-1.041925534006676,0.4030559772477593,0.43147627576451036,1.1244929202098919,0.01284568975710407,-1.7329434635161785,0.34833148705841827,-0.08746755785800744,-0.6181108160972224,1.1033028653163843,0.4471900952784845,1.2369465803935622,0.8148534762160029,1.1024391577961616,-0.6072245388300551,0.16614874269076368,-0.17630537750694994,-0.4874814902562876,0.39146192099755295,0.47440239748577484,1.1108766530426502,0.9709270617422173,0.7094663736011866,0.5789503555856831,-0.29097984660730236,-1.074516099870212,-1.0179962198314423,0.4505070491292211,-0.0987560341762823,-0.3910764524815764,0.20181801446305067,0.9838957226496257,-0.9558160896945229,0.6394471676960702,-0.9552240638281172,-1.1106385648831525,0.393103490534785,0.09981593966862132,0.9439109322465946,0.5682537414314321,-1.201286951986347,0.2897167154660576,-0.6174219282112287,0.8911198651687253,0.6279124615290884,-0.5925009181791696,0.1561814860849528,1.2231838467346279,-0.15737218559812,-1.5474746664860417,0.24730224502486184,-0.6391894769475629,0.7352842406118774,-0.47704956402309234,-0.8582970312013011,-0.3586769108750361,0.8133099841261496,2.0430668916662293,-1.5997064464522288,-0.08913250267434249,-0.8019159391008681,-0.14004361811661117,1.3869118318293119,-3.0081095236739985,-2.6680211196509527,-0.5303358494927747,0.12978698353110324,-0.7636361580880751,0.2908557441422079,-0.295146448189477,-0.3856098063164494,0.5831054907534179,-0.2755588866036854,-1.2385546690415512,0.1378391604588889,-0.5080325904231946,-0.39089986743324556,-1.2611800034901748,-0.7038431183077906,-0.9359997462534155,-1.5480435915792188,-1.7643199576087762],\"xaxis\":\"x14\",\"y\":[0.44514927902206924,-0.4932796464433643,0.49004951231797034,0.9893702535816634,-0.3695510433765291,1.3073709571524497,-0.20397647509500466,0.9257993020287427,-1.555530442916235,1.0165069323800255,0.36882666878270787,-0.5000287722940971,-0.571415472198531,-0.4891197396518819,-0.09574011339114545,0.4150494653733849,-2.352927571154122,-2.000491316858666,1.2569298384299536,-0.2348889667088603,-0.23579483778080154,-0.7110423729873975,0.8461959867871499,-0.9478531208598431,-0.9105000307076286,0.5103896296782777,-0.36425916193338354,-0.4668898620879838,-0.3694305635936844,-0.07576080216397955,-0.010066937282491953,-1.4309251194300914,-1.1414763333497955,0.5756311607826187,-0.17481915928555952,-0.02311701740580824,-0.6343100617205631,-1.612507757767517,1.1708141165298458,-0.45623817375731646,0.9283694853459812,-0.41076757301040034,-0.23899973661572035,0.9472078095862808,-0.7435332911928643,1.1418564370527604,0.9209724820910382,-0.9097174353194862,-1.6652410148483707,-0.1593311316680365,1.7101480615179498,1.0890536615233795,0.5927881396371886,1.042764922739655,-1.1266567950324227,-1.6288853516330672,0.6369307931518935,1.3128923686572516,-1.0520711699898084,-1.1712015748579032,-1.3686628461617183,-0.13955144009682297,2.2085222175655246,0.8115303005297543,-0.7415545573402113,-0.6468602158556795,-0.09656870583882846,-0.22916502740326786,1.9473398160278808,1.1689978067611757,-1.3063608130632387,-0.14069119585770404,-0.29674570761239183,-0.23564085984490005,1.1324844315536782,-0.9018348771332421,-0.18054103901337937,0.6367796882986028,-0.32603613410308896,0.9936403795486872,-0.4132087009186094,0.5908801944612876,-0.7361669902343383,0.7500369440953866,-0.22764454955526914,0.5783363724164028,1.3430340279492383,0.22316537570913333,-0.2686696242333291,-1.9370867804686573,-0.748693992415597,1.1561540180085867,-1.8938816518035753,-0.08731504338881442,-1.5026348349145464,0.9264297372131799,0.22610468007977882,-0.07072214923274342,0.6913298962666558,-1.6513938223947522],\"yaxis\":\"y14\"},{\"line\":{\"color\":\"rgba(128, 128, 128, 1.0)\",\"dash\":\"solid\",\"shape\":\"linear\",\"width\":1.3},\"marker\":{\"size\":2,\"symbol\":\"circle\"},\"mode\":\"markers\",\"name\":\"D\",\"text\":\"\",\"type\":\"scatter\",\"x\":[-0.33304407935687297,0.4196480497928561,-1.0128407265795851,0.3834382551550639,-0.22051146973657765,1.2637080409428743,-0.3356546915580256,0.3299473999252595,-0.4927836095423988,0.676365691426167,-0.9540710140336576,1.5677157815516565,1.57803156462598,2.843575341172098,-1.5668013569275019,0.6501896043652855,0.1953136862590582,-0.15982872072127519,1.1881735273199179,-1.1123597654005102,0.31057427517424446,0.6858782640283084,1.5079375265602655,0.8476644826686831,-0.8530209380635657,-0.3570344501316517,0.3906179196994124,0.9159884708277022,-2.0031511144711964,-0.4697245159996884,1.5228230778093375,0.0689225827049908,0.8174298922219405,1.4223047744337014,1.758761790919159,-0.5044357034818677,-0.18286757167954842,-1.099218775044286,0.4895024879162726,-0.3368977802289586,-1.2609291962144602,1.3691913234433875,-1.0870692753036488,1.9913570478602178,-0.6524310062882994,-0.8042847683952612,-0.18297511813568068,0.6101716474685731,-1.076717593416154,-1.0253632413982823,1.3369529745232924,-1.7699044806435573,-0.6264108759527902,-0.5676555030227693,-0.25334572590646204,1.8275003149947189,0.16799628500316302,-0.12509276188550403,0.4583972693777563,-2.071881794074191,0.15131752446529795,1.025645687887124,-1.5457478500698516,0.5612578692014258,0.6891279357590095,-1.7216079830986206,-0.42483538129673476,-0.05640247313958615,-1.3571951381496665,1.3705231324321308,-2.536020325938372,0.30357252032518994,-0.8119117649915281,0.46568393430178984,-1.8053668506899696,0.988117383729646,0.7577646631081413,0.14390128785983738,1.725724147444466,2.1560186716117156,0.5787444953193548,1.5549832669292794,-1.494619446402623,-0.6309125827349641,-0.44162862605770786,0.5914825617692004,0.1282336376605584,-0.5616825304763499,2.5589848887591136,1.099922717554243,-0.6738756847649492,-1.4599028077913867,-0.33055771556131214,-0.9061242626000299,0.7788209404021356,-1.3739973089010387,1.935849500355021,-0.43067333463332313,-0.46124873094628116,-0.43802587757845834],\"xaxis\":\"x15\",\"y\":[0.44514927902206924,-0.4932796464433643,0.49004951231797034,0.9893702535816634,-0.3695510433765291,1.3073709571524497,-0.20397647509500466,0.9257993020287427,-1.555530442916235,1.0165069323800255,0.36882666878270787,-0.5000287722940971,-0.571415472198531,-0.4891197396518819,-0.09574011339114545,0.4150494653733849,-2.352927571154122,-2.000491316858666,1.2569298384299536,-0.2348889667088603,-0.23579483778080154,-0.7110423729873975,0.8461959867871499,-0.9478531208598431,-0.9105000307076286,0.5103896296782777,-0.36425916193338354,-0.4668898620879838,-0.3694305635936844,-0.07576080216397955,-0.010066937282491953,-1.4309251194300914,-1.1414763333497955,0.5756311607826187,-0.17481915928555952,-0.02311701740580824,-0.6343100617205631,-1.612507757767517,1.1708141165298458,-0.45623817375731646,0.9283694853459812,-0.41076757301040034,-0.23899973661572035,0.9472078095862808,-0.7435332911928643,1.1418564370527604,0.9209724820910382,-0.9097174353194862,-1.6652410148483707,-0.1593311316680365,1.7101480615179498,1.0890536615233795,0.5927881396371886,1.042764922739655,-1.1266567950324227,-1.6288853516330672,0.6369307931518935,1.3128923686572516,-1.0520711699898084,-1.1712015748579032,-1.3686628461617183,-0.13955144009682297,2.2085222175655246,0.8115303005297543,-0.7415545573402113,-0.6468602158556795,-0.09656870583882846,-0.22916502740326786,1.9473398160278808,1.1689978067611757,-1.3063608130632387,-0.14069119585770404,-0.29674570761239183,-0.23564085984490005,1.1324844315536782,-0.9018348771332421,-0.18054103901337937,0.6367796882986028,-0.32603613410308896,0.9936403795486872,-0.4132087009186094,0.5908801944612876,-0.7361669902343383,0.7500369440953866,-0.22764454955526914,0.5783363724164028,1.3430340279492383,0.22316537570913333,-0.2686696242333291,-1.9370867804686573,-0.748693992415597,1.1561540180085867,-1.8938816518035753,-0.08731504338881442,-1.5026348349145464,0.9264297372131799,0.22610468007977882,-0.07072214923274342,0.6913298962666558,-1.6513938223947522],\"yaxis\":\"y15\"},{\"histfunc\":\"count\",\"histnorm\":\"\",\"marker\":{\"color\":\"rgba(128, 0, 128, 1.0)\",\"line\":{\"color\":\"#4D5663\",\"width\":1.3}},\"name\":\"D\",\"nbinsx\":10,\"opacity\":0.8,\"orientation\":\"v\",\"type\":\"histogram\",\"x\":[0.44514927902206924,-0.4932796464433643,0.49004951231797034,0.9893702535816634,-0.3695510433765291,1.3073709571524497,-0.20397647509500466,0.9257993020287427,-1.555530442916235,1.0165069323800255,0.36882666878270787,-0.5000287722940971,-0.571415472198531,-0.4891197396518819,-0.09574011339114545,0.4150494653733849,-2.352927571154122,-2.000491316858666,1.2569298384299536,-0.2348889667088603,-0.23579483778080154,-0.7110423729873975,0.8461959867871499,-0.9478531208598431,-0.9105000307076286,0.5103896296782777,-0.36425916193338354,-0.4668898620879838,-0.3694305635936844,-0.07576080216397955,-0.010066937282491953,-1.4309251194300914,-1.1414763333497955,0.5756311607826187,-0.17481915928555952,-0.02311701740580824,-0.6343100617205631,-1.612507757767517,1.1708141165298458,-0.45623817375731646,0.9283694853459812,-0.41076757301040034,-0.23899973661572035,0.9472078095862808,-0.7435332911928643,1.1418564370527604,0.9209724820910382,-0.9097174353194862,-1.6652410148483707,-0.1593311316680365,1.7101480615179498,1.0890536615233795,0.5927881396371886,1.042764922739655,-1.1266567950324227,-1.6288853516330672,0.6369307931518935,1.3128923686572516,-1.0520711699898084,-1.1712015748579032,-1.3686628461617183,-0.13955144009682297,2.2085222175655246,0.8115303005297543,-0.7415545573402113,-0.6468602158556795,-0.09656870583882846,-0.22916502740326786,1.9473398160278808,1.1689978067611757,-1.3063608130632387,-0.14069119585770404,-0.29674570761239183,-0.23564085984490005,1.1324844315536782,-0.9018348771332421,-0.18054103901337937,0.6367796882986028,-0.32603613410308896,0.9936403795486872,-0.4132087009186094,0.5908801944612876,-0.7361669902343383,0.7500369440953866,-0.22764454955526914,0.5783363724164028,1.3430340279492383,0.22316537570913333,-0.2686696242333291,-1.9370867804686573,-0.748693992415597,1.1561540180085867,-1.8938816518035753,-0.08731504338881442,-1.5026348349145464,0.9264297372131799,0.22610468007977882,-0.07072214923274342,0.6913298962666558,-1.6513938223947522],\"xaxis\":\"x16\",\"yaxis\":\"y16\"}],                        {\"bargap\":0.02,\"legend\":{\"bgcolor\":\"#F5F6F9\",\"font\":{\"color\":\"#4D5663\"}},\"paper_bgcolor\":\"#F5F6F9\",\"plot_bgcolor\":\"#F5F6F9\",\"showlegend\":false,\"template\":{\"data\":{\"bar\":[{\"error_x\":{\"color\":\"#2a3f5f\"},\"error_y\":{\"color\":\"#2a3f5f\"},\"marker\":{\"line\":{\"color\":\"#E5ECF6\",\"width\":0.5},\"pattern\":{\"fillmode\":\"overlay\",\"size\":10,\"solidity\":0.2}},\"type\":\"bar\"}],\"barpolar\":[{\"marker\":{\"line\":{\"color\":\"#E5ECF6\",\"width\":0.5},\"pattern\":{\"fillmode\":\"overlay\",\"size\":10,\"solidity\":0.2}},\"type\":\"barpolar\"}],\"carpet\":[{\"aaxis\":{\"endlinecolor\":\"#2a3f5f\",\"gridcolor\":\"white\",\"linecolor\":\"white\",\"minorgridcolor\":\"white\",\"startlinecolor\":\"#2a3f5f\"},\"baxis\":{\"endlinecolor\":\"#2a3f5f\",\"gridcolor\":\"white\",\"linecolor\":\"white\",\"minorgridcolor\":\"white\",\"startlinecolor\":\"#2a3f5f\"},\"type\":\"carpet\"}],\"choropleth\":[{\"colorbar\":{\"outlinewidth\":0,\"ticks\":\"\"},\"type\":\"choropleth\"}],\"contour\":[{\"colorbar\":{\"outlinewidth\":0,\"ticks\":\"\"},\"colorscale\":[[0.0,\"#0d0887\"],[0.1111111111111111,\"#46039f\"],[0.2222222222222222,\"#7201a8\"],[0.3333333333333333,\"#9c179e\"],[0.4444444444444444,\"#bd3786\"],[0.5555555555555556,\"#d8576b\"],[0.6666666666666666,\"#ed7953\"],[0.7777777777777778,\"#fb9f3a\"],[0.8888888888888888,\"#fdca26\"],[1.0,\"#f0f921\"]],\"type\":\"contour\"}],\"contourcarpet\":[{\"colorbar\":{\"outlinewidth\":0,\"ticks\":\"\"},\"type\":\"contourcarpet\"}],\"heatmap\":[{\"colorbar\":{\"outlinewidth\":0,\"ticks\":\"\"},\"colorscale\":[[0.0,\"#0d0887\"],[0.1111111111111111,\"#46039f\"],[0.2222222222222222,\"#7201a8\"],[0.3333333333333333,\"#9c179e\"],[0.4444444444444444,\"#bd3786\"],[0.5555555555555556,\"#d8576b\"],[0.6666666666666666,\"#ed7953\"],[0.7777777777777778,\"#fb9f3a\"],[0.8888888888888888,\"#fdca26\"],[1.0,\"#f0f921\"]],\"type\":\"heatmap\"}],\"heatmapgl\":[{\"colorbar\":{\"outlinewidth\":0,\"ticks\":\"\"},\"colorscale\":[[0.0,\"#0d0887\"],[0.1111111111111111,\"#46039f\"],[0.2222222222222222,\"#7201a8\"],[0.3333333333333333,\"#9c179e\"],[0.4444444444444444,\"#bd3786\"],[0.5555555555555556,\"#d8576b\"],[0.6666666666666666,\"#ed7953\"],[0.7777777777777778,\"#fb9f3a\"],[0.8888888888888888,\"#fdca26\"],[1.0,\"#f0f921\"]],\"type\":\"heatmapgl\"}],\"histogram\":[{\"marker\":{\"pattern\":{\"fillmode\":\"overlay\",\"size\":10,\"solidity\":0.2}},\"type\":\"histogram\"}],\"histogram2d\":[{\"colorbar\":{\"outlinewidth\":0,\"ticks\":\"\"},\"colorscale\":[[0.0,\"#0d0887\"],[0.1111111111111111,\"#46039f\"],[0.2222222222222222,\"#7201a8\"],[0.3333333333333333,\"#9c179e\"],[0.4444444444444444,\"#bd3786\"],[0.5555555555555556,\"#d8576b\"],[0.6666666666666666,\"#ed7953\"],[0.7777777777777778,\"#fb9f3a\"],[0.8888888888888888,\"#fdca26\"],[1.0,\"#f0f921\"]],\"type\":\"histogram2d\"}],\"histogram2dcontour\":[{\"colorbar\":{\"outlinewidth\":0,\"ticks\":\"\"},\"colorscale\":[[0.0,\"#0d0887\"],[0.1111111111111111,\"#46039f\"],[0.2222222222222222,\"#7201a8\"],[0.3333333333333333,\"#9c179e\"],[0.4444444444444444,\"#bd3786\"],[0.5555555555555556,\"#d8576b\"],[0.6666666666666666,\"#ed7953\"],[0.7777777777777778,\"#fb9f3a\"],[0.8888888888888888,\"#fdca26\"],[1.0,\"#f0f921\"]],\"type\":\"histogram2dcontour\"}],\"mesh3d\":[{\"colorbar\":{\"outlinewidth\":0,\"ticks\":\"\"},\"type\":\"mesh3d\"}],\"parcoords\":[{\"line\":{\"colorbar\":{\"outlinewidth\":0,\"ticks\":\"\"}},\"type\":\"parcoords\"}],\"pie\":[{\"automargin\":true,\"type\":\"pie\"}],\"scatter\":[{\"marker\":{\"colorbar\":{\"outlinewidth\":0,\"ticks\":\"\"}},\"type\":\"scatter\"}],\"scatter3d\":[{\"line\":{\"colorbar\":{\"outlinewidth\":0,\"ticks\":\"\"}},\"marker\":{\"colorbar\":{\"outlinewidth\":0,\"ticks\":\"\"}},\"type\":\"scatter3d\"}],\"scattercarpet\":[{\"marker\":{\"colorbar\":{\"outlinewidth\":0,\"ticks\":\"\"}},\"type\":\"scattercarpet\"}],\"scattergeo\":[{\"marker\":{\"colorbar\":{\"outlinewidth\":0,\"ticks\":\"\"}},\"type\":\"scattergeo\"}],\"scattergl\":[{\"marker\":{\"colorbar\":{\"outlinewidth\":0,\"ticks\":\"\"}},\"type\":\"scattergl\"}],\"scattermapbox\":[{\"marker\":{\"colorbar\":{\"outlinewidth\":0,\"ticks\":\"\"}},\"type\":\"scattermapbox\"}],\"scatterpolar\":[{\"marker\":{\"colorbar\":{\"outlinewidth\":0,\"ticks\":\"\"}},\"type\":\"scatterpolar\"}],\"scatterpolargl\":[{\"marker\":{\"colorbar\":{\"outlinewidth\":0,\"ticks\":\"\"}},\"type\":\"scatterpolargl\"}],\"scatterternary\":[{\"marker\":{\"colorbar\":{\"outlinewidth\":0,\"ticks\":\"\"}},\"type\":\"scatterternary\"}],\"surface\":[{\"colorbar\":{\"outlinewidth\":0,\"ticks\":\"\"},\"colorscale\":[[0.0,\"#0d0887\"],[0.1111111111111111,\"#46039f\"],[0.2222222222222222,\"#7201a8\"],[0.3333333333333333,\"#9c179e\"],[0.4444444444444444,\"#bd3786\"],[0.5555555555555556,\"#d8576b\"],[0.6666666666666666,\"#ed7953\"],[0.7777777777777778,\"#fb9f3a\"],[0.8888888888888888,\"#fdca26\"],[1.0,\"#f0f921\"]],\"type\":\"surface\"}],\"table\":[{\"cells\":{\"fill\":{\"color\":\"#EBF0F8\"},\"line\":{\"color\":\"white\"}},\"header\":{\"fill\":{\"color\":\"#C8D4E3\"},\"line\":{\"color\":\"white\"}},\"type\":\"table\"}]},\"layout\":{\"annotationdefaults\":{\"arrowcolor\":\"#2a3f5f\",\"arrowhead\":0,\"arrowwidth\":1},\"autotypenumbers\":\"strict\",\"coloraxis\":{\"colorbar\":{\"outlinewidth\":0,\"ticks\":\"\"}},\"colorscale\":{\"diverging\":[[0,\"#8e0152\"],[0.1,\"#c51b7d\"],[0.2,\"#de77ae\"],[0.3,\"#f1b6da\"],[0.4,\"#fde0ef\"],[0.5,\"#f7f7f7\"],[0.6,\"#e6f5d0\"],[0.7,\"#b8e186\"],[0.8,\"#7fbc41\"],[0.9,\"#4d9221\"],[1,\"#276419\"]],\"sequential\":[[0.0,\"#0d0887\"],[0.1111111111111111,\"#46039f\"],[0.2222222222222222,\"#7201a8\"],[0.3333333333333333,\"#9c179e\"],[0.4444444444444444,\"#bd3786\"],[0.5555555555555556,\"#d8576b\"],[0.6666666666666666,\"#ed7953\"],[0.7777777777777778,\"#fb9f3a\"],[0.8888888888888888,\"#fdca26\"],[1.0,\"#f0f921\"]],\"sequentialminus\":[[0.0,\"#0d0887\"],[0.1111111111111111,\"#46039f\"],[0.2222222222222222,\"#7201a8\"],[0.3333333333333333,\"#9c179e\"],[0.4444444444444444,\"#bd3786\"],[0.5555555555555556,\"#d8576b\"],[0.6666666666666666,\"#ed7953\"],[0.7777777777777778,\"#fb9f3a\"],[0.8888888888888888,\"#fdca26\"],[1.0,\"#f0f921\"]]},\"colorway\":[\"#636efa\",\"#EF553B\",\"#00cc96\",\"#ab63fa\",\"#FFA15A\",\"#19d3f3\",\"#FF6692\",\"#B6E880\",\"#FF97FF\",\"#FECB52\"],\"font\":{\"color\":\"#2a3f5f\"},\"geo\":{\"bgcolor\":\"white\",\"lakecolor\":\"white\",\"landcolor\":\"#E5ECF6\",\"showlakes\":true,\"showland\":true,\"subunitcolor\":\"white\"},\"hoverlabel\":{\"align\":\"left\"},\"hovermode\":\"closest\",\"mapbox\":{\"style\":\"light\"},\"paper_bgcolor\":\"white\",\"plot_bgcolor\":\"#E5ECF6\",\"polar\":{\"angularaxis\":{\"gridcolor\":\"white\",\"linecolor\":\"white\",\"ticks\":\"\"},\"bgcolor\":\"#E5ECF6\",\"radialaxis\":{\"gridcolor\":\"white\",\"linecolor\":\"white\",\"ticks\":\"\"}},\"scene\":{\"xaxis\":{\"backgroundcolor\":\"#E5ECF6\",\"gridcolor\":\"white\",\"gridwidth\":2,\"linecolor\":\"white\",\"showbackground\":true,\"ticks\":\"\",\"zerolinecolor\":\"white\"},\"yaxis\":{\"backgroundcolor\":\"#E5ECF6\",\"gridcolor\":\"white\",\"gridwidth\":2,\"linecolor\":\"white\",\"showbackground\":true,\"ticks\":\"\",\"zerolinecolor\":\"white\"},\"zaxis\":{\"backgroundcolor\":\"#E5ECF6\",\"gridcolor\":\"white\",\"gridwidth\":2,\"linecolor\":\"white\",\"showbackground\":true,\"ticks\":\"\",\"zerolinecolor\":\"white\"}},\"shapedefaults\":{\"line\":{\"color\":\"#2a3f5f\"}},\"ternary\":{\"aaxis\":{\"gridcolor\":\"white\",\"linecolor\":\"white\",\"ticks\":\"\"},\"baxis\":{\"gridcolor\":\"white\",\"linecolor\":\"white\",\"ticks\":\"\"},\"bgcolor\":\"#E5ECF6\",\"caxis\":{\"gridcolor\":\"white\",\"linecolor\":\"white\",\"ticks\":\"\"}},\"title\":{\"x\":0.05},\"xaxis\":{\"automargin\":true,\"gridcolor\":\"white\",\"linecolor\":\"white\",\"ticks\":\"\",\"title\":{\"standoff\":15},\"zerolinecolor\":\"white\",\"zerolinewidth\":2},\"yaxis\":{\"automargin\":true,\"gridcolor\":\"white\",\"linecolor\":\"white\",\"ticks\":\"\",\"title\":{\"standoff\":15},\"zerolinecolor\":\"white\",\"zerolinewidth\":2}}},\"title\":{\"font\":{\"color\":\"#4D5663\"}},\"xaxis\":{\"anchor\":\"y\",\"domain\":[0.0,0.2125],\"gridcolor\":\"#E1E5ED\",\"showgrid\":false,\"tickfont\":{\"color\":\"#4D5663\"},\"title\":{\"font\":{\"color\":\"#4D5663\"},\"text\":\"\"},\"zerolinecolor\":\"#E1E5ED\"},\"xaxis10\":{\"anchor\":\"y10\",\"domain\":[0.2625,0.475],\"gridcolor\":\"#E1E5ED\",\"showgrid\":false,\"tickfont\":{\"color\":\"#4D5663\"},\"title\":{\"font\":{\"color\":\"#4D5663\"},\"text\":\"\"},\"zerolinecolor\":\"#E1E5ED\"},\"xaxis11\":{\"anchor\":\"y11\",\"domain\":[0.525,0.7375],\"gridcolor\":\"#E1E5ED\",\"showgrid\":false,\"tickfont\":{\"color\":\"#4D5663\"},\"title\":{\"font\":{\"color\":\"#4D5663\"},\"text\":\"\"},\"zerolinecolor\":\"#E1E5ED\"},\"xaxis12\":{\"anchor\":\"y12\",\"domain\":[0.7875,1.0],\"gridcolor\":\"#E1E5ED\",\"showgrid\":false,\"tickfont\":{\"color\":\"#4D5663\"},\"title\":{\"font\":{\"color\":\"#4D5663\"},\"text\":\"\"},\"zerolinecolor\":\"#E1E5ED\"},\"xaxis13\":{\"anchor\":\"y13\",\"domain\":[0.0,0.2125],\"gridcolor\":\"#E1E5ED\",\"showgrid\":false,\"tickfont\":{\"color\":\"#4D5663\"},\"title\":{\"font\":{\"color\":\"#4D5663\"},\"text\":\"\"},\"zerolinecolor\":\"#E1E5ED\"},\"xaxis14\":{\"anchor\":\"y14\",\"domain\":[0.2625,0.475],\"gridcolor\":\"#E1E5ED\",\"showgrid\":false,\"tickfont\":{\"color\":\"#4D5663\"},\"title\":{\"font\":{\"color\":\"#4D5663\"},\"text\":\"\"},\"zerolinecolor\":\"#E1E5ED\"},\"xaxis15\":{\"anchor\":\"y15\",\"domain\":[0.525,0.7375],\"gridcolor\":\"#E1E5ED\",\"showgrid\":false,\"tickfont\":{\"color\":\"#4D5663\"},\"title\":{\"font\":{\"color\":\"#4D5663\"},\"text\":\"\"},\"zerolinecolor\":\"#E1E5ED\"},\"xaxis16\":{\"anchor\":\"y16\",\"domain\":[0.7875,1.0],\"gridcolor\":\"#E1E5ED\",\"showgrid\":false,\"tickfont\":{\"color\":\"#4D5663\"},\"title\":{\"font\":{\"color\":\"#4D5663\"},\"text\":\"\"},\"zerolinecolor\":\"#E1E5ED\"},\"xaxis2\":{\"anchor\":\"y2\",\"domain\":[0.2625,0.475],\"gridcolor\":\"#E1E5ED\",\"showgrid\":false,\"tickfont\":{\"color\":\"#4D5663\"},\"title\":{\"font\":{\"color\":\"#4D5663\"},\"text\":\"\"},\"zerolinecolor\":\"#E1E5ED\"},\"xaxis3\":{\"anchor\":\"y3\",\"domain\":[0.525,0.7375],\"gridcolor\":\"#E1E5ED\",\"showgrid\":false,\"tickfont\":{\"color\":\"#4D5663\"},\"title\":{\"font\":{\"color\":\"#4D5663\"},\"text\":\"\"},\"zerolinecolor\":\"#E1E5ED\"},\"xaxis4\":{\"anchor\":\"y4\",\"domain\":[0.7875,1.0],\"gridcolor\":\"#E1E5ED\",\"showgrid\":false,\"tickfont\":{\"color\":\"#4D5663\"},\"title\":{\"font\":{\"color\":\"#4D5663\"},\"text\":\"\"},\"zerolinecolor\":\"#E1E5ED\"},\"xaxis5\":{\"anchor\":\"y5\",\"domain\":[0.0,0.2125],\"gridcolor\":\"#E1E5ED\",\"showgrid\":false,\"tickfont\":{\"color\":\"#4D5663\"},\"title\":{\"font\":{\"color\":\"#4D5663\"},\"text\":\"\"},\"zerolinecolor\":\"#E1E5ED\"},\"xaxis6\":{\"anchor\":\"y6\",\"domain\":[0.2625,0.475],\"gridcolor\":\"#E1E5ED\",\"showgrid\":false,\"tickfont\":{\"color\":\"#4D5663\"},\"title\":{\"font\":{\"color\":\"#4D5663\"},\"text\":\"\"},\"zerolinecolor\":\"#E1E5ED\"},\"xaxis7\":{\"anchor\":\"y7\",\"domain\":[0.525,0.7375],\"gridcolor\":\"#E1E5ED\",\"showgrid\":false,\"tickfont\":{\"color\":\"#4D5663\"},\"title\":{\"font\":{\"color\":\"#4D5663\"},\"text\":\"\"},\"zerolinecolor\":\"#E1E5ED\"},\"xaxis8\":{\"anchor\":\"y8\",\"domain\":[0.7875,1.0],\"gridcolor\":\"#E1E5ED\",\"showgrid\":false,\"tickfont\":{\"color\":\"#4D5663\"},\"title\":{\"font\":{\"color\":\"#4D5663\"},\"text\":\"\"},\"zerolinecolor\":\"#E1E5ED\"},\"xaxis9\":{\"anchor\":\"y9\",\"domain\":[0.0,0.2125],\"gridcolor\":\"#E1E5ED\",\"showgrid\":false,\"tickfont\":{\"color\":\"#4D5663\"},\"title\":{\"font\":{\"color\":\"#4D5663\"},\"text\":\"\"},\"zerolinecolor\":\"#E1E5ED\"},\"yaxis\":{\"anchor\":\"x\",\"domain\":[0.8025,1.0],\"gridcolor\":\"#E1E5ED\",\"showgrid\":false,\"tickfont\":{\"color\":\"#4D5663\"},\"title\":{\"font\":{\"color\":\"#4D5663\"},\"text\":\"\"},\"zerolinecolor\":\"#E1E5ED\"},\"yaxis10\":{\"anchor\":\"x10\",\"domain\":[0.2675,0.465],\"gridcolor\":\"#E1E5ED\",\"showgrid\":false,\"tickfont\":{\"color\":\"#4D5663\"},\"title\":{\"font\":{\"color\":\"#4D5663\"},\"text\":\"\"},\"zerolinecolor\":\"#E1E5ED\"},\"yaxis11\":{\"anchor\":\"x11\",\"domain\":[0.2675,0.465],\"gridcolor\":\"#E1E5ED\",\"showgrid\":false,\"tickfont\":{\"color\":\"#4D5663\"},\"title\":{\"font\":{\"color\":\"#4D5663\"},\"text\":\"\"},\"zerolinecolor\":\"#E1E5ED\"},\"yaxis12\":{\"anchor\":\"x12\",\"domain\":[0.2675,0.465],\"gridcolor\":\"#E1E5ED\",\"showgrid\":false,\"tickfont\":{\"color\":\"#4D5663\"},\"title\":{\"font\":{\"color\":\"#4D5663\"},\"text\":\"\"},\"zerolinecolor\":\"#E1E5ED\"},\"yaxis13\":{\"anchor\":\"x13\",\"domain\":[0.0,0.1975],\"gridcolor\":\"#E1E5ED\",\"showgrid\":false,\"tickfont\":{\"color\":\"#4D5663\"},\"title\":{\"font\":{\"color\":\"#4D5663\"},\"text\":\"\"},\"zerolinecolor\":\"#E1E5ED\"},\"yaxis14\":{\"anchor\":\"x14\",\"domain\":[0.0,0.1975],\"gridcolor\":\"#E1E5ED\",\"showgrid\":false,\"tickfont\":{\"color\":\"#4D5663\"},\"title\":{\"font\":{\"color\":\"#4D5663\"},\"text\":\"\"},\"zerolinecolor\":\"#E1E5ED\"},\"yaxis15\":{\"anchor\":\"x15\",\"domain\":[0.0,0.1975],\"gridcolor\":\"#E1E5ED\",\"showgrid\":false,\"tickfont\":{\"color\":\"#4D5663\"},\"title\":{\"font\":{\"color\":\"#4D5663\"},\"text\":\"\"},\"zerolinecolor\":\"#E1E5ED\"},\"yaxis16\":{\"anchor\":\"x16\",\"domain\":[0.0,0.1975],\"gridcolor\":\"#E1E5ED\",\"showgrid\":false,\"tickfont\":{\"color\":\"#4D5663\"},\"title\":{\"font\":{\"color\":\"#4D5663\"},\"text\":\"\"},\"zerolinecolor\":\"#E1E5ED\"},\"yaxis2\":{\"anchor\":\"x2\",\"domain\":[0.8025,1.0],\"gridcolor\":\"#E1E5ED\",\"showgrid\":false,\"tickfont\":{\"color\":\"#4D5663\"},\"title\":{\"font\":{\"color\":\"#4D5663\"},\"text\":\"\"},\"zerolinecolor\":\"#E1E5ED\"},\"yaxis3\":{\"anchor\":\"x3\",\"domain\":[0.8025,1.0],\"gridcolor\":\"#E1E5ED\",\"showgrid\":false,\"tickfont\":{\"color\":\"#4D5663\"},\"title\":{\"font\":{\"color\":\"#4D5663\"},\"text\":\"\"},\"zerolinecolor\":\"#E1E5ED\"},\"yaxis4\":{\"anchor\":\"x4\",\"domain\":[0.8025,1.0],\"gridcolor\":\"#E1E5ED\",\"showgrid\":false,\"tickfont\":{\"color\":\"#4D5663\"},\"title\":{\"font\":{\"color\":\"#4D5663\"},\"text\":\"\"},\"zerolinecolor\":\"#E1E5ED\"},\"yaxis5\":{\"anchor\":\"x5\",\"domain\":[0.535,0.7325],\"gridcolor\":\"#E1E5ED\",\"showgrid\":false,\"tickfont\":{\"color\":\"#4D5663\"},\"title\":{\"font\":{\"color\":\"#4D5663\"},\"text\":\"\"},\"zerolinecolor\":\"#E1E5ED\"},\"yaxis6\":{\"anchor\":\"x6\",\"domain\":[0.535,0.7325],\"gridcolor\":\"#E1E5ED\",\"showgrid\":false,\"tickfont\":{\"color\":\"#4D5663\"},\"title\":{\"font\":{\"color\":\"#4D5663\"},\"text\":\"\"},\"zerolinecolor\":\"#E1E5ED\"},\"yaxis7\":{\"anchor\":\"x7\",\"domain\":[0.535,0.7325],\"gridcolor\":\"#E1E5ED\",\"showgrid\":false,\"tickfont\":{\"color\":\"#4D5663\"},\"title\":{\"font\":{\"color\":\"#4D5663\"},\"text\":\"\"},\"zerolinecolor\":\"#E1E5ED\"},\"yaxis8\":{\"anchor\":\"x8\",\"domain\":[0.535,0.7325],\"gridcolor\":\"#E1E5ED\",\"showgrid\":false,\"tickfont\":{\"color\":\"#4D5663\"},\"title\":{\"font\":{\"color\":\"#4D5663\"},\"text\":\"\"},\"zerolinecolor\":\"#E1E5ED\"},\"yaxis9\":{\"anchor\":\"x9\",\"domain\":[0.2675,0.465],\"gridcolor\":\"#E1E5ED\",\"showgrid\":false,\"tickfont\":{\"color\":\"#4D5663\"},\"title\":{\"font\":{\"color\":\"#4D5663\"},\"text\":\"\"},\"zerolinecolor\":\"#E1E5ED\"}},                        {\"showLink\": true, \"linkText\": \"Export to plot.ly\", \"plotlyServerURL\": \"https://plot.ly\", \"responsive\": true}                    ).then(function(){\n",
       "                            \n",
       "var gd = document.getElementById('3cf8e4d1-a821-4143-9d68-ec743f5ed36f');\n",
       "var x = new MutationObserver(function (mutations, observer) {{\n",
       "        var display = window.getComputedStyle(gd).display;\n",
       "        if (!display || display === 'none') {{\n",
       "            console.log([gd, 'removed!']);\n",
       "            Plotly.purge(gd);\n",
       "            observer.disconnect();\n",
       "        }}\n",
       "}});\n",
       "\n",
       "// Listen for the removal of the full notebook cells\n",
       "var notebookContainer = gd.closest('#notebook-container');\n",
       "if (notebookContainer) {{\n",
       "    x.observe(notebookContainer, {childList: true});\n",
       "}}\n",
       "\n",
       "// Listen for the clearing of the current output cell\n",
       "var outputEl = gd.closest('.output');\n",
       "if (outputEl) {{\n",
       "    x.observe(outputEl, {childList: true});\n",
       "}}\n",
       "\n",
       "                        })                };                });            </script>        </div>"
      ]
     },
     "metadata": {},
     "output_type": "display_data"
    }
   ],
   "source": [
    "df.scatter_matrix() # all columns must be numeric in order to use this plot\n",
    "\n",
    "# You can zoom in all the charts individually"
   ]
  },
  {
   "cell_type": "code",
   "execution_count": null,
   "id": "87be3bb7",
   "metadata": {},
   "outputs": [],
   "source": []
  }
 ],
 "metadata": {
  "kernelspec": {
   "display_name": "Python 3 (ipykernel)",
   "language": "python",
   "name": "python3"
  },
  "language_info": {
   "codemirror_mode": {
    "name": "ipython",
    "version": 3
   },
   "file_extension": ".py",
   "mimetype": "text/x-python",
   "name": "python",
   "nbconvert_exporter": "python",
   "pygments_lexer": "ipython3",
   "version": "3.9.6"
  }
 },
 "nbformat": 4,
 "nbformat_minor": 5
}
